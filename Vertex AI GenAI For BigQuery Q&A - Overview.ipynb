{
 "cells": [
  {
   "cell_type": "markdown",
   "id": "9ca4a0e4",
   "metadata": {},
   "source": [
    "![tracker](https://us-central1-vertex-ai-mlops-369716.cloudfunctions.net/pixel-tracking?path=statmike%2Fvertex-ai-mlops%2FApplied+GenAI%2Flegacy&file=Vertex+AI+GenAI+For+BigQuery+Q%26A+-+Overview.ipynb)\n",
    "<!--- header table --->\n",
    "<table align=\"left\">\n",
    "  <td style=\"text-align: center\">\n",
    "    <a href=\"https://colab.research.google.com/github/statmike/vertex-ai-mlops/blob/main/Applied%20GenAI/legacy/Vertex%20AI%20GenAI%20For%20BigQuery%20Q%26A%20-%20Overview.ipynb\">\n",
    "      <img src=\"https://cloud.google.com/ml-engine/images/colab-logo-32px.png\" alt=\"Google Colaboratory logo\">\n",
    "      <br>Run in<br>Colab\n",
    "    </a>\n",
    "  </td>\n",
    "  <td style=\"text-align: center\">\n",
    "    <a href=\"https://console.cloud.google.com/vertex-ai/colab/import/https%3A%2F%2Fraw.githubusercontent.com%2Fstatmike%2Fvertex-ai-mlops%2Fmain%2FApplied%2520GenAI%2Flegacy%2FVertex%2520AI%2520GenAI%2520For%2520BigQuery%2520Q%2526A%2520-%2520Overview.ipynb\">\n",
    "      <img width=\"32px\" src=\"https://lh3.googleusercontent.com/JmcxdQi-qOpctIvWKgPtrzZdJJK-J3sWE1RsfjZNwshCFgE_9fULcNpuXYTilIR2hjwN\" alt=\"Google Cloud Colab Enterprise logo\">\n",
    "      <br>Run in<br>Colab Enterprise\n",
    "    </a>\n",
    "  </td>      \n",
    "  <td style=\"text-align: center\">\n",
    "    <a href=\"https://github.com/statmike/vertex-ai-mlops/blob/main/Applied%20GenAI/legacy/Vertex%20AI%20GenAI%20For%20BigQuery%20Q%26A%20-%20Overview.ipynb\">\n",
    "      <img src=\"https://cloud.google.com/ml-engine/images/github-logo-32px.png\" alt=\"GitHub logo\">\n",
    "      <br>View on<br>GitHub\n",
    "    </a>\n",
    "  </td>\n",
    "  <td style=\"text-align: center\">\n",
    "    <a href=\"https://console.cloud.google.com/vertex-ai/workbench/deploy-notebook?download_url=https://raw.githubusercontent.com/statmike/vertex-ai-mlops/main/Applied%20GenAI/legacy/Vertex%20AI%20GenAI%20For%20BigQuery%20Q%26A%20-%20Overview.ipynb\">\n",
    "      <img src=\"https://lh3.googleusercontent.com/UiNooY4LUgW_oTvpsNhPpQzsstV5W8F7rYgxgGBD85cWJoLmrOzhVs_ksK_vgx40SHs7jCqkTkCk=e14-rj-sc0xffffff-h130-w32\" alt=\"Vertex AI logo\">\n",
    "      <br>Open in<br>Vertex AI Workbench\n",
    "    </a>\n",
    "  </td>\n",
    "</table>"
   ]
  },
  {
   "cell_type": "markdown",
   "id": "3280a90a-c51c-4de1-9411-5f6fa60c8a4f",
   "metadata": {},
   "source": [
    "---\n",
    "\n",
    "**File Move Notices**\n",
    "\n",
    "This file moved locations:\n",
    "- On 09/07/2024 (mm/dd/yyyy)\n",
    "\t- From: `Applied GenAI/Vertex AI GenAI For BigQuery Q&A - Overview.ipynb`\n",
    "\t- To: `Applied GenAI/legacy/Vertex AI GenAI For BigQuery Q&A - Overview.ipynb`\n",
    "---\n",
    "<!---end of move notices--->\n",
    "\n",
    "# Answering Questions Using BigQuery Tables As Context\n",
    "\n",
    "Ask Question of a table in BigQuery.  How?  First translated the quesiton to SQL and extract results from the BigQuery Table.  Then provide the results as context with the orignal question to an LLM for answering.\n",
    "\n",
    "The workflow:\n",
    "- Setup Enviornment\n",
    "- Setup access to LLMs: Test and Code\n",
    "- Retrieve Table Schemas using BigQuery Information Schema\n",
    "- Translate Question to Code (SQL) with context of table schemas\n",
    "- Ask an LLM to answer the question with context of results from running the generated SQL\n",
    "- Ask more question!"
   ]
  },
  {
   "cell_type": "markdown",
   "id": "547187ca-ed00-4174-9262-ef8deac19bc9",
   "metadata": {
    "id": "R0Q3cgMcshvL"
   },
   "source": [
    "---\n",
    "## Overview\n",
    "\n",
    "<p><center>\n",
    "    <img alt=\"Overview Chart\" src=\"../../architectures/notebooks/applied/genai/bq_qa.png\" width=\"55%\">\n",
    "</center><p>\n"
   ]
  },
  {
   "cell_type": "markdown",
   "id": "cce2bded-23ce-4761-8df1-562240f17be6",
   "metadata": {
    "id": "od_UkDpvRmgD",
    "tags": []
   },
   "source": [
    "---\n",
    "## Colab Setup\n",
    "\n",
    "To run this notebook in Colab click [![Open In Colab](https://colab.research.google.com/assets/colab-badge.svg)](https://colab.research.google.com/github/statmike/vertex-ai-mlops/blob/main/Applied%20GenAI/Vertex%20AI%20GenAI%20For%20BigQuery%20Q&A%20-%20Overview.ipynb) and run the cells in this section.  Otherwise, skip this section.\n",
    "\n",
    "This cell will authenticate to GCP (follow prompts in the popup)."
   ]
  },
  {
   "cell_type": "code",
   "execution_count": 1,
   "id": "2a0cee4a-d31e-4511-a74d-4c890d9bcca1",
   "metadata": {
    "executionInfo": {
     "elapsed": 195,
     "status": "ok",
     "timestamp": 1683726184843,
     "user": {
      "displayName": "Mike Henderson",
      "userId": "07691629187611687318"
     },
     "user_tz": 240
    },
    "id": "8UO9FnqyKBlF"
   },
   "outputs": [],
   "source": [
    "PROJECT_ID = 'statmike-mlops-349915' # replace with project ID"
   ]
  },
  {
   "cell_type": "code",
   "execution_count": 2,
   "id": "10adc2fa-c1ed-4368-8ab7-3216e3df7451",
   "metadata": {
    "colab": {
     "base_uri": "https://localhost:8080/"
    },
    "executionInfo": {
     "elapsed": 68869,
     "status": "ok",
     "timestamp": 1683726253709,
     "user": {
      "displayName": "Mike Henderson",
      "userId": "07691629187611687318"
     },
     "user_tz": 240
    },
    "id": "N98-KK7LRkjm",
    "outputId": "09ec5008-0def-4e1a-c349-c598ee752f78"
   },
   "outputs": [],
   "source": [
    "try:\n",
    "    import google.colab\n",
    "    from google.colab import auth\n",
    "    auth.authenticate_user()\n",
    "    !gcloud config set project {PROJECT_ID}\n",
    "except Exception:\n",
    "    pass"
   ]
  },
  {
   "cell_type": "markdown",
   "id": "4638aeb5-d4ae-4234-8a4a-f162eeb130e7",
   "metadata": {},
   "source": [
    "---\n",
    "## Installs and API Enablement\n",
    "\n",
    "The clients packages may need installing in this environment.  Also, the APIs for Cloud Speech-To-Text and Cloud Text-To-Speech need to be enabled (if not already enabled)."
   ]
  },
  {
   "cell_type": "markdown",
   "id": "b553ea40-3ab9-47aa-a992-bd0ad83e4211",
   "metadata": {},
   "source": [
    "### Installs (If Needed)"
   ]
  },
  {
   "cell_type": "code",
   "execution_count": 3,
   "id": "38d64660-8af0-4734-8cb4-2403364f5d42",
   "metadata": {},
   "outputs": [],
   "source": [
    "install = False\n",
    "try: import google.cloud.aiplatform\n",
    "except ImportError:\n",
    "    print('You need to pip install google-cloud-aiplatform (VERTEX AI), ... commencing')\n",
    "    !pip install google-cloud-aiplatform -U -q\n",
    "    install = True"
   ]
  },
  {
   "cell_type": "markdown",
   "id": "dc31f72b-cf98-4c91-8ef6-58f181fc11a1",
   "metadata": {},
   "source": [
    "### Restart Kernel (If Installs Occured)\n",
    "\n",
    "After a kernel restart the code submission can start with the next cell after this one."
   ]
  },
  {
   "cell_type": "code",
   "execution_count": 4,
   "id": "8fc6de4a-610a-4498-885d-111a43ac5a6c",
   "metadata": {},
   "outputs": [],
   "source": [
    "if install:\n",
    "    import IPython\n",
    "    app = IPython.Application.instance()\n",
    "    app.kernel.do_shutdown(True)"
   ]
  },
  {
   "cell_type": "markdown",
   "id": "0ccd823b-b93c-4571-b80e-8ee70de32f0a",
   "metadata": {
    "id": "appt8-yVRtJ1"
   },
   "source": [
    "---\n",
    "## Setup"
   ]
  },
  {
   "cell_type": "markdown",
   "id": "702c4747-d1ed-4901-b65f-6875a4019f89",
   "metadata": {
    "id": "63mx2EozRxFP"
   },
   "source": [
    "Inputs"
   ]
  },
  {
   "cell_type": "code",
   "execution_count": 5,
   "id": "65fb598d-a230-44e1-b4fb-5bc53413a145",
   "metadata": {
    "colab": {
     "base_uri": "https://localhost:8080/",
     "height": 35
    },
    "executionInfo": {
     "elapsed": 2124,
     "status": "ok",
     "timestamp": 1683726390544,
     "user": {
      "displayName": "Mike Henderson",
      "userId": "07691629187611687318"
     },
     "user_tz": 240
    },
    "id": "xzcoXjM5Rky5",
    "outputId": "b3bdcbc1-70d5-472e-aea2-42c74a42efde"
   },
   "outputs": [
    {
     "data": {
      "text/plain": [
       "'statmike-mlops-349915'"
      ]
     },
     "execution_count": 5,
     "metadata": {},
     "output_type": "execute_result"
    }
   ],
   "source": [
    "project = !gcloud config get-value project\n",
    "PROJECT_ID = project[0]\n",
    "PROJECT_ID"
   ]
  },
  {
   "cell_type": "code",
   "execution_count": 6,
   "id": "53e3a060-251a-463a-aa76-77f5ddf2aebe",
   "metadata": {
    "executionInfo": {
     "elapsed": 2,
     "status": "ok",
     "timestamp": 1683726390712,
     "user": {
      "displayName": "Mike Henderson",
      "userId": "07691629187611687318"
     },
     "user_tz": 240
    },
    "id": "IxWrFtqYMfku"
   },
   "outputs": [],
   "source": [
    "REGION = 'us-central1'\n",
    "EXPERIMENT = 'bq-citibikes'\n",
    "SERIES = 'applied-genai'"
   ]
  },
  {
   "cell_type": "markdown",
   "id": "23ff5fa0-3753-41b0-97ec-e23127faebd9",
   "metadata": {
    "id": "LuajVwCiO6Yg"
   },
   "source": [
    "Packages"
   ]
  },
  {
   "cell_type": "code",
   "execution_count": 7,
   "id": "32af0aab-3889-43c1-b34d-29bb13c0ef8f",
   "metadata": {
    "executionInfo": {
     "elapsed": 17761,
     "status": "ok",
     "timestamp": 1683726409304,
     "user": {
      "displayName": "Mike Henderson",
      "userId": "07691629187611687318"
     },
     "user_tz": 240
    },
    "id": "LVC7zzSLRk2C"
   },
   "outputs": [],
   "source": [
    "import os\n",
    "os.environ['TF_CPP_MIN_LOG_LEVEL'] = '3'\n",
    "\n",
    "import vertexai.language_models\n",
    "import vertexai.preview.generative_models\n",
    "\n",
    "from google.cloud import bigquery"
   ]
  },
  {
   "cell_type": "markdown",
   "id": "e79f461c-7f9c-4e4b-83aa-aff2e5593c9c",
   "metadata": {
    "id": "EyAVFG9TO9H-"
   },
   "source": [
    "Clients"
   ]
  },
  {
   "cell_type": "code",
   "execution_count": 8,
   "id": "659a377b-ed33-408d-8af7-a4b398758612",
   "metadata": {
    "executionInfo": {
     "elapsed": 19,
     "status": "ok",
     "timestamp": 1683726409306,
     "user": {
      "displayName": "Mike Henderson",
      "userId": "07691629187611687318"
     },
     "user_tz": 240
    },
    "id": "L0RPE13LOZce"
   },
   "outputs": [],
   "source": [
    "# vertex ai clients\n",
    "vertexai.init(project = PROJECT_ID, location = REGION)\n",
    "\n",
    "# bigquery client\n",
    "bq = bigquery.Client(project = PROJECT_ID)"
   ]
  },
  {
   "cell_type": "markdown",
   "id": "03013d83-8d11-43ad-82e7-6651264c63d5",
   "metadata": {},
   "source": [
    "---\n",
    "## Goal\n",
    "\n",
    "New York City has [Citibike](https://citibikenyc.com/) stations where you can rent a bicycle by the ride, the day, or subscribe monthly/annually.  There is a sample of the usage of citibike stations in BigQuery public datasets.  We would like to answer possible questions in natural langauge using this data as the source.\n",
    "\n",
    "A possible quesiton is: Which Citibike station has the most rental during July 2015?\n",
    "\n",
    "The appoach used here is ask an LLM to answer the question.  The approach has multiple steps:\n",
    "1. Ask a code generation LLM to write a SQL query that retrives the relevant information to the question from the tables - the context\n",
    "2. Run the query generated in 1\n",
    "3. Ask a text generation LLM to answer the question and give it a context to help accurately answer the question - the result of 2"
   ]
  },
  {
   "cell_type": "code",
   "execution_count": 9,
   "id": "b4472aab-2adc-4dcb-8207-31121a24a914",
   "metadata": {},
   "outputs": [],
   "source": [
    "question = \"Which station had most rentals (longest total duration) during July 2015?\""
   ]
  },
  {
   "cell_type": "markdown",
   "id": "149f48d8-5ccf-46e7-89d4-8b6f38bc1513",
   "metadata": {
    "id": "PF_zXB00TMao"
   },
   "source": [
    "---\n",
    "## Vertex LLM Setup\n",
    "\n",
    "- CodeGenerationgModel [Guide](https://cloud.google.com/vertex-ai/docs/generative-ai/code/code-generation-prompts)\n",
    "    - CodeGenerationModel [API](https://cloud.google.com/python/docs/reference/aiplatform/latest/vertexai.language_models.CodeGenerationModel)\n",
    "- TextGenerationModel [Guide](https://cloud.google.com/vertex-ai/docs/generative-ai/text/test-text-prompts)\n",
    "    - TextGenerationModel [API](https://cloud.google.com/python/docs/reference/aiplatform/latest/vertexai.preview.language_models.TextGenerationModel)"
   ]
  },
  {
   "cell_type": "code",
   "execution_count": 36,
   "id": "55d596bd-980c-4f44-ba59-225318094d9a",
   "metadata": {
    "executionInfo": {
     "elapsed": 17,
     "status": "ok",
     "timestamp": 1683726409314,
     "user": {
      "displayName": "Mike Henderson",
      "userId": "07691629187611687318"
     },
     "user_tz": 240
    },
    "id": "dn2FH-pETUPf"
   },
   "outputs": [],
   "source": [
    "# create links to model: embedding api and text generation\n",
    "textgen_model = vertexai.language_models.TextGenerationModel.from_pretrained('text-bison@002')\n",
    "codegen_model = vertexai.language_models.CodeGenerationModel.from_pretrained('code-bison@002')\n",
    "gemini_model = vertexai.preview.generative_models.GenerativeModel(\"gemini-pro\")"
   ]
  },
  {
   "cell_type": "markdown",
   "id": "66f4d2d3-4aab-4fc3-88a9-d602c6f1b5fd",
   "metadata": {
    "id": "qEITqYF1QNkP"
   },
   "source": [
    "Test test generation (llm) model:"
   ]
  },
  {
   "cell_type": "code",
   "execution_count": 11,
   "id": "ed9baa8c-c678-42d9-ab14-d2a8015a369c",
   "metadata": {
    "colab": {
     "base_uri": "https://localhost:8080/"
    },
    "executionInfo": {
     "elapsed": 1758,
     "status": "ok",
     "timestamp": 1683726411751,
     "user": {
      "displayName": "Mike Henderson",
      "userId": "07691629187611687318"
     },
     "user_tz": 240
    },
    "id": "ippLc2_eYeQH",
    "outputId": "c09300ed-9e44-40a7-f3d0-f4a95515021c"
   },
   "outputs": [
    {
     "data": {
      "text/plain": [
       " ```sql\n",
       "SELECT station_id, SUM(duration) AS total_duration\n",
       "FROM (\n",
       "  SELECT \n",
       "    start_station_id AS station_id,\n",
       "    start_time,\n",
       "    DATEDIFF(end_time, start_time) AS duration\n",
       "  FROM bike_rentals\n",
       "  WHERE YEAR(start_time) = 2015 AND MONTH(start_time) = 7\n",
       ")\n",
       "GROUP BY station_id\n",
       "ORDER BY total_duration DESC\n",
       "LIMIT 1;\n",
       "```"
      ]
     },
     "execution_count": 11,
     "metadata": {},
     "output_type": "execute_result"
    }
   ],
   "source": [
    "textgen_model.predict(f\"Write a Google SQL query that answers the following question.\\nquestion: {question}\")"
   ]
  },
  {
   "cell_type": "code",
   "execution_count": 12,
   "id": "8478341a-dff0-4525-a1e5-10c9d9368fa2",
   "metadata": {},
   "outputs": [
    {
     "data": {
      "text/plain": [
       "```sql\n",
       "SELECT station_id, SUM(duration) AS total_duration\n",
       "FROM (\n",
       "  SELECT \n",
       "    start_station_id AS station_id,\n",
       "    strftime('%Y-%m', start_time) AS rental_month,\n",
       "    duration\n",
       "  FROM bike_rentals\n",
       "  WHERE start_time BETWEEN '2015-07-01' AND '2015-07-31'\n",
       ")\n",
       "GROUP BY station_id\n",
       "ORDER BY total_duration DESC\n",
       "LIMIT 1;\n",
       "```"
      ]
     },
     "execution_count": 12,
     "metadata": {},
     "output_type": "execute_result"
    }
   ],
   "source": [
    "codegen_model.predict(f\"Write a Google SQL query that answers the following question.\\nquestion: {question}\")"
   ]
  },
  {
   "cell_type": "code",
   "execution_count": 13,
   "id": "6d5f0e25-f4d5-457d-91a0-13b407c357dd",
   "metadata": {
    "tags": []
   },
   "outputs": [
    {
     "name": "stdout",
     "output_type": "stream",
     "text": [
      "```sql\n",
      "SELECT station_id, SUM(duration) AS total_duration\n",
      "FROM (\n",
      "  SELECT \n",
      "    *,\n",
      "    DATE(start_time) AS rental_date\n",
      "  FROM bike_rentals\n",
      "  WHERE rental_date BETWEEN '2015-07-01' AND '2015-07-31'\n",
      ")\n",
      "GROUP BY station_id\n",
      "ORDER BY total_duration DESC\n",
      "LIMIT 1;\n",
      "```\n"
     ]
    }
   ],
   "source": [
    "print(gemini_model.generate_content(f\"Write a Google SQL query that answers the following question.\\nquestion: {question}\", generation_config = dict(temperature=0)).text)"
   ]
  },
  {
   "cell_type": "markdown",
   "id": "11062730-255b-437c-be82-f9ec22aaa781",
   "metadata": {},
   "source": [
    "These each write code but notice how ithey make assumptions about table names and column names.  The following section address how to guide the LLM to write runnable SQL with correct tables and columns."
   ]
  },
  {
   "cell_type": "markdown",
   "id": "5e7acbf5-8538-4404-8c29-a83d7b68b0f1",
   "metadata": {},
   "source": [
    "---\n",
    "## The Problem\n",
    "The LLMs write valid SQL queries.  However, notice that asking an LLM to write the query this way faces several issues:\n",
    "- The queries do not reference the correct tables\n",
    "- The column names are not the correct ones from the correct tables\n",
    "\n",
    "Basically, the generated SQL is a good starting point for a user to write a query that would retrieve the valid context for the users question.\n",
    "\n",
    "**How to get a fully executable SQL query from the LLM?**\n",
    "\n",
    "The following approach was created by iteratively refining text prompts and approaches for specific questions.  "
   ]
  },
  {
   "cell_type": "markdown",
   "id": "e40a597f-3cbe-4c9d-8955-6422f611fff2",
   "metadata": {},
   "source": [
    "---\n",
    "## Retrieve Table Schemas\n",
    "\n",
    "The context that will be provided to the LLM to help write the SQL query will be the related tables schema.  The BigQuery tables used for this experiment are BigQuery public dataset tables:\n",
    "- `bigquery-public-data.new_york.citibike_trips`\n",
    "- `bigquery-public-data.new_york.citibike_stations`\n",
    "\n",
    "To retrive the schemas for the tables the BigQuery [INFORMATION_SCHEMA](https://cloud.google.com/bigquery/docs/information-schema-intro) is used - specifically the [INFORMATION_SCHEMA.COLUMN_FIELD_PATHS](https://cloud.google.com/bigquery/docs/information-schema-column-field-paths) view."
   ]
  },
  {
   "cell_type": "code",
   "execution_count": 16,
   "id": "32c4fe65-47a7-4347-a420-52904fa8a94a",
   "metadata": {},
   "outputs": [],
   "source": [
    "BQ_PROJECT = 'bigquery-public-data'\n",
    "BQ_DATASET = 'new_york'\n",
    "BQ_TABLES = ['citibike_trips', 'citibike_stations']"
   ]
  },
  {
   "cell_type": "code",
   "execution_count": 17,
   "id": "909fe317-e61d-4d2c-a35c-23255c678be2",
   "metadata": {},
   "outputs": [
    {
     "name": "stdout",
     "output_type": "stream",
     "text": [
      "\n",
      "    SELECT * EXCEPT(field_path, collation_name, rounding_mode)\n",
      "    FROM `bigquery-public-data.new_york.INFORMATION_SCHEMA.COLUMN_FIELD_PATHS`\n",
      "    WHERE table_name in (\"citibike_trips\",\"citibike_stations\")\n",
      "\n"
     ]
    }
   ],
   "source": [
    "query = f\"\"\"\n",
    "    SELECT * EXCEPT(field_path, collation_name, rounding_mode)\n",
    "    FROM `{BQ_PROJECT}.{BQ_DATASET}.INFORMATION_SCHEMA.COLUMN_FIELD_PATHS`\n",
    "    WHERE table_name in ({','.join([f'\"{table}\"' for table in BQ_TABLES])})\n",
    "\"\"\"\n",
    "print(query)\n",
    "schema_columns = bq.query(query = query).to_dataframe()"
   ]
  },
  {
   "cell_type": "code",
   "execution_count": 18,
   "id": "4a5a58cd-4e06-4737-92c5-ad77ae76d05a",
   "metadata": {},
   "outputs": [
    {
     "data": {
      "text/html": [
       "<div>\n",
       "<style scoped>\n",
       "    .dataframe tbody tr th:only-of-type {\n",
       "        vertical-align: middle;\n",
       "    }\n",
       "\n",
       "    .dataframe tbody tr th {\n",
       "        vertical-align: top;\n",
       "    }\n",
       "\n",
       "    .dataframe thead th {\n",
       "        text-align: right;\n",
       "    }\n",
       "</style>\n",
       "<table border=\"1\" class=\"dataframe\">\n",
       "  <thead>\n",
       "    <tr style=\"text-align: right;\">\n",
       "      <th></th>\n",
       "      <th>table_catalog</th>\n",
       "      <th>table_schema</th>\n",
       "      <th>table_name</th>\n",
       "      <th>column_name</th>\n",
       "      <th>data_type</th>\n",
       "      <th>description</th>\n",
       "    </tr>\n",
       "  </thead>\n",
       "  <tbody>\n",
       "    <tr>\n",
       "      <th>0</th>\n",
       "      <td>bigquery-public-data</td>\n",
       "      <td>new_york</td>\n",
       "      <td>citibike_stations</td>\n",
       "      <td>station_id</td>\n",
       "      <td>STRING</td>\n",
       "      <td>Unique identifier of a station.</td>\n",
       "    </tr>\n",
       "    <tr>\n",
       "      <th>1</th>\n",
       "      <td>bigquery-public-data</td>\n",
       "      <td>new_york</td>\n",
       "      <td>citibike_stations</td>\n",
       "      <td>name</td>\n",
       "      <td>STRING</td>\n",
       "      <td>Public name of the station.</td>\n",
       "    </tr>\n",
       "    <tr>\n",
       "      <th>2</th>\n",
       "      <td>bigquery-public-data</td>\n",
       "      <td>new_york</td>\n",
       "      <td>citibike_stations</td>\n",
       "      <td>short_name</td>\n",
       "      <td>STRING</td>\n",
       "      <td>Short name or other type of identifier, as use...</td>\n",
       "    </tr>\n",
       "    <tr>\n",
       "      <th>3</th>\n",
       "      <td>bigquery-public-data</td>\n",
       "      <td>new_york</td>\n",
       "      <td>citibike_stations</td>\n",
       "      <td>latitude</td>\n",
       "      <td>FLOAT64</td>\n",
       "      <td>The latitude of station. The field value must ...</td>\n",
       "    </tr>\n",
       "    <tr>\n",
       "      <th>4</th>\n",
       "      <td>bigquery-public-data</td>\n",
       "      <td>new_york</td>\n",
       "      <td>citibike_stations</td>\n",
       "      <td>longitude</td>\n",
       "      <td>FLOAT64</td>\n",
       "      <td>The longitude of station. The field value must...</td>\n",
       "    </tr>\n",
       "  </tbody>\n",
       "</table>\n",
       "</div>"
      ],
      "text/plain": [
       "          table_catalog table_schema         table_name column_name data_type  \\\n",
       "0  bigquery-public-data     new_york  citibike_stations  station_id    STRING   \n",
       "1  bigquery-public-data     new_york  citibike_stations        name    STRING   \n",
       "2  bigquery-public-data     new_york  citibike_stations  short_name    STRING   \n",
       "3  bigquery-public-data     new_york  citibike_stations    latitude   FLOAT64   \n",
       "4  bigquery-public-data     new_york  citibike_stations   longitude   FLOAT64   \n",
       "\n",
       "                                         description  \n",
       "0                    Unique identifier of a station.  \n",
       "1                        Public name of the station.  \n",
       "2  Short name or other type of identifier, as use...  \n",
       "3  The latitude of station. The field value must ...  \n",
       "4  The longitude of station. The field value must...  "
      ]
     },
     "execution_count": 18,
     "metadata": {},
     "output_type": "execute_result"
    }
   ],
   "source": [
    "schema_columns.head()"
   ]
  },
  {
   "cell_type": "code",
   "execution_count": 17,
   "id": "d9bca640-fc80-4e7f-9662-2acc19c55cdf",
   "metadata": {},
   "outputs": [],
   "source": [
    "#schema_columns.to_markdown(index = False)"
   ]
  },
  {
   "cell_type": "markdown",
   "id": "d2f57010-2472-463f-b5b6-38aada160895",
   "metadata": {},
   "source": [
    "---\n",
    "## Notes On Efficient Information Schema Retrieval\n",
    "\n",
    "In this example the entire schema is used as context.  But what happens when there are many table and many columns?  Eventually the size will exceed the input size of the LLM.  It is also possible to misguide the LLM in the creation of code by supply too much information - especially when on different topics.\n",
    "\n",
    "Using semantic retrieval with embeddings is a great solution in this situation:\n",
    "- create embeddings for all table descriptions\n",
    "- create embeddings for all column descriptions\n",
    "- create a vector database with indexes for tables and embeddings\n",
    "- When a new question comes in find the most applicable table(s) and columns:\n",
    "    - embed the questions\n",
    "    - do a vector search for matching table(s)\n",
    "    - do a vector search for matching columns on the already matched table(s)\n",
    "    - prepare a schema for just the matched tables and columns"
   ]
  },
  {
   "cell_type": "markdown",
   "id": "a4ecd1b9-bbc4-4a95-827b-b801d133de4a",
   "metadata": {},
   "source": [
    "---\n",
    "## Code Generation LLM - With Context\n",
    "\n",
    "In this attempt, ask the code generation LLM to write valid SQL and also provide it context.  In this case the context is the schema of the tables that are relevant to Citibike rentals.\n",
    "\n",
    "Turning the table that represent the schema into context is done here by using a conversion to markdown.  This is an area where users can experiment with the format.  JSON, CSV, ....  I like markdown because it includes the column names a single time and is delimited by the header row notation of markdown!"
   ]
  },
  {
   "cell_type": "code",
   "execution_count": 18,
   "id": "399617ce-f17e-4488-b13f-8cb3b1e3058e",
   "metadata": {},
   "outputs": [
    {
     "name": "stdout",
     "output_type": "stream",
     "text": [
      "Which station had most rentals (longest total duration) during July 2015?\n"
     ]
    }
   ],
   "source": [
    "print(question)"
   ]
  },
  {
   "cell_type": "code",
   "execution_count": 19,
   "id": "4798aea5-1131-4530-b3fc-e42e64ea70ef",
   "metadata": {
    "tags": []
   },
   "outputs": [
    {
     "name": "stdout",
     "output_type": "stream",
     "text": [
      "```sql\n",
      "SELECT start_station_name, SUM(tripduration) AS total_rental_duration\n",
      "FROM `bigquery-public-data.new_york.citibike_trips`\n",
      "WHERE EXTRACT(MONTH FROM starttime) = 7\n",
      "  AND EXTRACT(YEAR FROM starttime) = 2015\n",
      "GROUP BY start_station_name\n",
      "ORDER BY total_rental_duration DESC\n",
      "LIMIT 1;\n",
      "```\n"
     ]
    }
   ],
   "source": [
    "context_prompt = f\"\"\"\n",
    "context (BigQuery Table Schema):\n",
    "{schema_columns.to_markdown(index = False)}\n",
    "\n",
    "Write a query for Google BigQuery using fully qualified table names to answer this question:\n",
    "{question}\n",
    "\"\"\"\n",
    "\n",
    "#context_query = textgen_model.predict(f\"Write a Google SQL query that answers the following question.\\nquestion: {question}\")\n",
    "#context_query = codegen_model.predict(context_prompt, max_output_tokens = 500)\n",
    "context_query = gemini_model.generate_content(context_prompt, generation_config = dict(temperature = 0))\n",
    "\n",
    "print(context_query.text)"
   ]
  },
  {
   "cell_type": "markdown",
   "id": "23bd4e04-ab4a-4127-9baa-9a19d239b794",
   "metadata": {},
   "source": [
    "Clean the query up by removing the first and last lines so it can be submitted to BigQuery:"
   ]
  },
  {
   "cell_type": "code",
   "execution_count": 20,
   "id": "20817eb3-3194-4489-abd1-2653d59a23e3",
   "metadata": {
    "tags": []
   },
   "outputs": [
    {
     "name": "stdout",
     "output_type": "stream",
     "text": [
      "SELECT start_station_name, SUM(tripduration) AS total_rental_duration\n",
      "FROM `bigquery-public-data.new_york.citibike_trips`\n",
      "WHERE EXTRACT(MONTH FROM starttime) = 7\n",
      "  AND EXTRACT(YEAR FROM starttime) = 2015\n",
      "GROUP BY start_station_name\n",
      "ORDER BY total_rental_duration DESC\n",
      "LIMIT 1;\n"
     ]
    }
   ],
   "source": [
    "context_query = query = '\\n'.join(context_query.text.split('\\n')[1:-1])\n",
    "print(context_query)"
   ]
  },
  {
   "cell_type": "markdown",
   "id": "7af88e47-8d02-4983-b9d5-8c13e6f38ff3",
   "metadata": {},
   "source": [
    "Use BigQuery to [Dry run](https://cloud.google.com/bigquery/docs/samples/bigquery-query-dry-run#bigquery_query_dry_run-python) the query and see if it has correct syntax:"
   ]
  },
  {
   "cell_type": "code",
   "execution_count": 21,
   "id": "f070dda1-89c8-49ae-bd19-04c4962deabf",
   "metadata": {
    "tags": []
   },
   "outputs": [],
   "source": [
    "dry_run = bq.query(context_query, job_config = bigquery.QueryJobConfig(dry_run = True, use_query_cache = False))"
   ]
  },
  {
   "cell_type": "code",
   "execution_count": 22,
   "id": "396eb97d-86f0-43b9-8291-86de86c0d923",
   "metadata": {
    "tags": []
   },
   "outputs": [],
   "source": [
    "dry_run.errors"
   ]
  },
  {
   "cell_type": "code",
   "execution_count": 23,
   "id": "bc957d54-a104-4a3b-9d16-87c5be403e2c",
   "metadata": {
    "tags": []
   },
   "outputs": [
    {
     "data": {
      "text/plain": [
       "1232565425"
      ]
     },
     "execution_count": 23,
     "metadata": {},
     "output_type": "execute_result"
    }
   ],
   "source": [
    "dry_run.total_bytes_processed"
   ]
  },
  {
   "cell_type": "markdown",
   "id": "3ad29f84-e156-495e-9f88-2f4479d6084b",
   "metadata": {},
   "source": [
    "Now run the query and return the result to a local dataframe:"
   ]
  },
  {
   "cell_type": "code",
   "execution_count": 24,
   "id": "8743db49-3ff4-4398-ac4a-4d6c4df57e2b",
   "metadata": {},
   "outputs": [],
   "source": [
    "context_response = bq.query(context_query).to_dataframe()"
   ]
  },
  {
   "cell_type": "code",
   "execution_count": 25,
   "id": "a7f2a311-eef2-44e8-ae4c-98a0011e9cd2",
   "metadata": {},
   "outputs": [
    {
     "data": {
      "text/html": [
       "<div>\n",
       "<style scoped>\n",
       "    .dataframe tbody tr th:only-of-type {\n",
       "        vertical-align: middle;\n",
       "    }\n",
       "\n",
       "    .dataframe tbody tr th {\n",
       "        vertical-align: top;\n",
       "    }\n",
       "\n",
       "    .dataframe thead th {\n",
       "        text-align: right;\n",
       "    }\n",
       "</style>\n",
       "<table border=\"1\" class=\"dataframe\">\n",
       "  <thead>\n",
       "    <tr style=\"text-align: right;\">\n",
       "      <th></th>\n",
       "      <th>start_station_name</th>\n",
       "      <th>total_rental_duration</th>\n",
       "    </tr>\n",
       "  </thead>\n",
       "  <tbody>\n",
       "    <tr>\n",
       "      <th>0</th>\n",
       "      <td>Central Park S &amp; 6 Ave</td>\n",
       "      <td>18055103</td>\n",
       "    </tr>\n",
       "  </tbody>\n",
       "</table>\n",
       "</div>"
      ],
      "text/plain": [
       "       start_station_name  total_rental_duration\n",
       "0  Central Park S & 6 Ave               18055103"
      ]
     },
     "execution_count": 25,
     "metadata": {},
     "output_type": "execute_result"
    }
   ],
   "source": [
    "context_response"
   ]
  },
  {
   "cell_type": "markdown",
   "id": "8566bfc1-2e5d-4d1b-9535-67a1722e7091",
   "metadata": {},
   "source": [
    "---\n",
    "## Answer The Question\n",
    "\n",
    "Now that a valid context has been retrieved from BigQuery it can be passed to a text generation LLM to answer the user questions."
   ]
  },
  {
   "cell_type": "code",
   "execution_count": 26,
   "id": "1bf82d86-c5e2-41dc-8874-386d2bf55e3d",
   "metadata": {
    "tags": []
   },
   "outputs": [
    {
     "name": "stdout",
     "output_type": "stream",
     "text": [
      " Central Park S & 6 Ave\n"
     ]
    }
   ],
   "source": [
    "question_prompt = f\"\"\"\n",
    "context (result from BigQuery query):\n",
    "{context_response.to_markdown(index = False)}\n",
    "\n",
    "Answer the following question using the provided context.  Note that the context is a tabular result returned from a BigQuery query.  Do not repeat the question or the context when responding.\n",
    "{question}\n",
    "\"\"\"\n",
    "\n",
    "question_response = textgen_model.predict(question_prompt)\n",
    "\n",
    "print(question_response.text)"
   ]
  },
  {
   "cell_type": "code",
   "execution_count": 27,
   "id": "b947ade0-57a4-47c7-98b3-677412954abe",
   "metadata": {},
   "outputs": [],
   "source": [
    "#print(question_prompt)"
   ]
  },
  {
   "cell_type": "markdown",
   "id": "9de864c1-c95c-4944-b871-3a2010d38ced",
   "metadata": {},
   "source": [
    "---\n",
    "## Put It All Together\n",
    "\n",
    "Ask a new question and try it out:"
   ]
  },
  {
   "cell_type": "code",
   "execution_count": 28,
   "id": "0dd52257-baa4-43d0-84c1-5dfaea18d942",
   "metadata": {},
   "outputs": [],
   "source": [
    "question = 'What were the top five stations with most unique trips in July 2015?'"
   ]
  },
  {
   "cell_type": "code",
   "execution_count": 29,
   "id": "73786cfa-7845-4372-b735-e933a22b1715",
   "metadata": {},
   "outputs": [],
   "source": [
    "context_prompt = f\"\"\"\n",
    "context (BigQuery Table Schema):\n",
    "{schema_columns.to_markdown(index = False)}\n",
    "\n",
    "Write a query for Google BigQuery using fully qualified table names to answer this question:\n",
    "{question}\n",
    "\"\"\"\n",
    "\n",
    "#context_query = textgen_model.predict(f\"Write a Google SQL query that answers the following question.\\nquestion: {question}\")\n",
    "#context_query = codegen_model.predict(context_prompt, max_output_tokens = 500)\n",
    "context_query = gemini_model.generate_content(context_prompt, generation_config = dict(temperature = 0))\n",
    "\n",
    "\n",
    "context_response = bq.query(query = '\\n'.join(context_query.text.split('\\n')[1:-1])).to_dataframe()"
   ]
  },
  {
   "cell_type": "code",
   "execution_count": 30,
   "id": "5e66d2bb-bb63-4ee6-8347-ea8d3c56f494",
   "metadata": {},
   "outputs": [
    {
     "name": "stdout",
     "output_type": "stream",
     "text": [
      "| start_station_name                |   total_trips |\n",
      "|:----------------------------------|--------------:|\n",
      "| Central Park S & 6 Ave            |          3933 |\n",
      "| Grand Army Plaza & Central Park S |          3290 |\n",
      "| Broadway & W 60 St                |          3215 |\n",
      "| Centre St & Chambers St           |          2656 |\n",
      "| West St & Chambers St             |          2603 |\n"
     ]
    }
   ],
   "source": [
    "print(context_response.to_markdown(index = False))"
   ]
  },
  {
   "cell_type": "code",
   "execution_count": 31,
   "id": "58fe980c-8edf-4356-99ee-214f5d54a975",
   "metadata": {},
   "outputs": [
    {
     "name": "stdout",
     "output_type": "stream",
     "text": [
      " | start_station_name                |   total_trips |\n",
      "|:----------------------------------|--------------:|\n",
      "| Central Park S & 6 Ave            |          3933 |\n",
      "| Grand Army Plaza & Central Park S |          3290 |\n",
      "| Broadway & W 60 St                |          3215 |\n",
      "| Centre St & Chambers St           |          2656 |\n",
      "| West St & Chambers St             |          2603 |\n"
     ]
    }
   ],
   "source": [
    "question_prompt = f\"\"\"\n",
    "context (result from BigQuery query):\n",
    "{context_response.to_markdown(index = False)}\n",
    "\n",
    "Answer the following question.  Note that the context is a tabular result returned from a BigQuery query.  Do not repeat the question or the context when responding.\n",
    "{question}\n",
    "\"\"\"\n",
    "\n",
    "question_response = textgen_model.predict(question_prompt)\n",
    "\n",
    "print(question_response.text)"
   ]
  },
  {
   "cell_type": "markdown",
   "id": "eeb9935f-80b3-41fe-b372-2b83a9798031",
   "metadata": {},
   "source": [
    "---\n",
    "## All Together and More Complex"
   ]
  },
  {
   "cell_type": "code",
   "execution_count": 32,
   "id": "2326bbd0-41a7-478e-807e-67958e6a67db",
   "metadata": {},
   "outputs": [],
   "source": [
    "question = 'What were the top stations with most trips started in July 2015 near central park?'"
   ]
  },
  {
   "cell_type": "code",
   "execution_count": 33,
   "id": "4ac10690-7cdd-4274-a0d0-cee8caa45833",
   "metadata": {},
   "outputs": [],
   "source": [
    "context_prompt = f\"\"\"\n",
    "context (BigQuery Table Schema):\n",
    "{schema_columns.to_markdown(index = False)}\n",
    "\n",
    "Write a query for Google BigQuery using fully qualified table names to answer this question:\n",
    "{question}\n",
    "\"\"\"\n",
    "\n",
    "#context_query = textgen_model.predict(f\"Write a Google SQL query that answers the following question.\\nquestion: {question}\")\n",
    "#context_query = codegen_model.predict(context_prompt, max_output_tokens = 500, temperature = 0.9)\n",
    "context_query = gemini_model.generate_content(context_prompt, generation_config = dict(temperature = 0))\n",
    "\n",
    "context_query = '\\n'.join(context_query.text.split('\\n')[1:-1])\n",
    "context_response = bq.query(query = context_query).to_dataframe()"
   ]
  },
  {
   "cell_type": "code",
   "execution_count": 34,
   "id": "08d6086a-dbfa-4871-98bc-1cfb275a5253",
   "metadata": {
    "tags": []
   },
   "outputs": [],
   "source": [
    "#context_prompt"
   ]
  },
  {
   "cell_type": "code",
   "execution_count": 35,
   "id": "b99afbeb-8f97-4f63-9881-d85d2dd710fe",
   "metadata": {},
   "outputs": [
    {
     "name": "stdout",
     "output_type": "stream",
     "text": [
      "SELECT start_station_name, COUNT(*) AS num_trips\n",
      "FROM `bigquery-public-data.new_york.citibike_trips`\n",
      "WHERE EXTRACT(MONTH FROM starttime) = 7\n",
      "  AND EXTRACT(YEAR FROM starttime) = 2015\n",
      "  AND start_station_latitude BETWEEN 40.769 AND 40.783\n",
      "  AND start_station_longitude BETWEEN -73.984 AND -73.964\n",
      "GROUP BY start_station_name\n",
      "ORDER BY num_trips DESC\n",
      "LIMIT 10;\n"
     ]
    }
   ],
   "source": [
    "print(context_query)"
   ]
  },
  {
   "cell_type": "code",
   "execution_count": 36,
   "id": "a57adeda-21fe-4e03-92e7-f2cadf4a48cd",
   "metadata": {
    "tags": []
   },
   "outputs": [
    {
     "data": {
      "text/html": [
       "<div>\n",
       "<style scoped>\n",
       "    .dataframe tbody tr th:only-of-type {\n",
       "        vertical-align: middle;\n",
       "    }\n",
       "\n",
       "    .dataframe tbody tr th {\n",
       "        vertical-align: top;\n",
       "    }\n",
       "\n",
       "    .dataframe thead th {\n",
       "        text-align: right;\n",
       "    }\n",
       "</style>\n",
       "<table border=\"1\" class=\"dataframe\">\n",
       "  <thead>\n",
       "    <tr style=\"text-align: right;\">\n",
       "      <th></th>\n",
       "      <th>start_station_name</th>\n",
       "      <th>num_trips</th>\n",
       "    </tr>\n",
       "  </thead>\n",
       "  <tbody>\n",
       "    <tr>\n",
       "      <th>0</th>\n",
       "      <td>Broadway &amp; W 60 St</td>\n",
       "      <td>8793</td>\n",
       "    </tr>\n",
       "  </tbody>\n",
       "</table>\n",
       "</div>"
      ],
      "text/plain": [
       "   start_station_name  num_trips\n",
       "0  Broadway & W 60 St       8793"
      ]
     },
     "execution_count": 36,
     "metadata": {},
     "output_type": "execute_result"
    }
   ],
   "source": [
    "context_response"
   ]
  },
  {
   "cell_type": "code",
   "execution_count": 37,
   "id": "b1b43b84-47b1-49fa-b024-0639b2557df7",
   "metadata": {},
   "outputs": [
    {
     "name": "stdout",
     "output_type": "stream",
     "text": [
      "Broadway & W 60 St\n"
     ]
    }
   ],
   "source": [
    "question_prompt = f\"\"\"\n",
    "Answer the following question.  Note that the context above is a tabular result returned from a BigQuery query specific to this question.  Do not repeat the question or the context when responding.\n",
    "{question}\n",
    "\n",
    "Use this data:\n",
    "{context_response.to_markdown(index = False)}\n",
    "\"\"\"\n",
    "\n",
    "question_response = gemini_model.generate_content(question_prompt)\n",
    "\n",
    "print(question_response.text)"
   ]
  },
  {
   "cell_type": "markdown",
   "id": "82153358-d248-47eb-b8dd-0b5795b8ba89",
   "metadata": {},
   "source": [
    "---\n",
    "## When The Generated Query Fails...\n",
    "\n",
    "The following question leads to an error in the `context_query` execution.  This section covers a method of using a Code Chat LLM to iteratively fix the query based on the error details returned from the job execution in BigQuery.\n"
   ]
  },
  {
   "cell_type": "code",
   "execution_count": 37,
   "id": "2ebd4319-5ebd-48f0-85f6-50652d622955",
   "metadata": {},
   "outputs": [],
   "source": [
    "question = \"How many trips were started on a weekend, in the afternoon, during 2015, by a regular rider, who is over the age of 60?\""
   ]
  },
  {
   "cell_type": "code",
   "execution_count": 38,
   "id": "09ba99b9-f668-47b2-b8c6-bd8f83af91f3",
   "metadata": {},
   "outputs": [],
   "source": [
    "context_prompt = f\"\"\"\n",
    "context (BigQuery Table Schema):\n",
    "{schema_columns.to_markdown(index = False)}\n",
    "\n",
    "Write a query for Google BigQuery using fully qualified table names to answer this question:\n",
    "{question}\n",
    "\"\"\"\n",
    "\n",
    "context_query = codegen_model.predict(context_prompt, max_output_tokens = 256)"
   ]
  },
  {
   "cell_type": "code",
   "execution_count": 39,
   "id": "28dc512d-bcfd-425b-bb1a-0c57fef354fc",
   "metadata": {},
   "outputs": [
    {
     "data": {
      "text/plain": [
       "```sql\n",
       "SELECT COUNT(*) AS num_trips\n",
       "FROM `bigquery-public-data.new_york.citibike_trips` AS trips\n",
       "JOIN `bigquery-public-data.new_york.citibike_stations` AS stations\n",
       "ON trips.start_station_id = stations.station_id\n",
       "WHERE \n",
       "    CAST(strftime('%Y', trips.starttime) AS INT64) = 2015\n",
       "    AND strftime('%w', trips.starttime) IN (0, 6) -- Sunday or Saturday\n",
       "    AND strftime('%H', trips.starttime) BETWEEN '12' AND '17' -- 12:00 PM - 5:00 PM\n",
       "    AND trips.usertype = 'Subscriber'\n",
       "    AND CAST(strftime('%Y', trips.starttime) AS INT64) - trips.birth_year > 60;\n",
       "```"
      ]
     },
     "execution_count": 39,
     "metadata": {},
     "output_type": "execute_result"
    }
   ],
   "source": [
    "context_query"
   ]
  },
  {
   "cell_type": "markdown",
   "id": "f38c2541-1b62-4ace-899f-1a35d2168ae0",
   "metadata": {},
   "source": [
    "Clean the query up by removing the first and last lines so it can be submitted to BigQuery:"
   ]
  },
  {
   "cell_type": "code",
   "execution_count": 40,
   "id": "fc3f7a6c-f7f4-4804-970f-d6fc99a1c55d",
   "metadata": {
    "tags": []
   },
   "outputs": [
    {
     "name": "stdout",
     "output_type": "stream",
     "text": [
      "SELECT COUNT(*) AS num_trips\n",
      "FROM `bigquery-public-data.new_york.citibike_trips` AS trips\n",
      "JOIN `bigquery-public-data.new_york.citibike_stations` AS stations\n",
      "ON trips.start_station_id = stations.station_id\n",
      "WHERE \n",
      "    CAST(strftime('%Y', trips.starttime) AS INT64) = 2015\n",
      "    AND strftime('%w', trips.starttime) IN (0, 6) -- Sunday or Saturday\n",
      "    AND strftime('%H', trips.starttime) BETWEEN '12' AND '17' -- 12:00 PM - 5:00 PM\n",
      "    AND trips.usertype = 'Subscriber'\n",
      "    AND CAST(strftime('%Y', trips.starttime) AS INT64) - trips.birth_year > 60;\n"
     ]
    }
   ],
   "source": [
    "context_query = '\\n'.join(context_query.text.split('\\n')[1:-1])\n",
    "print(context_query)"
   ]
  },
  {
   "cell_type": "markdown",
   "id": "9c95ba94-6f46-46b3-928d-2d5748faf534",
   "metadata": {},
   "source": [
    "### Detect Errors: Using Dry Run"
   ]
  },
  {
   "cell_type": "markdown",
   "id": "101bc760-1b55-4ca0-9aae-46fca0873602",
   "metadata": {},
   "source": [
    "Use BigQuery to [Dry run](https://cloud.google.com/bigquery/docs/samples/bigquery-query-dry-run#bigquery_query_dry_run-python) the query and see if it has correct syntax:"
   ]
  },
  {
   "cell_type": "code",
   "execution_count": 41,
   "id": "8be139ef-95da-4c4b-9fd7-cbc9594e0374",
   "metadata": {
    "tags": []
   },
   "outputs": [
    {
     "name": "stdout",
     "output_type": "stream",
     "text": [
      "BadRequest was raised: 400 POST https://bigquery.googleapis.com/bigquery/v2/projects/statmike-mlops-349915/jobs?prettyPrint=false: No matching signature for operator = for argument types: INT64, STRING. Supported signature: ANY = ANY at [4:4]\n",
      "\n",
      "Location: None\n",
      "Job ID: d9a604e1-b4fc-4b64-833f-a4383149dd98\n",
      "\n"
     ]
    }
   ],
   "source": [
    "try:\n",
    "    bq.query(context_query, job_config = bigquery.QueryJobConfig(dry_run = True, use_query_cache = False))\n",
    "except Exception as err:\n",
    "    errors = f\"{type(err).__name__} was raised: {err}\"\n",
    "    print(errors)"
   ]
  },
  {
   "cell_type": "markdown",
   "id": "75352c8b-e137-420b-b6cb-c3146748422c",
   "metadata": {},
   "source": [
    "### Detect Errors: From Query Execution"
   ]
  },
  {
   "cell_type": "code",
   "execution_count": 42,
   "id": "eb5e3cc1-0e8b-4099-8574-a55c3c226fad",
   "metadata": {},
   "outputs": [],
   "source": [
    "query_job = bq.query(query = context_query)"
   ]
  },
  {
   "cell_type": "code",
   "execution_count": 43,
   "id": "928f0d6a-7b03-41f2-bd6a-126436c8e99c",
   "metadata": {},
   "outputs": [
    {
     "data": {
      "text/plain": [
       "google.cloud.bigquery.job.query.QueryJob"
      ]
     },
     "execution_count": 43,
     "metadata": {},
     "output_type": "execute_result"
    }
   ],
   "source": [
    "type(query_job)"
   ]
  },
  {
   "cell_type": "code",
   "execution_count": 44,
   "id": "bfa68cb5-beb0-4b5a-a7b3-1ccef1185cff",
   "metadata": {},
   "outputs": [
    {
     "data": {
      "text/plain": [
       "[{'reason': 'invalidQuery',\n",
       "  'location': 'query',\n",
       "  'message': 'No matching signature for operator = for argument types: INT64, STRING. Supported signature: ANY = ANY at [4:4]'}]"
      ]
     },
     "execution_count": 44,
     "metadata": {},
     "output_type": "execute_result"
    }
   ],
   "source": [
    "query_job.errors"
   ]
  },
  {
   "cell_type": "markdown",
   "id": "de8fa87f-ad51-4c47-80f4-917e2414f7e8",
   "metadata": {},
   "source": [
    "### Use A Chat Model To Iteratively Refine A Query:\n",
    "\n",
    "Chat models, like `codechat-bison@002` are interactive in that they keep a history of the chat session as context for future message interactions.  This is perfect for both generating the initial query and also asking for help with repairing it due to any errors returned from BigQuery."
   ]
  },
  {
   "cell_type": "markdown",
   "id": "6001ffc8-df91-435f-9603-b23bff536524",
   "metadata": {},
   "source": [
    "#### Start A Chat Session With The Same Context (Schema)"
   ]
  },
  {
   "cell_type": "code",
   "execution_count": 45,
   "id": "306d7cff-de29-4889-83c4-3526338509a6",
   "metadata": {},
   "outputs": [],
   "source": [
    "codechat_model = vertexai.language_models.CodeChatModel.from_pretrained('codechat-bison@002')"
   ]
  },
  {
   "cell_type": "code",
   "execution_count": 46,
   "id": "f5d4ebce-07a2-48ea-8241-74ebe0c3392f",
   "metadata": {},
   "outputs": [],
   "source": [
    "codechat = codechat_model.start_chat(\n",
    "    context = f\"\"\"\n",
    "The BigQuery Environment has tables defined by the follow schema:\n",
    "{schema_columns.to_markdown(index = False)}\n",
    "\n",
    "This session is trying to troubleshoot a Google BigQuery SQL query that is being writen to answer the question:\n",
    "{question}\n",
    "\n",
    "BigQuery SQL query that needs to be fixed:\n",
    "{context_query}\n",
    "\n",
    "Instructions:\n",
    "As the user provides versions of the query and the errors returned by BigQuery, offer suggestions that fix the errors but it is important that the query still answer the original question.\n",
    "\"\"\"\n",
    ")"
   ]
  },
  {
   "cell_type": "markdown",
   "id": "9033f784-48f5-4f70-b4b2-5a740e526060",
   "metadata": {},
   "source": [
    "#### Create a Hint From The Error: Dry Run\n",
    "\n",
    "Use the error detected during dry run to constuct a hint for the LLM:"
   ]
  },
  {
   "cell_type": "code",
   "execution_count": 47,
   "id": "9fbe3e8b-a777-4d1c-8d87-2c50ee587729",
   "metadata": {
    "tags": []
   },
   "outputs": [
    {
     "data": {
      "text/plain": [
       "'BadRequest was raised: 400 POST https://bigquery.googleapis.com/bigquery/v2/projects/statmike-mlops-349915/jobs?prettyPrint=false: No matching signature for operator = for argument types: INT64, STRING. Supported signature: ANY = ANY at [4:4]\\n\\nLocation: None\\nJob ID: d9a604e1-b4fc-4b64-833f-a4383149dd98\\n'"
      ]
     },
     "execution_count": 47,
     "metadata": {},
     "output_type": "execute_result"
    }
   ],
   "source": [
    "errors"
   ]
  },
  {
   "cell_type": "code",
   "execution_count": 48,
   "id": "a511f093-1603-456b-8454-6af897d05c7a",
   "metadata": {
    "tags": []
   },
   "outputs": [
    {
     "name": "stdout",
     "output_type": "stream",
     "text": [
      "ON trips.start_station_id = stations.station_id\n"
     ]
    }
   ],
   "source": [
    "hint = ''\n",
    "if errors.rindex('[') and errors.rindex(']'):\n",
    "    begin = errors.rindex('[') + 1\n",
    "    end = errors.rindex(']')\n",
    "    if end > begin and errors[begin:end].index(':'):\n",
    "        query_index = [int(q) for q in errors[begin:end].split(':')]\n",
    "        hint += context_query.split('\\n')[query_index[0] - 1].strip()\n",
    "print(hint)"
   ]
  },
  {
   "cell_type": "markdown",
   "id": "758cd640-1ce3-44b4-96e7-d1efc2dc5826",
   "metadata": {},
   "source": [
    "#### Create a Hint From The Error: Query Execution\n",
    "\n",
    "Use the errors `message` field to retrieve the line of the query related to the error as a hint:"
   ]
  },
  {
   "cell_type": "code",
   "execution_count": 49,
   "id": "77a1b480-9814-489d-b44b-a0549bbc2ce3",
   "metadata": {
    "tags": []
   },
   "outputs": [
    {
     "data": {
      "text/plain": [
       "[{'reason': 'invalidQuery',\n",
       "  'location': 'query',\n",
       "  'message': 'No matching signature for operator = for argument types: INT64, STRING. Supported signature: ANY = ANY at [4:4]'}]"
      ]
     },
     "execution_count": 49,
     "metadata": {},
     "output_type": "execute_result"
    }
   ],
   "source": [
    "query_job.errors"
   ]
  },
  {
   "cell_type": "code",
   "execution_count": 50,
   "id": "30fa1e80-c578-439a-b007-85a9c0e841c8",
   "metadata": {},
   "outputs": [
    {
     "name": "stdout",
     "output_type": "stream",
     "text": [
      "ON trips.start_station_id = stations.station_id\n"
     ]
    }
   ],
   "source": [
    "hint = ''\n",
    "for error in query_job.errors:\n",
    "    # detect error message\n",
    "    if 'message' in list(error.keys()):\n",
    "        # detect index of error location\n",
    "        if error['message'].rindex('[') and error['message'].rindex(']'):\n",
    "            begin = error['message'].rindex('[') + 1\n",
    "            end = error['message'].rindex(']')\n",
    "            # verify that it looks like an error location:\n",
    "            if end > begin and error['message'][begin:end].index(':'):\n",
    "                # retrieve the two parts of the error index: query line, query column\n",
    "                query_index = [int(q) for q in error['message'][begin:end].split(':')]\n",
    "                hint += context_query.split('\\n')[query_index[0]-1].strip()\n",
    "                break\n",
    "print(hint)"
   ]
  },
  {
   "cell_type": "markdown",
   "id": "10bc472b-9464-48b2-bc38-363e7e1c68fa",
   "metadata": {},
   "source": [
    "#### Fix Query (Try 1)"
   ]
  },
  {
   "cell_type": "code",
   "execution_count": 51,
   "id": "6448394d-ac58-47e8-9abd-a743e1e79df8",
   "metadata": {},
   "outputs": [
    {
     "name": "stdout",
     "output_type": "stream",
     "text": [
      "\n",
      "This query:\n",
      "SELECT COUNT(*) AS num_trips\n",
      "FROM `bigquery-public-data.new_york.citibike_trips` AS trips\n",
      "JOIN `bigquery-public-data.new_york.citibike_stations` AS stations\n",
      "ON trips.start_station_id = stations.station_id\n",
      "WHERE \n",
      "    CAST(strftime('%Y', trips.starttime) AS INT64) = 2015\n",
      "    AND strftime('%w', trips.starttime) IN (0, 6) -- Sunday or Saturday\n",
      "    AND strftime('%H', trips.starttime) BETWEEN '12' AND '17' -- 12:00 PM - 5:00 PM\n",
      "    AND trips.usertype = 'Subscriber'\n",
      "    AND CAST(strftime('%Y', trips.starttime) AS INT64) - trips.birth_year > 60;\n",
      "\n",
      "Returns these errors:\n",
      "[{'reason': 'invalidQuery', 'location': 'query', 'message': 'No matching signature for operator = for argument types: INT64, STRING. Supported signature: ANY = ANY at [4:4]'}]\n",
      "\n",
      "Hint, the error appears to be in this line of the query:\n",
      "ON trips.start_station_id = stations.station_id\n",
      "\n"
     ]
    }
   ],
   "source": [
    "fix_prompt = f\"\"\"\n",
    "This query:\n",
    "{context_query}\n",
    "\n",
    "Returns these errors:\n",
    "{query_job.errors}\n",
    "\"\"\"\n",
    "\n",
    "if hint != '':\n",
    "    fix_prompt += f\"\"\"\n",
    "Hint, the error appears to be in this line of the query:\n",
    "{hint}\n",
    "\"\"\"\n",
    "print(fix_prompt)"
   ]
  },
  {
   "cell_type": "code",
   "execution_count": 52,
   "id": "cdff7cd1-efdd-4676-add9-e739450c7e3f",
   "metadata": {},
   "outputs": [],
   "source": [
    "response = codechat.send_message(fix_prompt)"
   ]
  },
  {
   "cell_type": "code",
   "execution_count": 53,
   "id": "fc9527a2-f001-481e-b8c3-34fc7b6139e3",
   "metadata": {},
   "outputs": [
    {
     "data": {
      "text/plain": [
       " The error message suggests that there is an issue with the equality comparison between `trips.start_station_id` and `stations.station_id`. To fix this, ensure that both columns have compatible data types. In this case, `trips.start_station_id` is an INT64, while `stations.station_id` is a STRING. To resolve this, you can convert `trips.start_station_id` to a STRING using the CAST function, as shown below:\n",
       "\n",
       "```sql\n",
       "SELECT COUNT(*) AS num_trips\n",
       "FROM `bigquery-public-data.new_york.citibike_trips` AS trips\n",
       "JOIN `bigquery-public-data.new_york.citibike_stations` AS stations\n",
       "ON CAST(trips.start_station_id AS STRING) = stations.station_id\n",
       "WHERE \n",
       "    CAST(strftime('%Y', trips.starttime) AS INT64) = 2015\n",
       "    AND strftime('%w', trips.starttime) IN (0, 6) -- Sunday or Saturday\n",
       "    AND strftime('%H', trips.starttime) BETWEEN '12' AND '17' -- 12:00 PM - 5:00 PM\n",
       "    AND trips.usertype = 'Subscriber'\n",
       "    AND CAST(strftime('%Y', trips.starttime) AS INT64) - trips.birth_year > 60;\n",
       "```"
      ]
     },
     "execution_count": 53,
     "metadata": {},
     "output_type": "execute_result"
    }
   ],
   "source": [
    "response"
   ]
  },
  {
   "cell_type": "code",
   "execution_count": 54,
   "id": "66bf5248-8a4d-44e2-8068-ad519d3cd280",
   "metadata": {},
   "outputs": [],
   "source": [
    "context_query = codechat.send_message(f'Respond with only the corrected query as a markdown code block.')"
   ]
  },
  {
   "cell_type": "code",
   "execution_count": 55,
   "id": "7d975cdf-2ea8-467c-94c8-59879b148527",
   "metadata": {},
   "outputs": [
    {
     "data": {
      "text/plain": [
       " ```sql\n",
       "SELECT COUNT(*) AS num_trips\n",
       "FROM `bigquery-public-data.new_york.citibike_trips` AS trips\n",
       "JOIN `bigquery-public-data.new_york.citibike_stations` AS stations\n",
       "ON CAST(trips.start_station_id AS STRING) = stations.station_id\n",
       "WHERE \n",
       "    CAST(strftime('%Y', trips.starttime) AS INT64) = 2015\n",
       "    AND strftime('%w', trips.starttime) IN (0, 6) -- Sunday or Saturday\n",
       "    AND strftime('%H', trips.starttime) BETWEEN '12' AND '17' -- 12:00 PM - 5:00 PM\n",
       "    AND trips.usertype = 'Subscriber'\n",
       "    AND CAST(strftime('%Y', trips.starttime) AS INT64) - trips.birth_year > 60;\n",
       "```"
      ]
     },
     "execution_count": 55,
     "metadata": {},
     "output_type": "execute_result"
    }
   ],
   "source": [
    "context_query"
   ]
  },
  {
   "cell_type": "code",
   "execution_count": 56,
   "id": "244d4d02-1548-42fc-ae09-e15b1270a7aa",
   "metadata": {},
   "outputs": [
    {
     "name": "stdout",
     "output_type": "stream",
     "text": [
      "\n",
      "SELECT COUNT(*) AS num_trips\n",
      "FROM `bigquery-public-data.new_york.citibike_trips` AS trips\n",
      "JOIN `bigquery-public-data.new_york.citibike_stations` AS stations\n",
      "ON CAST(trips.start_station_id AS STRING) = stations.station_id\n",
      "WHERE \n",
      "    CAST(strftime('%Y', trips.starttime) AS INT64) = 2015\n",
      "    AND strftime('%w', trips.starttime) IN (0, 6) -- Sunday or Saturday\n",
      "    AND strftime('%H', trips.starttime) BETWEEN '12' AND '17' -- 12:00 PM - 5:00 PM\n",
      "    AND trips.usertype = 'Subscriber'\n",
      "    AND CAST(strftime('%Y', trips.starttime) AS INT64) - trips.birth_year > 60;\n",
      "\n"
     ]
    }
   ],
   "source": [
    "if context_query.text.find(\"```\") >= 0:\n",
    "    context_query = response.text.split(\"```\")[1]\n",
    "    if context_query.startswith('sql'): context_query = context_query[3:]\n",
    "    print(context_query)\n",
    "else:\n",
    "    print('no query in response')"
   ]
  },
  {
   "cell_type": "code",
   "execution_count": 57,
   "id": "f3854b69-7d13-45b3-98f8-c1a5e4646806",
   "metadata": {},
   "outputs": [],
   "source": [
    "query_job = bq.query(query = context_query)"
   ]
  },
  {
   "cell_type": "code",
   "execution_count": 58,
   "id": "686bbb99-e65b-4add-9c1a-461dc615e140",
   "metadata": {},
   "outputs": [
    {
     "data": {
      "text/plain": [
       "[{'reason': 'invalidQuery',\n",
       "  'location': 'query',\n",
       "  'message': 'Function not found: strftime at [7:10]'}]"
      ]
     },
     "execution_count": 58,
     "metadata": {},
     "output_type": "execute_result"
    }
   ],
   "source": [
    "query_job.errors"
   ]
  },
  {
   "cell_type": "code",
   "execution_count": 59,
   "id": "39eafec0-cedb-4067-800d-96c9d4ae8a12",
   "metadata": {
    "tags": []
   },
   "outputs": [
    {
     "name": "stdout",
     "output_type": "stream",
     "text": [
      "CAST(strftime('%Y', trips.starttime) AS INT64) = 2015\n"
     ]
    }
   ],
   "source": [
    "hint = ''\n",
    "for error in query_job.errors:\n",
    "    # detect error message\n",
    "    if 'message' in list(error.keys()):\n",
    "        # detect index of error location\n",
    "        if error['message'].rindex('[') and error['message'].rindex(']'):\n",
    "            begin = error['message'].rindex('[') + 1\n",
    "            end = error['message'].rindex(']')\n",
    "            # verify that it looks like an error location:\n",
    "            if end > begin and error['message'][begin:end].index(':'):\n",
    "                # retrieve the two parts of the error index: query line, query column\n",
    "                query_index = [int(q) for q in error['message'][begin:end].split(':')]\n",
    "                hint += context_query.split('\\n')[query_index[0]-1].strip()\n",
    "                break\n",
    "print(hint)"
   ]
  },
  {
   "cell_type": "markdown",
   "id": "f6e6449f-5c5e-4954-95a4-235781e90d6f",
   "metadata": {},
   "source": [
    "#### Fix Query (Try 2)"
   ]
  },
  {
   "cell_type": "code",
   "execution_count": 60,
   "id": "7b564b0e-a7cc-40ce-991b-e30c8149cb08",
   "metadata": {},
   "outputs": [
    {
     "name": "stdout",
     "output_type": "stream",
     "text": [
      "\n",
      "This query:\n",
      "\n",
      "SELECT COUNT(*) AS num_trips\n",
      "FROM `bigquery-public-data.new_york.citibike_trips` AS trips\n",
      "JOIN `bigquery-public-data.new_york.citibike_stations` AS stations\n",
      "ON CAST(trips.start_station_id AS STRING) = stations.station_id\n",
      "WHERE \n",
      "    CAST(strftime('%Y', trips.starttime) AS INT64) = 2015\n",
      "    AND strftime('%w', trips.starttime) IN (0, 6) -- Sunday or Saturday\n",
      "    AND strftime('%H', trips.starttime) BETWEEN '12' AND '17' -- 12:00 PM - 5:00 PM\n",
      "    AND trips.usertype = 'Subscriber'\n",
      "    AND CAST(strftime('%Y', trips.starttime) AS INT64) - trips.birth_year > 60;\n",
      "\n",
      "\n",
      "Returns these errors:\n",
      "[{'reason': 'invalidQuery', 'location': 'query', 'message': 'Function not found: strftime at [7:10]'}]\n",
      "\n",
      "Hint, the error appears to be in this line of the query:\n",
      "CAST(strftime('%Y', trips.starttime) AS INT64) = 2015\n",
      "\n"
     ]
    }
   ],
   "source": [
    "fix_prompt = f\"\"\"\n",
    "This query:\n",
    "{context_query}\n",
    "\n",
    "Returns these errors:\n",
    "{query_job.errors}\n",
    "\"\"\"\n",
    "\n",
    "if hint != '':\n",
    "    fix_prompt += f\"\"\"\n",
    "Hint, the error appears to be in this line of the query:\n",
    "{hint}\n",
    "\"\"\"\n",
    "print(fix_prompt)"
   ]
  },
  {
   "cell_type": "code",
   "execution_count": 61,
   "id": "3835f2f1-68ae-4ac1-8d66-cfd2ff072ce1",
   "metadata": {},
   "outputs": [],
   "source": [
    "response = codechat.send_message(fix_prompt)"
   ]
  },
  {
   "cell_type": "code",
   "execution_count": 62,
   "id": "59814582-2a72-48b9-9527-b9a05ad268dd",
   "metadata": {},
   "outputs": [
    {
     "data": {
      "text/plain": [
       " The `strftime` function is not supported in BigQuery Standard SQL. Instead, you can use the `DATE` function to extract the year from the `starttime` column. The corrected query is:\n",
       "\n",
       "```sql\n",
       "SELECT COUNT(*) AS num_trips\n",
       "FROM `bigquery-public-data.new_york.citibike_trips` AS trips\n",
       "JOIN `bigquery-public-data.new_york.citibike_stations` AS stations\n",
       "ON CAST(trips.start_station_id AS STRING) = stations.station_id\n",
       "WHERE \n",
       "    CAST(DATE(trips.starttime, '%Y') AS INT64) = 2015\n",
       "    AND strftime('%w', trips.starttime) IN (0, 6) -- Sunday or Saturday\n",
       "    AND strftime('%H', trips.starttime) BETWEEN '12' AND '17' -- 12:00 PM - 5:00 PM\n",
       "    AND trips.usertype = 'Subscriber'\n",
       "    AND CAST(DATE(trips.starttime, '%Y') AS INT64) - trips.birth_year > 60;\n",
       "```"
      ]
     },
     "execution_count": 62,
     "metadata": {},
     "output_type": "execute_result"
    }
   ],
   "source": [
    "response"
   ]
  },
  {
   "cell_type": "code",
   "execution_count": 63,
   "id": "f40d0fd0-85db-4ab9-b132-4c0a9eb4ca4f",
   "metadata": {},
   "outputs": [],
   "source": [
    "context_query = codechat.send_message(f'Respond with only the corrected query as a markdown code block.')"
   ]
  },
  {
   "cell_type": "code",
   "execution_count": 64,
   "id": "effe2d2f-6efe-4c4d-8215-c7dc0b35ddf2",
   "metadata": {},
   "outputs": [
    {
     "data": {
      "text/plain": [
       " ```sql\n",
       "SELECT COUNT(*) AS num_trips\n",
       "FROM `bigquery-public-data.new_york.citibike_trips` AS trips\n",
       "JOIN `bigquery-public-data.new_york.citibike_stations` AS stations\n",
       "ON CAST(trips.start_station_id AS STRING) = stations.station_id\n",
       "WHERE \n",
       "    CAST(DATE(trips.starttime, '%Y') AS INT64) = 2015\n",
       "    AND strftime('%w', trips.starttime) IN (0, 6) -- Sunday or Saturday\n",
       "    AND strftime('%H', trips.starttime) BETWEEN '12' AND '17' -- 12:00 PM - 5:00 PM\n",
       "    AND trips.usertype = 'Subscriber'\n",
       "    AND CAST(DATE(trips.starttime, '%Y') AS INT64) - trips.birth_year > 60;\n",
       "```"
      ]
     },
     "execution_count": 64,
     "metadata": {},
     "output_type": "execute_result"
    }
   ],
   "source": [
    "context_query"
   ]
  },
  {
   "cell_type": "code",
   "execution_count": 65,
   "id": "ff919753-7a97-4f62-89c8-05a4748aa63f",
   "metadata": {},
   "outputs": [
    {
     "name": "stdout",
     "output_type": "stream",
     "text": [
      "\n",
      "SELECT COUNT(*) AS num_trips\n",
      "FROM `bigquery-public-data.new_york.citibike_trips` AS trips\n",
      "JOIN `bigquery-public-data.new_york.citibike_stations` AS stations\n",
      "ON CAST(trips.start_station_id AS STRING) = stations.station_id\n",
      "WHERE \n",
      "    CAST(DATE(trips.starttime, '%Y') AS INT64) = 2015\n",
      "    AND strftime('%w', trips.starttime) IN (0, 6) -- Sunday or Saturday\n",
      "    AND strftime('%H', trips.starttime) BETWEEN '12' AND '17' -- 12:00 PM - 5:00 PM\n",
      "    AND trips.usertype = 'Subscriber'\n",
      "    AND CAST(DATE(trips.starttime, '%Y') AS INT64) - trips.birth_year > 60;\n",
      "\n"
     ]
    }
   ],
   "source": [
    "if context_query.text.find(\"```\") >= 0:\n",
    "    context_query = response.text.split(\"```\")[1]\n",
    "    if context_query.startswith('sql'): context_query = context_query[3:]\n",
    "    print(context_query)\n",
    "else:\n",
    "    print('no query in response')"
   ]
  },
  {
   "cell_type": "code",
   "execution_count": 66,
   "id": "836bc442-33fc-4173-8043-c6171aab99bf",
   "metadata": {},
   "outputs": [],
   "source": [
    "query_job = bq.query(query = context_query)"
   ]
  },
  {
   "cell_type": "code",
   "execution_count": 67,
   "id": "a48eabdf-d3ee-4e5a-a21c-19fec25991ca",
   "metadata": {},
   "outputs": [
    {
     "data": {
      "text/plain": [
       "[{'reason': 'invalidQuery',\n",
       "  'location': 'query',\n",
       "  'message': 'Invalid cast from DATE to INT64 at [7:10]'}]"
      ]
     },
     "execution_count": 67,
     "metadata": {},
     "output_type": "execute_result"
    }
   ],
   "source": [
    "query_job.errors"
   ]
  },
  {
   "cell_type": "code",
   "execution_count": 68,
   "id": "d239db33-38d1-4b78-bfee-d96442de4a6f",
   "metadata": {
    "tags": []
   },
   "outputs": [
    {
     "name": "stdout",
     "output_type": "stream",
     "text": [
      "CAST(DATE(trips.starttime, '%Y') AS INT64) = 2015\n"
     ]
    }
   ],
   "source": [
    "hint = ''\n",
    "for error in query_job.errors:\n",
    "    # detect error message\n",
    "    if 'message' in list(error.keys()):\n",
    "        # detect index of error location\n",
    "        if error['message'].rindex('[') and error['message'].rindex(']'):\n",
    "            begin = error['message'].rindex('[') + 1\n",
    "            end = error['message'].rindex(']')\n",
    "            # verify that it looks like an error location:\n",
    "            if end > begin and error['message'][begin:end].index(':'):\n",
    "                # retrieve the two parts of the error index: query line, query column\n",
    "                query_index = [int(q) for q in error['message'][begin:end].split(':')]\n",
    "                hint += context_query.split('\\n')[query_index[0]-1].strip()\n",
    "                break\n",
    "print(hint)"
   ]
  },
  {
   "cell_type": "markdown",
   "id": "016648e5-9d57-46bf-9284-1447f1ce3c8c",
   "metadata": {},
   "source": [
    "#### Fix Query (Try 3)"
   ]
  },
  {
   "cell_type": "code",
   "execution_count": 69,
   "id": "89af100e-3a49-4bf3-949c-547eae6ea2d4",
   "metadata": {},
   "outputs": [
    {
     "name": "stdout",
     "output_type": "stream",
     "text": [
      "\n",
      "This query:\n",
      "\n",
      "SELECT COUNT(*) AS num_trips\n",
      "FROM `bigquery-public-data.new_york.citibike_trips` AS trips\n",
      "JOIN `bigquery-public-data.new_york.citibike_stations` AS stations\n",
      "ON CAST(trips.start_station_id AS STRING) = stations.station_id\n",
      "WHERE \n",
      "    CAST(DATE(trips.starttime, '%Y') AS INT64) = 2015\n",
      "    AND strftime('%w', trips.starttime) IN (0, 6) -- Sunday or Saturday\n",
      "    AND strftime('%H', trips.starttime) BETWEEN '12' AND '17' -- 12:00 PM - 5:00 PM\n",
      "    AND trips.usertype = 'Subscriber'\n",
      "    AND CAST(DATE(trips.starttime, '%Y') AS INT64) - trips.birth_year > 60;\n",
      "\n",
      "\n",
      "Returns these errors:\n",
      "[{'reason': 'invalidQuery', 'location': 'query', 'message': 'Invalid cast from DATE to INT64 at [7:10]'}]\n",
      "\n",
      "Hint, the error appears to be in this line of the query:\n",
      "CAST(DATE(trips.starttime, '%Y') AS INT64) = 2015\n",
      "\n"
     ]
    }
   ],
   "source": [
    "fix_prompt = f\"\"\"\n",
    "This query:\n",
    "{context_query}\n",
    "\n",
    "Returns these errors:\n",
    "{query_job.errors}\n",
    "\"\"\"\n",
    "\n",
    "if hint != '':\n",
    "    fix_prompt += f\"\"\"\n",
    "Hint, the error appears to be in this line of the query:\n",
    "{hint}\n",
    "\"\"\"\n",
    "print(fix_prompt)"
   ]
  },
  {
   "cell_type": "code",
   "execution_count": 70,
   "id": "4fb6e849-3521-40d4-9fb3-75129d0c7d11",
   "metadata": {},
   "outputs": [],
   "source": [
    "response = codechat.send_message(fix_prompt)"
   ]
  },
  {
   "cell_type": "code",
   "execution_count": 71,
   "id": "4f0cf934-a1a6-49e0-bb3c-780b7a729e03",
   "metadata": {},
   "outputs": [
    {
     "data": {
      "text/plain": [
       " The error message suggests that there is an issue with casting the result of the `DATE` function to INT64. To fix this, you can use the `EXTRACT` function to extract the year from the `starttime` column, as shown below:\n",
       "\n",
       "```sql\n",
       "SELECT COUNT(*) AS num_trips\n",
       "FROM `bigquery-public-data.new_york.citibike_trips` AS trips\n",
       "JOIN `bigquery-public-data.new_york.citibike_stations` AS stations\n",
       "ON CAST(trips.start_station_id AS STRING) = stations.station_id\n",
       "WHERE \n",
       "    EXTRACT(YEAR FROM trips.starttime) = 2015\n",
       "    AND strftime('%w', trips.starttime) IN (0, 6) -- Sunday or Saturday\n",
       "    AND strftime('%H', trips.starttime) BETWEEN '12' AND '17' -- 12:00 PM - 5:00 PM\n",
       "    AND trips.usertype = 'Subscriber'\n",
       "    AND EXTRACT(YEAR FROM trips.starttime) - trips.birth_year > 60;\n",
       "```"
      ]
     },
     "execution_count": 71,
     "metadata": {},
     "output_type": "execute_result"
    }
   ],
   "source": [
    "response"
   ]
  },
  {
   "cell_type": "code",
   "execution_count": 72,
   "id": "31fdcdb1-e43d-477a-88f5-c385f2efa078",
   "metadata": {},
   "outputs": [],
   "source": [
    "context_query = codechat.send_message(f'Respond with only the corrected query as a markdown code block.')"
   ]
  },
  {
   "cell_type": "code",
   "execution_count": 73,
   "id": "d1d3871a-a97e-4687-b238-2bb36f251112",
   "metadata": {},
   "outputs": [
    {
     "data": {
      "text/plain": [
       " ```sql\n",
       "SELECT COUNT(*) AS num_trips\n",
       "FROM `bigquery-public-data.new_york.citibike_trips` AS trips\n",
       "JOIN `bigquery-public-data.new_york.citibike_stations` AS stations\n",
       "ON CAST(trips.start_station_id AS STRING) = stations.station_id\n",
       "WHERE \n",
       "    EXTRACT(YEAR FROM trips.starttime) = 2015\n",
       "    AND strftime('%w', trips.starttime) IN (0, 6) -- Sunday or Saturday\n",
       "    AND strftime('%H', trips.starttime) BETWEEN '12' AND '17' -- 12:00 PM - 5:00 PM\n",
       "    AND trips.usertype = 'Subscriber'\n",
       "    AND EXTRACT(YEAR FROM trips.starttime) - trips.birth_year > 60;\n",
       "```"
      ]
     },
     "execution_count": 73,
     "metadata": {},
     "output_type": "execute_result"
    }
   ],
   "source": [
    "context_query"
   ]
  },
  {
   "cell_type": "code",
   "execution_count": 74,
   "id": "6c8b7fa1-1a2a-43e6-ad68-4e8c32392d29",
   "metadata": {},
   "outputs": [
    {
     "name": "stdout",
     "output_type": "stream",
     "text": [
      "\n",
      "SELECT COUNT(*) AS num_trips\n",
      "FROM `bigquery-public-data.new_york.citibike_trips` AS trips\n",
      "JOIN `bigquery-public-data.new_york.citibike_stations` AS stations\n",
      "ON CAST(trips.start_station_id AS STRING) = stations.station_id\n",
      "WHERE \n",
      "    EXTRACT(YEAR FROM trips.starttime) = 2015\n",
      "    AND strftime('%w', trips.starttime) IN (0, 6) -- Sunday or Saturday\n",
      "    AND strftime('%H', trips.starttime) BETWEEN '12' AND '17' -- 12:00 PM - 5:00 PM\n",
      "    AND trips.usertype = 'Subscriber'\n",
      "    AND EXTRACT(YEAR FROM trips.starttime) - trips.birth_year > 60;\n",
      "\n"
     ]
    }
   ],
   "source": [
    "if context_query.text.find(\"```\") >= 0:\n",
    "    context_query = response.text.split(\"```\")[1]\n",
    "    if context_query.startswith('sql'): context_query = context_query[3:]\n",
    "    print(context_query)\n",
    "else:\n",
    "    print('no query in response')"
   ]
  },
  {
   "cell_type": "code",
   "execution_count": 75,
   "id": "81a35e4c-0f4f-46e6-9af3-5e2f69dc58f8",
   "metadata": {},
   "outputs": [],
   "source": [
    "query_job = bq.query(query = context_query)"
   ]
  },
  {
   "cell_type": "code",
   "execution_count": 76,
   "id": "664b187e-b354-4f26-a1e7-63eea0dcb196",
   "metadata": {},
   "outputs": [
    {
     "data": {
      "text/plain": [
       "[{'reason': 'invalidQuery',\n",
       "  'location': 'query',\n",
       "  'message': 'Function not found: strftime at [8:9]'}]"
      ]
     },
     "execution_count": 76,
     "metadata": {},
     "output_type": "execute_result"
    }
   ],
   "source": [
    "query_job.errors"
   ]
  },
  {
   "cell_type": "code",
   "execution_count": 77,
   "id": "54b613bf-c207-4e39-aaa2-b81178afc8a8",
   "metadata": {
    "tags": []
   },
   "outputs": [
    {
     "name": "stdout",
     "output_type": "stream",
     "text": [
      "AND strftime('%w', trips.starttime) IN (0, 6) -- Sunday or Saturday\n"
     ]
    }
   ],
   "source": [
    "hint = ''\n",
    "for error in query_job.errors:\n",
    "    # detect error message\n",
    "    if 'message' in list(error.keys()):\n",
    "        # detect index of error location\n",
    "        if error['message'].rindex('[') and error['message'].rindex(']'):\n",
    "            begin = error['message'].rindex('[') + 1\n",
    "            end = error['message'].rindex(']')\n",
    "            # verify that it looks like an error location:\n",
    "            if end > begin and error['message'][begin:end].index(':'):\n",
    "                # retrieve the two parts of the error index: query line, query column\n",
    "                query_index = [int(q) for q in error['message'][begin:end].split(':')]\n",
    "                hint += context_query.split('\\n')[query_index[0]-1].strip()\n",
    "                break\n",
    "print(hint)"
   ]
  },
  {
   "cell_type": "markdown",
   "id": "ec8ad302-b8ef-4fd7-b276-14c2cce6490f",
   "metadata": {},
   "source": [
    "#### Fix Query (Try 3)"
   ]
  },
  {
   "cell_type": "code",
   "execution_count": 78,
   "id": "53711eba-7c03-4554-ae40-30b5ab1dfb1a",
   "metadata": {},
   "outputs": [
    {
     "name": "stdout",
     "output_type": "stream",
     "text": [
      "\n",
      "This query:\n",
      "\n",
      "SELECT COUNT(*) AS num_trips\n",
      "FROM `bigquery-public-data.new_york.citibike_trips` AS trips\n",
      "JOIN `bigquery-public-data.new_york.citibike_stations` AS stations\n",
      "ON CAST(trips.start_station_id AS STRING) = stations.station_id\n",
      "WHERE \n",
      "    EXTRACT(YEAR FROM trips.starttime) = 2015\n",
      "    AND strftime('%w', trips.starttime) IN (0, 6) -- Sunday or Saturday\n",
      "    AND strftime('%H', trips.starttime) BETWEEN '12' AND '17' -- 12:00 PM - 5:00 PM\n",
      "    AND trips.usertype = 'Subscriber'\n",
      "    AND EXTRACT(YEAR FROM trips.starttime) - trips.birth_year > 60;\n",
      "\n",
      "\n",
      "Returns these errors:\n",
      "[{'reason': 'invalidQuery', 'location': 'query', 'message': 'Function not found: strftime at [8:9]'}]\n",
      "\n",
      "Hint, the error appears to be in this line of the query:\n",
      "AND strftime('%w', trips.starttime) IN (0, 6) -- Sunday or Saturday\n",
      "\n"
     ]
    }
   ],
   "source": [
    "fix_prompt = f\"\"\"\n",
    "This query:\n",
    "{context_query}\n",
    "\n",
    "Returns these errors:\n",
    "{query_job.errors}\n",
    "\"\"\"\n",
    "\n",
    "if hint != '':\n",
    "    fix_prompt += f\"\"\"\n",
    "Hint, the error appears to be in this line of the query:\n",
    "{hint}\n",
    "\"\"\"\n",
    "print(fix_prompt)"
   ]
  },
  {
   "cell_type": "code",
   "execution_count": 79,
   "id": "eb16075f-75dc-4c0f-bf0d-7ed3fdc81551",
   "metadata": {},
   "outputs": [],
   "source": [
    "response = codechat.send_message(fix_prompt)"
   ]
  },
  {
   "cell_type": "code",
   "execution_count": 80,
   "id": "d02e1562-acf1-4ba6-b4c0-ab4711f6d7fc",
   "metadata": {},
   "outputs": [
    {
     "data": {
      "text/plain": [
       " The `strftime` function is not supported in BigQuery Standard SQL. Instead, you can use the `WEEKDAY` function to extract the day of the week from the `starttime` column. The corrected query is:\n",
       "\n",
       "```sql\n",
       "SELECT COUNT(*) AS num_trips\n",
       "FROM `bigquery-public-data.new_york.citibike_trips` AS trips\n",
       "JOIN `bigquery-public-data.new_york.citibike_stations` AS stations\n",
       "ON CAST(trips.start_station_id AS STRING) = stations.station_id\n",
       "WHERE \n",
       "    EXTRACT(YEAR FROM trips.starttime) = 2015\n",
       "    AND WEEKDAY(trips.starttime) IN (0, 6) -- Sunday or Saturday\n",
       "    AND strftime('%H', trips.starttime) BETWEEN '12' AND '17' -- 12:00 PM - 5:00 PM\n",
       "    AND trips.usertype = 'Subscriber'\n",
       "    AND EXTRACT(YEAR FROM trips.starttime) - trips.birth_year > 60;\n",
       "```"
      ]
     },
     "execution_count": 80,
     "metadata": {},
     "output_type": "execute_result"
    }
   ],
   "source": [
    "response"
   ]
  },
  {
   "cell_type": "code",
   "execution_count": 81,
   "id": "c77a159c-1269-4eba-a6d1-404227b1654b",
   "metadata": {},
   "outputs": [],
   "source": [
    "context_query = codechat.send_message(f'Respond with only the corrected query as a markdown code block.')"
   ]
  },
  {
   "cell_type": "code",
   "execution_count": 82,
   "id": "dd122588-b879-446e-905c-5af984c12a15",
   "metadata": {},
   "outputs": [
    {
     "data": {
      "text/plain": [
       " ```sql\n",
       "SELECT COUNT(*) AS num_trips\n",
       "FROM `bigquery-public-data.new_york.citibike_trips` AS trips\n",
       "JOIN `bigquery-public-data.new_york.citibike_stations` AS stations\n",
       "ON CAST(trips.start_station_id AS STRING) = stations.station_id\n",
       "WHERE \n",
       "    EXTRACT(YEAR FROM trips.starttime) = 2015\n",
       "    AND WEEKDAY(trips.starttime) IN (0, 6) -- Sunday or Saturday\n",
       "    AND strftime('%H', trips.starttime) BETWEEN '12' AND '17' -- 12:00 PM - 5:00 PM\n",
       "    AND trips.usertype = 'Subscriber'\n",
       "    AND EXTRACT(YEAR FROM trips.starttime) - trips.birth_year > 60;\n",
       "```"
      ]
     },
     "execution_count": 82,
     "metadata": {},
     "output_type": "execute_result"
    }
   ],
   "source": [
    "context_query"
   ]
  },
  {
   "cell_type": "code",
   "execution_count": 83,
   "id": "7e7b4bc8-37e0-4688-95b6-32e5f78379e7",
   "metadata": {},
   "outputs": [
    {
     "name": "stdout",
     "output_type": "stream",
     "text": [
      "\n",
      "SELECT COUNT(*) AS num_trips\n",
      "FROM `bigquery-public-data.new_york.citibike_trips` AS trips\n",
      "JOIN `bigquery-public-data.new_york.citibike_stations` AS stations\n",
      "ON CAST(trips.start_station_id AS STRING) = stations.station_id\n",
      "WHERE \n",
      "    EXTRACT(YEAR FROM trips.starttime) = 2015\n",
      "    AND WEEKDAY(trips.starttime) IN (0, 6) -- Sunday or Saturday\n",
      "    AND strftime('%H', trips.starttime) BETWEEN '12' AND '17' -- 12:00 PM - 5:00 PM\n",
      "    AND trips.usertype = 'Subscriber'\n",
      "    AND EXTRACT(YEAR FROM trips.starttime) - trips.birth_year > 60;\n",
      "\n"
     ]
    }
   ],
   "source": [
    "if context_query.text.find(\"```\") >= 0:\n",
    "    context_query = response.text.split(\"```\")[1]\n",
    "    if context_query.startswith('sql'): context_query = context_query[3:]\n",
    "    print(context_query)\n",
    "else:\n",
    "    print('no query in response')"
   ]
  },
  {
   "cell_type": "code",
   "execution_count": 84,
   "id": "11d9a09a-11d5-4660-8099-45f53e2c361b",
   "metadata": {},
   "outputs": [],
   "source": [
    "query_job = bq.query(query = context_query)"
   ]
  },
  {
   "cell_type": "code",
   "execution_count": 85,
   "id": "c05979c2-1fde-4179-bc9c-4613008ad87f",
   "metadata": {},
   "outputs": [
    {
     "data": {
      "text/plain": [
       "[{'reason': 'invalidQuery',\n",
       "  'location': 'query',\n",
       "  'message': 'Function not found: WEEKDAY at [8:9]'}]"
      ]
     },
     "execution_count": 85,
     "metadata": {},
     "output_type": "execute_result"
    }
   ],
   "source": [
    "query_job.errors"
   ]
  },
  {
   "cell_type": "code",
   "execution_count": 86,
   "id": "4ab28d61-a848-4c80-b937-348c8cd44de8",
   "metadata": {
    "tags": []
   },
   "outputs": [
    {
     "name": "stdout",
     "output_type": "stream",
     "text": [
      "AND WEEKDAY(trips.starttime) IN (0, 6) -- Sunday or Saturday\n"
     ]
    }
   ],
   "source": [
    "hint = ''\n",
    "for error in query_job.errors:\n",
    "    # detect error message\n",
    "    if 'message' in list(error.keys()):\n",
    "        # detect index of error location\n",
    "        if error['message'].rindex('[') and error['message'].rindex(']'):\n",
    "            begin = error['message'].rindex('[') + 1\n",
    "            end = error['message'].rindex(']')\n",
    "            # verify that it looks like an error location:\n",
    "            if end > begin and error['message'][begin:end].index(':'):\n",
    "                # retrieve the two parts of the error index: query line, query column\n",
    "                query_index = [int(q) for q in error['message'][begin:end].split(':')]\n",
    "                hint += context_query.split('\\n')[query_index[0]-1].strip()\n",
    "                break\n",
    "print(hint)"
   ]
  },
  {
   "cell_type": "markdown",
   "id": "351e54a9-2813-4c4f-be2f-41ca1224cee0",
   "metadata": {},
   "source": [
    "#### Fix Query (Try 4)"
   ]
  },
  {
   "cell_type": "code",
   "execution_count": 87,
   "id": "81eb70d0-6121-4e44-870e-1d38c7218f01",
   "metadata": {},
   "outputs": [
    {
     "name": "stdout",
     "output_type": "stream",
     "text": [
      "\n",
      "This query:\n",
      "\n",
      "SELECT COUNT(*) AS num_trips\n",
      "FROM `bigquery-public-data.new_york.citibike_trips` AS trips\n",
      "JOIN `bigquery-public-data.new_york.citibike_stations` AS stations\n",
      "ON CAST(trips.start_station_id AS STRING) = stations.station_id\n",
      "WHERE \n",
      "    EXTRACT(YEAR FROM trips.starttime) = 2015\n",
      "    AND WEEKDAY(trips.starttime) IN (0, 6) -- Sunday or Saturday\n",
      "    AND strftime('%H', trips.starttime) BETWEEN '12' AND '17' -- 12:00 PM - 5:00 PM\n",
      "    AND trips.usertype = 'Subscriber'\n",
      "    AND EXTRACT(YEAR FROM trips.starttime) - trips.birth_year > 60;\n",
      "\n",
      "\n",
      "Returns these errors:\n",
      "[{'reason': 'invalidQuery', 'location': 'query', 'message': 'Function not found: WEEKDAY at [8:9]'}]\n",
      "\n",
      "Hint, the error appears to be in this line of the query:\n",
      "AND WEEKDAY(trips.starttime) IN (0, 6) -- Sunday or Saturday\n",
      "\n"
     ]
    }
   ],
   "source": [
    "fix_prompt = f\"\"\"\n",
    "This query:\n",
    "{context_query}\n",
    "\n",
    "Returns these errors:\n",
    "{query_job.errors}\n",
    "\"\"\"\n",
    "\n",
    "if hint != '':\n",
    "    fix_prompt += f\"\"\"\n",
    "Hint, the error appears to be in this line of the query:\n",
    "{hint}\n",
    "\"\"\"\n",
    "print(fix_prompt)"
   ]
  },
  {
   "cell_type": "code",
   "execution_count": 88,
   "id": "5b5d23e9-99ff-4026-9297-9298a96b886f",
   "metadata": {},
   "outputs": [],
   "source": [
    "response = codechat.send_message(fix_prompt)"
   ]
  },
  {
   "cell_type": "code",
   "execution_count": 89,
   "id": "8b35492e-f734-4fad-814c-6c7f37b51513",
   "metadata": {},
   "outputs": [
    {
     "data": {
      "text/plain": [
       " The `WEEKDAY` function is not supported in BigQuery Standard SQL. Instead, you can use the `DAYOFWEEK` function to extract the day of the week from the `starttime` column. The corrected query is:\n",
       "\n",
       "```sql\n",
       "SELECT COUNT(*) AS num_trips\n",
       "FROM `bigquery-public-data.new_york.citibike_trips` AS trips\n",
       "JOIN `bigquery-public-data.new_york.citibike_stations` AS stations\n",
       "ON CAST(trips.start_station_id AS STRING) = stations.station_id\n",
       "WHERE \n",
       "    EXTRACT(YEAR FROM trips.starttime) = 2015\n",
       "    AND DAYOFWEEK(trips.starttime) IN (0, 6) -- Sunday or Saturday\n",
       "    AND strftime('%H', trips.starttime) BETWEEN '12' AND '17' -- 12:00 PM - 5:00 PM\n",
       "    AND trips.usertype = 'Subscriber'\n",
       "    AND EXTRACT(YEAR FROM trips.starttime) - trips.birth_year > 60;\n",
       "```"
      ]
     },
     "execution_count": 89,
     "metadata": {},
     "output_type": "execute_result"
    }
   ],
   "source": [
    "response"
   ]
  },
  {
   "cell_type": "code",
   "execution_count": 90,
   "id": "b1189dd4-37ef-405e-a53f-69fba8c7aae1",
   "metadata": {},
   "outputs": [],
   "source": [
    "context_query = codechat.send_message(f'Respond with only the corrected query as a markdown code block.')"
   ]
  },
  {
   "cell_type": "code",
   "execution_count": 91,
   "id": "45475b32-3fc5-4d9c-bdc6-227dc7860fa0",
   "metadata": {},
   "outputs": [
    {
     "data": {
      "text/plain": [
       " ```sql\n",
       "SELECT COUNT(*) AS num_trips\n",
       "FROM `bigquery-public-data.new_york.citibike_trips` AS trips\n",
       "JOIN `bigquery-public-data.new_york.citibike_stations` AS stations\n",
       "ON CAST(trips.start_station_id AS STRING) = stations.station_id\n",
       "WHERE \n",
       "    EXTRACT(YEAR FROM trips.starttime) = 2015\n",
       "    AND DAYOFWEEK(trips.starttime) IN (0, 6) -- Sunday or Saturday\n",
       "    AND strftime('%H', trips.starttime) BETWEEN '12' AND '17' -- 12:00 PM - 5:00 PM\n",
       "    AND trips.usertype = 'Subscriber'\n",
       "    AND EXTRACT(YEAR FROM trips.starttime) - trips.birth_year > 60;\n",
       "```"
      ]
     },
     "execution_count": 91,
     "metadata": {},
     "output_type": "execute_result"
    }
   ],
   "source": [
    "context_query"
   ]
  },
  {
   "cell_type": "code",
   "execution_count": 92,
   "id": "d83eb97e-3c42-4fe2-9dab-56793afbde7c",
   "metadata": {},
   "outputs": [
    {
     "name": "stdout",
     "output_type": "stream",
     "text": [
      "\n",
      "SELECT COUNT(*) AS num_trips\n",
      "FROM `bigquery-public-data.new_york.citibike_trips` AS trips\n",
      "JOIN `bigquery-public-data.new_york.citibike_stations` AS stations\n",
      "ON CAST(trips.start_station_id AS STRING) = stations.station_id\n",
      "WHERE \n",
      "    EXTRACT(YEAR FROM trips.starttime) = 2015\n",
      "    AND DAYOFWEEK(trips.starttime) IN (0, 6) -- Sunday or Saturday\n",
      "    AND strftime('%H', trips.starttime) BETWEEN '12' AND '17' -- 12:00 PM - 5:00 PM\n",
      "    AND trips.usertype = 'Subscriber'\n",
      "    AND EXTRACT(YEAR FROM trips.starttime) - trips.birth_year > 60;\n",
      "\n"
     ]
    }
   ],
   "source": [
    "if context_query.text.find(\"```\") >= 0:\n",
    "    context_query = response.text.split(\"```\")[1]\n",
    "    if context_query.startswith('sql'): context_query = context_query[3:]\n",
    "    print(context_query)\n",
    "else:\n",
    "    print('no query in response')"
   ]
  },
  {
   "cell_type": "code",
   "execution_count": 93,
   "id": "6e0c3462-a3d4-4d83-8be3-4b074071394a",
   "metadata": {},
   "outputs": [],
   "source": [
    "query_job = bq.query(query = context_query)"
   ]
  },
  {
   "cell_type": "code",
   "execution_count": 94,
   "id": "470aa97b-8977-4771-a4f2-c211f557c3d9",
   "metadata": {},
   "outputs": [
    {
     "data": {
      "text/plain": [
       "[{'reason': 'invalidQuery',\n",
       "  'location': 'query',\n",
       "  'message': 'Function not found: DAYOFWEEK at [8:9]'}]"
      ]
     },
     "execution_count": 94,
     "metadata": {},
     "output_type": "execute_result"
    }
   ],
   "source": [
    "query_job.errors"
   ]
  },
  {
   "cell_type": "code",
   "execution_count": 95,
   "id": "0299afaf-bf30-43aa-ba62-0319887b1eb6",
   "metadata": {
    "tags": []
   },
   "outputs": [
    {
     "name": "stdout",
     "output_type": "stream",
     "text": [
      "AND DAYOFWEEK(trips.starttime) IN (0, 6) -- Sunday or Saturday\n"
     ]
    }
   ],
   "source": [
    "hint = ''\n",
    "for error in query_job.errors:\n",
    "    # detect error message\n",
    "    if 'message' in list(error.keys()):\n",
    "        # detect index of error location\n",
    "        if error['message'].rindex('[') and error['message'].rindex(']'):\n",
    "            begin = error['message'].rindex('[') + 1\n",
    "            end = error['message'].rindex(']')\n",
    "            # verify that it looks like an error location:\n",
    "            if end > begin and error['message'][begin:end].index(':'):\n",
    "                # retrieve the two parts of the error index: query line, query column\n",
    "                query_index = [int(q) for q in error['message'][begin:end].split(':')]\n",
    "                hint += context_query.split('\\n')[query_index[0]-1].strip()\n",
    "                break\n",
    "print(hint)"
   ]
  },
  {
   "cell_type": "markdown",
   "id": "068e8fcd-e1ec-4858-b6f9-51e846d969fd",
   "metadata": {},
   "source": [
    "#### Fix Query (Try 5)"
   ]
  },
  {
   "cell_type": "code",
   "execution_count": 96,
   "id": "cc04e411-7e43-4102-8b53-3beb8f593a8e",
   "metadata": {},
   "outputs": [
    {
     "name": "stdout",
     "output_type": "stream",
     "text": [
      "\n",
      "This query:\n",
      "\n",
      "SELECT COUNT(*) AS num_trips\n",
      "FROM `bigquery-public-data.new_york.citibike_trips` AS trips\n",
      "JOIN `bigquery-public-data.new_york.citibike_stations` AS stations\n",
      "ON CAST(trips.start_station_id AS STRING) = stations.station_id\n",
      "WHERE \n",
      "    EXTRACT(YEAR FROM trips.starttime) = 2015\n",
      "    AND DAYOFWEEK(trips.starttime) IN (0, 6) -- Sunday or Saturday\n",
      "    AND strftime('%H', trips.starttime) BETWEEN '12' AND '17' -- 12:00 PM - 5:00 PM\n",
      "    AND trips.usertype = 'Subscriber'\n",
      "    AND EXTRACT(YEAR FROM trips.starttime) - trips.birth_year > 60;\n",
      "\n",
      "\n",
      "Returns these errors:\n",
      "[{'reason': 'invalidQuery', 'location': 'query', 'message': 'Function not found: DAYOFWEEK at [8:9]'}]\n",
      "\n",
      "Hint, the error appears to be in this line of the query:\n",
      "AND DAYOFWEEK(trips.starttime) IN (0, 6) -- Sunday or Saturday\n",
      "\n"
     ]
    }
   ],
   "source": [
    "fix_prompt = f\"\"\"\n",
    "This query:\n",
    "{context_query}\n",
    "\n",
    "Returns these errors:\n",
    "{query_job.errors}\n",
    "\"\"\"\n",
    "\n",
    "if hint != '':\n",
    "    fix_prompt += f\"\"\"\n",
    "Hint, the error appears to be in this line of the query:\n",
    "{hint}\n",
    "\"\"\"\n",
    "print(fix_prompt)"
   ]
  },
  {
   "cell_type": "code",
   "execution_count": 97,
   "id": "f959e2cb-c652-469a-9b62-1c64f20205a0",
   "metadata": {},
   "outputs": [],
   "source": [
    "response = codechat.send_message(fix_prompt)"
   ]
  },
  {
   "cell_type": "code",
   "execution_count": 98,
   "id": "8858bc72-21f2-4d00-b149-7548077eb3d4",
   "metadata": {},
   "outputs": [
    {
     "data": {
      "text/plain": [
       " The `DAYOFWEEK` function is not supported in BigQuery Standard SQL. Instead, you can use the `EXTRACT` function to extract the day of the week from the `starttime` column. The corrected query is:\n",
       "\n",
       "```sql\n",
       "SELECT COUNT(*) AS num_trips\n",
       "FROM `bigquery-public-data.new_york.citibike_trips` AS trips\n",
       "JOIN `bigquery-public-data.new_york.citibike_stations` AS stations\n",
       "ON CAST(trips.start_station_id AS STRING) = stations.station_id\n",
       "WHERE \n",
       "    EXTRACT(YEAR FROM trips.starttime) = 2015\n",
       "    AND EXTRACT(DAYOFWEEK FROM trips.starttime) IN (0, 6) -- Sunday or Saturday\n",
       "    AND strftime('%H', trips.starttime) BETWEEN '12' AND '17' -- 12:00 PM - 5:00 PM\n",
       "    AND trips.usertype = 'Subscriber'\n",
       "    AND EXTRACT(YEAR FROM trips.starttime) - trips.birth_year > 60;\n",
       "```"
      ]
     },
     "execution_count": 98,
     "metadata": {},
     "output_type": "execute_result"
    }
   ],
   "source": [
    "response"
   ]
  },
  {
   "cell_type": "code",
   "execution_count": 99,
   "id": "44b34d43-d669-4946-b174-7504e2b3c934",
   "metadata": {},
   "outputs": [],
   "source": [
    "context_query = codechat.send_message(f'Respond with only the corrected query as a markdown code block.')"
   ]
  },
  {
   "cell_type": "code",
   "execution_count": 100,
   "id": "c4ccca44-674a-4f5b-bed5-555238e0e245",
   "metadata": {},
   "outputs": [
    {
     "data": {
      "text/plain": [
       " ```sql\n",
       "SELECT COUNT(*) AS num_trips\n",
       "FROM `bigquery-public-data.new_york.citibike_trips` AS trips\n",
       "JOIN `bigquery-public-data.new_york.citibike_stations` AS stations\n",
       "ON CAST(trips.start_station_id AS STRING) = stations.station_id\n",
       "WHERE \n",
       "    EXTRACT(YEAR FROM trips.starttime) = 2015\n",
       "    AND EXTRACT(DAYOFWEEK FROM trips.starttime) IN (0, 6) -- Sunday or Saturday\n",
       "    AND strftime('%H', trips.starttime) BETWEEN '12' AND '17' -- 12:00 PM - 5:00 PM\n",
       "    AND trips.usertype = 'Subscriber'\n",
       "    AND EXTRACT(YEAR FROM trips.starttime) - trips.birth_year > 60;\n",
       "```"
      ]
     },
     "execution_count": 100,
     "metadata": {},
     "output_type": "execute_result"
    }
   ],
   "source": [
    "context_query"
   ]
  },
  {
   "cell_type": "code",
   "execution_count": 101,
   "id": "5a4ee161-e346-4632-a38e-0da73576f7f5",
   "metadata": {},
   "outputs": [
    {
     "name": "stdout",
     "output_type": "stream",
     "text": [
      "\n",
      "SELECT COUNT(*) AS num_trips\n",
      "FROM `bigquery-public-data.new_york.citibike_trips` AS trips\n",
      "JOIN `bigquery-public-data.new_york.citibike_stations` AS stations\n",
      "ON CAST(trips.start_station_id AS STRING) = stations.station_id\n",
      "WHERE \n",
      "    EXTRACT(YEAR FROM trips.starttime) = 2015\n",
      "    AND EXTRACT(DAYOFWEEK FROM trips.starttime) IN (0, 6) -- Sunday or Saturday\n",
      "    AND strftime('%H', trips.starttime) BETWEEN '12' AND '17' -- 12:00 PM - 5:00 PM\n",
      "    AND trips.usertype = 'Subscriber'\n",
      "    AND EXTRACT(YEAR FROM trips.starttime) - trips.birth_year > 60;\n",
      "\n"
     ]
    }
   ],
   "source": [
    "if context_query.text.find(\"```\") >= 0:\n",
    "    context_query = response.text.split(\"```\")[1]\n",
    "    if context_query.startswith('sql'): context_query = context_query[3:]\n",
    "    print(context_query)\n",
    "else:\n",
    "    print('no query in response')"
   ]
  },
  {
   "cell_type": "code",
   "execution_count": 102,
   "id": "99ba9980-2883-4bfe-9acf-3167150482ff",
   "metadata": {},
   "outputs": [],
   "source": [
    "query_job = bq.query(query = context_query)"
   ]
  },
  {
   "cell_type": "code",
   "execution_count": 103,
   "id": "e9c6d65a-621a-429b-b276-49af7f356fef",
   "metadata": {},
   "outputs": [
    {
     "data": {
      "text/plain": [
       "[{'reason': 'invalidQuery',\n",
       "  'location': 'query',\n",
       "  'message': 'Function not found: strftime at [9:9]'}]"
      ]
     },
     "execution_count": 103,
     "metadata": {},
     "output_type": "execute_result"
    }
   ],
   "source": [
    "query_job.errors"
   ]
  },
  {
   "cell_type": "code",
   "execution_count": 104,
   "id": "d5df8fc6-6805-425d-be9c-8a4823bed2e1",
   "metadata": {
    "tags": []
   },
   "outputs": [
    {
     "name": "stdout",
     "output_type": "stream",
     "text": [
      "AND strftime('%H', trips.starttime) BETWEEN '12' AND '17' -- 12:00 PM - 5:00 PM\n"
     ]
    }
   ],
   "source": [
    "hint = ''\n",
    "for error in query_job.errors:\n",
    "    # detect error message\n",
    "    if 'message' in list(error.keys()):\n",
    "        # detect index of error location\n",
    "        if error['message'].rindex('[') and error['message'].rindex(']'):\n",
    "            begin = error['message'].rindex('[') + 1\n",
    "            end = error['message'].rindex(']')\n",
    "            # verify that it looks like an error location:\n",
    "            if end > begin and error['message'][begin:end].index(':'):\n",
    "                # retrieve the two parts of the error index: query line, query column\n",
    "                query_index = [int(q) for q in error['message'][begin:end].split(':')]\n",
    "                hint += context_query.split('\\n')[query_index[0]-1].strip()\n",
    "                break\n",
    "print(hint)"
   ]
  },
  {
   "cell_type": "markdown",
   "id": "a020d715-f42e-449f-9982-e055a86b96a8",
   "metadata": {},
   "source": [
    "#### Fix Query (Try 6)"
   ]
  },
  {
   "cell_type": "code",
   "execution_count": 105,
   "id": "dbcdda9c-be14-42cd-a9d7-c3430606e2db",
   "metadata": {},
   "outputs": [
    {
     "name": "stdout",
     "output_type": "stream",
     "text": [
      "\n",
      "This query:\n",
      "\n",
      "SELECT COUNT(*) AS num_trips\n",
      "FROM `bigquery-public-data.new_york.citibike_trips` AS trips\n",
      "JOIN `bigquery-public-data.new_york.citibike_stations` AS stations\n",
      "ON CAST(trips.start_station_id AS STRING) = stations.station_id\n",
      "WHERE \n",
      "    EXTRACT(YEAR FROM trips.starttime) = 2015\n",
      "    AND EXTRACT(DAYOFWEEK FROM trips.starttime) IN (0, 6) -- Sunday or Saturday\n",
      "    AND strftime('%H', trips.starttime) BETWEEN '12' AND '17' -- 12:00 PM - 5:00 PM\n",
      "    AND trips.usertype = 'Subscriber'\n",
      "    AND EXTRACT(YEAR FROM trips.starttime) - trips.birth_year > 60;\n",
      "\n",
      "\n",
      "Returns these errors:\n",
      "[{'reason': 'invalidQuery', 'location': 'query', 'message': 'Function not found: strftime at [9:9]'}]\n",
      "\n",
      "Hint, the error appears to be in this line of the query:\n",
      "AND strftime('%H', trips.starttime) BETWEEN '12' AND '17' -- 12:00 PM - 5:00 PM\n",
      "\n"
     ]
    }
   ],
   "source": [
    "fix_prompt = f\"\"\"\n",
    "This query:\n",
    "{context_query}\n",
    "\n",
    "Returns these errors:\n",
    "{query_job.errors}\n",
    "\"\"\"\n",
    "\n",
    "if hint != '':\n",
    "    fix_prompt += f\"\"\"\n",
    "Hint, the error appears to be in this line of the query:\n",
    "{hint}\n",
    "\"\"\"\n",
    "print(fix_prompt)"
   ]
  },
  {
   "cell_type": "code",
   "execution_count": 106,
   "id": "844f7f27-e77e-4972-be2a-0dfd50b0c5f3",
   "metadata": {},
   "outputs": [],
   "source": [
    "response = codechat.send_message(fix_prompt)"
   ]
  },
  {
   "cell_type": "code",
   "execution_count": 107,
   "id": "8bd1d0c9-3a67-4c0e-84f2-58d3e4e31e24",
   "metadata": {},
   "outputs": [
    {
     "data": {
      "text/plain": [
       " The `strftime` function is not supported in BigQuery Standard SQL. Instead, you can use the `FORMAT_TIMESTAMP` function to extract the hour from the `starttime` column. The corrected query is:\n",
       "\n",
       "```sql\n",
       "SELECT COUNT(*) AS num_trips\n",
       "FROM `bigquery-public-data.new_york.citibike_trips` AS trips\n",
       "JOIN `bigquery-public-data.new_york.citibike_stations` AS stations\n",
       "ON CAST(trips.start_station_id AS STRING) = stations.station_id\n",
       "WHERE \n",
       "    EXTRACT(YEAR FROM trips.starttime) = 2015\n",
       "    AND EXTRACT(DAYOFWEEK FROM trips.starttime) IN (0, 6) -- Sunday or Saturday\n",
       "    AND FORMAT_TIMESTAMP('%H', trips.starttime) BETWEEN '12' AND '17' -- 12:00 PM - 5:00 PM\n",
       "    AND trips.usertype = 'Subscriber'\n",
       "    AND EXTRACT(YEAR FROM trips.starttime) - trips.birth_year > 60;\n",
       "```"
      ]
     },
     "execution_count": 107,
     "metadata": {},
     "output_type": "execute_result"
    }
   ],
   "source": [
    "response"
   ]
  },
  {
   "cell_type": "code",
   "execution_count": 108,
   "id": "055f80c7-c09b-4277-b24e-48fbbbeaa8ae",
   "metadata": {},
   "outputs": [],
   "source": [
    "context_query = codechat.send_message(f'Respond with only the corrected query as a markdown code block.')"
   ]
  },
  {
   "cell_type": "code",
   "execution_count": 109,
   "id": "f057c3bf-afe7-49cf-99c5-93d002fca69c",
   "metadata": {},
   "outputs": [
    {
     "data": {
      "text/plain": [
       " ```sql\n",
       "SELECT COUNT(*) AS num_trips\n",
       "FROM `bigquery-public-data.new_york.citibike_trips` AS trips\n",
       "JOIN `bigquery-public-data.new_york.citibike_stations` AS stations\n",
       "ON CAST(trips.start_station_id AS STRING) = stations.station_id\n",
       "WHERE \n",
       "    EXTRACT(YEAR FROM trips.starttime) = 2015\n",
       "    AND EXTRACT(DAYOFWEEK FROM trips.starttime) IN (0, 6) -- Sunday or Saturday\n",
       "    AND FORMAT_TIMESTAMP('%H', trips.starttime) BETWEEN '12' AND '17' -- 12:00 PM - 5:00 PM\n",
       "    AND trips.usertype = 'Subscriber'\n",
       "    AND EXTRACT(YEAR FROM trips.starttime) - trips.birth_year > 60;\n",
       "```"
      ]
     },
     "execution_count": 109,
     "metadata": {},
     "output_type": "execute_result"
    }
   ],
   "source": [
    "context_query"
   ]
  },
  {
   "cell_type": "code",
   "execution_count": 110,
   "id": "1d138682-9bfb-4a13-9179-6f60ec030173",
   "metadata": {},
   "outputs": [
    {
     "name": "stdout",
     "output_type": "stream",
     "text": [
      "\n",
      "SELECT COUNT(*) AS num_trips\n",
      "FROM `bigquery-public-data.new_york.citibike_trips` AS trips\n",
      "JOIN `bigquery-public-data.new_york.citibike_stations` AS stations\n",
      "ON CAST(trips.start_station_id AS STRING) = stations.station_id\n",
      "WHERE \n",
      "    EXTRACT(YEAR FROM trips.starttime) = 2015\n",
      "    AND EXTRACT(DAYOFWEEK FROM trips.starttime) IN (0, 6) -- Sunday or Saturday\n",
      "    AND FORMAT_TIMESTAMP('%H', trips.starttime) BETWEEN '12' AND '17' -- 12:00 PM - 5:00 PM\n",
      "    AND trips.usertype = 'Subscriber'\n",
      "    AND EXTRACT(YEAR FROM trips.starttime) - trips.birth_year > 60;\n",
      "\n"
     ]
    }
   ],
   "source": [
    "if context_query.text.find(\"```\") >= 0:\n",
    "    context_query = response.text.split(\"```\")[1]\n",
    "    if context_query.startswith('sql'): context_query = context_query[3:]\n",
    "    print(context_query)\n",
    "else:\n",
    "    print('no query in response')"
   ]
  },
  {
   "cell_type": "code",
   "execution_count": 111,
   "id": "edafcca9-df30-4feb-84f0-10d37f1f4704",
   "metadata": {},
   "outputs": [],
   "source": [
    "query_job = bq.query(query = context_query)"
   ]
  },
  {
   "cell_type": "code",
   "execution_count": 112,
   "id": "e4bdf60d-c203-4fbd-97cc-842161c99440",
   "metadata": {
    "tags": []
   },
   "outputs": [
    {
     "name": "stdout",
     "output_type": "stream",
     "text": [
      "   num_trips\n",
      "0      18968\n"
     ]
    }
   ],
   "source": [
    "if query_job.errors:\n",
    "    hint = ''\n",
    "    for error in query_job.errors:\n",
    "        # detect error message\n",
    "        if 'message' in list(error.keys()):\n",
    "            # detect index of error location\n",
    "            if error['message'].rindex('[') and error['message'].rindex(']'):\n",
    "                begin = error['message'].rindex('[') + 1\n",
    "                end = error['message'].rindex(']')\n",
    "                # verify that it looks like an error location:\n",
    "                if end > begin and error['message'][begin:end].index(':'):\n",
    "                    # retrieve the two parts of the error index: query line, query column\n",
    "                    query_index = [int(q) for q in error['message'][begin:end].split(':')]\n",
    "                    hint += context_query.split('\\n')[query_index[0]-1].strip()\n",
    "                    break\n",
    "    print(hint)\n",
    "else:\n",
    "    response = query_job.to_dataframe()\n",
    "    print(response)"
   ]
  },
  {
   "cell_type": "markdown",
   "id": "fb4c14f3-7dfe-4581-a130-ceb76a2e0cae",
   "metadata": {},
   "source": [
    "#### Generate Response"
   ]
  },
  {
   "cell_type": "code",
   "execution_count": 113,
   "id": "2260b41f-75b4-4378-a075-322c9485acc1",
   "metadata": {
    "tags": []
   },
   "outputs": [
    {
     "name": "stdout",
     "output_type": "stream",
     "text": [
      "18968\n"
     ]
    }
   ],
   "source": [
    "question_prompt = f\"\"\"\n",
    "Answer the following question.  Note that the context is a tabular result returned from a BigQuery query specific to this question.  Do not repeat the question or the context when responding.\n",
    "{question}\n",
    "\n",
    "Use this data:\n",
    "{response.to_markdown(index = False)}\n",
    "\"\"\"\n",
    "\n",
    "question_response = gemini_model.generate_content(question_prompt)\n",
    "\n",
    "print(question_response.text)"
   ]
  },
  {
   "cell_type": "markdown",
   "id": "a003c18f-18e2-4788-8e02-2005b6ea406b",
   "metadata": {},
   "source": [
    "## Put It All Together\n",
    "\n",
    "Build functions that generate the starting query, initialize a chat debug session, and manage the error detection and fixing calls to the chat debug."
   ]
  },
  {
   "cell_type": "markdown",
   "id": "26273c9c-4f62-4006-b21f-6654a2c489bd",
   "metadata": {},
   "source": [
    "### Functions To Answer The Question Using Iteration To Fix Context Query"
   ]
  },
  {
   "cell_type": "code",
   "execution_count": 125,
   "id": "e74c4816-7527-4c0b-872e-32cef77a88b1",
   "metadata": {},
   "outputs": [],
   "source": [
    "def initial_query(question, schema_columns):\n",
    "    \n",
    "    # code generation model\n",
    "    codegen_model = vertexai.language_models.CodeGenerationModel.from_pretrained('code-bison@002')\n",
    "    \n",
    "    # initial request for query:\n",
    "    context_prompt = f\"\"\"\n",
    "context (BigQuery Table Schema):\n",
    "{schema_columns.to_markdown(index = False)}\n",
    "\n",
    "Write a query for Google BigQuery using fully qualified table names to answer this question:\n",
    "{question}\n",
    "\"\"\"\n",
    "\n",
    "    context_query = codegen_model.predict(context_prompt, max_output_tokens = 256)\n",
    "    \n",
    "    # extract query from response\n",
    "    if context_query.text.find(\"```\") >= 0:\n",
    "        context_query = context_query.text.split(\"```\")[1]\n",
    "        if context_query.startswith('sql'):\n",
    "            context_query = context_query[3:]\n",
    "        print('Initial Query:\\n', context_query)\n",
    "    else:\n",
    "        print('No query provided (first try) - unforseen error, printing out response to help with editing this funcntion:\\n', query_response.text)\n",
    "    \n",
    "    return context_query    "
   ]
  },
  {
   "cell_type": "code",
   "execution_count": 126,
   "id": "dd3317ce-9c1e-40cf-a8a0-4ef60cb9ab9e",
   "metadata": {},
   "outputs": [],
   "source": [
    "def codechat_start(question, query, schema_columns):\n",
    "\n",
    "    # code chat model\n",
    "    codechat_model = vertexai.language_models.CodeChatModel.from_pretrained('codechat-bison@002')\n",
    "    \n",
    "    # start a code chat session and give the schema for columns as the starting context:\n",
    "    codechat = codechat_model.start_chat(\n",
    "        context = f\"\"\"\n",
    "The BigQuery Environment has tables defined by the follow schema:\n",
    "{schema_columns.to_markdown(index = False)}\n",
    "\n",
    "This session is trying to troubleshoot a Google BigQuery SQL query that is being writen to answer the question:\n",
    "{question}\n",
    "\n",
    "BigQuery SQL query that needs to be fixed:\n",
    "{query}\n",
    "\n",
    "Instructions:\n",
    "As the user provides versions of the query and the errors returned by BigQuery, offer suggestions that fix the errors but it is important that the query still answer the original question.\n",
    "\"\"\"\n",
    "    )\n",
    "    \n",
    "    return codechat"
   ]
  },
  {
   "cell_type": "code",
   "execution_count": 127,
   "id": "0b156579-6921-46ad-9120-99bc70cc5942",
   "metadata": {},
   "outputs": [],
   "source": [
    "def fix_query(query, max_fixes):\n",
    "    \n",
    "    # iteratively run query, and fix it using codechat until success (or max_fixes reached):\n",
    "    fix_tries = 0\n",
    "    answer = False\n",
    "    while fix_tries < max_fixes:\n",
    "        if not query: \n",
    "            return\n",
    "        # run query:\n",
    "        query_job = bq.query(query = query)\n",
    "        # if errors, then generate repair query:\n",
    "        if query_job.errors:\n",
    "            fix_tries += 1\n",
    "            \n",
    "            if fix_tries == 1:\n",
    "                codechat = codechat_start(question, query, schema_columns)\n",
    "            \n",
    "            # construct hint from error\n",
    "            hint = ''\n",
    "            for error in query_job.errors:\n",
    "                # detect error message\n",
    "                if 'message' in list(error.keys()):\n",
    "                    # detect index of error location\n",
    "                    if error['message'].rindex('[') and error['message'].rindex(']'):\n",
    "                        begin = error['message'].rindex('[') + 1\n",
    "                        end = error['message'].rindex(']')\n",
    "                        # verify that it looks like an error location:\n",
    "                        if end > begin and error['message'][begin:end].index(':'):\n",
    "                            # retrieve the two parts of the error index: query line, query column\n",
    "                            query_index = [int(q) for q in error['message'][begin:end].split(':')]\n",
    "                            hint += query.split('\\n')[query_index[0]-1].strip()\n",
    "                            break\n",
    "            \n",
    "            # construct prompt to request a fix:\n",
    "            fix_prompt = f\"\"\"This query:\\n{query}\\n\\nReturns these errors:\\n{query_job.errors}\"\"\"\n",
    "\n",
    "            if hint != '':\n",
    "                fix_prompt += f\"\"\"\\n\\nHint, the error appears to be in this line of the query:\\n{hint}\"\"\"            \n",
    "            \n",
    "            query_response = codechat.send_message(fix_prompt)\n",
    "            query_response = codechat.send_message('Respond with only the corrected query that still answers the question as a markdown code block.')\n",
    "            if query_response.text.find(\"```\") >= 0:\n",
    "                query = query_response.text.split(\"```\")[1]\n",
    "                if query.startswith('sql'):\n",
    "                    query = query[4:]\n",
    "                print(f'Fix #{fix_tries}:\\n', query)\n",
    "            # response did not have a query????:\n",
    "            else:\n",
    "                query = ''\n",
    "                print('No query in response...')\n",
    "\n",
    "        # no error, break while loop\n",
    "        else:\n",
    "            break\n",
    "    \n",
    "    return query, query_job, fix_tries, codechat"
   ]
  },
  {
   "cell_type": "code",
   "execution_count": 128,
   "id": "044962e0-2e7d-4a81-ada5-f170d3bb09a5",
   "metadata": {},
   "outputs": [],
   "source": [
    "def answer_question(question, query_job):\n",
    "\n",
    "    # text generation model\n",
    "    gemini_model = vertexai.preview.generative_models.GenerativeModel(\"gemini-pro\")\n",
    "\n",
    "    # answer question\n",
    "    result = query_job.to_dataframe()\n",
    "    question_prompt = f\"\"\"\n",
    "Answer the following question.  Note that the context is a tabular result returned from a BigQuery query specific to this question.  Do not repeat the question or the context when responding.\n",
    "{question}\n",
    "\n",
    "Use this data:\n",
    "{result.to_markdown(index = False)}\n",
    "    \"\"\"\n",
    "\n",
    "    question_response = gemini_model.generate_content(question_prompt)\n",
    "    \n",
    "    return question_response.text"
   ]
  },
  {
   "cell_type": "code",
   "execution_count": 129,
   "id": "5e6272eb-9ceb-4511-b90f-00dcb4dd381e",
   "metadata": {},
   "outputs": [],
   "source": [
    "def BQ_QA(question, max_fixes = 10, schema_columns = schema_columns):\n",
    "    \n",
    "    # generate query\n",
    "    query = initial_query(question, schema_columns)\n",
    "    \n",
    "    # run query:\n",
    "    query_job = bq.query(query = query)\n",
    "    # if errors, then generate repair query:\n",
    "    if query_job.errors:\n",
    "        print('found errors')\n",
    "        query, query_job, fix_tries, codechat = fix_query(query, max_fixes)\n",
    "    \n",
    "    # respond with outcome:\n",
    "    if query_job.errors:\n",
    "        print(f'No answer generated after {fix_tries} tries.')\n",
    "        return codechat\n",
    "    else:\n",
    "        question_response = answer_question(question, query_job)\n",
    "        print(question_response)\n",
    "        try:\n",
    "            return codechat\n",
    "        except:\n",
    "            return None"
   ]
  },
  {
   "cell_type": "markdown",
   "id": "1a6ab112-9f68-4c0b-b127-9a3cc15e7cb2",
   "metadata": {},
   "source": [
    "### Answer The Same Question That Had Failures:"
   ]
  },
  {
   "cell_type": "code",
   "execution_count": 130,
   "id": "cfab1694-e72e-45c8-bf82-f88576d31805",
   "metadata": {},
   "outputs": [
    {
     "data": {
      "text/plain": [
       "'How many trips were started on a weekend, in the afternoon, during 2015, by a regular rider, who is over the age of 60?'"
      ]
     },
     "execution_count": 130,
     "metadata": {},
     "output_type": "execute_result"
    }
   ],
   "source": [
    "question"
   ]
  },
  {
   "cell_type": "code",
   "execution_count": 131,
   "id": "7feaea48-6f32-44c0-9170-90ac62f28866",
   "metadata": {},
   "outputs": [
    {
     "name": "stdout",
     "output_type": "stream",
     "text": [
      "Initial Query:\n",
      " \n",
      "SELECT COUNT(*) AS num_trips\n",
      "FROM `bigquery-public-data.new_york.citibike_trips` AS trips\n",
      "JOIN `bigquery-public-data.new_york.citibike_stations` AS stations\n",
      "ON trips.start_station_id = stations.station_id\n",
      "WHERE \n",
      "    CAST(strftime('%Y', trips.starttime) AS INT64) = 2015\n",
      "    AND strftime('%w', trips.starttime) IN (0, 6) -- Sunday or Saturday\n",
      "    AND strftime('%H', trips.starttime) BETWEEN '12' AND '17' -- 12:00 PM - 5:00 PM\n",
      "    AND trips.usertype = 'Subscriber'\n",
      "    AND CAST(strftime('%Y', trips.starttime) AS INT64) - trips.birth_year > 60;\n",
      "\n",
      "found errors\n",
      "Fix #1:\n",
      " SELECT COUNT(*) AS num_trips\n",
      "FROM `bigquery-public-data.new_york.citibike_trips` AS trips\n",
      "JOIN `bigquery-public-data.new_york.citibike_stations` AS stations\n",
      "ON CAST(trips.start_station_id AS STRING) = stations.station_id\n",
      "WHERE \n",
      "    CAST(strftime('%Y', trips.starttime) AS INT64) = 2015\n",
      "    AND strftime('%w', trips.starttime) IN (0, 6) -- Sunday or Saturday\n",
      "    AND strftime('%H', trips.starttime) BETWEEN '12' AND '17' -- 12:00 PM - 5:00 PM\n",
      "    AND trips.usertype = 'Subscriber'\n",
      "    AND CAST(strftime('%Y', trips.starttime) AS INT64) - trips.birth_year > 60;\n",
      "\n",
      "Fix #2:\n",
      " SELECT COUNT(*) AS num_trips\n",
      "FROM `bigquery-public-data.new_york.citibike_trips` AS trips\n",
      "JOIN `bigquery-public-data.new_york.citibike_stations` AS stations\n",
      "ON CAST(trips.start_station_id AS STRING) = stations.station_id\n",
      "WHERE \n",
      "    EXTRACT(YEAR FROM trips.starttime) = 2015\n",
      "    AND strftime('%w', trips.starttime) IN (0, 6) -- Sunday or Saturday\n",
      "    AND strftime('%H', trips.starttime) BETWEEN '12' AND '17' -- 12:00 PM - 5:00 PM\n",
      "    AND trips.usertype = 'Subscriber'\n",
      "    AND EXTRACT(YEAR FROM trips.starttime) - trips.birth_year > 60;\n",
      "\n",
      "Fix #3:\n",
      " SELECT COUNT(*) AS num_trips\n",
      "FROM `bigquery-public-data.new_york.citibike_trips` AS trips\n",
      "JOIN `bigquery-public-data.new_york.citibike_stations` AS stations\n",
      "ON CAST(trips.start_station_id AS STRING) = stations.station_id\n",
      "WHERE \n",
      "    EXTRACT(YEAR FROM trips.starttime) = 2015\n",
      "    AND EXTRACT(DAYOFWEEK FROM trips.starttime) IN (0, 6) -- Sunday or Saturday\n",
      "    AND strftime('%H', trips.starttime) BETWEEN '12' AND '17' -- 12:00 PM - 5:00 PM\n",
      "    AND trips.usertype = 'Subscriber'\n",
      "    AND EXTRACT(YEAR FROM trips.starttime) - trips.birth_year > 60;\n",
      "\n",
      "Fix #4:\n",
      " SELECT COUNT(*) AS num_trips\n",
      "FROM `bigquery-public-data.new_york.citibike_trips` AS trips\n",
      "JOIN `bigquery-public-data.new_york.citibike_stations` AS stations\n",
      "ON CAST(trips.start_station_id AS STRING) = stations.station_id\n",
      "WHERE \n",
      "    EXTRACT(YEAR FROM trips.starttime) = 2015\n",
      "    AND EXTRACT(DAYOFWEEK FROM trips.starttime) IN (0, 6) -- Sunday or Saturday\n",
      "    AND EXTRACT(HOUR FROM trips.starttime) BETWEEN 12 AND 17 -- 12:00 PM - 5:00 PM\n",
      "    AND trips.usertype = 'Subscriber'\n",
      "    AND EXTRACT(YEAR FROM trips.starttime) - trips.birth_year > 60;\n",
      "\n",
      "18968\n"
     ]
    }
   ],
   "source": [
    "session = BQ_QA(question)"
   ]
  },
  {
   "cell_type": "code",
   "execution_count": 132,
   "id": "bfd2455e-1c13-4a50-b074-0facb4121f3b",
   "metadata": {},
   "outputs": [
    {
     "name": "stdout",
     "output_type": "stream",
     "text": [
      "This query:\n",
      "\n",
      "SELECT COUNT(*) AS num_trips\n",
      "FROM `bigquery-public-data.new_york.citibike_trips` AS trips\n",
      "JOIN `bigquery-public-data.new_york.citibike_stations` AS stations\n",
      "ON trips.start_station_id = stations.station_id\n",
      "WHERE \n",
      "    CAST(strftime('%Y', trips.starttime) AS INT64) = 2015\n",
      "    AND strftime('%w', trips.starttime) IN (0, 6) -- Sunday or Saturday\n",
      "    AND strftime('%H', trips.starttime) BETWEEN '12' AND '17' -- 12:00 PM - 5:00 PM\n",
      "    AND trips.usertype = 'Subscriber'\n",
      "    AND CAST(strftime('%Y', trips.starttime) AS INT64) - trips.birth_year > 60;\n",
      "\n",
      "\n",
      "Returns these errors:\n",
      "[{'reason': 'invalidQuery', 'location': 'query', 'message': 'No matching signature for operator = for argument types: INT64, STRING. Supported signature: ANY = ANY at [5:4]'}]\n",
      "\n",
      "Hint, the error appears to be in this line of the query:\n",
      "ON trips.start_station_id = stations.station_id\n",
      " The error message suggests that there is a type mismatch between the `start_station_id` column in the `trips` table and the `station_id` column in the `stations` table. To fix this, you need to ensure that both columns have the same data type.\n",
      "\n",
      "In this case, the `start_station_id` column is an `INT64` data type, while the `station_id` column is a `STRING` data type. To resolve this, you can either cast the `start_station_id` column to a `STRING` data type or cast the `station_id` column to an `INT64` data type.\n",
      "\n",
      "Here's an updated version of your query with the necessary changes:\n",
      "\n",
      "```sql\n",
      "SELECT COUNT(*) AS num_trips\n",
      "FROM `bigquery-public-data.new_york.citibike_trips` AS trips\n",
      "JOIN `bigquery-public-data.new_york.citibike_stations` AS stations\n",
      "ON CAST(trips.start_station_id AS STRING) = stations.station_id\n",
      "WHERE \n",
      "    CAST(strftime('%Y', trips.starttime) AS INT64) = 2015\n",
      "    AND strftime('%w', trips.starttime) IN (0, 6) -- Sunday or Saturday\n",
      "    AND strftime('%H', trips.starttime) BETWEEN '12' AND '17' -- 12:00 PM - 5:00 PM\n",
      "    AND trips.usertype = 'Subscriber'\n",
      "    AND CAST(strftime('%Y', trips.starttime) AS INT64) - trips.birth_year > 60;\n",
      "```\n",
      "\n",
      "This updated query should correctly compare the `start_station_id` and `station_id` columns and return the desired results.\n",
      "Respond with only the corrected query that still answers the question as a markdown code block.\n",
      " ```sql\n",
      "SELECT COUNT(*) AS num_trips\n",
      "FROM `bigquery-public-data.new_york.citibike_trips` AS trips\n",
      "JOIN `bigquery-public-data.new_york.citibike_stations` AS stations\n",
      "ON CAST(trips.start_station_id AS STRING) = stations.station_id\n",
      "WHERE \n",
      "    CAST(strftime('%Y', trips.starttime) AS INT64) = 2015\n",
      "    AND strftime('%w', trips.starttime) IN (0, 6) -- Sunday or Saturday\n",
      "    AND strftime('%H', trips.starttime) BETWEEN '12' AND '17' -- 12:00 PM - 5:00 PM\n",
      "    AND trips.usertype = 'Subscriber'\n",
      "    AND CAST(strftime('%Y', trips.starttime) AS INT64) - trips.birth_year > 60;\n",
      "```\n",
      "This query:\n",
      "SELECT COUNT(*) AS num_trips\n",
      "FROM `bigquery-public-data.new_york.citibike_trips` AS trips\n",
      "JOIN `bigquery-public-data.new_york.citibike_stations` AS stations\n",
      "ON CAST(trips.start_station_id AS STRING) = stations.station_id\n",
      "WHERE \n",
      "    CAST(strftime('%Y', trips.starttime) AS INT64) = 2015\n",
      "    AND strftime('%w', trips.starttime) IN (0, 6) -- Sunday or Saturday\n",
      "    AND strftime('%H', trips.starttime) BETWEEN '12' AND '17' -- 12:00 PM - 5:00 PM\n",
      "    AND trips.usertype = 'Subscriber'\n",
      "    AND CAST(strftime('%Y', trips.starttime) AS INT64) - trips.birth_year > 60;\n",
      "\n",
      "\n",
      "Returns these errors:\n",
      "[{'reason': 'invalidQuery', 'location': 'query', 'message': 'Function not found: strftime at [6:10]'}]\n",
      "\n",
      "Hint, the error appears to be in this line of the query:\n",
      "CAST(strftime('%Y', trips.starttime) AS INT64) = 2015\n",
      " The `strftime` function is not a standard SQL function and is not supported by BigQuery. To extract the year from the `starttime` column, you can use the `EXTRACT` function instead.\n",
      "\n",
      "Here's an updated version of your query with the necessary changes:\n",
      "\n",
      "```sql\n",
      "SELECT COUNT(*) AS num_trips\n",
      "FROM `bigquery-public-data.new_york.citibike_trips` AS trips\n",
      "JOIN `bigquery-public-data.new_york.citibike_stations` AS stations\n",
      "ON CAST(trips.start_station_id AS STRING) = stations.station_id\n",
      "WHERE \n",
      "    EXTRACT(YEAR FROM trips.starttime) = 2015\n",
      "    AND strftime('%w', trips.starttime) IN (0, 6) -- Sunday or Saturday\n",
      "    AND strftime('%H', trips.starttime) BETWEEN '12' AND '17' -- 12:00 PM - 5:00 PM\n",
      "    AND trips.usertype = 'Subscriber'\n",
      "    AND EXTRACT(YEAR FROM trips.starttime) - trips.birth_year > 60;\n",
      "```\n",
      "\n",
      "This updated query should correctly extract the year from the `starttime` column and return the desired results.\n",
      "Respond with only the corrected query that still answers the question as a markdown code block.\n",
      " ```sql\n",
      "SELECT COUNT(*) AS num_trips\n",
      "FROM `bigquery-public-data.new_york.citibike_trips` AS trips\n",
      "JOIN `bigquery-public-data.new_york.citibike_stations` AS stations\n",
      "ON CAST(trips.start_station_id AS STRING) = stations.station_id\n",
      "WHERE \n",
      "    EXTRACT(YEAR FROM trips.starttime) = 2015\n",
      "    AND strftime('%w', trips.starttime) IN (0, 6) -- Sunday or Saturday\n",
      "    AND strftime('%H', trips.starttime) BETWEEN '12' AND '17' -- 12:00 PM - 5:00 PM\n",
      "    AND trips.usertype = 'Subscriber'\n",
      "    AND EXTRACT(YEAR FROM trips.starttime) - trips.birth_year > 60;\n",
      "```\n",
      "This query:\n",
      "SELECT COUNT(*) AS num_trips\n",
      "FROM `bigquery-public-data.new_york.citibike_trips` AS trips\n",
      "JOIN `bigquery-public-data.new_york.citibike_stations` AS stations\n",
      "ON CAST(trips.start_station_id AS STRING) = stations.station_id\n",
      "WHERE \n",
      "    EXTRACT(YEAR FROM trips.starttime) = 2015\n",
      "    AND strftime('%w', trips.starttime) IN (0, 6) -- Sunday or Saturday\n",
      "    AND strftime('%H', trips.starttime) BETWEEN '12' AND '17' -- 12:00 PM - 5:00 PM\n",
      "    AND trips.usertype = 'Subscriber'\n",
      "    AND EXTRACT(YEAR FROM trips.starttime) - trips.birth_year > 60;\n",
      "\n",
      "\n",
      "Returns these errors:\n",
      "[{'reason': 'invalidQuery', 'location': 'query', 'message': 'Function not found: strftime at [7:9]'}]\n",
      "\n",
      "Hint, the error appears to be in this line of the query:\n",
      "AND strftime('%w', trips.starttime) IN (0, 6) -- Sunday or Saturday\n",
      " The `strftime` function is not a standard SQL function and is not supported by BigQuery. To extract the day of the week from the `starttime` column, you can use the `EXTRACT` function instead.\n",
      "\n",
      "Here's an updated version of your query with the necessary changes:\n",
      "\n",
      "```sql\n",
      "SELECT COUNT(*) AS num_trips\n",
      "FROM `bigquery-public-data.new_york.citibike_trips` AS trips\n",
      "JOIN `bigquery-public-data.new_york.citibike_stations` AS stations\n",
      "ON CAST(trips.start_station_id AS STRING) = stations.station_id\n",
      "WHERE \n",
      "    EXTRACT(YEAR FROM trips.starttime) = 2015\n",
      "    AND EXTRACT(DAYOFWEEK FROM trips.starttime) IN (0, 6) -- Sunday or Saturday\n",
      "    AND strftime('%H', trips.starttime) BETWEEN '12' AND '17' -- 12:00 PM - 5:00 PM\n",
      "    AND trips.usertype = 'Subscriber'\n",
      "    AND EXTRACT(YEAR FROM trips.starttime) - trips.birth_year > 60;\n",
      "```\n",
      "\n",
      "This updated query should correctly extract the day of the week from the `starttime` column and return the desired results.\n",
      "\n",
      "Respond with only the corrected query that still answers the question as a markdown code block.\n",
      " ```sql\n",
      "SELECT COUNT(*) AS num_trips\n",
      "FROM `bigquery-public-data.new_york.citibike_trips` AS trips\n",
      "JOIN `bigquery-public-data.new_york.citibike_stations` AS stations\n",
      "ON CAST(trips.start_station_id AS STRING) = stations.station_id\n",
      "WHERE \n",
      "    EXTRACT(YEAR FROM trips.starttime) = 2015\n",
      "    AND EXTRACT(DAYOFWEEK FROM trips.starttime) IN (0, 6) -- Sunday or Saturday\n",
      "    AND strftime('%H', trips.starttime) BETWEEN '12' AND '17' -- 12:00 PM - 5:00 PM\n",
      "    AND trips.usertype = 'Subscriber'\n",
      "    AND EXTRACT(YEAR FROM trips.starttime) - trips.birth_year > 60;\n",
      "```\n",
      "This query:\n",
      "SELECT COUNT(*) AS num_trips\n",
      "FROM `bigquery-public-data.new_york.citibike_trips` AS trips\n",
      "JOIN `bigquery-public-data.new_york.citibike_stations` AS stations\n",
      "ON CAST(trips.start_station_id AS STRING) = stations.station_id\n",
      "WHERE \n",
      "    EXTRACT(YEAR FROM trips.starttime) = 2015\n",
      "    AND EXTRACT(DAYOFWEEK FROM trips.starttime) IN (0, 6) -- Sunday or Saturday\n",
      "    AND strftime('%H', trips.starttime) BETWEEN '12' AND '17' -- 12:00 PM - 5:00 PM\n",
      "    AND trips.usertype = 'Subscriber'\n",
      "    AND EXTRACT(YEAR FROM trips.starttime) - trips.birth_year > 60;\n",
      "\n",
      "\n",
      "Returns these errors:\n",
      "[{'reason': 'invalidQuery', 'location': 'query', 'message': 'Function not found: strftime at [8:9]'}]\n",
      "\n",
      "Hint, the error appears to be in this line of the query:\n",
      "AND strftime('%H', trips.starttime) BETWEEN '12' AND '17' -- 12:00 PM - 5:00 PM\n",
      " The `strftime` function is not a standard SQL function and is not supported by BigQuery. To extract the hour from the `starttime` column, you can use the `EXTRACT` function instead.\n",
      "\n",
      "Here's an updated version of your query with the necessary changes:\n",
      "\n",
      "```sql\n",
      "SELECT COUNT(*) AS num_trips\n",
      "FROM `bigquery-public-data.new_york.citibike_trips` AS trips\n",
      "JOIN `bigquery-public-data.new_york.citibike_stations` AS stations\n",
      "ON CAST(trips.start_station_id AS STRING) = stations.station_id\n",
      "WHERE \n",
      "    EXTRACT(YEAR FROM trips.starttime) = 2015\n",
      "    AND EXTRACT(DAYOFWEEK FROM trips.starttime) IN (0, 6) -- Sunday or Saturday\n",
      "    AND EXTRACT(HOUR FROM trips.starttime) BETWEEN 12 AND 17 -- 12:00 PM - 5:00 PM\n",
      "    AND trips.usertype = 'Subscriber'\n",
      "    AND EXTRACT(YEAR FROM trips.starttime) - trips.birth_year > 60;\n",
      "```\n",
      "\n",
      "This updated query should correctly extract the hour from the `starttime` column and return the desired results.\n",
      "\n",
      "Respond with only the corrected query that still answers the question as a markdown code block.\n",
      " ```sql\n",
      "SELECT COUNT(*) AS num_trips\n",
      "FROM `bigquery-public-data.new_york.citibike_trips` AS trips\n",
      "JOIN `bigquery-public-data.new_york.citibike_stations` AS stations\n",
      "ON CAST(trips.start_station_id AS STRING) = stations.station_id\n",
      "WHERE \n",
      "    EXTRACT(YEAR FROM trips.starttime) = 2015\n",
      "    AND EXTRACT(DAYOFWEEK FROM trips.starttime) IN (0, 6) -- Sunday or Saturday\n",
      "    AND EXTRACT(HOUR FROM trips.starttime) BETWEEN 12 AND 17 -- 12:00 PM - 5:00 PM\n",
      "    AND trips.usertype = 'Subscriber'\n",
      "    AND EXTRACT(YEAR FROM trips.starttime) - trips.birth_year > 60;\n",
      "```\n"
     ]
    }
   ],
   "source": [
    "for message in session.message_history:\n",
    "    print(message.content)"
   ]
  },
  {
   "cell_type": "markdown",
   "id": "03f035a7-d5fa-4651-96da-5ce02322137c",
   "metadata": {},
   "source": [
    "### Try Another Question:"
   ]
  },
  {
   "cell_type": "code",
   "execution_count": 133,
   "id": "5ad8a9b0-52fe-4b05-8d5a-fd3136ac1d13",
   "metadata": {},
   "outputs": [
    {
     "name": "stdout",
     "output_type": "stream",
     "text": [
      "Initial Query:\n",
      " \n",
      "SELECT\n",
      "  COUNT(*) AS total_trips\n",
      "FROM\n",
      "  `bigquery-public-data.new_york.citibike_trips` AS trips\n",
      "WHERE\n",
      "  CAST(strftime('%H', trips.starttime) AS INT64) BETWEEN 17 AND 23\n",
      "  AND trips.tripduration >= 3600\n",
      "  AND trips.usertype = 'Subscriber'\n",
      "  AND CAST(strftime('%Y', trips.starttime) AS INT64) = 2015\n",
      "  AND CAST(strftime('%Y', trips.starttime) AS INT64) - trips.birth_year >= 60;\n",
      "\n",
      "found errors\n",
      "Fix #1:\n",
      " SELECT\n",
      "  COUNT(*) AS total_trips\n",
      "FROM\n",
      "  `bigquery-public-data.new_york.citibike_trips` AS trips\n",
      "WHERE\n",
      "  EXTRACT(HOUR FROM trips.starttime) BETWEEN 17 AND 23\n",
      "  AND trips.tripduration >= 3600\n",
      "  AND trips.usertype = 'Subscriber'\n",
      "  AND EXTRACT(YEAR FROM trips.starttime) = 2015\n",
      "  AND EXTRACT(YEAR FROM trips.starttime) - trips.birth_year >= 60;\n",
      "\n",
      "529\n"
     ]
    }
   ],
   "source": [
    "session = BQ_QA('How many trips during the year 2015: started in the evening, were over an hour long, and were by regular riders, who were over age 60?')"
   ]
  },
  {
   "cell_type": "markdown",
   "id": "0828f8db-fc1f-4c29-89e0-4f2ab12e44b1",
   "metadata": {},
   "source": [
    "### Ideas For Improvement\n",
    "\n",
    "After a few attempts to fix, ask the CodeChat LLM to start fresh and write a new query to answer then question.  The iterate on the new query.\n",
    "\n",
    "If the fixes are actually breaking the logic of the query try asking if the successful query answers the questions before providing the result."
   ]
  },
  {
   "cell_type": "code",
   "execution_count": null,
   "id": "2dc2d7ef-e34d-4400-9059-1e2b59cad598",
   "metadata": {},
   "outputs": [],
   "source": []
  },
  {
   "cell_type": "code",
   "execution_count": null,
   "id": "457832d1-7334-4bdf-bc21-a81fe4495714",
   "metadata": {},
   "outputs": [],
   "source": []
  },
  {
   "cell_type": "code",
   "execution_count": null,
   "id": "a46ebba2-0eeb-40d5-b292-8d664234d6f4",
   "metadata": {},
   "outputs": [],
   "source": []
  },
  {
   "cell_type": "code",
   "execution_count": null,
   "id": "4bba9cc6-2b1e-4058-88fa-d36b89e12537",
   "metadata": {},
   "outputs": [],
   "source": []
  },
  {
   "cell_type": "code",
   "execution_count": null,
   "id": "441d2e00-d55b-4c2d-b440-07d22117de94",
   "metadata": {},
   "outputs": [],
   "source": []
  },
  {
   "cell_type": "code",
   "execution_count": null,
   "id": "82aeb321-5a73-4f3d-ade4-6b640dd221a7",
   "metadata": {},
   "outputs": [],
   "source": []
  },
  {
   "cell_type": "code",
   "execution_count": null,
   "id": "dae38a3d-c5cb-4ccf-b7fb-6768be1612c3",
   "metadata": {},
   "outputs": [],
   "source": []
  },
  {
   "cell_type": "code",
   "execution_count": null,
   "id": "e159b35f-3046-41ab-89e6-9a7c2ba9d0cd",
   "metadata": {},
   "outputs": [],
   "source": []
  },
  {
   "cell_type": "code",
   "execution_count": null,
   "id": "27e00e72-01c2-444b-a933-87b6d572ea11",
   "metadata": {},
   "outputs": [],
   "source": []
  }
 ],
 "metadata": {
  "environment": {
   "kernel": "conda-root-py",
   "name": "workbench-notebooks.m113",
   "type": "gcloud",
   "uri": "gcr.io/deeplearning-platform-release/workbench-notebooks:m113"
  },
  "kernelspec": {
   "display_name": "Python 3 (ipykernel) (Local)",
   "language": "python",
   "name": "conda-root-py"
  },
  "language_info": {
   "codemirror_mode": {
    "name": "ipython",
    "version": 3
   },
   "file_extension": ".py",
   "mimetype": "text/x-python",
   "name": "python",
   "nbconvert_exporter": "python",
   "pygments_lexer": "ipython3",
   "version": "3.10.13"
  }
 },
 "nbformat": 4,
 "nbformat_minor": 5
}
