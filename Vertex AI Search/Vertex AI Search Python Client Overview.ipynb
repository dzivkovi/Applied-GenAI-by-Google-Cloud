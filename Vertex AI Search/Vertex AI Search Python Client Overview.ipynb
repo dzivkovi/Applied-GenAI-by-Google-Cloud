{
 "cells": [
  {
   "cell_type": "markdown",
   "id": "93d7bfc1",
   "metadata": {},
   "source": [
    "![tracker](https://us-central1-vertex-ai-mlops-369716.cloudfunctions.net/pixel-tracking?path=statmike%2Fvertex-ai-mlops%2FApplied+GenAI%2Flegacy%2FVertex+AI+Search&file=Vertex+AI+Search+Python+Client+Overview.ipynb)\n",
    "<!--- header table --->\n",
    "<table align=\"left\">\n",
    "  <td style=\"text-align: center\">\n",
    "    <a href=\"https://colab.research.google.com/github/statmike/vertex-ai-mlops/blob/main/Applied%20GenAI/legacy/Vertex%20AI%20Search/Vertex%20AI%20Search%20Python%20Client%20Overview.ipynb\">\n",
    "      <img src=\"https://cloud.google.com/ml-engine/images/colab-logo-32px.png\" alt=\"Google Colaboratory logo\">\n",
    "      <br>Run in<br>Colab\n",
    "    </a>\n",
    "  </td>\n",
    "  <td style=\"text-align: center\">\n",
    "    <a href=\"https://console.cloud.google.com/vertex-ai/colab/import/https%3A%2F%2Fraw.githubusercontent.com%2Fstatmike%2Fvertex-ai-mlops%2Fmain%2FApplied%2520GenAI%2Flegacy%2FVertex%2520AI%2520Search%2FVertex%2520AI%2520Search%2520Python%2520Client%2520Overview.ipynb\">\n",
    "      <img width=\"32px\" src=\"https://lh3.googleusercontent.com/JmcxdQi-qOpctIvWKgPtrzZdJJK-J3sWE1RsfjZNwshCFgE_9fULcNpuXYTilIR2hjwN\" alt=\"Google Cloud Colab Enterprise logo\">\n",
    "      <br>Run in<br>Colab Enterprise\n",
    "    </a>\n",
    "  </td>      \n",
    "  <td style=\"text-align: center\">\n",
    "    <a href=\"https://github.com/statmike/vertex-ai-mlops/blob/main/Applied%20GenAI/legacy/Vertex%20AI%20Search/Vertex%20AI%20Search%20Python%20Client%20Overview.ipynb\">\n",
    "      <img src=\"https://cloud.google.com/ml-engine/images/github-logo-32px.png\" alt=\"GitHub logo\">\n",
    "      <br>View on<br>GitHub\n",
    "    </a>\n",
    "  </td>\n",
    "  <td style=\"text-align: center\">\n",
    "    <a href=\"https://console.cloud.google.com/vertex-ai/workbench/deploy-notebook?download_url=https://raw.githubusercontent.com/statmike/vertex-ai-mlops/main/Applied%20GenAI/legacy/Vertex%20AI%20Search/Vertex%20AI%20Search%20Python%20Client%20Overview.ipynb\">\n",
    "      <img src=\"https://lh3.googleusercontent.com/UiNooY4LUgW_oTvpsNhPpQzsstV5W8F7rYgxgGBD85cWJoLmrOzhVs_ksK_vgx40SHs7jCqkTkCk=e14-rj-sc0xffffff-h130-w32\" alt=\"Vertex AI logo\">\n",
    "      <br>Open in<br>Vertex AI Workbench\n",
    "    </a>\n",
    "  </td>\n",
    "</table>"
   ]
  },
  {
   "cell_type": "markdown",
   "id": "cbd37225-4559-4c52-8b68-33f4bc7bbaa3",
   "metadata": {},
   "source": [
    "---\n",
    "\n",
    "**File Move Notices**\n",
    "\n",
    "This file moved locations:\n",
    "- On 09/03/2024 (mm/dd/yyyy)\n",
    "\t- From: `Applied GenAI/Vertex AI Search/Vertex AI Search Python Client Overview.ipynb`\n",
    "\t- To: `Applied GenAI/legacy/Vertex AI Search/Vertex AI Search Python Client Overview.ipynb`\n",
    "---\n",
    "<!---end of move notices--->\n",
    "\n",
    "# UmpireBot - MLB Rules For Baseball\n",
    "\n",
    "Based on [Vertex AI Search](https://cloud.google.com/enterprise-search) (Formerly: Generative AI App Builder Enterprise Search).\n",
    "\n",
    "**What?**\n",
    "\n",
    "Ask questions of the rules for MLB and get answers with specific references to official rules.\n",
    "\n",
    "**Sources:**\n",
    "\n",
    "The official MLB rules are at the links below:\n",
    "- [MLB 2022 Rule Book](https://img.mlbstatic.com/mlb-images/image/upload/mlb/hhvryxqioipb87os1puw.pdf)\n",
    "- [MLB 2023 Rule Book](https://img.mlbstatic.com/mlb-images/image/upload/mlb/wqn5ah4c3qtivwx3jatm.pdf)\n",
    "\n",
    "**Tools:**\n",
    "- Vertex AI Search\n",
    "  - This [link](https://cloud.google.com/generative-ai-app-builder/docs/create-data-store-es#cloud-storage) will provide the steps to create a datastore using unstructured data(pdf is used in this example) which will be stored in Cloud Storage.\n",
    "  - Vertex AI Search Setup for this workflow can be found [here](./vertex_search_setup.md)\n",
    "  - Vertex AI Search Client\n",
    "      - [Python Client for Discovery Engine API](https://cloud.google.com/python/docs/reference/discoveryengine/latest)\n",
    "- Vertex AI GenAI Language Model API\n",
    "  - Vertex AI Client\n",
    "      - [Vertex AI SDK for Python](https://cloud.google.com/python/docs/reference/aiplatform/latest)\n",
    "  - `vertexai.language_models.TextGenerationModel.from_pretrained('text-bison@latest')`\n",
    "\n",
    "---\n",
    "\n",
    "**Google Cloud Vertex AI Generative AI Support**\n",
    "\n",
    "Vertex AI Generative AI gives access to Google's large genearative AI models and also enables you to test, tune, and deploy them for your applications. Get an overview [here](https://cloud.google.com/vertex-ai/docs/generative-ai/learn/overview).\n",
    "\n",
    "---\n",
    "\n",
    "**How:**\n",
    "\n",
    "- Vertex AI Search creates three components: Apps, Engines and Datastores\n",
    "  - More information about App and Datastore can be found [here](https://cloud.google.com/generative-ai-app-builder/docs/create-datastore-ingest)\n",
    "      - Datastores from web sites, BigQuery Tables, GCS Buckets, and much more!\n",
    "- Ask a question\n",
    "  - Query the datastore using the Python Client API\n",
    "  - API will search the datastore for related information in the documents using vector similarity\n",
    "  - Retrieve the content associated from Datastore\n",
    "  - Prepare a prompt to answer the question using the retrieved search results as context\n",
    "- Present the response as an answer with links to the related documents (sections of the document(s)).\n",
    "\n",
    "**What is Unique?**\n",
    "\n",
    "An LLM is likely unexposed to a users private content.  This appoach constructs a summarization prompt for an LLM by first retriving context for the question from the users documents using Vertex AI Search datastores as the source.  This also allows the response to be accompanied by direct reference to the users documentation used in the prompt.\n",
    "\n",
    "**Notes**\n",
    "\n",
    "- An LLM is likely trained on many sources that probably include lots of general knowledge, even information like what is used here.  It is also likely knowledgable of past outdated information which can be a benefit - or detriment - to accuracy.  This approach directly uses the version of the document that currently applies.\n",
    "\n",
    "**Prerequisites**\n",
    "\n",
    "This notebook uses Vertex AI and Vertex AI Search (Generative AI App Builder) for processing data while also using Google Cloud Storage for data storage and retrieval.  If you are running this notebook from Colab or another environment where your user id is authenticated then your account will need roles/permissions that allow working with these services.  If you are running this from a Vertex AI Workbench Notebook instance then it is running as a service account which will need the roles/permission that allow working with these services.\n",
    "\n",
    "This notebook requires an App and Data Store created with the PDF downloaded from MLB website mentioned above.\n",
    "- Vertex AI Search Setup for this workflow can be found [here](./vertex_search_setup.md)\n",
    "\n",
    "\n",
    "**References**\n",
    "\n",
    "- [Vertex AI GenAI Studio](https://cloud.google.com/vertex-ai/docs/generative-ai/learn/overview)\n",
    "    - Vertex AI [Python Client](https://cloud.google.com/python/docs/reference/aiplatform/latest)\n",
    "- Vertex AI Search [Python Client](https://cloud.google.com/generative-ai-app-builder/docs/preview-search-results?_ga=2.154471792.-952990647.1684293017)\n",
    "   "
   ]
  },
  {
   "cell_type": "markdown",
   "id": "bf70bf13-b144-42cb-a9cd-6d387a18c9a9",
   "metadata": {
    "id": "od_UkDpvRmgD"
   },
   "source": [
    "---\n",
    "## Colab Setup\n",
    "\n",
    "To run this notebook in Colab click [![Open In Colab](https://colab.research.google.com/assets/colab-badge.svg)](https://colab.research.google.com/github/statmike/vertex-ai-mlops/blob/main/Applied%20GenAI/Vertex%20AI%20Search/Vertex%20AI%20Search%20Document%20Q%26A%20Using%20Extractive%20Segments%20-%20MLB%20Rules%20For%20Baseball.ipynb) and run the cells in this section.  Otherwise, skip this section.\n",
    "\n",
    "This cell will authenticate to GCP (follow prompts in the popup)."
   ]
  },
  {
   "cell_type": "code",
   "execution_count": 2,
   "id": "0d9c8b98-2da2-4ae6-b4ac-0cb2a0b9008a",
   "metadata": {
    "executionInfo": {
     "elapsed": 195,
     "status": "ok",
     "timestamp": 1683726184843,
     "user": {
      "displayName": "Mike Henderson",
      "userId": "07691629187611687318"
     },
     "user_tz": 240
    },
    "id": "8UO9FnqyKBlF"
   },
   "outputs": [],
   "source": [
    "PROJECT_ID = 'statmike-mlops-349915' # replace with project ID"
   ]
  },
  {
   "cell_type": "code",
   "execution_count": 3,
   "id": "1216e6a0-5d6c-47cb-acda-a95c95a8257d",
   "metadata": {
    "colab": {
     "base_uri": "https://localhost:8080/"
    },
    "executionInfo": {
     "elapsed": 68869,
     "status": "ok",
     "timestamp": 1683726253709,
     "user": {
      "displayName": "Mike Henderson",
      "userId": "07691629187611687318"
     },
     "user_tz": 240
    },
    "id": "N98-KK7LRkjm",
    "outputId": "09ec5008-0def-4e1a-c349-c598ee752f78"
   },
   "outputs": [],
   "source": [
    "try:\n",
    "    import google.colab\n",
    "    from google.colab import auth\n",
    "    auth.authenticate_user()\n",
    "    !gcloud config set project {PROJECT_ID}\n",
    "except Exception:\n",
    "    pass"
   ]
  },
  {
   "cell_type": "markdown",
   "id": "5cbfbef2-283f-409c-9480-4d4496f963ce",
   "metadata": {},
   "source": [
    "---\n",
    "## Installs and API Enablement\n",
    "\n",
    "The clients packages may need installing in this environment. "
   ]
  },
  {
   "cell_type": "markdown",
   "id": "f61f6540-8c3d-41e3-972c-4614d886ba8b",
   "metadata": {},
   "source": [
    "### Installs (If Needed)"
   ]
  },
  {
   "cell_type": "code",
   "execution_count": 4,
   "id": "f2e42936-2798-406c-bf27-0e7ddd02f3e6",
   "metadata": {},
   "outputs": [],
   "source": [
    "# tuples of (import name, install name)\n",
    "packages = [\n",
    "    ('google.cloud.aiplatform', 'google-cloud-aiplatform'),\n",
    "    ('google.cloud.discoveryengine', 'google-cloud-discoveryengine')\n",
    "]\n",
    "\n",
    "import importlib\n",
    "install = False\n",
    "for package in packages:\n",
    "    if not importlib.util.find_spec(package[0]):\n",
    "        print(f'installing package {package[1]}')\n",
    "        install = True\n",
    "        !pip install {package[1]} -U -q --user"
   ]
  },
  {
   "cell_type": "markdown",
   "id": "9c3ef854-e293-4826-ba9e-061e63ad6330",
   "metadata": {},
   "source": [
    "### API Enablement"
   ]
  },
  {
   "cell_type": "code",
   "execution_count": 5,
   "id": "7519a238-1b98-4159-9f0d-2bf07b5442af",
   "metadata": {},
   "outputs": [
    {
     "name": "stdout",
     "output_type": "stream",
     "text": [
      "\n",
      "\n",
      "To take a quick anonymous survey, run:\n",
      "  $ gcloud survey\n",
      "\n"
     ]
    }
   ],
   "source": [
    "!gcloud services enable aiplatform.googleapis.com"
   ]
  },
  {
   "cell_type": "markdown",
   "id": "47daacb0-46b4-437d-a76b-f37e25ae7fba",
   "metadata": {},
   "source": [
    "### Restart Kernel (If Installs Occured)\n",
    "\n",
    "After a kernel restart the code submission can start with the next cell after this one."
   ]
  },
  {
   "cell_type": "code",
   "execution_count": 6,
   "id": "20317559-1742-45fd-855e-c2eec47117b1",
   "metadata": {},
   "outputs": [],
   "source": [
    "if install:\n",
    "    import IPython\n",
    "    app = IPython.Application.instance()\n",
    "    app.kernel.do_shutdown(True)"
   ]
  },
  {
   "cell_type": "markdown",
   "id": "d793de9c-88c7-4204-bb73-0709dbf7413d",
   "metadata": {
    "id": "appt8-yVRtJ1"
   },
   "source": [
    "---\n",
    "## Setup"
   ]
  },
  {
   "cell_type": "markdown",
   "id": "af9e7a25",
   "metadata": {},
   "source": [
    "Inputs"
   ]
  },
  {
   "cell_type": "code",
   "execution_count": 7,
   "id": "11643bde-f245-4927-86d1-497147ecebd3",
   "metadata": {},
   "outputs": [
    {
     "data": {
      "text/plain": [
       "'statmike-mlops-349915'"
      ]
     },
     "execution_count": 7,
     "metadata": {},
     "output_type": "execute_result"
    }
   ],
   "source": [
    "project = !gcloud config get-value project\n",
    "PROJECT_ID = project[0]\n",
    "PROJECT_ID"
   ]
  },
  {
   "cell_type": "code",
   "execution_count": 8,
   "id": "6232c231-ef3f-4166-93e5-7a31480423a6",
   "metadata": {},
   "outputs": [],
   "source": [
    "REGION = 'us-central1'\n",
    "SERIES = 'applied-genai-vertex-ai-search'\n",
    "EXPERIMENT = 'mlb-rules'\n",
    "\n",
    "# VERTEX SEARCH PARAMETERS\n",
    "VS_LOCATION = 'global'\n",
    "VS_DATASTORE_ID = 'sports_1699306284060'"
   ]
  },
  {
   "cell_type": "markdown",
   "id": "5f5cc8b1",
   "metadata": {},
   "source": [
    "Packages"
   ]
  },
  {
   "cell_type": "code",
   "execution_count": 9,
   "id": "ccb48f1c-cb2c-4d94-bc31-fa1a91e15a88",
   "metadata": {},
   "outputs": [
    {
     "name": "stderr",
     "output_type": "stream",
     "text": [
      "2023-12-07 16:45:06.900886: I tensorflow/core/platform/cpu_feature_guard.cc:182] This TensorFlow binary is optimized to use available CPU instructions in performance-critical operations.\n",
      "To enable the following instructions: AVX2 FMA, in other operations, rebuild TensorFlow with the appropriate compiler flags.\n"
     ]
    }
   ],
   "source": [
    "import IPython\n",
    "import urllib\n",
    "\n",
    "import vertexai.language_models\n",
    "from google.cloud import aiplatform\n",
    "import google.cloud.discoveryengine_v1 as discoveryengine\n",
    "import google.cloud.discoveryengine_v1alpha as discoveryengine_alpha"
   ]
  },
  {
   "cell_type": "markdown",
   "id": "4cedd274-6702-4f18-ab10-fe133d487768",
   "metadata": {},
   "source": [
    "Clients"
   ]
  },
  {
   "cell_type": "code",
   "execution_count": 10,
   "id": "b5a46ac5-d48e-47c6-b427-7017b2dfe54c",
   "metadata": {},
   "outputs": [],
   "source": [
    "# vertex ai clients\n",
    "vertexai.init(project = PROJECT_ID, location = REGION)\n",
    "aiplatform.init(project = PROJECT_ID, location = REGION)\n",
    "\n",
    "# vertex search clients\n",
    "vertex_search = discoveryengine.SearchServiceClient(\n",
    "    client_options = dict(api_endpoint = (f'{VS_LOCATION}-' if VS_LOCATION != 'global' else '') + 'discoveryengine.googleapis.com')\n",
    ")\n",
    "vertex_search_alpha = discoveryengine_alpha.SearchServiceClient(\n",
    "    client_options = dict(api_endpoint = (f'{VS_LOCATION}-' if VS_LOCATION != 'global' else '') + 'discoveryengine.googleapis.com')\n",
    ")"
   ]
  },
  {
   "cell_type": "markdown",
   "id": "468962a9-4c25-4ed9-ac51-7a3c1c3d78a4",
   "metadata": {},
   "source": [
    "## Using Vertex AI Search \n",
    "\n",
    "The client for Vertex AI Search can be used to extract a number of helpful items for use with an LLM as context.\n",
    "\n",
    "Documentation Links:\n",
    "- [Search Results](https://cloud.google.com/generative-ai-app-builder/docs/preview-search-results)\n",
    "- [Snippets](https://cloud.google.com/generative-ai-app-builder/docs/snippets#snippets)\n",
    "- [Extractive Answers](https://cloud.google.com/generative-ai-app-builder/docs/snippets#extractive-answers)\n",
    "- [Extractive Segments](https://cloud.google.com/generative-ai-app-builder/docs/snippets#extractive-segments)\n",
    "- [Search Summaries](https://cloud.google.com/generative-ai-app-builder/docs/get-search-summaries)\n",
    "\n",
    "API Reference (Python):\n",
    "- [discoveryengine.SearchServiceClient()](https://cloud.google.com/python/docs/reference/discoveryengine/latest/google.cloud.discoveryengine_v1.services.search_service.SearchServiceClient#google_cloud_discoveryengine_v1_services_search_service_SearchServiceClient_search)\n",
    "    - [.search()](https://cloud.google.com/python/docs/reference/discoveryengine/latest/google.cloud.discoveryengine_v1.services.search_service.SearchServiceClient#google_cloud_discoveryengine_v1_services_search_service_SearchServiceClient_search)\n",
    "        - request = [discoveryengine.types.SearchRequest()](https://cloud.google.com/python/docs/reference/discoveryengine/latest/google.cloud.discoveryengine_v1.types.SearchRequest)\n",
    "            - `page_size` = number of documents to return\n",
    "            - `serving_config` = [discoveryengine.search_service.SearchServiceClient.serving_config_path](https://cloud.google.com/python/docs/reference/discoveryengine/latest/google.cloud.discoveryengine_v1.services.search_service.SearchServiceClient#google_cloud_discoveryengine_v1_services_search_service_SearchServiceClient_serving_config_path)\n",
    "            - content_search_spec = [discoveryengine.types.SearchRequest.ContentSearchSpec()](https://cloud.google.com/python/docs/reference/discoveryengine/latest/google.cloud.discoveryengine_v1.types.SearchRequest.ContentSearchSpec)\n",
    "                - `snippet_spec` = [discoveryengine.SearchRequest.ContentSearchSpec.SnippetSpec()](https://cloud.google.com/python/docs/reference/discoveryengine/latest/google.cloud.discoveryengine_v1.types.SearchRequest.ContentSearchSpec.SnippetSpec)\n",
    "                    - if not specified, then snippets are not included in search response\n",
    "                    - `return_snippet` = True\n",
    "                - `summary_spec` = [discoveryengine.SearchRequest.ContentSearchSpec.SummarySpec()](https://cloud.google.com/python/docs/reference/discoveryengine/latest/google.cloud.discoveryengine_v1.types.SearchRequest.ContentSearchSpec.SummarySpec)\n",
    "                    - if not specified, then summaries are not included in search response\n",
    "                    - `summery_result_count` = the number of results to generate the summary from - max is 5\n",
    "                    - `include_citations` = True/False, to include in-line citation numbers\n",
    "                    - `ignore_adversarial_query` = True/False, to ignore/skip adversarial queries\n",
    "                    - `ignore_non_summary_seeking_query` = True/False, to ignore fact seeking queries like \"help desk phone number\"\n",
    "            - query_expansition_spec = [discoveryengine.types.SearchRequest.QueryExpansionSpec.Condition.](https://cloud.google.com/python/docs/reference/discoveryengine/latest/google.cloud.discoveryengine_v1.types.SearchRequest.QueryExpansionSpec)\n",
    "                - configure expansion of query:\n",
    "                    - `.CONDITION_UNSPECIFIED` defaults to `.DISABLED`\n",
    "                    - `.DISABLED` only the exact search is used even if no response if generated\n",
    "                    - `.AUTO` automatic expansion of the query by the Search API\n",
    "            - spell_correction_spec = [discoveryengine.types.SearchRequest.SpellCorrectionSpec.Mode.](https://cloud.google.com/python/docs/reference/discoveryengine/latest/google.cloud.discoveryengine_v1.types.SearchRequest.SpellCorrectionSpec)\n",
    "                - spelling correction mode:\n",
    "                    - `.MODE_UNSPECIFIED` defaults to `.AUTO`\n",
    "                    - `.SUGGESTION_ONLY` - returns a corrected query suggestion but does not use it for search\n",
    "                    - `.AUTO` - uses correct query suggestion for search\n",
    "            - much more!\n",
    "- Responses From `.search()` are of the form [discoveryengine.search_service.pagers.SearchPager()](https://cloud.google.com/python/docs/reference/discoveryengine/latest/google.cloud.discoveryengine_v1.services.search_service.pagers.SearchPager)\n",
    "    - Which contains `.results` object that is an iterable set of [discoveryengine.search_service.SearchResponse.SearchResult()](https://cloud.google.com/python/docs/reference/discoveryengine/latest/google.cloud.discoveryengine_v1.types.SearchResponse.SearchResult)\n",
    "        - has attribute `document` of type [discoveryengine.types.Document](https://cloud.google.com/python/docs/reference/discoveryengine/latest/google.cloud.discoveryengine_v1.types.Document)\n",
    "            - for a data store of document in GCS these attributes are helpful:\n",
    "                - `derived_struct_data`"
   ]
  },
  {
   "cell_type": "code",
   "execution_count": 11,
   "id": "f9f01a61-e9a0-41da-b5b8-6fb00080d92f",
   "metadata": {},
   "outputs": [],
   "source": [
    "question = \"What is the size of a base?\""
   ]
  },
  {
   "cell_type": "markdown",
   "id": "598a7a08-483e-44fa-b838-866d1a0bd894",
   "metadata": {},
   "source": [
    "Setup the `serving_config`:\n",
    "- [discoveryengine.search_service.SearchServiceClient.serving_config_path](https://cloud.google.com/python/docs/reference/discoveryengine/latest/google.cloud.discoveryengine_v1.services.search_service.SearchServiceClient#google_cloud_discoveryengine_v1_services_search_service_SearchServiceClient_serving_config_path)"
   ]
  },
  {
   "cell_type": "code",
   "execution_count": 12,
   "id": "5d803f21-ccfb-4b81-9d77-a8369a2ff6e5",
   "metadata": {},
   "outputs": [],
   "source": [
    "serving_config = vertex_search.serving_config_path(\n",
    "    project = PROJECT_ID,\n",
    "    location = VS_LOCATION,\n",
    "    data_store = VS_DATASTORE_ID,\n",
    "    serving_config = 'default_config'\n",
    ")"
   ]
  },
  {
   "cell_type": "markdown",
   "id": "b738e7d2-c9f1-4123-8203-1fe5b9fca088",
   "metadata": {},
   "source": [
    "### Search Results\n",
    "\n",
    "Documentation [Search Results](https://cloud.google.com/generative-ai-app-builder/docs/preview-search-results)"
   ]
  },
  {
   "cell_type": "code",
   "execution_count": 13,
   "id": "5e92cb27-c788-4748-897a-e1205a927106",
   "metadata": {},
   "outputs": [],
   "source": [
    "response = vertex_search.search(\n",
    "    request = discoveryengine.SearchRequest(\n",
    "        query = question,\n",
    "        page_size = 10,\n",
    "        serving_config = serving_config,\n",
    "        content_search_spec = discoveryengine.SearchRequest.ContentSearchSpec(\n",
    "            snippet_spec = discoveryengine.SearchRequest.ContentSearchSpec.SnippetSpec(\n",
    "                return_snippet = False\n",
    "            ),\n",
    "            summary_spec = discoveryengine.SearchRequest.ContentSearchSpec.SummarySpec(\n",
    "                summary_result_count = 5,\n",
    "                include_citations = True,\n",
    "                ignore_adversarial_query = True,\n",
    "                ignore_non_summary_seeking_query = False\n",
    "            )\n",
    "        ),\n",
    "        query_expansion_spec = discoveryengine.SearchRequest.QueryExpansionSpec(\n",
    "            condition = discoveryengine.SearchRequest.QueryExpansionSpec.Condition.AUTO\n",
    "        ),\n",
    "        spell_correction_spec = discoveryengine.SearchRequest.SpellCorrectionSpec(\n",
    "            mode = discoveryengine.SearchRequest.SpellCorrectionSpec.Mode.AUTO\n",
    "        )\n",
    "    )\n",
    ")"
   ]
  },
  {
   "cell_type": "markdown",
   "id": "2ec945b6-7ece-4efa-af6b-5190a99503ba",
   "metadata": {},
   "source": [
    "Gather results:"
   ]
  },
  {
   "cell_type": "code",
   "execution_count": 14,
   "id": "c75e4cc3-d914-4075-bd02-3bd74ec07b5a",
   "metadata": {
    "tags": []
   },
   "outputs": [],
   "source": [
    "results = []\n",
    "for result in response.results:\n",
    "    document = dict(result.document.derived_struct_data)\n",
    "    results.append(document)"
   ]
  },
  {
   "cell_type": "markdown",
   "id": "f876f813-9a6b-4e06-8ddf-3d39770c297f",
   "metadata": {},
   "source": [
    "Print results:"
   ]
  },
  {
   "cell_type": "code",
   "execution_count": 15,
   "id": "7805aa2a-4af1-4303-9920-37ac447c0c87",
   "metadata": {
    "tags": []
   },
   "outputs": [
    {
     "name": "stdout",
     "output_type": "stream",
     "text": [
      "\n",
      "Source Document 1:\n",
      "\tName: mlb_2023_rules\n",
      "\tLink: gs://statmike-mlops-349915/applied-genai/vertex-ai-search/mlb_2023_rules.pdf\n",
      "Source Document 2:\n",
      "\tName: mlb_2022_rules\n",
      "\tLink: gs://statmike-mlops-349915/applied-genai/vertex-ai-search/mlb_2022_rules.pdf"
     ]
    }
   ],
   "source": [
    "for r, result in enumerate(results):\n",
    "    print(f\"\\nSource Document {r+1}:\\n\\tName: {result['title']}\\n\\tLink: {result['link']}\", end = \"\")"
   ]
  },
  {
   "cell_type": "code",
   "execution_count": 16,
   "id": "526003ba-9f75-4acd-a645-2295d24d621a",
   "metadata": {
    "tags": []
   },
   "outputs": [
    {
     "data": {
      "text/plain": [
       "summary_text: \"A base is a 17-inch square with two of the corners removed so that one edge is 17 inches long, two adjacent sides are 8\\302\\275 inches, and the remaining two sides are 12 inches [1, 2].\"\n",
       "safety_attributes {\n",
       "  categories: \"Derogatory\"\n",
       "  categories: \"Health\"\n",
       "  categories: \"Insult\"\n",
       "  categories: \"Legal\"\n",
       "  categories: \"Profanity\"\n",
       "  categories: \"Sexual\"\n",
       "  categories: \"Toxic\"\n",
       "  scores: 0.10000000149011612\n",
       "  scores: 0.20000000298023224\n",
       "  scores: 0.20000000298023224\n",
       "  scores: 0.10000000149011612\n",
       "  scores: 0.10000000149011612\n",
       "  scores: 0.20000000298023224\n",
       "  scores: 0.10000000149011612\n",
       "}"
      ]
     },
     "execution_count": 16,
     "metadata": {},
     "output_type": "execute_result"
    }
   ],
   "source": [
    "response.summary"
   ]
  },
  {
   "cell_type": "markdown",
   "id": "949405e7-72f4-4b8b-9070-785e4898d911",
   "metadata": {},
   "source": [
    "### Snippets\n",
    "\n",
    "[Snippets](https://cloud.google.com/generative-ai-app-builder/docs/snippets#snippets)"
   ]
  },
  {
   "cell_type": "code",
   "execution_count": 17,
   "id": "c4f983b3-dd20-4c2e-9cf0-37361f061c06",
   "metadata": {},
   "outputs": [],
   "source": [
    "response = vertex_search.search(\n",
    "    request = discoveryengine.SearchRequest(\n",
    "        query = question,\n",
    "        page_size = 10,\n",
    "        serving_config = serving_config,\n",
    "        content_search_spec = discoveryengine.SearchRequest.ContentSearchSpec(\n",
    "            snippet_spec = discoveryengine.SearchRequest.ContentSearchSpec.SnippetSpec(\n",
    "                return_snippet = True\n",
    "            ),\n",
    "            summary_spec = discoveryengine.SearchRequest.ContentSearchSpec.SummarySpec(\n",
    "                summary_result_count = 5,\n",
    "                include_citations = True,\n",
    "                ignore_adversarial_query = True,\n",
    "                ignore_non_summary_seeking_query = False\n",
    "            )\n",
    "        ),\n",
    "        query_expansion_spec = discoveryengine.SearchRequest.QueryExpansionSpec(\n",
    "            condition = discoveryengine.SearchRequest.QueryExpansionSpec.Condition.AUTO\n",
    "        ),\n",
    "        spell_correction_spec = discoveryengine.SearchRequest.SpellCorrectionSpec(\n",
    "            mode = discoveryengine.SearchRequest.SpellCorrectionSpec.Mode.AUTO\n",
    "        )\n",
    "    )\n",
    ")"
   ]
  },
  {
   "cell_type": "markdown",
   "id": "70773138-1c24-4cba-a02c-dfb2b8862c22",
   "metadata": {},
   "source": [
    "Gather results:"
   ]
  },
  {
   "cell_type": "code",
   "execution_count": 18,
   "id": "bd77b2b3-9eda-43bd-807f-b5e462b8dea3",
   "metadata": {
    "tags": []
   },
   "outputs": [],
   "source": [
    "results = []\n",
    "for result in response.results:\n",
    "    document = dict(result.document.derived_struct_data)\n",
    "    if 'snippets' in document.keys():\n",
    "        document['snippets'] = [dict(snippet) for snippet in document['snippets'] if snippet['snippet_status'] == 'SUCCESS']\n",
    "    results.append(document)"
   ]
  },
  {
   "cell_type": "markdown",
   "id": "ceea9848-8232-4b23-a630-3dd6e8014c8e",
   "metadata": {},
   "source": [
    "Print results:"
   ]
  },
  {
   "cell_type": "code",
   "execution_count": 19,
   "id": "826da07f-d92a-4f99-8f61-5152287dacd0",
   "metadata": {
    "tags": []
   },
   "outputs": [
    {
     "name": "stdout",
     "output_type": "stream",
     "text": [
      "\n",
      "Source Document 1:\n",
      "\tName: mlb_2023_rules\n",
      "\tLink: gs://statmike-mlops-349915/applied-genai/vertex-ai-search/mlb_2023_rules.pdf\n",
      "\tSnippet 1: When location of home <b>base</b> is determined, with a steel tape <b>measure</b> 127 feet, 33 ⁄8 <b>inches</b> in desired direction to establish second <b>base</b>. From home <b>base</b>,&nbsp;...\n",
      "\n",
      "Source Document 2:\n",
      "\tName: mlb_2022_rules\n",
      "\tLink: gs://statmike-mlops-349915/applied-genai/vertex-ai-search/mlb_2022_rules.pdf\n",
      "\tSnippet 1: ... <b>size</b> and shape of the grassed and bare areas of its playing field. NOTE: (a) ... The second <b>base</b> bag shall be centered on second <b>base</b>. The bags shall be 15&nbsp;...\n"
     ]
    }
   ],
   "source": [
    "for r, result in enumerate(results):\n",
    "    print(f\"\\nSource Document {r+1}:\\n\\tName: {result['title']}\\n\\tLink: {result['link']}\", end = \"\")\n",
    "    if 'snippets' in result.keys():\n",
    "        for s, snippet in enumerate(result['snippets']):\n",
    "            print(f\"\\n\\tSnippet {s+1}: {snippet['snippet']}\")"
   ]
  },
  {
   "cell_type": "code",
   "execution_count": 20,
   "id": "07228954-6a93-4a08-a7d2-40450fc96bac",
   "metadata": {
    "tags": []
   },
   "outputs": [
    {
     "data": {
      "text/plain": [
       "summary_text: \"A base is a 17-inch square with two of the corners removed so that one edge is 17 inches long, two adjacent sides are 8\\302\\275 inches, and the remaining two sides are 12 inches [1, 2].\"\n",
       "safety_attributes {\n",
       "  categories: \"Derogatory\"\n",
       "  categories: \"Health\"\n",
       "  categories: \"Insult\"\n",
       "  categories: \"Legal\"\n",
       "  categories: \"Profanity\"\n",
       "  categories: \"Sexual\"\n",
       "  categories: \"Toxic\"\n",
       "  scores: 0.10000000149011612\n",
       "  scores: 0.20000000298023224\n",
       "  scores: 0.20000000298023224\n",
       "  scores: 0.10000000149011612\n",
       "  scores: 0.10000000149011612\n",
       "  scores: 0.20000000298023224\n",
       "  scores: 0.10000000149011612\n",
       "}"
      ]
     },
     "execution_count": 20,
     "metadata": {},
     "output_type": "execute_result"
    }
   ],
   "source": [
    "response.summary"
   ]
  },
  {
   "cell_type": "markdown",
   "id": "ce03b816-65fa-4d13-8ddc-17e1cf93f5e1",
   "metadata": {},
   "source": [
    "### Extractive Answers\n",
    "\n",
    "Sections of text derived verbatim from documents in the search result.  Answers are shorter than segments (next section).\n",
    "\n",
    "[Extractive Answers](https://cloud.google.com/generative-ai-app-builder/docs/snippets#extractive-answers)\n",
    "\n",
    "For now, Nov 2023, this feature using the [discoveryengine_v1alpha](https://cloud.google.com/python/docs/reference/discoveryengine/latest/google.cloud.discoveryengine_v1alpha.services.search_service.SearchServiceClient) client in order to get the `extractive_content_spec` attribute for the [discoveryengine_v1alpha1.types.SearchRequest.ContentSearchSpec()](https://cloud.google.com/python/docs/reference/discoveryengine/latest/google.cloud.discoveryengine_v1alpha.types.SearchRequest.ContentSearchSpec)."
   ]
  },
  {
   "cell_type": "code",
   "execution_count": 21,
   "id": "4bcbce78-ee6b-413e-8730-c299352ace26",
   "metadata": {},
   "outputs": [],
   "source": [
    "response = vertex_search_alpha.search(\n",
    "    request = discoveryengine_alpha.SearchRequest(\n",
    "        query = question,\n",
    "        page_size = 10,\n",
    "        serving_config = serving_config,\n",
    "        content_search_spec = discoveryengine_alpha.SearchRequest.ContentSearchSpec(\n",
    "            snippet_spec = discoveryengine_alpha.SearchRequest.ContentSearchSpec.SnippetSpec(\n",
    "                return_snippet = True\n",
    "            ),\n",
    "            summary_spec = discoveryengine_alpha.SearchRequest.ContentSearchSpec.SummarySpec(\n",
    "                summary_result_count = 5,\n",
    "                include_citations = True,\n",
    "                ignore_adversarial_query = True,\n",
    "                ignore_non_summary_seeking_query = False\n",
    "            ),\n",
    "            extractive_content_spec = discoveryengine_alpha.SearchRequest.ContentSearchSpec.ExtractiveContentSpec(\n",
    "                max_extractive_answer_count = 5\n",
    "            )\n",
    "        ),\n",
    "        query_expansion_spec = discoveryengine_alpha.SearchRequest.QueryExpansionSpec(\n",
    "            condition = discoveryengine_alpha.SearchRequest.QueryExpansionSpec.Condition.AUTO\n",
    "        ),\n",
    "        spell_correction_spec = discoveryengine_alpha.SearchRequest.SpellCorrectionSpec(\n",
    "            mode = discoveryengine_alpha.SearchRequest.SpellCorrectionSpec.Mode.AUTO\n",
    "        )\n",
    "    )\n",
    ")"
   ]
  },
  {
   "cell_type": "markdown",
   "id": "189bbda7-2ee7-4e53-b0a4-8092b14c9d5b",
   "metadata": {},
   "source": [
    "Gather results:"
   ]
  },
  {
   "cell_type": "code",
   "execution_count": 22,
   "id": "15d69742-5e56-4806-90d5-4aa49a1da998",
   "metadata": {
    "tags": []
   },
   "outputs": [],
   "source": [
    "results = []\n",
    "for result in response.results:\n",
    "    document = dict(result.document.derived_struct_data)\n",
    "    if 'snippets' in document.keys():\n",
    "        document['snippets'] = [dict(snippet) for snippet in document['snippets'] if snippet['snippet_status'] == 'SUCCESS']\n",
    "    if 'extractive_answers' in document.keys():\n",
    "        document['extractive_answers'] = [dict(answer) for answer in document['extractive_answers']]\n",
    "    results.append(document)"
   ]
  },
  {
   "cell_type": "markdown",
   "id": "f49550a2-5317-4651-a9c6-cc591d48f9e0",
   "metadata": {},
   "source": [
    "Print results:"
   ]
  },
  {
   "cell_type": "code",
   "execution_count": 23,
   "id": "e612e431-bdba-4ac8-9fc4-2b823f56b3ca",
   "metadata": {
    "tags": []
   },
   "outputs": [
    {
     "name": "stdout",
     "output_type": "stream",
     "text": [
      "\n",
      "Source Document 1:\n",
      "\tName: mlb_2023_rules\n",
      "\tLink: gs://statmike-mlops-349915/applied-genai/vertex-ai-search/mlb_2023_rules.pdf\n",
      "\tSnippet 1: When location of home <b>base</b> is determined, with a steel tape <b>measure</b> 127 feet, 33 ⁄8 <b>inches</b> in desired direction to establish second <b>base</b>. From home <b>base</b>,&nbsp;...\n",
      "\tAnswer 1 (page = 14): The distance between first base and third base is 127 feet, 33 ⁄8 inches. All measurements from home base shall be taken from the point where the first and third base lines intersect.\n",
      "\tAnswer 2 (page = 20): The webbing shall not be constructed of wound or wrapped lacing or deepened to make a net type of trap.\n",
      "\tAnswer 3 (page = 15): 2.02 Home Base Home base shall be marked by a five-sided slab of whitened rubber. It shall be a 17-inch square with two of the corners removed so that one edge is 17 inches long, two adjacent sides are 8½ inches and the remaining two sides are 12 inches and set at an angle to make a point.\n",
      "\tAnswer 4 (page = 130): If a batter runner is called out after missing home plate, the Official Scorer shall credit him with a three-base hit.\n",
      "\tAnswer 5 (page = 129): (c) When the batter attempts to make a two-base hit or a three-base hit by sliding, he must hold the last base to which he advances.\n",
      "Source Document 2:\n",
      "\tName: mlb_2022_rules\n",
      "\tLink: gs://statmike-mlops-349915/applied-genai/vertex-ai-search/mlb_2022_rules.pdf\n",
      "\tSnippet 1: ... <b>size</b> and shape of the grassed and bare areas of its playing field. NOTE: (a) ... The second <b>base</b> bag shall be centered on second <b>base</b>. The bags shall be 15&nbsp;...\n",
      "\tAnswer 1 (page = 15): 2.02 Home Base Home base shall be marked by a five-sided slab of whitened rubber. It shall be a 17-inch square with two of the corners removed so that one edge is 17 inches long, two adjacent sides are 8½ inches and the remaining two sides are 12 inches and set at an angle to make a point.\n",
      "\tAnswer 2 (page = 127): If a batter runner is called out after missing home plate, the Official Scorer shall credit him with a three-base hit.\n",
      "\tAnswer 3 (page = 126): (c) When the batter attempts to make a two-base hit or a three-base hit by sliding, he must hold the last base to which he advances.\n",
      "\tAnswer 4 (page = 43): Rule 5.06(b)(4)(I) Comment: The fact a runner is awarded a base or bases without liability to be put out does not relieve him of the responsibility to touch the base he is awarded and all intervening bases.\n",
      "\tAnswer 5 (page = 125): 9.06 Determining Value of Base Hits The Official Scorer shall score a base hit as a one-base hit, two-base hit, three-base hit or home run when no error or putout results, as follows: (a) Subject to the provisions of Rule 9.06(b) and 9.06(c), it is a one-base hit if the batter stops at first base; it is a two-base hit if the batter stops at second base; it a three-base hit if the batter stops at third base; and it is a home run if the batter touches all bases and scores."
     ]
    }
   ],
   "source": [
    "for r, result in enumerate(results):\n",
    "    print(f\"\\nSource Document {r+1}:\\n\\tName: {result['title']}\\n\\tLink: {result['link']}\", end = \"\")\n",
    "    if 'snippets' in result.keys():\n",
    "        for s, snippet in enumerate(result['snippets']):\n",
    "            print(f\"\\n\\tSnippet {s+1}: {snippet['snippet']}\", end = \"\")\n",
    "    if 'extractive_answers' in result.keys():\n",
    "        for a, answer in enumerate(result['extractive_answers']):\n",
    "            print(f\"\\n\\tAnswer {a+1} (page = {answer['pageNumber']}): {answer['content']}\", end = \"\")"
   ]
  },
  {
   "cell_type": "code",
   "execution_count": 24,
   "id": "ad6b7b9d-2783-4b96-b720-cb87974e2c97",
   "metadata": {
    "tags": []
   },
   "outputs": [
    {
     "data": {
      "text/plain": [
       "summary_text: \"A base is a 17-inch square with two of the corners removed so that one edge is 17 inches long, two adjacent sides are 8\\302\\275 inches, and the remaining two sides are 12 inches [1, 2].\"\n",
       "safety_attributes {\n",
       "  categories: \"Derogatory\"\n",
       "  categories: \"Health\"\n",
       "  categories: \"Insult\"\n",
       "  categories: \"Legal\"\n",
       "  categories: \"Profanity\"\n",
       "  categories: \"Sexual\"\n",
       "  categories: \"Toxic\"\n",
       "  scores: 0.10000000149011612\n",
       "  scores: 0.20000000298023224\n",
       "  scores: 0.20000000298023224\n",
       "  scores: 0.10000000149011612\n",
       "  scores: 0.10000000149011612\n",
       "  scores: 0.20000000298023224\n",
       "  scores: 0.10000000149011612\n",
       "}"
      ]
     },
     "execution_count": 24,
     "metadata": {},
     "output_type": "execute_result"
    }
   ],
   "source": [
    "response.summary"
   ]
  },
  {
   "cell_type": "markdown",
   "id": "b5fd5481-1ca5-45e5-a4fc-f5c76bc7a48b",
   "metadata": {},
   "source": [
    "### Extractive Segments\n",
    "\n",
    "Sections of text derived verbatim from documents in the search result.  Segments are longer than answers (previous section).  **These are good inputs for LLMs to use as context!!  Demonstrated later in this document**\n",
    "\n",
    "[Extractive Segments](https://cloud.google.com/generative-ai-app-builder/docs/snippets#extractive-segments)\n",
    "\n",
    "For now, Nov 2023, this feature using the [discoveryengine_v1alpha](https://cloud.google.com/python/docs/reference/discoveryengine/latest/google.cloud.discoveryengine_v1alpha.services.search_service.SearchServiceClient) client in order to get the `extractive_content_spec` attribute for the [discoveryengine_v1alpha1.types.SearchRequest.ContentSearchSpec()](https://cloud.google.com/python/docs/reference/discoveryengine/latest/google.cloud.discoveryengine_v1alpha.types.SearchRequest.ContentSearchSpec)."
   ]
  },
  {
   "cell_type": "code",
   "execution_count": 25,
   "id": "a2d12796-b1ca-4790-b3cd-ae2287776fa0",
   "metadata": {},
   "outputs": [],
   "source": [
    "response = vertex_search_alpha.search(\n",
    "    request = discoveryengine_alpha.SearchRequest(\n",
    "        query = question,\n",
    "        page_size = 10,\n",
    "        serving_config = serving_config,\n",
    "        content_search_spec = discoveryengine_alpha.SearchRequest.ContentSearchSpec(\n",
    "            snippet_spec = discoveryengine_alpha.SearchRequest.ContentSearchSpec.SnippetSpec(\n",
    "                return_snippet = True\n",
    "            ),\n",
    "            summary_spec = discoveryengine_alpha.SearchRequest.ContentSearchSpec.SummarySpec(\n",
    "                summary_result_count = 5,\n",
    "                include_citations = True,\n",
    "                ignore_adversarial_query = True,\n",
    "                ignore_non_summary_seeking_query = False\n",
    "            ),\n",
    "            extractive_content_spec = discoveryengine_alpha.SearchRequest.ContentSearchSpec.ExtractiveContentSpec(\n",
    "                max_extractive_answer_count = 5,\n",
    "                max_extractive_segment_count = 10,\n",
    "                return_extractive_segment_score = True,\n",
    "                num_previous_segments = 1,\n",
    "                num_next_segments = 1\n",
    "            )\n",
    "        ),\n",
    "        query_expansion_spec = discoveryengine_alpha.SearchRequest.QueryExpansionSpec(\n",
    "            condition = discoveryengine_alpha.SearchRequest.QueryExpansionSpec.Condition.AUTO\n",
    "        ),\n",
    "        spell_correction_spec = discoveryengine_alpha.SearchRequest.SpellCorrectionSpec(\n",
    "            mode = discoveryengine_alpha.SearchRequest.SpellCorrectionSpec.Mode.AUTO\n",
    "        )\n",
    "    )\n",
    ")"
   ]
  },
  {
   "cell_type": "markdown",
   "id": "73c2359c-f0f2-4c20-8481-75732dd9b63d",
   "metadata": {},
   "source": [
    "Gather results:"
   ]
  },
  {
   "cell_type": "code",
   "execution_count": 26,
   "id": "236797f4-c612-4f5a-ad5f-596f607a1089",
   "metadata": {
    "tags": []
   },
   "outputs": [],
   "source": [
    "results = []\n",
    "for result in response.results:\n",
    "    document = dict(result.document.derived_struct_data)\n",
    "    if 'snippets' in document.keys():\n",
    "        document['snippets'] = [dict(snippet) for snippet in document['snippets'] if snippet['snippet_status'] == 'SUCCESS']\n",
    "    if 'extractive_answers' in document.keys():\n",
    "        document['extractive_answers'] = [dict(answer) for answer in document['extractive_answers']]\n",
    "    if 'extractive_segments' in document.keys():\n",
    "        document['extractive_segments'] = [dict(segment) for segment in document['extractive_segments']]\n",
    "    results.append(document)"
   ]
  },
  {
   "cell_type": "markdown",
   "id": "5d1328d4-d42d-4e28-80b2-3541b2c883dc",
   "metadata": {},
   "source": [
    "Print results:"
   ]
  },
  {
   "cell_type": "code",
   "execution_count": 27,
   "id": "7148e8e6-8556-4798-aa11-9c16c91172ec",
   "metadata": {
    "tags": []
   },
   "outputs": [
    {
     "name": "stdout",
     "output_type": "stream",
     "text": [
      "\n",
      "Source Document 1:\n",
      "\tName: mlb_2023_rules\n",
      "\tLink: gs://statmike-mlops-349915/applied-genai/vertex-ai-search/mlb_2023_rules.pdf\n",
      "\tSnippet 1: When location of home <b>base</b> is determined, with a steel tape <b>measure</b> 127 feet, 33 ⁄8 <b>inches</b> in desired direction to establish second <b>base</b>. From home <b>base</b>,&nbsp;...\n",
      "\tAnswer 1 (page = 14): The distance between first base and third base is 127 feet, 33 ⁄8 inches. All measurements from home base shall be taken from the point where the first and third base lines intersect.\n",
      "\tAnswer 2 (page = 20): The webbing shall not be constructed of wound or wrapped lacing or deepened to make a net type of trap.\n",
      "\tAnswer 3 (page = 15): 2.02 Home Base Home base shall be marked by a five-sided slab of whitened rubber. It shall be a 17-inch square with two of the corners removed so that one edge is 17 inches long, two adjacent sides are 8½ inches and the remaining two sides are 12 inches and set at an angle to make a point.\n",
      "\tAnswer 4 (page = 130): If a batter runner is called out after missing home plate, the Official Scorer shall credit him with a three-base hit.\n",
      "\tAnswer 5 (page = 129): (c) When the batter attempts to make a two-base hit or a three-base hit by sliding, he must hold the last base to which he advances.\n",
      "\tSegment 1 (page = 14): 2  Rule 2.01  2.00–THE PLAYING FIELD  2.01 Layout  ... (2120 more characters)\n",
      "\tSegment 2 (page = 20): wide across the palm, measured from the base of th ... (2367 more characters)\n",
      "\tSegment 3 (page = 20): The crotch opening shall measure not more than 4½  ... (22 more characters)\n",
      "\tSegment 4 (page = 130): Rule 9.06(c) Comment: If the batter-runner overrun ... (2029 more characters)\n",
      "\tSegment 5 (page = 15): 3  Rule 2.01 to 2.02  The foul lines and all other ... (1994 more characters)\n",
      "\tSegment 6 (page = 129): 117  Rule 9.06(b) to 9.06(c) an attempt to put out ... (2072 more characters)\n",
      "\tSegment 7 (page = 130): 118  Rule 9.06(c) to 9.06(f) hit; if the batter-ru ... (103 more characters)\n",
      "\tSegment 8 (page = 20): 8  Rule 3.05 to 3.06\n",
      "Source Document 2:\n",
      "\tName: mlb_2022_rules\n",
      "\tLink: gs://statmike-mlops-349915/applied-genai/vertex-ai-search/mlb_2022_rules.pdf\n",
      "\tSnippet 1: ... <b>size</b> and shape of the grassed and bare areas of its playing field. NOTE: (a) ... The second <b>base</b> bag shall be centered on second <b>base</b>. The bags shall be 15&nbsp;...\n",
      "\tAnswer 1 (page = 15): 2.02 Home Base Home base shall be marked by a five-sided slab of whitened rubber. It shall be a 17-inch square with two of the corners removed so that one edge is 17 inches long, two adjacent sides are 8½ inches and the remaining two sides are 12 inches and set at an angle to make a point.\n",
      "\tAnswer 2 (page = 127): If a batter runner is called out after missing home plate, the Official Scorer shall credit him with a three-base hit.\n",
      "\tAnswer 3 (page = 126): (c) When the batter attempts to make a two-base hit or a three-base hit by sliding, he must hold the last base to which he advances.\n",
      "\tAnswer 4 (page = 43): Rule 5.06(b)(4)(I) Comment: The fact a runner is awarded a base or bases without liability to be put out does not relieve him of the responsibility to touch the base he is awarded and all intervening bases.\n",
      "\tAnswer 5 (page = 125): 9.06 Determining Value of Base Hits The Official Scorer shall score a base hit as a one-base hit, two-base hit, three-base hit or home run when no error or putout results, as follows: (a) Subject to the provisions of Rule 9.06(b) and 9.06(c), it is a one-base hit if the batter stops at first base; it is a two-base hit if the batter stops at second base; it a three-base hit if the batter stops at third base; and it is a home run if the batter touches all bases and scores.\n",
      "\tSegment 1 (page = 15): 3  Rule 2.01 to 2.03  The foul lines and all other ... (1980 more characters)\n",
      "\tSegment 2 (page = 127): Rule 9.06(c) Comment: If the batter-runner overrun ... (2029 more characters)\n",
      "\tSegment 3 (page = 43): 31  Rule 5.06(b)(4) to 5.06(c)(2)  field, and is s ... (1859 more characters)\n",
      "\tSegment 4 (page = 126): 114  Rule 9.06(b) to 9.06(c) an attempt to put out ... (2072 more characters)\n",
      "\tSegment 5 (page = 127): 115  Rule 9.06(c) to 9.06(f) hit; if the batter-ru ... (103 more characters)\n",
      "\tSegment 6 (page = 125): 113  Rule 9.05(b)(1) to 9.06(b)  (1)  runner is fo ... (1816 more characters)"
     ]
    }
   ],
   "source": [
    "for r, result in enumerate(results):\n",
    "    print(f\"\\nSource Document {r+1}:\\n\\tName: {result['title']}\\n\\tLink: {result['link']}\", end = \"\")\n",
    "    if 'snippets' in result.keys():\n",
    "        for s, snippet in enumerate(result['snippets']):\n",
    "            print(f\"\\n\\tSnippet {s+1}: {snippet['snippet']}\", end = \"\")\n",
    "    if 'extractive_answers' in result.keys():\n",
    "        for a, answer in enumerate(result['extractive_answers']):\n",
    "            print(f\"\\n\\tAnswer {a+1} (page = {answer['pageNumber']}): {answer['content']}\", end = \"\")\n",
    "    if 'extractive_segments' in result.keys():\n",
    "        for s, segment in enumerate(result['extractive_segments']):\n",
    "            len_content = len(segment['content'])\n",
    "            content = segment['content'][0:min(50, len_content)]\n",
    "            if len_content > 50:\n",
    "                content += f' ... ({len_content - 50} more characters)'\n",
    "            content = content.replace(\"\\n\", \" \")\n",
    "            print(f\"\\n\\tSegment {s+1} (page = {segment['pageNumber']}): {content}\", end = \"\")"
   ]
  },
  {
   "cell_type": "code",
   "execution_count": 28,
   "id": "2080b7ac-3573-4df3-909a-e3f212c03c89",
   "metadata": {
    "tags": []
   },
   "outputs": [
    {
     "data": {
      "text/plain": [
       "summary_text: \"A base is a 17-inch square slab of whitened rubber [1, 2]. Two of the corners are removed so that one edge is 17 inches long, two adjacent sides are 8\\302\\275 inches, and the remaining two sides are 12 inches [1, 2].\"\n",
       "safety_attributes {\n",
       "  categories: \"Derogatory\"\n",
       "  categories: \"Health\"\n",
       "  categories: \"Insult\"\n",
       "  categories: \"Legal\"\n",
       "  categories: \"Profanity\"\n",
       "  categories: \"Sexual\"\n",
       "  categories: \"Toxic\"\n",
       "  scores: 0.20000000298023224\n",
       "  scores: 0.20000000298023224\n",
       "  scores: 0.20000000298023224\n",
       "  scores: 0.10000000149011612\n",
       "  scores: 0.10000000149011612\n",
       "  scores: 0.20000000298023224\n",
       "  scores: 0.10000000149011612\n",
       "}"
      ]
     },
     "execution_count": 28,
     "metadata": {},
     "output_type": "execute_result"
    }
   ],
   "source": [
    "response.summary"
   ]
  },
  {
   "cell_type": "markdown",
   "id": "7feb3e47-57e1-4d3e-ae61-e95765e34df2",
   "metadata": {},
   "source": [
    "### Search Summaries\n",
    "\n",
    "A `summary_spec` is provided with a extactive answer specification of only 1 answer - this creates an output in `response.summary` that is a paraphrased summary of the \n",
    "\n",
    "[Search Summaries](https://cloud.google.com/generative-ai-app-builder/docs/get-search-summaries)\n",
    "\n",
    "\n",
    "Summaries are created with extractive answers, see above.  For now, Nov 2023, the extractive answers feature uses the [discoveryengine_v1alpha](https://cloud.google.com/python/docs/reference/discoveryengine/latest/google.cloud.discoveryengine_v1alpha.services.search_service.SearchServiceClient) client in order to get the `extractive_content_spec` attribute for the [discoveryengine_v1alpha1.types.SearchRequest.ContentSearchSpec()](https://cloud.google.com/python/docs/reference/discoveryengine/latest/google.cloud.discoveryengine_v1alpha.types.SearchRequest.ContentSearchSpec)."
   ]
  },
  {
   "cell_type": "code",
   "execution_count": 29,
   "id": "652e035b-579e-44be-b06d-2bc8470831f3",
   "metadata": {},
   "outputs": [],
   "source": [
    "response = vertex_search_alpha.search(\n",
    "    request = discoveryengine_alpha.SearchRequest(\n",
    "        query = question,\n",
    "        page_size = 10,\n",
    "        serving_config = serving_config,\n",
    "        content_search_spec = discoveryengine_alpha.SearchRequest.ContentSearchSpec(\n",
    "            snippet_spec = discoveryengine_alpha.SearchRequest.ContentSearchSpec.SnippetSpec(\n",
    "                return_snippet = True\n",
    "            ),\n",
    "            summary_spec = discoveryengine_alpha.SearchRequest.ContentSearchSpec.SummarySpec(\n",
    "                summary_result_count = 5,\n",
    "                include_citations = True,\n",
    "                ignore_adversarial_query = True,\n",
    "                ignore_non_summary_seeking_query = False\n",
    "            ),\n",
    "            extractive_content_spec = discoveryengine_alpha.SearchRequest.ContentSearchSpec.ExtractiveContentSpec(\n",
    "                max_extractive_answer_count = 1\n",
    "            )\n",
    "        ),\n",
    "        query_expansion_spec = discoveryengine_alpha.SearchRequest.QueryExpansionSpec(\n",
    "            condition = discoveryengine_alpha.SearchRequest.QueryExpansionSpec.Condition.AUTO\n",
    "        ),\n",
    "        spell_correction_spec = discoveryengine_alpha.SearchRequest.SpellCorrectionSpec(\n",
    "            mode = discoveryengine_alpha.SearchRequest.SpellCorrectionSpec.Mode.AUTO\n",
    "        )\n",
    "    )\n",
    ")"
   ]
  },
  {
   "cell_type": "code",
   "execution_count": 30,
   "id": "2ca4d405-87a5-44d3-9eb8-3676ec5866e8",
   "metadata": {},
   "outputs": [
    {
     "data": {
      "text/plain": [
       "summary_text: \"A base is a 17-inch square with two of the corners removed so that one edge is 17 inches long, two adjacent sides are 8\\302\\275 inches, and the remaining two sides are 12 inches [1, 2].\"\n",
       "safety_attributes {\n",
       "  categories: \"Derogatory\"\n",
       "  categories: \"Health\"\n",
       "  categories: \"Insult\"\n",
       "  categories: \"Legal\"\n",
       "  categories: \"Profanity\"\n",
       "  categories: \"Sexual\"\n",
       "  categories: \"Toxic\"\n",
       "  scores: 0.10000000149011612\n",
       "  scores: 0.20000000298023224\n",
       "  scores: 0.20000000298023224\n",
       "  scores: 0.10000000149011612\n",
       "  scores: 0.10000000149011612\n",
       "  scores: 0.20000000298023224\n",
       "  scores: 0.10000000149011612\n",
       "}"
      ]
     },
     "execution_count": 30,
     "metadata": {},
     "output_type": "execute_result"
    }
   ],
   "source": [
    "response.summary"
   ]
  },
  {
   "cell_type": "markdown",
   "id": "8948dfb9-505a-4ec2-a032-1481daad62da",
   "metadata": {
    "id": "PF_zXB00TMao"
   },
   "source": [
    "---\n",
    "## Vertex LLM Setup\n",
    "\n",
    "- TextGenerationModel [Guide](https://cloud.google.com/vertex-ai/docs/generative-ai/text/test-text-prompts)\n",
    "    - TextGenerationModel [API](https://cloud.google.com/python/docs/reference/aiplatform/latest/vertexai.language_models.TextGenerationModel)"
   ]
  },
  {
   "cell_type": "code",
   "execution_count": 31,
   "id": "0670c70c-6e68-476a-9d75-1498e6c186c7",
   "metadata": {
    "executionInfo": {
     "elapsed": 17,
     "status": "ok",
     "timestamp": 1683726409314,
     "user": {
      "displayName": "Mike Henderson",
      "userId": "07691629187611687318"
     },
     "user_tz": 240
    },
    "id": "dn2FH-pETUPf"
   },
   "outputs": [],
   "source": [
    "# create links to model: \n",
    "textgen_model = vertexai.language_models.TextGenerationModel.from_pretrained('text-bison@001')"
   ]
  },
  {
   "cell_type": "markdown",
   "id": "0b54f9ff-e469-4b06-bf39-275418f395ec",
   "metadata": {
    "id": "qEITqYF1QNkP"
   },
   "source": [
    "Test text generation (llm) model:"
   ]
  },
  {
   "cell_type": "code",
   "execution_count": 32,
   "id": "1db2866b-d673-4cf3-9621-e94e622507eb",
   "metadata": {},
   "outputs": [
    {
     "data": {
      "text/plain": [
       "'What is the size of a base?'"
      ]
     },
     "execution_count": 32,
     "metadata": {},
     "output_type": "execute_result"
    }
   ],
   "source": [
    "question"
   ]
  },
  {
   "cell_type": "markdown",
   "id": "d9df2b47-b8b8-47b4-8496-cf10ae215114",
   "metadata": {},
   "source": [
    "### Ask The LLM Without Context\n",
    "\n",
    "The LLM likely has information about the question here from its vast pre-training data:"
   ]
  },
  {
   "cell_type": "code",
   "execution_count": 33,
   "id": "e211e4bc-6a67-4215-a72a-38eb2720ddfd",
   "metadata": {
    "colab": {
     "base_uri": "https://localhost:8080/"
    },
    "executionInfo": {
     "elapsed": 1758,
     "status": "ok",
     "timestamp": 1683726411751,
     "user": {
      "displayName": "Mike Henderson",
      "userId": "07691629187611687318"
     },
     "user_tz": 240
    },
    "id": "ippLc2_eYeQH",
    "outputId": "c09300ed-9e44-40a7-f3d0-f4a95515021c"
   },
   "outputs": [
    {
     "data": {
      "text/plain": [
       "The size of a base is the area of the base. The area of a base is the amount of space that the base takes up. The area of a base is calculated by multiplying the length of the base by the width of the base."
      ]
     },
     "execution_count": 33,
     "metadata": {},
     "output_type": "execute_result"
    }
   ],
   "source": [
    "prediction = textgen_model.predict(question)\n",
    "prediction"
   ]
  },
  {
   "cell_type": "code",
   "execution_count": 34,
   "id": "7e2c227b-6dbd-4805-bf2e-96aa1bcace5b",
   "metadata": {},
   "outputs": [
    {
     "data": {
      "text/plain": [
       "'The size of a base is the area of the base. The area of a base is the amount of space that the base takes up. The area of a base is calculated by multiplying the length of the base by the width of the base.'"
      ]
     },
     "execution_count": 34,
     "metadata": {},
     "output_type": "execute_result"
    }
   ],
   "source": [
    "prediction.text"
   ]
  },
  {
   "cell_type": "code",
   "execution_count": 35,
   "id": "46c31615-b351-456b-b324-00d56ae37df2",
   "metadata": {},
   "outputs": [
    {
     "data": {
      "text/plain": [
       "{'Health': 0.1,\n",
       " 'Insult': 0.2,\n",
       " 'Religion & Belief': 0.3,\n",
       " 'Sexual': 0.1,\n",
       " 'Toxic': 0.1}"
      ]
     },
     "execution_count": 35,
     "metadata": {},
     "output_type": "execute_result"
    }
   ],
   "source": [
    "prediction.safety_attributes"
   ]
  },
  {
   "cell_type": "markdown",
   "id": "a297e17c-0251-4cb5-9804-b2acc5c72386",
   "metadata": {},
   "source": [
    "Ask for longer (potential) output:"
   ]
  },
  {
   "cell_type": "code",
   "execution_count": 36,
   "id": "7843743b-c19c-4aa8-923e-1d782e7899f3",
   "metadata": {},
   "outputs": [
    {
     "data": {
      "text/plain": [
       "The size of a base is the area of the base. The area of a base is the amount of space that the base takes up. The area of a base is calculated by multiplying the length of the base by the width of the base."
      ]
     },
     "execution_count": 36,
     "metadata": {},
     "output_type": "execute_result"
    }
   ],
   "source": [
    "textgen_model.predict(question, max_output_tokens = 500)"
   ]
  },
  {
   "cell_type": "markdown",
   "id": "30bcae68-0294-4ec0-a7c1-4fb2358fa6ad",
   "metadata": {},
   "source": [
    "### Ask The LLM With Context - Grounding\n",
    "\n",
    "Construct a prompt in three parts: setup, question, context"
   ]
  },
  {
   "cell_type": "code",
   "execution_count": 37,
   "id": "f308db7e-8f37-4837-923e-80a0eeadf8e6",
   "metadata": {},
   "outputs": [],
   "source": [
    "setup = 'I need help answering a question.  It needs to be answered from the context I provide.  The context is below for source documents.  Each source document is provided with key informational elements: name, link, snippet(s), exerpt(s), and segment(s).  The name is the file name.  The link is the URI of the document in Google Cloud storage.  Snippet(s) are small extracts from the document. Exerpt(s) are short extracts from the document related to the question. Segment(s) are long passages from the document.  It there appears to be more than one answer, give both a cite the context elements used.' "
   ]
  },
  {
   "cell_type": "code",
   "execution_count": 38,
   "id": "f2eb2889-2f9a-4ce3-9ba5-3a5440c9b8e3",
   "metadata": {
    "tags": []
   },
   "outputs": [],
   "source": [
    "segments_results = ''\n",
    "for r, result in enumerate(results):\n",
    "    segments_results += f\"\\n\\nSource Document {r+1}:\\n\\tName: {result['title']}\\n\\tLink: {result['link']}\"\n",
    "    if 'snippets' in result.keys():\n",
    "        for s, snippet in enumerate(result['snippets']):\n",
    "            segments_results += f\"\\n\\tSnippet {s+1}: {snippet['snippet']}\"\n",
    "    if 'extractive_answers' in result.keys():\n",
    "        for a, answer in enumerate(result['extractive_answers']):\n",
    "            segments_results += f\"\\n\\tExerpt {a+1} (page = {answer['pageNumber']}): {answer['content']}\"\n",
    "    if 'extractive_segments' in result.keys():\n",
    "        for s, segment in enumerate(result['extractive_segments']):\n",
    "            len_content = len(segment['content'])\n",
    "            content = segment['content']#[0:min(50, len_content)]\n",
    "            #if len_content > 50:\n",
    "            #    content += f' ... ({len_content - 50} more characters)'\n",
    "            content = content.replace(\"\\n\", \" \")\n",
    "            segments_results += f\"\\n\\tSegment {s+1} (page = {segment['pageNumber']}): {content}\""
   ]
  },
  {
   "cell_type": "code",
   "execution_count": 39,
   "id": "7de3e86a-b8f7-45ae-836f-5668394c9b10",
   "metadata": {
    "tags": []
   },
   "outputs": [],
   "source": [
    "#print(segments_results)"
   ]
  },
  {
   "cell_type": "code",
   "execution_count": 40,
   "id": "b9d6d3ad-ff45-43d8-acf0-3a7a4f586276",
   "metadata": {},
   "outputs": [],
   "source": [
    "prompt = f\"{setup}\\n\\nContext:\\n{segments_results}\\n\\nQuestion: {question}\""
   ]
  },
  {
   "cell_type": "code",
   "execution_count": 41,
   "id": "ff8f9437-b7bf-45d0-97e9-cff771c58784",
   "metadata": {},
   "outputs": [],
   "source": [
    "prediction = textgen_model.predict(prompt)"
   ]
  },
  {
   "cell_type": "code",
   "execution_count": 42,
   "id": "2746aa56-eb47-4c21-b087-ffb8edeb60eb",
   "metadata": {},
   "outputs": [
    {
     "data": {
      "text/plain": [
       "'The size of a base is 15 inches square, not less than three nor more than five inches thick, and filled with soft material.'"
      ]
     },
     "execution_count": 42,
     "metadata": {},
     "output_type": "execute_result"
    }
   ],
   "source": [
    "prediction.text"
   ]
  },
  {
   "cell_type": "code",
   "execution_count": 43,
   "id": "32a87f64-809d-4435-9a03-78424504be98",
   "metadata": {},
   "outputs": [
    {
     "data": {
      "text/plain": [
       "{'Derogatory': 0.1, 'Insult': 0.3, 'Sexual': 0.3, 'Toxic': 0.2}"
      ]
     },
     "execution_count": 43,
     "metadata": {},
     "output_type": "execute_result"
    }
   ],
   "source": [
    "prediction.safety_attributes"
   ]
  },
  {
   "cell_type": "markdown",
   "id": "e05aa8aa-e6d4-4720-ac80-6f33d794f3e3",
   "metadata": {},
   "source": [
    "### Ask The LLM With Vertex AI Search As A Grounding Service\n",
    "\n",
    "Construct a prompt in three parts: setup, question and use Vertex AI Search data store as the grounding (context source) directly with the API.  By using Vertex AI Search we can directly reference the data store in the API call to the model and the context will be retrieved automatically.\n",
    "\n",
    "- [Grounding In Vertex AI](https://cloud.google.com/vertex-ai/docs/generative-ai/grounding/ground-language-models)"
   ]
  },
  {
   "cell_type": "code",
   "execution_count": 86,
   "id": "9f0c60d2-7889-463e-95b1-6b60142ccc63",
   "metadata": {
    "tags": []
   },
   "outputs": [],
   "source": [
    "prediction = textgen_model.predict(\n",
    "    prompt = f\"{setup}\\n\\nQuestion: {question}\",\n",
    "    grounding_source = vertexai.language_models.GroundingSource.VertexAISearch(\n",
    "        data_store_id = VS_DATASTORE_ID,\n",
    "        location = VS_LOCATION,\n",
    "        project = PROJECT_ID\n",
    "    )\n",
    ")"
   ]
  },
  {
   "cell_type": "code",
   "execution_count": 87,
   "id": "6af1dce6-2b68-4b47-9a22-f1ea469b0888",
   "metadata": {
    "tags": []
   },
   "outputs": [
    {
     "data": {
      "text/plain": [
       "'The size of a base is 17 inches square with two of the corners removed so that one edge is 17 inches long, two adjacent sides are 8½ inches and the remaining two sides are 12 inches and set at an angle to make a point.'"
      ]
     },
     "execution_count": 87,
     "metadata": {},
     "output_type": "execute_result"
    }
   ],
   "source": [
    "prediction.text"
   ]
  },
  {
   "cell_type": "code",
   "execution_count": 88,
   "id": "67c426ea-5d46-4e49-bb6a-98fd5a88a5e3",
   "metadata": {
    "tags": []
   },
   "outputs": [
    {
     "data": {
      "text/plain": [
       "{'Health': 0.2,\n",
       " 'Insult': 0.1,\n",
       " 'Religion & Belief': 0.5,\n",
       " 'Sexual': 0.2,\n",
       " 'Toxic': 0.1}"
      ]
     },
     "execution_count": 88,
     "metadata": {},
     "output_type": "execute_result"
    }
   ],
   "source": [
    "prediction.safety_attributes"
   ]
  },
  {
   "cell_type": "code",
   "execution_count": 89,
   "id": "b5d7298b-b20d-40b2-88d8-74f40e982b7e",
   "metadata": {
    "tags": []
   },
   "outputs": [
    {
     "data": {
      "text/plain": [
       "GroundingMetadata(citations=[])"
      ]
     },
     "execution_count": 89,
     "metadata": {},
     "output_type": "execute_result"
    }
   ],
   "source": [
    "prediction.grounding_metadata"
   ]
  },
  {
   "cell_type": "markdown",
   "id": "75202891-542f-4890-a898-3f1ffaadd0cb",
   "metadata": {},
   "source": [
    "### Ask The LLM With Web Search As A Grounding Service\n",
    "\n",
    "Construct a prompt in three parts: setup, question and use a web search as the grounding (context source) directly with the API.  By using Vertex AI Search we can directly reference the data store in the API call to the model and the context will be retrieved automatically.\n",
    "\n",
    "- [Grounding In Vertex AI](https://cloud.google.com/vertex-ai/docs/generative-ai/grounding/ground-language-models)\n",
    "\n",
    "**NOTE** Web search is an allowlisted feature as of today (Dec 2023).  This section will be completed once the feature is in public preview."
   ]
  },
  {
   "cell_type": "code",
   "execution_count": 55,
   "id": "45c55eb2-d5c8-4aed-937b-8efff3bd538b",
   "metadata": {
    "tags": []
   },
   "outputs": [],
   "source": [
    "#prediction = textgen_model.predict(\n",
    "#    prompt = f\"{setup}\\n\\nQuestion: {question}\",\n",
    "#    grounding_source = vertexai.language_models.GroundingSource.WebSearch()\n",
    "#)"
   ]
  },
  {
   "cell_type": "code",
   "execution_count": null,
   "id": "949e2cc2-8db5-4ab3-a5d0-6bf63bf26296",
   "metadata": {},
   "outputs": [],
   "source": [
    "#prediction.text"
   ]
  },
  {
   "cell_type": "code",
   "execution_count": null,
   "id": "1b302969-7ec1-4ba3-adc9-33b5591f939a",
   "metadata": {},
   "outputs": [],
   "source": [
    "#prediction.safety_attributes"
   ]
  },
  {
   "cell_type": "code",
   "execution_count": 56,
   "id": "efaffcd3-cbf8-4fe4-9553-b1ebafa870d3",
   "metadata": {
    "tags": []
   },
   "outputs": [],
   "source": [
    "#prediction.grounding_metadata"
   ]
  },
  {
   "cell_type": "markdown",
   "id": "30078cf5-823d-4035-815b-7024ae5273c6",
   "metadata": {},
   "source": [
    "---\n",
    "## Create A Function To Answer Questions\n",
    "\n",
    "Use the extractive segments approach above."
   ]
  },
  {
   "cell_type": "code",
   "execution_count": 151,
   "id": "c6768c51-4949-4842-8d75-f2b2bd6716a5",
   "metadata": {},
   "outputs": [],
   "source": [
    "def document_bot(question, show_context = False):\n",
    "    # retrieve search with extactive segments:\n",
    "    response = vertex_search_alpha.search(\n",
    "        request = discoveryengine_alpha.SearchRequest(\n",
    "            query = question,\n",
    "            page_size = 10,\n",
    "            serving_config = serving_config,\n",
    "            content_search_spec = discoveryengine_alpha.SearchRequest.ContentSearchSpec(\n",
    "                extractive_content_spec = discoveryengine_alpha.SearchRequest.ContentSearchSpec.ExtractiveContentSpec(\n",
    "                    max_extractive_answer_count = 5,\n",
    "                    max_extractive_segment_count = 10,\n",
    "                    return_extractive_segment_score = True,\n",
    "                    num_previous_segments = 2,\n",
    "                    num_next_segments = 2\n",
    "                )\n",
    "            ),\n",
    "            query_expansion_spec = discoveryengine_alpha.SearchRequest.QueryExpansionSpec(\n",
    "                condition = discoveryengine_alpha.SearchRequest.QueryExpansionSpec.Condition.AUTO\n",
    "            ),\n",
    "            spell_correction_spec = discoveryengine_alpha.SearchRequest.SpellCorrectionSpec(\n",
    "                mode = discoveryengine_alpha.SearchRequest.SpellCorrectionSpec.Mode.AUTO\n",
    "            )\n",
    "        )\n",
    "    )\n",
    "    \n",
    "    # parse results\n",
    "    results = []\n",
    "    for result in response.results:\n",
    "        document = dict(result.document.derived_struct_data)\n",
    "        if 'extractive_segments' in document.keys():\n",
    "            document['extractive_segments'] = [dict(segment) for segment in document['extractive_segments']]\n",
    "        results.append(document)\n",
    "    \n",
    "    # prepare segments as context for a prompt:\n",
    "    segments_results = ''\n",
    "    for r, result in enumerate(results):\n",
    "        segments_results += f\"\\n\\nSource Document {r+1}:\\n\\tName: {result['title']}\"\n",
    "        if 'extractive_segments' in result.keys():\n",
    "            for s, segment in enumerate(result['extractive_segments']):\n",
    "                len_content = len(segment['content'])\n",
    "                content = segment['content']\n",
    "                content = content.replace(\"\\n\", \" \")\n",
    "                segments_results += f\"\\n\\tSegment {s+1} (page = {segment['pageNumber']}): {content}\"    \n",
    "    \n",
    "    # construct prompt:\n",
    "    prompt = f\"Give a detailed answer to the question below using only this context: {segments_results}.\\nQuestion: {question}\\nAnswer and Explanation:\"\n",
    "    \n",
    "    # use LLM to answer question using prompt:\n",
    "    prediction = textgen_model.predict(prompt)\n",
    "    \n",
    "    if show_context == True:\n",
    "        answer = f'''## Response\\n\\n### Question\\n{question}\\n### Answer\\n{prediction.text}\\n### Sources\\n'''\n",
    "        \n",
    "        text = ''\n",
    "        for r, result in enumerate(response.results):\n",
    "            \n",
    "            if r > 0: text += '\\n'\n",
    "            doc = dict(result.document.derived_struct_data)\n",
    "            \n",
    "            # get document title:\n",
    "            if 'title' in doc.keys():\n",
    "                title = doc['title']\n",
    "            else: \n",
    "                title = doc['link'].split('/')[-1]\n",
    "            \n",
    "            # get document hyperlink\n",
    "            if 'link' in doc.keys():\n",
    "                if doc['link'].startswith('gs://'):\n",
    "                    link = 'https://storage.cloud.google.com/' + urllib.parse.quote(doc['link'].replace('gs://', ''))\n",
    "            else: link = '' # this should not happen\n",
    "            \n",
    "            # construct title with link\n",
    "            if link:\n",
    "                title_link = f'[{title}]({link})'\n",
    "            else:\n",
    "                title_link = title\n",
    "            \n",
    "            text += f\"{r+1}. {title_link}\"\n",
    "            if 'extractive_segments' in doc.keys():\n",
    "                for e, extract in enumerate(doc['extractive_segments']):\n",
    "                    \n",
    "                    # construct page with link\n",
    "                    if link:\n",
    "                        page_link = f\"[page = {extract['pageNumber']}]({link}#page={extract['pageNumber']})\"\n",
    "                    else:\n",
    "                        page_link = f\"page = {extract['pageNumber']}\"\n",
    "                    \n",
    "                    len_extract = len(extract['content'])\n",
    "                    part = extract[\"content\"][0:min([250, len_extract])].replace(\"\\n\", \" \")\n",
    "                    \n",
    "                    if len_extract > len(part): part_suffix = f' ... ({len_extract - 250} more characters)'\n",
    "                    else: part_suffix = ''\n",
    "                    \n",
    "                    text += f'''\\n\\t- Segment {e+1} ({page_link}): {part}{part_suffix}'''\n",
    "        \n",
    "        IPython.display.display(IPython.display.Markdown(answer+text))\n",
    "    else:\n",
    "        return prediction.text"
   ]
  },
  {
   "cell_type": "code",
   "execution_count": 152,
   "id": "84f4ce2b-8556-42ee-a508-4ed182ef1ebe",
   "metadata": {},
   "outputs": [
    {
     "data": {
      "text/plain": [
       "'What is the size of a base?'"
      ]
     },
     "execution_count": 152,
     "metadata": {},
     "output_type": "execute_result"
    }
   ],
   "source": [
    "question"
   ]
  },
  {
   "cell_type": "code",
   "execution_count": 153,
   "id": "8a657cbb-ccda-4dbb-93e2-8b5a4944a0fe",
   "metadata": {},
   "outputs": [
    {
     "data": {
      "text/plain": [
       "'The size of a base is 15 inches square, not less than three nor more than five inches thick, and filled with soft material.'"
      ]
     },
     "execution_count": 153,
     "metadata": {},
     "output_type": "execute_result"
    }
   ],
   "source": [
    "document_bot(question, show_context = False)"
   ]
  },
  {
   "cell_type": "code",
   "execution_count": 154,
   "id": "9fe06d8a-d1a2-496e-9e19-07b3a5a29fa5",
   "metadata": {},
   "outputs": [
    {
     "data": {
      "text/markdown": [
       "## Response\n",
       "\n",
       "### Question\n",
       "What is the size of a base?\n",
       "### Answer\n",
       "The size of a base is 15 inches square, not less than three nor more than five inches thick, and filled with soft material.\n",
       "### Sources\n",
       "1. [mlb_2023_rules](https://storage.cloud.google.com/statmike-mlops-349915/applied-genai/vertex-ai-search/mlb_2023_rules.pdf)\n",
       "\t- Segment 1 ([page = 14](https://storage.cloud.google.com/statmike-mlops-349915/applied-genai/vertex-ai-search/mlb_2023_rules.pdf#page=14)): 2  Rule 2.01  2.00–THE PLAYING FIELD  2.01 Layout of the Field The field shall be laid out according to the instructions below, supplemented by the diagrams in Appendices 1, 2, and 3. The infield shall be a 90-foot square. The outfield shall be the a ... (1920 more characters)\n",
       "\t- Segment 2 ([page = 20](https://storage.cloud.google.com/statmike-mlops-349915/applied-genai/vertex-ai-search/mlb_2023_rules.pdf#page=20)): wide across the palm, measured from the base of the thumb crotch to the outer edge of the mitt. The space between the thumb section and the finger section of the mitt shall not exceed four inches at the top of the mitt and three and one-half inches a ... (2167 more characters)\n",
       "\t- Segment 3 ([page = 20](https://storage.cloud.google.com/statmike-mlops-349915/applied-genai/vertex-ai-search/mlb_2023_rules.pdf#page=20)): The crotch opening shall measure not more than 4½ inches at the top, not\n",
       "\t- Segment 4 ([page = 130](https://storage.cloud.google.com/statmike-mlops-349915/applied-genai/vertex-ai-search/mlb_2023_rules.pdf#page=130)): Rule 9.06(c) Comment: If the batter-runner overruns second or third base and is tagged out trying to return, the Official Scorer shall credit the batter-runner with the last base he touched. If a batter-runner runs past second base after reaching tha ... (1829 more characters)\n",
       "\t- Segment 5 ([page = 15](https://storage.cloud.google.com/statmike-mlops-349915/applied-genai/vertex-ai-search/mlb_2023_rules.pdf#page=15)): 3  Rule 2.01 to 2.02  The foul lines and all other playing lines indicated in the diagrams by solid black lines shall be marked with paint or non-toxic and non-burning chalk or other white material. The grass lines and dimensions shown on the diagram ... (1794 more characters)\n",
       "\t- Segment 6 ([page = 129](https://storage.cloud.google.com/statmike-mlops-349915/applied-genai/vertex-ai-search/mlb_2023_rules.pdf#page=129)): 117  Rule 9.06(b) to 9.06(c) an attempt to put out a preceding runner, the scorer shall determine whether the batter made a legitimate two-base hit or three-base hit, or whether the batter-runner advanced beyond first base on the fielder’s choice.  R ... (1872 more characters)\n",
       "\t- Segment 7 ([page = 130](https://storage.cloud.google.com/statmike-mlops-349915/applied-genai/vertex-ai-search/mlb_2023_rules.pdf#page=130)): 118  Rule 9.06(c) to 9.06(f) hit; if the batter-runner overslides third base and is tagged out, the Official Scorer shall credit him with a two-base hit.\n",
       "\t- Segment 8 ([page = 20](https://storage.cloud.google.com/statmike-mlops-349915/applied-genai/vertex-ai-search/mlb_2023_rules.pdf#page=20)): 8  Rule 3.05 to 3.06\n",
       "2. [mlb_2022_rules](https://storage.cloud.google.com/statmike-mlops-349915/applied-genai/vertex-ai-search/mlb_2022_rules.pdf)\n",
       "\t- Segment 1 ([page = 15](https://storage.cloud.google.com/statmike-mlops-349915/applied-genai/vertex-ai-search/mlb_2022_rules.pdf#page=15)): 3  Rule 2.01 to 2.03  The foul lines and all other playing lines indicated in the diagrams by solid black lines shall be marked with paint or non-toxic and non-burning chalk or other white material. The grass lines and dimensions shown on the diagram ... (1780 more characters)\n",
       "\t- Segment 2 ([page = 127](https://storage.cloud.google.com/statmike-mlops-349915/applied-genai/vertex-ai-search/mlb_2022_rules.pdf#page=127)): Rule 9.06(c) Comment: If the batter-runner overruns second or third base and is tagged out trying to return, the Official Scorer shall credit the batter-runner with the last base he touched. If a batter-runner runs past second base after reaching tha ... (1829 more characters)\n",
       "\t- Segment 3 ([page = 43](https://storage.cloud.google.com/statmike-mlops-349915/applied-genai/vertex-ai-search/mlb_2022_rules.pdf#page=43)): 31  Rule 5.06(b)(4) to 5.06(c)(2)  field, and is subsequently kicked or deflected into the dugout, stands or other area where the ball is dead, the awarding of bases shall be two bases from position of runners at the time of the pitch or throw. (I)   ... (1659 more characters)\n",
       "\t- Segment 4 ([page = 126](https://storage.cloud.google.com/statmike-mlops-349915/applied-genai/vertex-ai-search/mlb_2022_rules.pdf#page=126)): 114  Rule 9.06(b) to 9.06(c) an attempt to put out a preceding runner, the scorer shall determine whether the batter made a legitimate two-base hit or three-base hit, or whether the batter-runner advanced beyond first base on the fielder’s choice.  R ... (1872 more characters)\n",
       "\t- Segment 5 ([page = 127](https://storage.cloud.google.com/statmike-mlops-349915/applied-genai/vertex-ai-search/mlb_2022_rules.pdf#page=127)): 115  Rule 9.06(c) to 9.06(f) hit; if the batter-runner overslides third base and is tagged out, the Official Scorer shall credit him with a two-base hit.\n",
       "\t- Segment 6 ([page = 125](https://storage.cloud.google.com/statmike-mlops-349915/applied-genai/vertex-ai-search/mlb_2022_rules.pdf#page=125)): 113  Rule 9.05(b)(1) to 9.06(b)  (1)  runner is forced out by a batted ball, or would have been forced out except for a fielding error; (2)  batter apparently hits safely and a runner who is forced to advance by reason of the batter becoming a runner ... (1616 more characters)"
      ],
      "text/plain": [
       "<IPython.core.display.Markdown object>"
      ]
     },
     "metadata": {},
     "output_type": "display_data"
    }
   ],
   "source": [
    "document_bot(question, show_context = True)"
   ]
  },
  {
   "cell_type": "code",
   "execution_count": 155,
   "id": "88b6bc10-c407-4df4-b56d-9e08c2193bf1",
   "metadata": {},
   "outputs": [
    {
     "data": {
      "text/markdown": [
       "## Response\n",
       "\n",
       "### Question\n",
       "Is a rule broken if three infielders are positioned on the same side of the field where the batter is more likely to hit the ball?\n",
       "### Answer\n",
       "Yes, a rule is broken if three infielders are positioned on the same side of the field where the batter is more likely to hit the ball.\n",
       "\n",
       "The rule is 5.02(c) (ii) and (iii). It states that \"at the time the pitcher releases the ball for delivery to the batter, the defensive team must have a minimum of four players (in addition to the pitcher and the catcher) with both feet completely in front of the outer boundary of the infield dirt, at least two of which must be positioned with both feet entirely on each side of second base; and (iii)\n",
       "### Sources\n",
       "1. [mlb_2023_rules](https://storage.cloud.google.com/statmike-mlops-349915/applied-genai/vertex-ai-search/mlb_2023_rules.pdf)\n",
       "\t- Segment 1 ([page = 31](https://storage.cloud.google.com/statmike-mlops-349915/applied-genai/vertex-ai-search/mlb_2023_rules.pdf#page=31)): 19  Rule 5.02(c) (ii) at the time the pitcher releases the ball for delivery to the batter, the defensive team must have a minimum of four players (in addition to the pitcher and the catcher) with both feet completely in front of the outer boundary o ... (1894 more characters)\n",
       "\t- Segment 2 ([page = 55](https://storage.cloud.google.com/statmike-mlops-349915/applied-genai/vertex-ai-search/mlb_2023_rules.pdf#page=55)): 43  Rule 5.09(a)(6) to 5.09(a)(8)  (6)  He attempts to hit a third strike and the ball touches him; (7)  His fair ball touches him before touching a fielder. If the batter is in a legal position in the batter’s box, see Rule 5.04(b)(5), and, in the u ... (1829 more characters)\n",
       "\t- Segment 3 ([page = 36](https://storage.cloud.google.com/statmike-mlops-349915/applied-genai/vertex-ai-search/mlb_2023_rules.pdf#page=36)): 24  Rule 5.04(c) to 5.05(a)(6)  (c) Completing Time at Bat A batter has legally completed his time at bat when he is put out or becomes a runner.  5.05 When the Batter Becomes a Runner (a) The batter becomes a runner when: (1)  He hits a fair ball; R ... (1472 more characters)\n",
       "\t- Segment 4 ([page = 128](https://storage.cloud.google.com/statmike-mlops-349915/applied-genai/vertex-ai-search/mlb_2023_rules.pdf#page=128)): 116  Rule 9.05(b)(1) to 9.06(b)  (1)  runner is forced out by a batted ball, or would have been forced out except for a fielding error; (2)  batter apparently hits safely and a runner who is forced to advance by reason of the batter becoming a runner ... (1616 more characters)\n",
       "\t- Segment 5 ([page = 95](https://storage.cloud.google.com/statmike-mlops-349915/applied-genai/vertex-ai-search/mlb_2023_rules.pdf#page=95)): 83  Rule 6.02(d) to 6.03(a)(4) Rule 6.02(d) Comment: If at any time the ball hits the rosin bag it is in play. In the case of rain or wet field, the umpire may instruct the pitcher to carry the rosin bag in his hip pocket. A pitcher may use the rosin ... (1710 more characters)\n",
       "2. [mlb_2022_rules](https://storage.cloud.google.com/statmike-mlops-349915/applied-genai/vertex-ai-search/mlb_2022_rules.pdf)\n",
       "\t- Segment 1 ([page = 42](https://storage.cloud.google.com/statmike-mlops-349915/applied-genai/vertex-ai-search/mlb_2022_rules.pdf#page=42)): 30  Rule 5.06(b)(4) ball hit the ground, passes a receiving fielder or goes out of play into the stands. The position of the batter-runner at the time the wild throw left the thrower’s hand is the key in deciding the award of bases. If the batter-run ... (1757 more characters)\n",
       "\t- Segment 2 ([page = 54](https://storage.cloud.google.com/statmike-mlops-349915/applied-genai/vertex-ai-search/mlb_2022_rules.pdf#page=54)): 42  Rule 5.09(a)(8) to 5.09(a)(10) runners may advance. If the batter-runner drops his bat and the ball rolls against the bat in fair territory and, in the umpire’s judgment, there was no intention to interfere with the course of the ball, the ball i ... (1664 more characters)\n",
       "\t- Segment 3 ([page = 45](https://storage.cloud.google.com/statmike-mlops-349915/applied-genai/vertex-ai-search/mlb_2022_rules.pdf#page=45)): 33  Rule 5.06(c)(7) to 5.07(a) Rule 5.06(c)(7) Comment: If a foul tip hits the umpire and is caught by a fielder on the rebound, the ball is “dead” and the batsman cannot be called out. The same shall apply where such foul tip lodges in the umpire’s  ... (1677 more characters)\n",
       "\t- Segment 4 ([page = 125](https://storage.cloud.google.com/statmike-mlops-349915/applied-genai/vertex-ai-search/mlb_2022_rules.pdf#page=125)): 113  Rule 9.05(b)(1) to 9.06(b)  (1)  runner is forced out by a batted ball, or would have been forced out except for a fielding error; (2)  batter apparently hits safely and a runner who is forced to advance by reason of the batter becoming a runner ... (1616 more characters)\n",
       "\t- Segment 5 ([page = 93](https://storage.cloud.google.com/statmike-mlops-349915/applied-genai/vertex-ai-search/mlb_2022_rules.pdf#page=93)): 81  Rule 6.02(d) to 6.03(a)(4) Rule 6.02(d) Comment: If at any time the ball hits the rosin bag it is in play. In the case of rain or wet field, the umpire may instruct the pitcher to carry the rosin bag in his hip pocket. A pitcher may use the rosin ... (1710 more characters)"
      ],
      "text/plain": [
       "<IPython.core.display.Markdown object>"
      ]
     },
     "metadata": {},
     "output_type": "display_data"
    }
   ],
   "source": [
    "document_bot(\"Is a rule broken if three infielders are positioned on the same side of the field where the batter is more likely to hit the ball?\", show_context = True)"
   ]
  },
  {
   "cell_type": "code",
   "execution_count": 156,
   "id": "360e8208-b4c3-4263-bb94-c44e0aace2fb",
   "metadata": {},
   "outputs": [
    {
     "data": {
      "text/markdown": [
       "## Response\n",
       "\n",
       "### Question\n",
       "What is the definition of a balk?\n",
       "### Answer\n",
       "A balk is an illegal act by the pitcher with a runner or runners on base, entitling all runners to advance one base.\n",
       "### Sources\n",
       "1. [mlb_2022_rules](https://storage.cloud.google.com/statmike-mlops-349915/applied-genai/vertex-ai-search/mlb_2022_rules.pdf)\n",
       "\t- Segment 1 ([page = 160](https://storage.cloud.google.com/statmike-mlops-349915/applied-genai/vertex-ai-search/mlb_2022_rules.pdf#page=160)): 148  Definitions of Terms  touching a player or umpire and before passing first or third base, it is a foul ball; or if the ball settles on foul territory or is touched by a player on foul territory, it is a foul ball. If a fly ball lands on or beyon ... (1841 more characters)\n",
       "\t- Segment 2 ([page = 155](https://storage.cloud.google.com/statmike-mlops-349915/applied-genai/vertex-ai-search/mlb_2022_rules.pdf#page=155)): 143  Definitions of Terms  DEFINITIONS OF TERMS (All definitions are listed alphabetically) ADJUDGED is a judgment decision by the umpire. An APPEAL is the act of a fielder in claiming violation of the rules by the offensive team. A BALK is an illega ... (1563 more characters)\n",
       "\t- Segment 3 ([page = 139](https://storage.cloud.google.com/statmike-mlops-349915/applied-genai/vertex-ai-search/mlb_2022_rules.pdf#page=139)): 127  Rule 9.12(e) to 9.13(a) first base when touched by a pitched ball, or when the batter reaches first base as the result of a wild pitch or passed ball. Rule 9.12(e) Comment: See Rule 9.13 for additional scoring rules relating to wild pitches and  ... (1552 more characters)\n",
       "\t- Segment 4 ([page = 88](https://storage.cloud.google.com/statmike-mlops-349915/applied-genai/vertex-ai-search/mlb_2022_rules.pdf#page=88)): 76  Rule 6.02(a)(3) to 6.02(a)(8) Rule 6.02(a)(3) Comment: Requires the pitcher, while touching his plate, to step directly toward a base before throwing to that base. If a pitcher turns or spins off of his free foot without actually stepping or if h ... (1654 more characters)\n",
       "\t- Segment 5 ([page = 87](https://storage.cloud.google.com/statmike-mlops-349915/applied-genai/vertex-ai-search/mlb_2022_rules.pdf#page=87)): 75  Rule 6.01(j)(3) to 6.02(a)(3)  (3)  is able and attempts to remain on the base (except home plate) after completion of the slide; and (4)  slides within reach of the base without changing his pathway for the purpose of initiating contact with a f ... (1632 more characters)\n",
       "2. [mlb_2023_rules](https://storage.cloud.google.com/statmike-mlops-349915/applied-genai/vertex-ai-search/mlb_2023_rules.pdf)\n",
       "\t- Segment 1 ([page = 163](https://storage.cloud.google.com/statmike-mlops-349915/applied-genai/vertex-ai-search/mlb_2023_rules.pdf#page=163)): 151  Definitions of Terms  touching a player or umpire and before passing first or third base, it is a foul ball; or if the ball settles on foul territory or is touched by a player on foul territory, it is a foul ball. If a fly ball lands on or beyon ... (1841 more characters)\n",
       "\t- Segment 2 ([page = 158](https://storage.cloud.google.com/statmike-mlops-349915/applied-genai/vertex-ai-search/mlb_2023_rules.pdf#page=158)): 146  Definitions of Terms  DEFINITIONS OF TERMS (All definitions are listed alphabetically) ADJUDGED is a judgment decision by the umpire. An APPEAL is the act of a fielder in claiming violation of the rules by the offensive team. A BALK is an illega ... (1563 more characters)\n",
       "\t- Segment 3 ([page = 142](https://storage.cloud.google.com/statmike-mlops-349915/applied-genai/vertex-ai-search/mlb_2023_rules.pdf#page=142)): 130  Rule 9.12(e) to 9.13(a) first base when touched by a pitched ball, or when the batter reaches first base as the result of a wild pitch or passed ball. Rule 9.12(e) Comment: See Rule 9.13 for additional scoring rules relating to wild pitches and  ... (1552 more characters)\n",
       "\t- Segment 4 ([page = 90](https://storage.cloud.google.com/statmike-mlops-349915/applied-genai/vertex-ai-search/mlb_2023_rules.pdf#page=90)): 78  Rule 6.02(a)(3) to 6.02(a)(8) Rule 6.02(a)(3) Comment: Requires the pitcher, while touching his plate, to step directly toward a base before throwing to that base. If a pitcher turns or spins off of his free foot without actually stepping or if h ... (1654 more characters)\n",
       "\t- Segment 5 ([page = 48](https://storage.cloud.google.com/statmike-mlops-349915/applied-genai/vertex-ai-search/mlb_2023_rules.pdf#page=48)): 36  Rule 5.07(a)(1) to 5.07(a)(2)  (C) disengage the rubber (if he does he must drop his hand to his sides). In disengaging the rubber the pitcher must step off with his pivot foot and not his free foot first. He may not go into a set or stretch posi ... (1822 more characters)"
      ],
      "text/plain": [
       "<IPython.core.display.Markdown object>"
      ]
     },
     "metadata": {},
     "output_type": "display_data"
    }
   ],
   "source": [
    "document_bot(\"What is the definition of a balk?\", show_context = True)"
   ]
  },
  {
   "cell_type": "code",
   "execution_count": 158,
   "id": "af425c8a-f886-4c58-8da7-403390573639",
   "metadata": {},
   "outputs": [
    {
     "data": {
      "text/markdown": [
       "## Response\n",
       "\n",
       "### Question\n",
       "A batter hits a ball that goes over the fence in fair territotry, but it is caught by a fan in the stands. Is the ball a home run?\n",
       "### Answer\n",
       "Yes, the ball is a home run.\n",
       "\n",
       "The rules state that \"A fair ball passes over a fence or into the stands at a distance from home base of 250 feet or more. Such hit entitles the batter to a home run when he shall have touched all bases legally.\"\n",
       "### Sources\n",
       "1. [mlb_2023_rules](https://storage.cloud.google.com/statmike-mlops-349915/applied-genai/vertex-ai-search/mlb_2023_rules.pdf)\n",
       "\t- Segment 1 ([page = 161](https://storage.cloud.google.com/statmike-mlops-349915/applied-genai/vertex-ai-search/mlb_2023_rules.pdf#page=161)): 149  Definitions of Terms  A fair fly shall be judged according to the relative position of the ball and the foul line, including the foul pole, and not as to whether the fielder is on fair or foul territory at the time he touches the ball.  (Fair Ba ... (1970 more characters)\n",
       "\t- Segment 2 ([page = 37](https://storage.cloud.google.com/statmike-mlops-349915/applied-genai/vertex-ai-search/mlb_2023_rules.pdf#page=37)): 25  Rule 5.05(a)(6) to 5.05(b)(1) or under a scoreboard, or through or under shrubbery, or vines on the fence, in which case the batter and the runners shall be entitled to advance two bases; (7)  Any fair ball which, either before or after touching  ... (1812 more characters)\n",
       "\t- Segment 3 ([page = 84](https://storage.cloud.google.com/statmike-mlops-349915/applied-genai/vertex-ai-search/mlb_2023_rules.pdf#page=84)): 72  Rule 6.01(d) to 6.01(e) umpire should call interference on the part of the coach is up to the judgment of the umpire and if the umpire felt that the coach did all he could to avoid interfering with the play, no interference need be called. If, in ... (1813 more characters)\n",
       "\t- Segment 4 ([page = 36](https://storage.cloud.google.com/statmike-mlops-349915/applied-genai/vertex-ai-search/mlb_2023_rules.pdf#page=36)): 24  Rule 5.04(c) to 5.05(a)(6)  (c) Completing Time at Bat A batter has legally completed his time at bat when he is put out or becomes a runner.  5.05 When the Batter Becomes a Runner (a) The batter becomes a runner when: (1)  He hits a fair ball; R ... (1472 more characters)\n",
       "\t- Segment 5 ([page = 52](https://storage.cloud.google.com/statmike-mlops-349915/applied-genai/vertex-ai-search/mlb_2023_rules.pdf#page=52)): 40  Rule 5.08(b)  Rule 5.08 Comment: APPROVED RULING: No run shall score during a play in which the third out is made by the batter-runner before he touches first base. Example: One out, Jones on second, Smith on first. The batter, Brown, hits safely ... (1688 more characters)\n",
       "2. [mlb_2022_rules](https://storage.cloud.google.com/statmike-mlops-349915/applied-genai/vertex-ai-search/mlb_2022_rules.pdf)\n",
       "\t- Segment 1 ([page = 158](https://storage.cloud.google.com/statmike-mlops-349915/applied-genai/vertex-ai-search/mlb_2022_rules.pdf#page=158)): 146  Definitions of Terms  A fair fly shall be judged according to the relative position of the ball and the foul line, including the foul pole, and not as to whether the fielder is on fair or foul territory at the time he touches the ball.  (Fair Ba ... (1970 more characters)\n",
       "\t- Segment 2 ([page = 44](https://storage.cloud.google.com/statmike-mlops-349915/applied-genai/vertex-ai-search/mlb_2022_rules.pdf#page=44)): 32  Rule 5.06(c)(2) to 5.06(c)(7)  one or more bases as the result of acts which occurred while the ball was alive (such as, but not limited to a balk, an overthrow, interference, or a home run or other fair ball hit out of the playing field). Rule 5 ... (1600 more characters)\n",
       "\t- Segment 3 ([page = 35](https://storage.cloud.google.com/statmike-mlops-349915/applied-genai/vertex-ai-search/mlb_2022_rules.pdf#page=35)): 23  Rule 5.05(a)(2) to 5.05(a)(8)  (2)  The third strike called by the umpire is not caught, providing (1) first base is unoccupied, or (2) first base is occupied with two out; Rule 5.05(a)(2) Comment: A batter who does not realize his situation on a ... (1751 more characters)\n",
       "\t- Segment 4 ([page = 53](https://storage.cloud.google.com/statmike-mlops-349915/applied-genai/vertex-ai-search/mlb_2022_rules.pdf#page=53)): 41  Rule 5.09(a)(1) to 5.09(a)(8) before it touches the ground. Runners may leave their bases the instant the first fielder touches the ball. A fielder may reach over a fence, railing, rope or other line of demarcation to make a catch. He may jump on ... (1580 more characters)\n",
       "\t- Segment 5 ([page = 36](https://storage.cloud.google.com/statmike-mlops-349915/applied-genai/vertex-ai-search/mlb_2022_rules.pdf#page=36)): 24  Rule 5.05(a)(8) to 5.05(b)(2)  which case the batter and all runners shall be entitled to advance two bases; (9)  Any fair fly ball is deflected by the fielder into the stands, or over the fence into foul territory, in which case the batter shall ... (1812 more characters)"
      ],
      "text/plain": [
       "<IPython.core.display.Markdown object>"
      ]
     },
     "metadata": {},
     "output_type": "display_data"
    }
   ],
   "source": [
    "document_bot(\"A batter hits a ball that goes over the fence in fair territotry, but it is caught by a fan in the stands. Is the ball a home run?\", show_context = True)"
   ]
  },
  {
   "cell_type": "code",
   "execution_count": 159,
   "id": "97d3fff1-60be-4ea9-b7f8-fa7daa378f58",
   "metadata": {},
   "outputs": [
    {
     "data": {
      "text/markdown": [
       "## Response\n",
       "\n",
       "### Question\n",
       "What is the dimension of base?\n",
       "### Answer\n",
       "The dimension of the base is 15 inches square, not less than three nor more than five inches thick, and filled with soft material.\n",
       "### Sources\n",
       "1. [mlb_2022_rules](https://storage.cloud.google.com/statmike-mlops-349915/applied-genai/vertex-ai-search/mlb_2022_rules.pdf)\n",
       "\t- Segment 1 ([page = 15](https://storage.cloud.google.com/statmike-mlops-349915/applied-genai/vertex-ai-search/mlb_2022_rules.pdf#page=15)): 3  Rule 2.01 to 2.03  The foul lines and all other playing lines indicated in the diagrams by solid black lines shall be marked with paint or non-toxic and non-burning chalk or other white material. The grass lines and dimensions shown on the diagram ... (1780 more characters)\n",
       "\t- Segment 2 ([page = 14](https://storage.cloud.google.com/statmike-mlops-349915/applied-genai/vertex-ai-search/mlb_2022_rules.pdf#page=14)): 2  Rule 2.01  2.00–THE PLAYING FIELD  2.01 Layout of the Field The field shall be laid out according to the instructions below, supplemented by the diagrams in Appendices 1, 2, and 3. The infield shall be a 90-foot square. The outfield shall be the a ... (1920 more characters)\n",
       "\t- Segment 3 ([page = 127](https://storage.cloud.google.com/statmike-mlops-349915/applied-genai/vertex-ai-search/mlb_2022_rules.pdf#page=127)): Rule 9.06(c) Comment: If the batter-runner overruns second or third base and is tagged out trying to return, the Official Scorer shall credit the batter-runner with the last base he touched. If a batter-runner runs past second base after reaching tha ... (1829 more characters)\n",
       "\t- Segment 4 ([page = 126](https://storage.cloud.google.com/statmike-mlops-349915/applied-genai/vertex-ai-search/mlb_2022_rules.pdf#page=126)): 114  Rule 9.06(b) to 9.06(c) an attempt to put out a preceding runner, the scorer shall determine whether the batter made a legitimate two-base hit or three-base hit, or whether the batter-runner advanced beyond first base on the fielder’s choice.  R ... (1872 more characters)\n",
       "\t- Segment 5 ([page = 43](https://storage.cloud.google.com/statmike-mlops-349915/applied-genai/vertex-ai-search/mlb_2022_rules.pdf#page=43)): 31  Rule 5.06(b)(4) to 5.06(c)(2)  field, and is subsequently kicked or deflected into the dugout, stands or other area where the ball is dead, the awarding of bases shall be two bases from position of runners at the time of the pitch or throw. (I)   ... (1659 more characters)\n",
       "\t- Segment 6 ([page = 127](https://storage.cloud.google.com/statmike-mlops-349915/applied-genai/vertex-ai-search/mlb_2022_rules.pdf#page=127)): 115  Rule 9.06(c) to 9.06(f) hit; if the batter-runner overslides third base and is tagged out, the Official Scorer shall credit him with a two-base hit.\n",
       "2. [mlb_2023_rules](https://storage.cloud.google.com/statmike-mlops-349915/applied-genai/vertex-ai-search/mlb_2023_rules.pdf)\n",
       "\t- Segment 1 ([page = 15](https://storage.cloud.google.com/statmike-mlops-349915/applied-genai/vertex-ai-search/mlb_2023_rules.pdf#page=15)): 3  Rule 2.01 to 2.02  The foul lines and all other playing lines indicated in the diagrams by solid black lines shall be marked with paint or non-toxic and non-burning chalk or other white material. The grass lines and dimensions shown on the diagram ... (1794 more characters)\n",
       "\t- Segment 2 ([page = 130](https://storage.cloud.google.com/statmike-mlops-349915/applied-genai/vertex-ai-search/mlb_2023_rules.pdf#page=130)): Rule 9.06(c) Comment: If the batter-runner overruns second or third base and is tagged out trying to return, the Official Scorer shall credit the batter-runner with the last base he touched. If a batter-runner runs past second base after reaching tha ... (1829 more characters)\n",
       "\t- Segment 3 ([page = 61](https://storage.cloud.google.com/statmike-mlops-349915/applied-genai/vertex-ai-search/mlb_2023_rules.pdf#page=61)): 49  Rule 5.09(b)(9) to 5.09(b)(12)  third base and home plate. Believing the lead runner will be tagged out, the runner at second base (i.e., the trailing runner) advances to third base. Before being tagged, the lead runner runs back to and beyond th ... (1816 more characters)\n",
       "\t- Segment 4 ([page = 44](https://storage.cloud.google.com/statmike-mlops-349915/applied-genai/vertex-ai-search/mlb_2023_rules.pdf#page=44)): 32  Rule 5.06(b)(4) to 5.06(c) APPROVED RULING: When a wild pitch or passed ball goes through or by the catcher, or deflects off the catcher, and goes directly into the dugout, stands, above the break, or any area where the ball is dead, the awarding ... (1714 more characters)\n",
       "\t- Segment 5 ([page = 129](https://storage.cloud.google.com/statmike-mlops-349915/applied-genai/vertex-ai-search/mlb_2023_rules.pdf#page=129)): 117  Rule 9.06(b) to 9.06(c) an attempt to put out a preceding runner, the scorer shall determine whether the batter made a legitimate two-base hit or three-base hit, or whether the batter-runner advanced beyond first base on the fielder’s choice.  R ... (1872 more characters)\n",
       "\t- Segment 6 ([page = 130](https://storage.cloud.google.com/statmike-mlops-349915/applied-genai/vertex-ai-search/mlb_2023_rules.pdf#page=130)): 118  Rule 9.06(c) to 9.06(f) hit; if the batter-runner overslides third base and is tagged out, the Official Scorer shall credit him with a two-base hit."
      ],
      "text/plain": [
       "<IPython.core.display.Markdown object>"
      ]
     },
     "metadata": {},
     "output_type": "display_data"
    }
   ],
   "source": [
    "document_bot(\"What is the dimension of base?\", show_context = True)"
   ]
  },
  {
   "cell_type": "code",
   "execution_count": null,
   "id": "2b61382c-e72d-423f-ba29-a7896b3c233c",
   "metadata": {},
   "outputs": [],
   "source": []
  }
 ],
 "metadata": {
  "environment": {
   "kernel": "conda-root-py",
   "name": "workbench-notebooks.m115",
   "type": "gcloud",
   "uri": "gcr.io/deeplearning-platform-release/workbench-notebooks:m115"
  },
  "kernelspec": {
   "display_name": "Python 3 (ipykernel)",
   "language": "python",
   "name": "conda-root-py"
  },
  "language_info": {
   "codemirror_mode": {
    "name": "ipython",
    "version": 3
   },
   "file_extension": ".py",
   "mimetype": "text/x-python",
   "name": "python",
   "nbconvert_exporter": "python",
   "pygments_lexer": "ipython3",
   "version": "3.10.13"
  }
 },
 "nbformat": 4,
 "nbformat_minor": 5
}
