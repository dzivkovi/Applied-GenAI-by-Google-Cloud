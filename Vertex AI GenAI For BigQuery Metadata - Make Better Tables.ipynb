{
 "cells": [
  {
   "cell_type": "markdown",
   "id": "71a85fad",
   "metadata": {},
   "source": [
    "![tracker](https://us-central1-vertex-ai-mlops-369716.cloudfunctions.net/pixel-tracking?path=statmike%2Fvertex-ai-mlops%2FApplied+GenAI%2Flegacy&file=Vertex+AI+GenAI+For+BigQuery+Metadata+-+Make+Better+Tables.ipynb)\n",
    "<!--- header table --->\n",
    "<table align=\"left\">\n",
    "  <td style=\"text-align: center\">\n",
    "    <a href=\"https://colab.research.google.com/github/statmike/vertex-ai-mlops/blob/main/Applied%20GenAI/legacy/Vertex%20AI%20GenAI%20For%20BigQuery%20Metadata%20-%20Make%20Better%20Tables.ipynb\">\n",
    "      <img src=\"https://cloud.google.com/ml-engine/images/colab-logo-32px.png\" alt=\"Google Colaboratory logo\">\n",
    "      <br>Run in<br>Colab\n",
    "    </a>\n",
    "  </td>\n",
    "  <td style=\"text-align: center\">\n",
    "    <a href=\"https://console.cloud.google.com/vertex-ai/colab/import/https%3A%2F%2Fraw.githubusercontent.com%2Fstatmike%2Fvertex-ai-mlops%2Fmain%2FApplied%2520GenAI%2Flegacy%2FVertex%2520AI%2520GenAI%2520For%2520BigQuery%2520Metadata%2520-%2520Make%2520Better%2520Tables.ipynb\">\n",
    "      <img width=\"32px\" src=\"https://lh3.googleusercontent.com/JmcxdQi-qOpctIvWKgPtrzZdJJK-J3sWE1RsfjZNwshCFgE_9fULcNpuXYTilIR2hjwN\" alt=\"Google Cloud Colab Enterprise logo\">\n",
    "      <br>Run in<br>Colab Enterprise\n",
    "    </a>\n",
    "  </td>      \n",
    "  <td style=\"text-align: center\">\n",
    "    <a href=\"https://github.com/statmike/vertex-ai-mlops/blob/main/Applied%20GenAI/legacy/Vertex%20AI%20GenAI%20For%20BigQuery%20Metadata%20-%20Make%20Better%20Tables.ipynb\">\n",
    "      <img src=\"https://cloud.google.com/ml-engine/images/github-logo-32px.png\" alt=\"GitHub logo\">\n",
    "      <br>View on<br>GitHub\n",
    "    </a>\n",
    "  </td>\n",
    "  <td style=\"text-align: center\">\n",
    "    <a href=\"https://console.cloud.google.com/vertex-ai/workbench/deploy-notebook?download_url=https://raw.githubusercontent.com/statmike/vertex-ai-mlops/main/Applied%20GenAI/legacy/Vertex%20AI%20GenAI%20For%20BigQuery%20Metadata%20-%20Make%20Better%20Tables.ipynb\">\n",
    "      <img src=\"https://lh3.googleusercontent.com/UiNooY4LUgW_oTvpsNhPpQzsstV5W8F7rYgxgGBD85cWJoLmrOzhVs_ksK_vgx40SHs7jCqkTkCk=e14-rj-sc0xffffff-h130-w32\" alt=\"Vertex AI logo\">\n",
    "      <br>Open in<br>Vertex AI Workbench\n",
    "    </a>\n",
    "  </td>\n",
    "</table>"
   ]
  },
  {
   "cell_type": "markdown",
   "id": "b5287e1c-0b49-4521-ac8f-cc82db7d24a1",
   "metadata": {},
   "source": [
    "---\n",
    "\n",
    "**File Move Notices**\n",
    "\n",
    "This file moved locations:\n",
    "- On 09/07/2024 (mm/dd/yyyy)\n",
    "\t- From: `Applied GenAI/Vertex AI GenAI For BigQuery Metadata - Make Better Tables.ipynb`\n",
    "\t- To: `Applied GenAI/legacy/Vertex AI GenAI For BigQuery Metadata - Make Better Tables.ipynb`\n",
    "---\n",
    "<!---end of move notices--->\n",
    "\n",
    "# Vertex AI GenAI For BigQuery Metadata - Make Better Tables\n",
    "\n",
    "BigQuery tables are a great source of information for generative AI applications.  Retrieving information is a multi-step process as covered in [Vertex AI GenAI For BigQuery Q&A - Overview](./Vertex%20AI%20GenAI%20For%20BigQuery%20Q%26A%20-%20Overview.ipynb).  The ability of a large language model to understand the contents of tables directly relies on the descriptiveness of the metadata: column names, column descriptions, table names, table descriptions.  \n",
    "\n",
    "This workflow shows the potential for creating better, more descriptive metadata for BigQuery tables by using the existing metadata as well as common values from the tables columns.\n",
    "\n",
    "This notebooks uses the BigFrames API for BigQuery to make local work in the form of a Pandas like API while keeping the execution remote, within BigQuery.  The LLM used here is Vertex AI [text-bison](https://cloud.google.com/vertex-ai/docs/generative-ai/model-reference/text) called directly from BigQuery using [ML.GENERATE_TEXT](https://cloud.google.com/bigquery/docs/reference/standard-sql/bigqueryml-syntax-generate-text) using the api [bigframes.ml.llm.PaLM2TextGenerator()](https://cloud.google.com/python/docs/reference/bigframes/latest/bigframes.ml.llm.PaLM2TextGenerator).\n"
   ]
  },
  {
   "cell_type": "markdown",
   "id": "f523a8d1-b749-4d2f-89f4-e6cab1f42320",
   "metadata": {
    "id": "od_UkDpvRmgD",
    "tags": []
   },
   "source": [
    "---\n",
    "## Colab Setup\n",
    "\n",
    "To run this notebook in Colab click [![Open In Colab](https://colab.research.google.com/assets/colab-badge.svg)](https://colab.research.google.com/github/statmike/vertex-ai-mlops/blob/main/Applied%20GenAI/Vertex%20AI%20GenAI%20For%20BigQuery%20Metadata%20-%20Make%20Better%20Tables.ipynb) and run the cells in this section.  Otherwise, skip this section.\n",
    "\n",
    "This cell will authenticate to GCP (follow prompts in the popup)."
   ]
  },
  {
   "cell_type": "code",
   "execution_count": 1,
   "id": "00a34ae6-d147-49d4-8fc4-22d63345c45d",
   "metadata": {
    "executionInfo": {
     "elapsed": 195,
     "status": "ok",
     "timestamp": 1683726184843,
     "user": {
      "displayName": "Mike Henderson",
      "userId": "07691629187611687318"
     },
     "user_tz": 240
    },
    "id": "8UO9FnqyKBlF"
   },
   "outputs": [],
   "source": [
    "PROJECT_ID = 'statmike-mlops-349915' # replace with project ID"
   ]
  },
  {
   "cell_type": "code",
   "execution_count": 2,
   "id": "6e176e30-fef3-48a7-ba98-3350fd51e578",
   "metadata": {
    "colab": {
     "base_uri": "https://localhost:8080/"
    },
    "executionInfo": {
     "elapsed": 68869,
     "status": "ok",
     "timestamp": 1683726253709,
     "user": {
      "displayName": "Mike Henderson",
      "userId": "07691629187611687318"
     },
     "user_tz": 240
    },
    "id": "N98-KK7LRkjm",
    "outputId": "09ec5008-0def-4e1a-c349-c598ee752f78"
   },
   "outputs": [],
   "source": [
    "try:\n",
    "    import google.colab\n",
    "    from google.colab import auth\n",
    "    auth.authenticate_user()\n",
    "    !gcloud config set project {PROJECT_ID}\n",
    "except Exception:\n",
    "    pass"
   ]
  },
  {
   "cell_type": "markdown",
   "id": "8dfe7b10-e9fb-4a58-8da8-cd82c194be00",
   "metadata": {},
   "source": [
    "---\n",
    "## Installs and API Enablement\n",
    "\n",
    "The clients packages may need installing in this environment.  Also, the API for Artifact Registry needs to be enabled (if not already enabled)."
   ]
  },
  {
   "cell_type": "markdown",
   "id": "6f6803d0-124a-4d53-967f-7e051cb68f96",
   "metadata": {},
   "source": [
    "### Installs (If Needed)\n",
    "The list `packages` contains tuples of package import names and install names.  If the import name is not found then the install name is used to install quitely for the current user."
   ]
  },
  {
   "cell_type": "code",
   "execution_count": 3,
   "id": "3327b53e-942b-4143-bee4-b2703a331bd5",
   "metadata": {},
   "outputs": [],
   "source": [
    "# tuples of (import name, install name)\n",
    "packages = [\n",
    "    ('bigframes', 'bigframes'),\n",
    "    ('google.cloud.bigquery_connection_v1', 'google-cloud-bigquery-connection')\n",
    "]\n",
    "\n",
    "import importlib\n",
    "install = False\n",
    "for package in packages:\n",
    "    if not importlib.util.find_spec(package[0]):\n",
    "        print(f'installing package {package[1]}')\n",
    "        install = True\n",
    "        !pip install {package[1]} -U -q --user"
   ]
  },
  {
   "cell_type": "markdown",
   "id": "6c9d85d8-79f4-405b-9f44-eddf0ddd2dbd",
   "metadata": {},
   "source": [
    "### API Enablement\n",
    "\n",
    "Make sure the [BigQuery Connection API](https://cloud.google.com/bigquery/docs/create-cloud-resource-connection) is enabled:"
   ]
  },
  {
   "cell_type": "code",
   "execution_count": 5,
   "id": "e59d343a-98de-4ddd-8fd1-210b84746139",
   "metadata": {},
   "outputs": [],
   "source": [
    "!gcloud services enable bigqueryconnection.googleapis.com"
   ]
  },
  {
   "cell_type": "markdown",
   "id": "a61a5784-3a5e-46ce-88b9-3443dc30750f",
   "metadata": {},
   "source": [
    "### Restart Kernel (If Installs Occured)\n",
    "\n",
    "After a kernel restart the code submission can start with the next cell after this one."
   ]
  },
  {
   "cell_type": "code",
   "execution_count": 6,
   "id": "293a6dbf-26d0-44ae-8788-80d0e08fa3a1",
   "metadata": {},
   "outputs": [],
   "source": [
    "if install:\n",
    "    import IPython\n",
    "    app = IPython.Application.instance()\n",
    "    app.kernel.do_shutdown(True)"
   ]
  },
  {
   "cell_type": "markdown",
   "id": "7e2587e1-ff14-4b55-8baf-29a9be2667aa",
   "metadata": {},
   "source": [
    "---\n",
    "## Setup"
   ]
  },
  {
   "cell_type": "code",
   "execution_count": 1,
   "id": "331dd33d-d8d4-4f2c-a10c-97da0bf913e6",
   "metadata": {},
   "outputs": [
    {
     "data": {
      "text/plain": [
       "'statmike-mlops-349915'"
      ]
     },
     "execution_count": 1,
     "metadata": {},
     "output_type": "execute_result"
    }
   ],
   "source": [
    "project = !gcloud config get-value project\n",
    "PROJECT_ID = project[0]\n",
    "PROJECT_ID"
   ]
  },
  {
   "cell_type": "code",
   "execution_count": 2,
   "id": "9128787b-0678-4a81-ab54-6679a1d6fceb",
   "metadata": {},
   "outputs": [],
   "source": [
    "REGION = 'us-central1'\n",
    "SERIES = 'applied-genai'\n",
    "EXPERIMENT = 'bq-metadata'"
   ]
  },
  {
   "cell_type": "code",
   "execution_count": 3,
   "id": "9940f9d0-808a-43ec-b85a-385a8cd73e7f",
   "metadata": {},
   "outputs": [],
   "source": [
    "# make this the BQ Project / Dataset / Table prefix to store results\n",
    "BQ_PROJECT = PROJECT_ID\n",
    "BQ_DATASET = SERIES.replace('-', '_')\n",
    "BQ_TABLE = EXPERIMENT\n",
    "BQ_REGION = REGION[0:2] # subset to first two characters for multi-region"
   ]
  },
  {
   "cell_type": "code",
   "execution_count": 4,
   "id": "8c225fba-150f-4e5c-b8ed-7ed006c43c4d",
   "metadata": {},
   "outputs": [],
   "source": [
    "from IPython.display import Markdown\n",
    "import bigframes.pandas as bf\n",
    "import bigframes.ml as bfml\n",
    "from bigframes.ml import llm\n",
    "from bigframes.ml import ensemble\n",
    "from google.cloud import bigquery_connection_v1 as bq_connection"
   ]
  },
  {
   "cell_type": "code",
   "execution_count": 5,
   "id": "c8f2e79e-5d98-4f27-ac78-5a11d237f2ea",
   "metadata": {},
   "outputs": [],
   "source": [
    "bf.reset_session()\n",
    "bf.options.bigquery.project = BQ_PROJECT\n",
    "bf.options.bigquery.location = BQ_REGION\n",
    "bf_session = bf.get_global_session()"
   ]
  },
  {
   "cell_type": "markdown",
   "id": "e10fe19f-2c94-4fbe-a505-bf1afaafed63",
   "metadata": {},
   "source": [
    "---\n",
    "## Review Data Source\n",
    "\n",
    "The data source here is a product catalog with source:\n",
    "- BigQuery Public table `bigquery-public-data.thelook_ecommerce.products`.\n",
    "\n"
   ]
  },
  {
   "cell_type": "code",
   "execution_count": 6,
   "id": "2c2a1177-5034-47a7-a959-d6e04793537c",
   "metadata": {},
   "outputs": [],
   "source": [
    "BQ_SOURCE = 'bigquery-public-data.thelook_ecommerce.products'"
   ]
  },
  {
   "cell_type": "markdown",
   "id": "85013ea2-131c-435b-afc0-0a7125b327c3",
   "metadata": {},
   "source": [
    "### Get Table: BigQuery Public Table"
   ]
  },
  {
   "cell_type": "code",
   "execution_count": 7,
   "id": "719b7875-05b8-4608-997c-3cf9e76ecfcc",
   "metadata": {},
   "outputs": [
    {
     "data": {
      "application/vnd.jupyter.widget-view+json": {
       "model_id": "ad9889c5424744d8a16f70439a96460d",
       "version_major": 2,
       "version_minor": 0
      },
      "text/plain": [
       "HTML(value='Query job 6adddf89-088a-45fe-bdaf-d21597e172be is RUNNING. <a target=\"_blank\" href=\"https://consol…"
      ]
     },
     "metadata": {},
     "output_type": "display_data"
    }
   ],
   "source": [
    "products = bf.read_gbq(BQ_SOURCE)"
   ]
  },
  {
   "cell_type": "code",
   "execution_count": 8,
   "id": "2ee112a0-df54-44cd-bea3-78879b15f22d",
   "metadata": {},
   "outputs": [
    {
     "data": {
      "text/plain": [
       "id                                  Int64\n",
       "cost                              Float64\n",
       "category                  string[pyarrow]\n",
       "name                      string[pyarrow]\n",
       "brand                     string[pyarrow]\n",
       "retail_price                      Float64\n",
       "department                string[pyarrow]\n",
       "sku                       string[pyarrow]\n",
       "distribution_center_id              Int64\n",
       "dtype: object"
      ]
     },
     "execution_count": 8,
     "metadata": {},
     "output_type": "execute_result"
    }
   ],
   "source": [
    "products.dtypes"
   ]
  },
  {
   "cell_type": "code",
   "execution_count": 9,
   "id": "4b4baa44-463e-455d-b83c-0d9d3811d7de",
   "metadata": {},
   "outputs": [
    {
     "data": {
      "application/vnd.jupyter.widget-view+json": {
       "model_id": "6ecf9197cfa745c9b5c5811ef5f9c3e4",
       "version_major": 2,
       "version_minor": 0
      },
      "text/plain": [
       "HTML(value='Query job b9295f80-b7f9-402e-9f62-84b90fcc00b0 is DONE. 0 Bytes processed. <a target=\"_blank\" href…"
      ]
     },
     "metadata": {},
     "output_type": "display_data"
    },
    {
     "data": {
      "application/vnd.jupyter.widget-view+json": {
       "model_id": "b020741c65084b5fbb61abbc5448cfc2",
       "version_major": 2,
       "version_minor": 0
      },
      "text/plain": [
       "HTML(value='Query job 2c383bd2-514f-44be-9015-1128298a1175 is DONE. 931.8 kB processed. <a target=\"_blank\" hre…"
      ]
     },
     "metadata": {},
     "output_type": "display_data"
    },
    {
     "data": {
      "application/vnd.jupyter.widget-view+json": {
       "model_id": "7f1cfabad2bf4718b82c95b43a78efeb",
       "version_major": 2,
       "version_minor": 0
      },
      "text/plain": [
       "HTML(value='Query job b5e5c29c-9905-42b4-a722-d70259635665 is DONE. 0 Bytes processed. <a target=\"_blank\" href…"
      ]
     },
     "metadata": {},
     "output_type": "display_data"
    },
    {
     "data": {
      "text/html": [
       "<div>\n",
       "<style scoped>\n",
       "    .dataframe tbody tr th:only-of-type {\n",
       "        vertical-align: middle;\n",
       "    }\n",
       "\n",
       "    .dataframe tbody tr th {\n",
       "        vertical-align: top;\n",
       "    }\n",
       "\n",
       "    .dataframe thead th {\n",
       "        text-align: right;\n",
       "    }\n",
       "</style>\n",
       "<table border=\"1\" class=\"dataframe\">\n",
       "  <thead>\n",
       "    <tr style=\"text-align: right;\">\n",
       "      <th></th>\n",
       "      <th>id</th>\n",
       "      <th>cost</th>\n",
       "      <th>retail_price</th>\n",
       "      <th>distribution_center_id</th>\n",
       "    </tr>\n",
       "  </thead>\n",
       "  <tbody>\n",
       "    <tr>\n",
       "      <th>count</th>\n",
       "      <td>29120.0</td>\n",
       "      <td>29120.0</td>\n",
       "      <td>29120.0</td>\n",
       "      <td>29120.0</td>\n",
       "    </tr>\n",
       "    <tr>\n",
       "      <th>mean</th>\n",
       "      <td>14560.5</td>\n",
       "      <td>28.481774</td>\n",
       "      <td>59.220164</td>\n",
       "      <td>4.982898</td>\n",
       "    </tr>\n",
       "    <tr>\n",
       "      <th>std</th>\n",
       "      <td>8406.364256</td>\n",
       "      <td>30.624681</td>\n",
       "      <td>65.888927</td>\n",
       "      <td>2.901153</td>\n",
       "    </tr>\n",
       "    <tr>\n",
       "      <th>min</th>\n",
       "      <td>1.0</td>\n",
       "      <td>0.0083</td>\n",
       "      <td>0.02</td>\n",
       "      <td>1.0</td>\n",
       "    </tr>\n",
       "    <tr>\n",
       "      <th>25%</th>\n",
       "      <td>7241.0</td>\n",
       "      <td>11.13539</td>\n",
       "      <td>24.0</td>\n",
       "      <td>2.0</td>\n",
       "    </tr>\n",
       "    <tr>\n",
       "      <th>50%</th>\n",
       "      <td>14416.0</td>\n",
       "      <td>19.728</td>\n",
       "      <td>39.990002</td>\n",
       "      <td>5.0</td>\n",
       "    </tr>\n",
       "    <tr>\n",
       "      <th>75%</th>\n",
       "      <td>21787.0</td>\n",
       "      <td>34.37</td>\n",
       "      <td>69.860001</td>\n",
       "      <td>8.0</td>\n",
       "    </tr>\n",
       "    <tr>\n",
       "      <th>max</th>\n",
       "      <td>29120.0</td>\n",
       "      <td>557.151002</td>\n",
       "      <td>999.0</td>\n",
       "      <td>10.0</td>\n",
       "    </tr>\n",
       "  </tbody>\n",
       "</table>\n",
       "<p>8 rows × 4 columns</p>\n",
       "</div>[8 rows x 4 columns in total]"
      ],
      "text/plain": [
       "                id        cost  retail_price  distribution_center_id\n",
       "count      29120.0     29120.0       29120.0                 29120.0\n",
       "mean       14560.5   28.481774     59.220164                4.982898\n",
       "std    8406.364256   30.624681     65.888927                2.901153\n",
       "min            1.0      0.0083          0.02                     1.0\n",
       "25%         7241.0    11.13539          24.0                     2.0\n",
       "50%        14416.0      19.728     39.990002                     5.0\n",
       "75%        21787.0       34.37     69.860001                     8.0\n",
       "max        29120.0  557.151002         999.0                    10.0\n",
       "\n",
       "[8 rows x 4 columns]"
      ]
     },
     "execution_count": 9,
     "metadata": {},
     "output_type": "execute_result"
    }
   ],
   "source": [
    "products.describe()"
   ]
  },
  {
   "cell_type": "code",
   "execution_count": 10,
   "id": "0fba61cd-a404-4bd6-a750-d9a55dd3972f",
   "metadata": {},
   "outputs": [
    {
     "data": {
      "application/vnd.jupyter.widget-view+json": {
       "model_id": "93bcfb82782347b7b73ba3c323cbaabf",
       "version_major": 2,
       "version_minor": 0
      },
      "text/plain": [
       "HTML(value='Query job 551d9a4e-71a0-4e42-988a-b7eeefb47605 is DONE. 233.0 kB processed. <a target=\"_blank\" hre…"
      ]
     },
     "metadata": {},
     "output_type": "display_data"
    },
    {
     "data": {
      "application/vnd.jupyter.widget-view+json": {
       "model_id": "25b32c9cadc743539e09a2afedffe8a7",
       "version_major": 2,
       "version_minor": 0
      },
      "text/plain": [
       "HTML(value='Query job b763e074-5047-4064-9123-3f5283c487a8 is DONE. 4.5 MB processed. <a target=\"_blank\" href=…"
      ]
     },
     "metadata": {},
     "output_type": "display_data"
    },
    {
     "data": {
      "application/vnd.jupyter.widget-view+json": {
       "model_id": "fc80073278d24584933617126736e375",
       "version_major": 2,
       "version_minor": 0
      },
      "text/plain": [
       "HTML(value='Query job 47ec6d7d-c4e9-4462-abbf-6540393b149f is DONE. 0 Bytes processed. <a target=\"_blank\" href…"
      ]
     },
     "metadata": {},
     "output_type": "display_data"
    },
    {
     "data": {
      "text/html": [
       "<div>\n",
       "<style scoped>\n",
       "    .dataframe tbody tr th:only-of-type {\n",
       "        vertical-align: middle;\n",
       "    }\n",
       "\n",
       "    .dataframe tbody tr th {\n",
       "        vertical-align: top;\n",
       "    }\n",
       "\n",
       "    .dataframe thead th {\n",
       "        text-align: right;\n",
       "    }\n",
       "</style>\n",
       "<table border=\"1\" class=\"dataframe\">\n",
       "  <thead>\n",
       "    <tr style=\"text-align: right;\">\n",
       "      <th></th>\n",
       "      <th>id</th>\n",
       "      <th>cost</th>\n",
       "      <th>category</th>\n",
       "      <th>name</th>\n",
       "      <th>brand</th>\n",
       "      <th>retail_price</th>\n",
       "      <th>department</th>\n",
       "      <th>sku</th>\n",
       "      <th>distribution_center_id</th>\n",
       "    </tr>\n",
       "  </thead>\n",
       "  <tbody>\n",
       "    <tr>\n",
       "      <th>0</th>\n",
       "      <td>27569</td>\n",
       "      <td>92.652563</td>\n",
       "      <td>Swim</td>\n",
       "      <td>2XU Men's Swimmers Compression Long Sleeve Top</td>\n",
       "      <td>2XU</td>\n",
       "      <td>150.410004</td>\n",
       "      <td>Men</td>\n",
       "      <td>B23C5765E165D83AA924FA8F13C05F25</td>\n",
       "      <td>1</td>\n",
       "    </tr>\n",
       "    <tr>\n",
       "      <th>1</th>\n",
       "      <td>27445</td>\n",
       "      <td>24.719661</td>\n",
       "      <td>Swim</td>\n",
       "      <td>TYR Sport Men's Square Leg Short Swim Suit</td>\n",
       "      <td>TYR</td>\n",
       "      <td>38.990002</td>\n",
       "      <td>Men</td>\n",
       "      <td>2AB7D3B23574C3DEA2BD278AFD0939AB</td>\n",
       "      <td>1</td>\n",
       "    </tr>\n",
       "    <tr>\n",
       "      <th>2</th>\n",
       "      <td>27457</td>\n",
       "      <td>15.8976</td>\n",
       "      <td>Swim</td>\n",
       "      <td>TYR Sport Men's Solid Durafast Jammer Swim Suit</td>\n",
       "      <td>TYR</td>\n",
       "      <td>27.6</td>\n",
       "      <td>Men</td>\n",
       "      <td>8F831227B0EB6C6D09A0555531365933</td>\n",
       "      <td>1</td>\n",
       "    </tr>\n",
       "    <tr>\n",
       "      <th>3</th>\n",
       "      <td>27466</td>\n",
       "      <td>17.85</td>\n",
       "      <td>Swim</td>\n",
       "      <td>TYR Sport Men's Swim Short/Resistance Short Sw...</td>\n",
       "      <td>TYR</td>\n",
       "      <td>30.0</td>\n",
       "      <td>Men</td>\n",
       "      <td>67317D6DCC4CB778AEB9219565F5456B</td>\n",
       "      <td>1</td>\n",
       "    </tr>\n",
       "    <tr>\n",
       "      <th>4</th>\n",
       "      <td>27481</td>\n",
       "      <td>29.408001</td>\n",
       "      <td>Swim</td>\n",
       "      <td>TYR Alliance Team Splice Jammer</td>\n",
       "      <td>TYR</td>\n",
       "      <td>45.950001</td>\n",
       "      <td>Men</td>\n",
       "      <td>213C888198806EF1A0E2BBF2F4855C6C</td>\n",
       "      <td>1</td>\n",
       "    </tr>\n",
       "  </tbody>\n",
       "</table>\n",
       "<p>5 rows × 9 columns</p>\n",
       "</div>[5 rows x 9 columns in total]"
      ],
      "text/plain": [
       "      id       cost category  \\\n",
       "0  27569  92.652563     Swim   \n",
       "1  27445  24.719661     Swim   \n",
       "2  27457    15.8976     Swim   \n",
       "3  27466      17.85     Swim   \n",
       "4  27481  29.408001     Swim   \n",
       "\n",
       "                                                name brand  retail_price  \\\n",
       "0     2XU Men's Swimmers Compression Long Sleeve Top   2XU    150.410004   \n",
       "1         TYR Sport Men's Square Leg Short Swim Suit   TYR     38.990002   \n",
       "2    TYR Sport Men's Solid Durafast Jammer Swim Suit   TYR          27.6   \n",
       "3  TYR Sport Men's Swim Short/Resistance Short Sw...   TYR          30.0   \n",
       "4                    TYR Alliance Team Splice Jammer   TYR     45.950001   \n",
       "\n",
       "  department                               sku  distribution_center_id  \n",
       "0        Men  B23C5765E165D83AA924FA8F13C05F25                       1  \n",
       "1        Men  2AB7D3B23574C3DEA2BD278AFD0939AB                       1  \n",
       "2        Men  8F831227B0EB6C6D09A0555531365933                       1  \n",
       "3        Men  67317D6DCC4CB778AEB9219565F5456B                       1  \n",
       "4        Men  213C888198806EF1A0E2BBF2F4855C6C                       1  \n",
       "\n",
       "[5 rows x 9 columns]"
      ]
     },
     "execution_count": 10,
     "metadata": {},
     "output_type": "execute_result"
    }
   ],
   "source": [
    "products.head()"
   ]
  },
  {
   "cell_type": "markdown",
   "id": "5ff2a360-9fc6-4885-adaa-41f93f39dbaa",
   "metadata": {},
   "source": [
    "### Get Table Info From BigQuery Information Schema: Columns\n",
    "\n",
    "Retrieve the metadata for the table from Information Schema views like [INFORMATION_SCHEMA.COLUMN_FIELD_PATHS](https://cloud.google.com/bigquery/docs/information-schema-column-field-paths)\n",
    "\n",
    "**NOTE** When `column_name` is not equal to `field_path` it is because the column is nested withing a RECORD (think array, or list) or STRUCT (think dictionary of key:value pairs).  This example does not have examples of these but could be extended to handle these as well."
   ]
  },
  {
   "cell_type": "code",
   "execution_count": 11,
   "id": "41d4d4c0-65f5-4548-b28a-88eda06a75f6",
   "metadata": {},
   "outputs": [
    {
     "data": {
      "application/vnd.jupyter.widget-view+json": {
       "model_id": "dc6a7909957a4f9b90e60c11d1d1fa95",
       "version_major": 2,
       "version_minor": 0
      },
      "text/plain": [
       "HTML(value='Query job 28354512-aed0-4555-9fb0-2857272267df is DONE. 10.5 MB processed. <a target=\"_blank\" href…"
      ]
     },
     "metadata": {},
     "output_type": "display_data"
    },
    {
     "data": {
      "application/vnd.jupyter.widget-view+json": {
       "model_id": "e21cf69d85b948bb8d9032559b9b8f46",
       "version_major": 2,
       "version_minor": 0
      },
      "text/plain": [
       "HTML(value='Query job 2408a003-a0a5-4902-94f4-2000039430e4 is RUNNING. <a target=\"_blank\" href=\"https://consol…"
      ]
     },
     "metadata": {},
     "output_type": "display_data"
    }
   ],
   "source": [
    "products_columns = bf.read_gbq(f\"\"\"\n",
    "    SELECT *\n",
    "    FROM `bigquery-public-data.thelook_ecommerce.INFORMATION_SCHEMA.COLUMN_FIELD_PATHS`\n",
    "    WHERE TABLE_NAME = 'products'\n",
    "        AND column_name = field_path\n",
    "\"\"\")"
   ]
  },
  {
   "cell_type": "code",
   "execution_count": 12,
   "id": "6dfb1de2-2581-498a-b227-225d92724a20",
   "metadata": {},
   "outputs": [
    {
     "data": {
      "application/vnd.jupyter.widget-view+json": {
       "model_id": "d63bb125e8e6425d8e970aadb861e51f",
       "version_major": 2,
       "version_minor": 0
      },
      "text/plain": [
       "HTML(value='Query job d2b9a9c8-f28c-4da3-90ba-acb43981bc1d is DONE. 0 Bytes processed. <a target=\"_blank\" href…"
      ]
     },
     "metadata": {},
     "output_type": "display_data"
    },
    {
     "data": {
      "application/vnd.jupyter.widget-view+json": {
       "model_id": "c1bd7385bd894ede83ffb97da7958991",
       "version_major": 2,
       "version_minor": 0
      },
      "text/plain": [
       "HTML(value='Query job 8c2897a4-aac3-49dd-9948-abc453fa78fb is DONE. 833 Bytes processed. <a target=\"_blank\" hr…"
      ]
     },
     "metadata": {},
     "output_type": "display_data"
    },
    {
     "data": {
      "application/vnd.jupyter.widget-view+json": {
       "model_id": "b73f0d1aa8504b42a23d2295aeced965",
       "version_major": 2,
       "version_minor": 0
      },
      "text/plain": [
       "HTML(value='Query job 4443fad2-e105-488a-b56a-1d39634ced9d is DONE. 0 Bytes processed. <a target=\"_blank\" href…"
      ]
     },
     "metadata": {},
     "output_type": "display_data"
    },
    {
     "data": {
      "text/html": [
       "<div>\n",
       "<style scoped>\n",
       "    .dataframe tbody tr th:only-of-type {\n",
       "        vertical-align: middle;\n",
       "    }\n",
       "\n",
       "    .dataframe tbody tr th {\n",
       "        vertical-align: top;\n",
       "    }\n",
       "\n",
       "    .dataframe thead th {\n",
       "        text-align: right;\n",
       "    }\n",
       "</style>\n",
       "<table border=\"1\" class=\"dataframe\">\n",
       "  <thead>\n",
       "    <tr style=\"text-align: right;\">\n",
       "      <th></th>\n",
       "      <th>table_catalog</th>\n",
       "      <th>table_schema</th>\n",
       "      <th>table_name</th>\n",
       "      <th>column_name</th>\n",
       "      <th>field_path</th>\n",
       "      <th>data_type</th>\n",
       "      <th>description</th>\n",
       "      <th>collation_name</th>\n",
       "      <th>rounding_mode</th>\n",
       "    </tr>\n",
       "  </thead>\n",
       "  <tbody>\n",
       "    <tr>\n",
       "      <th>0</th>\n",
       "      <td>bigquery-public-data</td>\n",
       "      <td>thelook_ecommerce</td>\n",
       "      <td>products</td>\n",
       "      <td>id</td>\n",
       "      <td>id</td>\n",
       "      <td>INT64</td>\n",
       "      <td>&lt;NA&gt;</td>\n",
       "      <td>NULL</td>\n",
       "      <td>&lt;NA&gt;</td>\n",
       "    </tr>\n",
       "    <tr>\n",
       "      <th>1</th>\n",
       "      <td>bigquery-public-data</td>\n",
       "      <td>thelook_ecommerce</td>\n",
       "      <td>products</td>\n",
       "      <td>cost</td>\n",
       "      <td>cost</td>\n",
       "      <td>FLOAT64</td>\n",
       "      <td>&lt;NA&gt;</td>\n",
       "      <td>NULL</td>\n",
       "      <td>&lt;NA&gt;</td>\n",
       "    </tr>\n",
       "    <tr>\n",
       "      <th>2</th>\n",
       "      <td>bigquery-public-data</td>\n",
       "      <td>thelook_ecommerce</td>\n",
       "      <td>products</td>\n",
       "      <td>category</td>\n",
       "      <td>category</td>\n",
       "      <td>STRING</td>\n",
       "      <td>&lt;NA&gt;</td>\n",
       "      <td>NULL</td>\n",
       "      <td>&lt;NA&gt;</td>\n",
       "    </tr>\n",
       "    <tr>\n",
       "      <th>3</th>\n",
       "      <td>bigquery-public-data</td>\n",
       "      <td>thelook_ecommerce</td>\n",
       "      <td>products</td>\n",
       "      <td>name</td>\n",
       "      <td>name</td>\n",
       "      <td>STRING</td>\n",
       "      <td>&lt;NA&gt;</td>\n",
       "      <td>NULL</td>\n",
       "      <td>&lt;NA&gt;</td>\n",
       "    </tr>\n",
       "    <tr>\n",
       "      <th>4</th>\n",
       "      <td>bigquery-public-data</td>\n",
       "      <td>thelook_ecommerce</td>\n",
       "      <td>products</td>\n",
       "      <td>brand</td>\n",
       "      <td>brand</td>\n",
       "      <td>STRING</td>\n",
       "      <td>&lt;NA&gt;</td>\n",
       "      <td>NULL</td>\n",
       "      <td>&lt;NA&gt;</td>\n",
       "    </tr>\n",
       "    <tr>\n",
       "      <th>5</th>\n",
       "      <td>bigquery-public-data</td>\n",
       "      <td>thelook_ecommerce</td>\n",
       "      <td>products</td>\n",
       "      <td>retail_price</td>\n",
       "      <td>retail_price</td>\n",
       "      <td>FLOAT64</td>\n",
       "      <td>&lt;NA&gt;</td>\n",
       "      <td>NULL</td>\n",
       "      <td>&lt;NA&gt;</td>\n",
       "    </tr>\n",
       "    <tr>\n",
       "      <th>6</th>\n",
       "      <td>bigquery-public-data</td>\n",
       "      <td>thelook_ecommerce</td>\n",
       "      <td>products</td>\n",
       "      <td>department</td>\n",
       "      <td>department</td>\n",
       "      <td>STRING</td>\n",
       "      <td>&lt;NA&gt;</td>\n",
       "      <td>NULL</td>\n",
       "      <td>&lt;NA&gt;</td>\n",
       "    </tr>\n",
       "    <tr>\n",
       "      <th>7</th>\n",
       "      <td>bigquery-public-data</td>\n",
       "      <td>thelook_ecommerce</td>\n",
       "      <td>products</td>\n",
       "      <td>sku</td>\n",
       "      <td>sku</td>\n",
       "      <td>STRING</td>\n",
       "      <td>&lt;NA&gt;</td>\n",
       "      <td>NULL</td>\n",
       "      <td>&lt;NA&gt;</td>\n",
       "    </tr>\n",
       "    <tr>\n",
       "      <th>8</th>\n",
       "      <td>bigquery-public-data</td>\n",
       "      <td>thelook_ecommerce</td>\n",
       "      <td>products</td>\n",
       "      <td>distribution_center_id</td>\n",
       "      <td>distribution_center_id</td>\n",
       "      <td>INT64</td>\n",
       "      <td>&lt;NA&gt;</td>\n",
       "      <td>NULL</td>\n",
       "      <td>&lt;NA&gt;</td>\n",
       "    </tr>\n",
       "  </tbody>\n",
       "</table>\n",
       "<p>9 rows × 9 columns</p>\n",
       "</div>[9 rows x 9 columns in total]"
      ],
      "text/plain": [
       "          table_catalog       table_schema table_name             column_name  \\\n",
       "0  bigquery-public-data  thelook_ecommerce   products                      id   \n",
       "1  bigquery-public-data  thelook_ecommerce   products                    cost   \n",
       "2  bigquery-public-data  thelook_ecommerce   products                category   \n",
       "3  bigquery-public-data  thelook_ecommerce   products                    name   \n",
       "4  bigquery-public-data  thelook_ecommerce   products                   brand   \n",
       "5  bigquery-public-data  thelook_ecommerce   products            retail_price   \n",
       "6  bigquery-public-data  thelook_ecommerce   products              department   \n",
       "7  bigquery-public-data  thelook_ecommerce   products                     sku   \n",
       "8  bigquery-public-data  thelook_ecommerce   products  distribution_center_id   \n",
       "\n",
       "               field_path data_type description collation_name rounding_mode  \n",
       "0                      id     INT64        <NA>           NULL          <NA>  \n",
       "1                    cost   FLOAT64        <NA>           NULL          <NA>  \n",
       "2                category    STRING        <NA>           NULL          <NA>  \n",
       "3                    name    STRING        <NA>           NULL          <NA>  \n",
       "4                   brand    STRING        <NA>           NULL          <NA>  \n",
       "5            retail_price   FLOAT64        <NA>           NULL          <NA>  \n",
       "6              department    STRING        <NA>           NULL          <NA>  \n",
       "7                     sku    STRING        <NA>           NULL          <NA>  \n",
       "8  distribution_center_id     INT64        <NA>           NULL          <NA>  \n",
       "\n",
       "[9 rows x 9 columns]"
      ]
     },
     "execution_count": 12,
     "metadata": {},
     "output_type": "execute_result"
    }
   ],
   "source": [
    "products_columns"
   ]
  },
  {
   "cell_type": "markdown",
   "id": "cca1200b-af3e-4c68-bab5-97c1f24bb21f",
   "metadata": {},
   "source": [
    "### Get Table Info From BigQuery Information Schema: Table\n",
    "\n",
    "Retrieve the metadata for the table from Information Schema views like [INFORMATION_SCHEMA.TABLE_OPTIONS](https://cloud.google.com/bigquery/docs/information-schema-table-options)\n",
    "\n",
    "This view has one row for each option within each table.  Here, only the `OPTION_NAME = 'description'` is needed."
   ]
  },
  {
   "cell_type": "code",
   "execution_count": 13,
   "id": "c153f7ee-39ac-4e88-8e0b-3b862c7f6689",
   "metadata": {},
   "outputs": [
    {
     "data": {
      "application/vnd.jupyter.widget-view+json": {
       "model_id": "9c32a813c300443aa51002a6c7235c06",
       "version_major": 2,
       "version_minor": 0
      },
      "text/plain": [
       "HTML(value='Query job b7897ace-446d-41e6-8b72-8daddc550255 is DONE. 10.5 MB processed. <a target=\"_blank\" href…"
      ]
     },
     "metadata": {},
     "output_type": "display_data"
    },
    {
     "data": {
      "application/vnd.jupyter.widget-view+json": {
       "model_id": "011a41ed26f34ee0b176e04642132ad7",
       "version_major": 2,
       "version_minor": 0
      },
      "text/plain": [
       "HTML(value='Query job 9244578b-fef9-49a0-b430-6240225bd067 is RUNNING. <a target=\"_blank\" href=\"https://consol…"
      ]
     },
     "metadata": {},
     "output_type": "display_data"
    }
   ],
   "source": [
    "products_table = bf.read_gbq(f\"\"\"\n",
    "    SELECT *\n",
    "    FROM `bigquery-public-data.thelook_ecommerce.INFORMATION_SCHEMA.TABLE_OPTIONS`\n",
    "    WHERE TABLE_NAME = 'products'\n",
    "        AND OPTION_NAME = 'description'\n",
    "\"\"\")"
   ]
  },
  {
   "cell_type": "code",
   "execution_count": 14,
   "id": "e8368ad3-cfd6-416b-9ead-7f659259627a",
   "metadata": {},
   "outputs": [
    {
     "data": {
      "application/vnd.jupyter.widget-view+json": {
       "model_id": "bd6954ef313d4c0483a2ffdb34b33e64",
       "version_major": 2,
       "version_minor": 0
      },
      "text/plain": [
       "HTML(value='Query job f9bfa309-ee67-43b3-af2d-307f9f3c1545 is DONE. 0 Bytes processed. <a target=\"_blank\" href…"
      ]
     },
     "metadata": {},
     "output_type": "display_data"
    },
    {
     "data": {
      "application/vnd.jupyter.widget-view+json": {
       "model_id": "2d485d292c5742189f1019e2d2cdc3c9",
       "version_major": 2,
       "version_minor": 0
      },
      "text/plain": [
       "HTML(value='Query job 2ab580ab-89fa-4948-8322-0e720a6e2a2d is DONE. 139 Bytes processed. <a target=\"_blank\" hr…"
      ]
     },
     "metadata": {},
     "output_type": "display_data"
    },
    {
     "data": {
      "application/vnd.jupyter.widget-view+json": {
       "model_id": "384c4938643f498d8d51a0ba9f92ae47",
       "version_major": 2,
       "version_minor": 0
      },
      "text/plain": [
       "HTML(value='Query job 331792da-8182-46e6-9af3-0df9a3e86f0f is DONE. 0 Bytes processed. <a target=\"_blank\" href…"
      ]
     },
     "metadata": {},
     "output_type": "display_data"
    },
    {
     "data": {
      "text/html": [
       "<div>\n",
       "<style scoped>\n",
       "    .dataframe tbody tr th:only-of-type {\n",
       "        vertical-align: middle;\n",
       "    }\n",
       "\n",
       "    .dataframe tbody tr th {\n",
       "        vertical-align: top;\n",
       "    }\n",
       "\n",
       "    .dataframe thead th {\n",
       "        text-align: right;\n",
       "    }\n",
       "</style>\n",
       "<table border=\"1\" class=\"dataframe\">\n",
       "  <thead>\n",
       "    <tr style=\"text-align: right;\">\n",
       "      <th></th>\n",
       "      <th>table_catalog</th>\n",
       "      <th>table_schema</th>\n",
       "      <th>table_name</th>\n",
       "      <th>option_name</th>\n",
       "      <th>option_type</th>\n",
       "      <th>option_value</th>\n",
       "    </tr>\n",
       "  </thead>\n",
       "  <tbody>\n",
       "    <tr>\n",
       "      <th>0</th>\n",
       "      <td>bigquery-public-data</td>\n",
       "      <td>thelook_ecommerce</td>\n",
       "      <td>products</td>\n",
       "      <td>description</td>\n",
       "      <td>STRING</td>\n",
       "      <td>\"The Look fictitious e-commerce dataset - prod...</td>\n",
       "    </tr>\n",
       "  </tbody>\n",
       "</table>\n",
       "<p>1 rows × 6 columns</p>\n",
       "</div>[1 rows x 6 columns in total]"
      ],
      "text/plain": [
       "          table_catalog       table_schema table_name  option_name  \\\n",
       "0  bigquery-public-data  thelook_ecommerce   products  description   \n",
       "\n",
       "  option_type                                       option_value  \n",
       "0      STRING  \"The Look fictitious e-commerce dataset - prod...  \n",
       "\n",
       "[1 rows x 6 columns]"
      ]
     },
     "execution_count": 14,
     "metadata": {},
     "output_type": "execute_result"
    }
   ],
   "source": [
    "products_table"
   ]
  },
  {
   "cell_type": "markdown",
   "id": "38c01756-07c6-491e-aa73-aedb2a41420e",
   "metadata": {},
   "source": [
    "### Get Values From Columns: Most common values as examples\n",
    "\n",
    "Retrieve a sample of common values from each column to use as examples for an LLM to create names and descriptions."
   ]
  },
  {
   "cell_type": "markdown",
   "id": "7a3bce37-7a4e-408b-b502-568c6cf4881b",
   "metadata": {},
   "source": [
    "Create syntax for query that will create a row per column with a sample of values from the column."
   ]
  },
  {
   "cell_type": "code",
   "execution_count": 15,
   "id": "8d5ef277-f3d1-4328-9fac-61c1afa41086",
   "metadata": {},
   "outputs": [
    {
     "data": {
      "application/vnd.jupyter.widget-view+json": {
       "model_id": "d4a46ce89520409b99dbfcea50e0f40d",
       "version_major": 2,
       "version_minor": 0
      },
      "text/plain": [
       "HTML(value='Query job ceec049f-9194-4c1a-b234-7b025eab7e52 is DONE. 160 Bytes processed. <a target=\"_blank\" hr…"
      ]
     },
     "metadata": {},
     "output_type": "display_data"
    },
    {
     "name": "stdout",
     "output_type": "stream",
     "text": [
      "SELECT 'id' AS column_name, STRING_AGG(CAST(value AS STRING)) as column_sample FROM UNNEST((SELECT APPROX_TOP_COUNT(id, 10) as osn FROM `bigquery-public-data.thelook_ecommerce.products`))\n",
      "UNION ALL\n",
      "SELECT 'cost' AS column_name, STRING_AGG(CAST(value AS STRING)) as column_sample FROM UNNEST((SELECT APPROX_TOP_COUNT(cost, 10) as osn FROM `bigquery-public-data.thelook_ecommerce.products`))\n",
      "UNION ALL\n",
      "SELECT 'category' AS column_name, STRING_AGG(CAST(value AS STRING)) as column_sample FROM UNNEST((SELECT APPROX_TOP_COUNT(category, 10) as osn FROM `bigquery-public-data.thelook_ecommerce.products`))\n",
      "UNION ALL\n",
      "SELECT 'name' AS column_name, STRING_AGG(CAST(value AS STRING)) as column_sample FROM UNNEST((SELECT APPROX_TOP_COUNT(name, 10) as osn FROM `bigquery-public-data.thelook_ecommerce.products`))\n",
      "UNION ALL\n",
      "SELECT 'brand' AS column_name, STRING_AGG(CAST(value AS STRING)) as column_sample FROM UNNEST((SELECT APPROX_TOP_COUNT(brand, 10) as osn FROM `bigquery-public-data.thelook_ecommerce.products`))\n",
      "UNION ALL\n",
      "SELECT 'retail_price' AS column_name, STRING_AGG(CAST(value AS STRING)) as column_sample FROM UNNEST((SELECT APPROX_TOP_COUNT(retail_price, 10) as osn FROM `bigquery-public-data.thelook_ecommerce.products`))\n",
      "UNION ALL\n",
      "SELECT 'department' AS column_name, STRING_AGG(CAST(value AS STRING)) as column_sample FROM UNNEST((SELECT APPROX_TOP_COUNT(department, 10) as osn FROM `bigquery-public-data.thelook_ecommerce.products`))\n",
      "UNION ALL\n",
      "SELECT 'sku' AS column_name, STRING_AGG(CAST(value AS STRING)) as column_sample FROM UNNEST((SELECT APPROX_TOP_COUNT(sku, 10) as osn FROM `bigquery-public-data.thelook_ecommerce.products`))\n",
      "UNION ALL\n",
      "SELECT 'distribution_center_id' AS column_name, STRING_AGG(CAST(value AS STRING)) as column_sample FROM UNNEST((SELECT APPROX_TOP_COUNT(distribution_center_id, 10) as osn FROM `bigquery-public-data.thelook_ecommerce.products`))\n"
     ]
    }
   ],
   "source": [
    "for c, col in enumerate(products_columns.column_name.unique().tolist()):\n",
    "    if c == 0: \n",
    "        cte = f\"\"\"SELECT '{col}' AS column_name, STRING_AGG(CAST(value AS STRING)) as column_sample FROM UNNEST((SELECT APPROX_TOP_COUNT({col}, 10) as osn FROM `bigquery-public-data.thelook_ecommerce.products`))\"\"\"\n",
    "    else:\n",
    "        cte += f\"\"\"\\nUNION ALL\\nSELECT '{col}' AS column_name, STRING_AGG(CAST(value AS STRING)) as column_sample FROM UNNEST((SELECT APPROX_TOP_COUNT({col}, 10) as osn FROM `bigquery-public-data.thelook_ecommerce.products`))\"\"\"\n",
    "print(cte)"
   ]
  },
  {
   "cell_type": "code",
   "execution_count": 16,
   "id": "02a98c7e-20de-4b8e-b1a9-80e5790f80ab",
   "metadata": {},
   "outputs": [
    {
     "data": {
      "application/vnd.jupyter.widget-view+json": {
       "model_id": "7b8434bc240541fe8e6f283f407c06ee",
       "version_major": 2,
       "version_minor": 0
      },
      "text/plain": [
       "HTML(value='Query job 2c86f5c0-4f6b-4477-8ceb-0dc71fb85d05 is DONE. 4.3 MB processed. <a target=\"_blank\" href=…"
      ]
     },
     "metadata": {},
     "output_type": "display_data"
    },
    {
     "data": {
      "application/vnd.jupyter.widget-view+json": {
       "model_id": "33f858cba11a44188d90c8db132a2b29",
       "version_major": 2,
       "version_minor": 0
      },
      "text/plain": [
       "HTML(value='Query job 0e2373a6-b6cb-444f-8ff4-2054978f48ed is RUNNING. <a target=\"_blank\" href=\"https://consol…"
      ]
     },
     "metadata": {},
     "output_type": "display_data"
    }
   ],
   "source": [
    "products_sample = bf.read_gbq(cte)"
   ]
  },
  {
   "cell_type": "code",
   "execution_count": 17,
   "id": "db86a242-d5e3-451b-bc70-c22816834cba",
   "metadata": {},
   "outputs": [
    {
     "data": {
      "application/vnd.jupyter.widget-view+json": {
       "model_id": "16147c033b4e4668ac00d783e17f1dee",
       "version_major": 2,
       "version_minor": 0
      },
      "text/plain": [
       "HTML(value='Query job 6c625635-7ae4-4eac-86cf-ad275a3ab49a is DONE. 0 Bytes processed. <a target=\"_blank\" href…"
      ]
     },
     "metadata": {},
     "output_type": "display_data"
    },
    {
     "data": {
      "application/vnd.jupyter.widget-view+json": {
       "model_id": "887ece8e9017453e8930c4393ffc5f76",
       "version_major": 2,
       "version_minor": 0
      },
      "text/plain": [
       "HTML(value='Query job 1bbda9fd-94f3-4719-a5d4-cb19f131142c is DONE. 1.5 kB processed. <a target=\"_blank\" href=…"
      ]
     },
     "metadata": {},
     "output_type": "display_data"
    },
    {
     "data": {
      "application/vnd.jupyter.widget-view+json": {
       "model_id": "fd2b2bb41cd449c2a406519fc7439eac",
       "version_major": 2,
       "version_minor": 0
      },
      "text/plain": [
       "HTML(value='Query job e91d2839-946a-40b9-918b-96ece1d5b0e7 is DONE. 0 Bytes processed. <a target=\"_blank\" href…"
      ]
     },
     "metadata": {},
     "output_type": "display_data"
    },
    {
     "data": {
      "text/html": [
       "<div>\n",
       "<style scoped>\n",
       "    .dataframe tbody tr th:only-of-type {\n",
       "        vertical-align: middle;\n",
       "    }\n",
       "\n",
       "    .dataframe tbody tr th {\n",
       "        vertical-align: top;\n",
       "    }\n",
       "\n",
       "    .dataframe thead th {\n",
       "        text-align: right;\n",
       "    }\n",
       "</style>\n",
       "<table border=\"1\" class=\"dataframe\">\n",
       "  <thead>\n",
       "    <tr style=\"text-align: right;\">\n",
       "      <th></th>\n",
       "      <th>column_name</th>\n",
       "      <th>column_sample</th>\n",
       "    </tr>\n",
       "  </thead>\n",
       "  <tbody>\n",
       "    <tr>\n",
       "      <th>0</th>\n",
       "      <td>id</td>\n",
       "      <td>29120,29119,29118,29117,29116,29115,29114,2911...</td>\n",
       "    </tr>\n",
       "    <tr>\n",
       "      <th>1</th>\n",
       "      <td>name</td>\n",
       "      <td>Wrangler Men's Premium Performance Cowboy Cut ...</td>\n",
       "    </tr>\n",
       "    <tr>\n",
       "      <th>2</th>\n",
       "      <td>sku</td>\n",
       "      <td>FFFCC1A3964B4AD665FA2F07D7BFD086,FFFB8EF15DE06...</td>\n",
       "    </tr>\n",
       "    <tr>\n",
       "      <th>3</th>\n",
       "      <td>department</td>\n",
       "      <td>Women,Men</td>\n",
       "    </tr>\n",
       "    <tr>\n",
       "      <th>4</th>\n",
       "      <td>distribution_center_id</td>\n",
       "      <td>2,1,3,8,4,9,7,6,5,10</td>\n",
       "    </tr>\n",
       "    <tr>\n",
       "      <th>5</th>\n",
       "      <td>brand</td>\n",
       "      <td>Allegra K,Calvin Klein,Carhartt,Hanes,Volcom,N...</td>\n",
       "    </tr>\n",
       "    <tr>\n",
       "      <th>6</th>\n",
       "      <td>category</td>\n",
       "      <td>Intimates,Jeans,Tops &amp; Tees,Fashion Hoodies &amp; ...</td>\n",
       "    </tr>\n",
       "    <tr>\n",
       "      <th>7</th>\n",
       "      <td>retail_price</td>\n",
       "      <td>25,29.989999771118164,19.989999771118164,39.99...</td>\n",
       "    </tr>\n",
       "    <tr>\n",
       "      <th>8</th>\n",
       "      <td>cost</td>\n",
       "      <td>13.549999985843897,10.750000039115548,12.05000...</td>\n",
       "    </tr>\n",
       "  </tbody>\n",
       "</table>\n",
       "<p>9 rows × 2 columns</p>\n",
       "</div>[9 rows x 2 columns in total]"
      ],
      "text/plain": [
       "              column_name                                      column_sample\n",
       "0                      id  29120,29119,29118,29117,29116,29115,29114,2911...\n",
       "1                    name  Wrangler Men's Premium Performance Cowboy Cut ...\n",
       "2                     sku  FFFCC1A3964B4AD665FA2F07D7BFD086,FFFB8EF15DE06...\n",
       "3              department                                          Women,Men\n",
       "4  distribution_center_id                               2,1,3,8,4,9,7,6,5,10\n",
       "5                   brand  Allegra K,Calvin Klein,Carhartt,Hanes,Volcom,N...\n",
       "6                category  Intimates,Jeans,Tops & Tees,Fashion Hoodies & ...\n",
       "7            retail_price  25,29.989999771118164,19.989999771118164,39.99...\n",
       "8                    cost  13.549999985843897,10.750000039115548,12.05000...\n",
       "\n",
       "[9 rows x 2 columns]"
      ]
     },
     "execution_count": 17,
     "metadata": {},
     "output_type": "execute_result"
    }
   ],
   "source": [
    "products_sample"
   ]
  },
  {
   "cell_type": "markdown",
   "id": "eb2677a7-fc04-4016-862a-9e79d26e5e05",
   "metadata": {},
   "source": [
    "---\n",
    "## BigQuery ML: Connect To Vertex AI LLMs with ML.GENERATE_TEXT\n",
    "\n",
    "BigQuery ML can `Create Model`s that are actually connections to Remote Models. [Reference](https://cloud.google.com/bigquery/docs/reference/standard-sql/bigqueryml-syntax-create-remote-model)\n",
    "\n",
    "Using the `REMOTE_SERVICE_TYPE = \"CLOUD_AI_LARGE_LANGUAGE_MODEL_V1\"` option will link to LLMs in Vertex AI!"
   ]
  },
  {
   "cell_type": "markdown",
   "id": "6bfe6cc1-84fc-48e3-9720-e864547406d0",
   "metadata": {},
   "source": [
    "### Connection Requirement\n",
    "\n",
    "To make a remote connection using BigQuery ML, BigQuery uses a CLOUD_RESOURCE connection. [Reference](https://cloud.google.com/bigquery/docs/reference/standard-sql/bigqueryml-syntax-create-remote-model#connection)\n",
    "\n",
    "Create a new connection with type `CLOUD_RESOURCE`: First, check for existing connection."
   ]
  },
  {
   "cell_type": "code",
   "execution_count": 18,
   "id": "794068db-3f6b-4278-adb0-6f607b412c11",
   "metadata": {
    "scrolled": true,
    "tags": []
   },
   "outputs": [
    {
     "name": "stdout",
     "output_type": "stream",
     "text": [
      "Found existing connection with service account: bqcx-1026793852137-tqpc@gcp-sa-bigquery-condel.iam.gserviceaccount.com\n"
     ]
    }
   ],
   "source": [
    "try:\n",
    "    response = bq_connection.ConnectionServiceClient().get_connection(\n",
    "            request = bq_connection.GetConnectionRequest(\n",
    "                name = f\"projects/{BQ_PROJECT}/locations/{BQ_REGION}/connections/{SERIES}_{EXPERIMENT}\"\n",
    "            )\n",
    "    )\n",
    "    print(f'Found existing connection with service account: {response.cloud_resource.service_account_id}')\n",
    "    service_account = response.cloud_resource.service_account_id\n",
    "except Exception:\n",
    "    request = bq_connection.CreateConnectionRequest(\n",
    "        {\n",
    "            \"parent\": f\"projects/{BQ_PROJECT}/locations/{BQ_REGION}\",\n",
    "            \"connection_id\": f\"{SERIES}_{EXPERIMENT}\",\n",
    "            \"connection\": bq_connection.types.Connection(\n",
    "                {\n",
    "                    \"friendly_name\": f\"{SERIES}_{EXPERIMENT}\",\n",
    "                    \"cloud_resource\": bq_connection.CloudResourceProperties({})\n",
    "                }\n",
    "            )\n",
    "        }\n",
    "    )\n",
    "    response = bq_connection.ConnectionServiceClient().create_connection(request)\n",
    "    print(f'Created new connection with service account: {response.cloud_resource.service_account_id}')\n",
    "    service_account = response.cloud_resource.service_account_id\n",
    "    # assign the service account the Vertex AI User Role:\n",
    "    !gcloud projects add-iam-policy-binding {BQ_PROJECT} --member=serviceAccount:{service_account} --role=roles/aiplatform.user"
   ]
  },
  {
   "cell_type": "markdown",
   "id": "bb2d50c3-d8ec-4616-97b8-88cb61beadae",
   "metadata": {},
   "source": [
    "**NOTE**: The step above created a service account and assigned it the Vertex AI User Role.  This may take a moment to be recognized in the steps below.  If you get an error in one of the cells below try rerunning it."
   ]
  },
  {
   "cell_type": "markdown",
   "id": "eed5a21e-92f2-4388-b33a-b633f4553122",
   "metadata": {},
   "source": [
    "### Create The Remote Model In BigQuery"
   ]
  },
  {
   "cell_type": "markdown",
   "id": "7e99eb8d-8761-477d-a799-a74c4591f3fc",
   "metadata": {},
   "source": [
    "Create a temp model that connects to text generation model on Vertex AI - [Reference](https://cloud.google.com/python/docs/reference/bigframes/latest/bigframes.ml.llm.PaLM2TextGenerator)"
   ]
  },
  {
   "cell_type": "code",
   "execution_count": 19,
   "id": "aee512f6-0ea0-4d81-a0f8-a9c3f81c62ac",
   "metadata": {},
   "outputs": [
    {
     "data": {
      "application/vnd.jupyter.widget-view+json": {
       "model_id": "0052025d953e4f7986a7fed91e6e24f0",
       "version_major": 2,
       "version_minor": 0
      },
      "text/plain": [
       "HTML(value='Query job 1e657b4e-f216-4da9-b35a-bf36bfd84485 is RUNNING. <a target=\"_blank\" href=\"https://consol…"
      ]
     },
     "metadata": {},
     "output_type": "display_data"
    }
   ],
   "source": [
    "textgen_model = bfml.llm.PaLM2TextGenerator(\n",
    "    session = bf_session,\n",
    "    connection_name = f'{BQ_PROJECT}.{BQ_REGION}.{SERIES}_{EXPERIMENT}'\n",
    ")"
   ]
  },
  {
   "cell_type": "markdown",
   "id": "e5062779-5f9e-4b28-a742-5b9a46e67559",
   "metadata": {},
   "source": [
    "---\n",
    "## Generate Table Metadata"
   ]
  },
  {
   "cell_type": "markdown",
   "id": "bbd8cf41-69da-4bba-ae38-ad35e98f6eb8",
   "metadata": {},
   "source": [
    "### Bring Together Column Information"
   ]
  },
  {
   "cell_type": "code",
   "execution_count": 20,
   "id": "754a5882-e506-4590-b8d0-86dec382bdd3",
   "metadata": {},
   "outputs": [
    {
     "data": {
      "text/plain": [
       "Index(['table_catalog', 'table_schema', 'table_name', 'column_name',\n",
       "       'field_path', 'data_type', 'description', 'collation_name',\n",
       "       'rounding_mode'],\n",
       "      dtype='object')"
      ]
     },
     "execution_count": 20,
     "metadata": {},
     "output_type": "execute_result"
    }
   ],
   "source": [
    "products_columns.columns"
   ]
  },
  {
   "cell_type": "code",
   "execution_count": 21,
   "id": "b6157b21-25a3-4a09-bd0a-a90ace4d7256",
   "metadata": {},
   "outputs": [
    {
     "data": {
      "text/plain": [
       "Index(['column_name', 'column_sample'], dtype='object')"
      ]
     },
     "execution_count": 21,
     "metadata": {},
     "output_type": "execute_result"
    }
   ],
   "source": [
    "products_sample.columns"
   ]
  },
  {
   "cell_type": "code",
   "execution_count": 22,
   "id": "45b48a4c-4681-4590-b004-916d0c5d316e",
   "metadata": {},
   "outputs": [],
   "source": [
    "products_columns = products_columns[['column_name', 'data_type', 'description']].merge(products_sample, on = 'column_name')"
   ]
  },
  {
   "cell_type": "code",
   "execution_count": 23,
   "id": "31b98fe9-d44f-4715-a1b0-9d12e6334f17",
   "metadata": {},
   "outputs": [
    {
     "data": {
      "application/vnd.jupyter.widget-view+json": {
       "model_id": "79792214c26549e6b8a84be51264aed6",
       "version_major": 2,
       "version_minor": 0
      },
      "text/plain": [
       "HTML(value='Query job 5c2d750c-69f1-42d6-8470-efd67a4a4fbf is DONE. 176 Bytes processed. <a target=\"_blank\" hr…"
      ]
     },
     "metadata": {},
     "output_type": "display_data"
    },
    {
     "data": {
      "application/vnd.jupyter.widget-view+json": {
       "model_id": "304809e12c974e7fb26c8b2145e901ff",
       "version_major": 2,
       "version_minor": 0
      },
      "text/plain": [
       "HTML(value='Query job 22e822ad-4c3b-4523-a44e-726f2d2493d6 is DONE. 1.7 kB processed. <a target=\"_blank\" href=…"
      ]
     },
     "metadata": {},
     "output_type": "display_data"
    },
    {
     "data": {
      "application/vnd.jupyter.widget-view+json": {
       "model_id": "b9c7e615e6b64cb3ab1d43efb20bc2ee",
       "version_major": 2,
       "version_minor": 0
      },
      "text/plain": [
       "HTML(value='Query job 3f0e6495-e3a7-47b9-b247-360e042a386e is DONE. 0 Bytes processed. <a target=\"_blank\" href…"
      ]
     },
     "metadata": {},
     "output_type": "display_data"
    },
    {
     "data": {
      "text/html": [
       "<div>\n",
       "<style scoped>\n",
       "    .dataframe tbody tr th:only-of-type {\n",
       "        vertical-align: middle;\n",
       "    }\n",
       "\n",
       "    .dataframe tbody tr th {\n",
       "        vertical-align: top;\n",
       "    }\n",
       "\n",
       "    .dataframe thead th {\n",
       "        text-align: right;\n",
       "    }\n",
       "</style>\n",
       "<table border=\"1\" class=\"dataframe\">\n",
       "  <thead>\n",
       "    <tr style=\"text-align: right;\">\n",
       "      <th></th>\n",
       "      <th>column_name</th>\n",
       "      <th>data_type</th>\n",
       "      <th>description</th>\n",
       "      <th>column_sample</th>\n",
       "    </tr>\n",
       "  </thead>\n",
       "  <tbody>\n",
       "    <tr>\n",
       "      <th>0</th>\n",
       "      <td>id</td>\n",
       "      <td>INT64</td>\n",
       "      <td>&lt;NA&gt;</td>\n",
       "      <td>29120,29119,29118,29117,29116,29115,29114,2911...</td>\n",
       "    </tr>\n",
       "    <tr>\n",
       "      <th>1</th>\n",
       "      <td>cost</td>\n",
       "      <td>FLOAT64</td>\n",
       "      <td>&lt;NA&gt;</td>\n",
       "      <td>13.549999985843897,10.750000039115548,12.05000...</td>\n",
       "    </tr>\n",
       "    <tr>\n",
       "      <th>2</th>\n",
       "      <td>category</td>\n",
       "      <td>STRING</td>\n",
       "      <td>&lt;NA&gt;</td>\n",
       "      <td>Intimates,Jeans,Tops &amp; Tees,Fashion Hoodies &amp; ...</td>\n",
       "    </tr>\n",
       "    <tr>\n",
       "      <th>3</th>\n",
       "      <td>name</td>\n",
       "      <td>STRING</td>\n",
       "      <td>&lt;NA&gt;</td>\n",
       "      <td>Wrangler Men's Premium Performance Cowboy Cut ...</td>\n",
       "    </tr>\n",
       "    <tr>\n",
       "      <th>4</th>\n",
       "      <td>brand</td>\n",
       "      <td>STRING</td>\n",
       "      <td>&lt;NA&gt;</td>\n",
       "      <td>Allegra K,Calvin Klein,Carhartt,Hanes,Volcom,N...</td>\n",
       "    </tr>\n",
       "    <tr>\n",
       "      <th>5</th>\n",
       "      <td>retail_price</td>\n",
       "      <td>FLOAT64</td>\n",
       "      <td>&lt;NA&gt;</td>\n",
       "      <td>25,29.989999771118164,19.989999771118164,39.99...</td>\n",
       "    </tr>\n",
       "    <tr>\n",
       "      <th>6</th>\n",
       "      <td>department</td>\n",
       "      <td>STRING</td>\n",
       "      <td>&lt;NA&gt;</td>\n",
       "      <td>Women,Men</td>\n",
       "    </tr>\n",
       "    <tr>\n",
       "      <th>7</th>\n",
       "      <td>sku</td>\n",
       "      <td>STRING</td>\n",
       "      <td>&lt;NA&gt;</td>\n",
       "      <td>FFFCC1A3964B4AD665FA2F07D7BFD086,FFFB8EF15DE06...</td>\n",
       "    </tr>\n",
       "    <tr>\n",
       "      <th>8</th>\n",
       "      <td>distribution_center_id</td>\n",
       "      <td>INT64</td>\n",
       "      <td>&lt;NA&gt;</td>\n",
       "      <td>2,1,3,8,4,9,7,6,5,10</td>\n",
       "    </tr>\n",
       "  </tbody>\n",
       "</table>\n",
       "<p>9 rows × 4 columns</p>\n",
       "</div>[9 rows x 4 columns in total]"
      ],
      "text/plain": [
       "              column_name data_type description  \\\n",
       "0                      id     INT64        <NA>   \n",
       "1                    cost   FLOAT64        <NA>   \n",
       "2                category    STRING        <NA>   \n",
       "3                    name    STRING        <NA>   \n",
       "4                   brand    STRING        <NA>   \n",
       "5            retail_price   FLOAT64        <NA>   \n",
       "6              department    STRING        <NA>   \n",
       "7                     sku    STRING        <NA>   \n",
       "8  distribution_center_id     INT64        <NA>   \n",
       "\n",
       "                                       column_sample  \n",
       "0  29120,29119,29118,29117,29116,29115,29114,2911...  \n",
       "1  13.549999985843897,10.750000039115548,12.05000...  \n",
       "2  Intimates,Jeans,Tops & Tees,Fashion Hoodies & ...  \n",
       "3  Wrangler Men's Premium Performance Cowboy Cut ...  \n",
       "4  Allegra K,Calvin Klein,Carhartt,Hanes,Volcom,N...  \n",
       "5  25,29.989999771118164,19.989999771118164,39.99...  \n",
       "6                                          Women,Men  \n",
       "7  FFFCC1A3964B4AD665FA2F07D7BFD086,FFFB8EF15DE06...  \n",
       "8                               2,1,3,8,4,9,7,6,5,10  \n",
       "\n",
       "[9 rows x 4 columns]"
      ]
     },
     "execution_count": 23,
     "metadata": {},
     "output_type": "execute_result"
    }
   ],
   "source": [
    "products_columns"
   ]
  },
  {
   "cell_type": "markdown",
   "id": "d492c28c-7218-45a2-87bc-5cdd264d035f",
   "metadata": {},
   "source": [
    "### Add Table Information"
   ]
  },
  {
   "cell_type": "code",
   "execution_count": 24,
   "id": "bd10de64-b9ee-44a0-ad0f-20f877359177",
   "metadata": {},
   "outputs": [
    {
     "data": {
      "application/vnd.jupyter.widget-view+json": {
       "model_id": "104cf7f9636e493e8cb915d2dff16dca",
       "version_major": 2,
       "version_minor": 0
      },
      "text/plain": [
       "HTML(value='Query job 1e5f49c7-bf9f-4593-b8ef-56c11a76be50 is DONE. 18 Bytes processed. <a target=\"_blank\" hre…"
      ]
     },
     "metadata": {},
     "output_type": "display_data"
    },
    {
     "data": {
      "application/vnd.jupyter.widget-view+json": {
       "model_id": "21dfb50bda7f41f5b4baa6b64f0e2f4c",
       "version_major": 2,
       "version_minor": 0
      },
      "text/plain": [
       "HTML(value='Query job 2618f695-6534-471b-aee7-6bd3483f1b19 is DONE. 67 Bytes processed. <a target=\"_blank\" hre…"
      ]
     },
     "metadata": {},
     "output_type": "display_data"
    }
   ],
   "source": [
    "products_columns['table_name'] = products_table['table_name'].iloc[0]\n",
    "products_columns['table_description'] = products_table['option_value'].iloc[0]"
   ]
  },
  {
   "cell_type": "code",
   "execution_count": 25,
   "id": "8235a42f-4db8-4afd-8014-2d1bb0ef9fb6",
   "metadata": {},
   "outputs": [
    {
     "data": {
      "application/vnd.jupyter.widget-view+json": {
       "model_id": "423da5a9cb854e1eae73677e4bd32335",
       "version_major": 2,
       "version_minor": 0
      },
      "text/plain": [
       "HTML(value='Query job e2c0a65e-1fbf-459c-b82b-dd29df5d8885 is DONE. 176 Bytes processed. <a target=\"_blank\" hr…"
      ]
     },
     "metadata": {},
     "output_type": "display_data"
    },
    {
     "data": {
      "application/vnd.jupyter.widget-view+json": {
       "model_id": "9a06e3a461af45af8a47b42ca861ee9a",
       "version_major": 2,
       "version_minor": 0
      },
      "text/plain": [
       "HTML(value='Query job 8774747a-02de-4edd-a502-346b3c18ed9a is DONE. 1.7 kB processed. <a target=\"_blank\" href=…"
      ]
     },
     "metadata": {},
     "output_type": "display_data"
    },
    {
     "data": {
      "application/vnd.jupyter.widget-view+json": {
       "model_id": "7edc40c4130e4a4a977c07fe5ce596cc",
       "version_major": 2,
       "version_minor": 0
      },
      "text/plain": [
       "HTML(value='Query job 6939cf6e-bed9-4aa9-a244-b72511457053 is DONE. 0 Bytes processed. <a target=\"_blank\" href…"
      ]
     },
     "metadata": {},
     "output_type": "display_data"
    },
    {
     "data": {
      "text/html": [
       "<div>\n",
       "<style scoped>\n",
       "    .dataframe tbody tr th:only-of-type {\n",
       "        vertical-align: middle;\n",
       "    }\n",
       "\n",
       "    .dataframe tbody tr th {\n",
       "        vertical-align: top;\n",
       "    }\n",
       "\n",
       "    .dataframe thead th {\n",
       "        text-align: right;\n",
       "    }\n",
       "</style>\n",
       "<table border=\"1\" class=\"dataframe\">\n",
       "  <thead>\n",
       "    <tr style=\"text-align: right;\">\n",
       "      <th></th>\n",
       "      <th>column_name</th>\n",
       "      <th>data_type</th>\n",
       "      <th>description</th>\n",
       "      <th>column_sample</th>\n",
       "      <th>table_name</th>\n",
       "      <th>table_description</th>\n",
       "    </tr>\n",
       "  </thead>\n",
       "  <tbody>\n",
       "    <tr>\n",
       "      <th>0</th>\n",
       "      <td>id</td>\n",
       "      <td>INT64</td>\n",
       "      <td>&lt;NA&gt;</td>\n",
       "      <td>29120,29119,29118,29117,29116,29115,29114,2911...</td>\n",
       "      <td>products</td>\n",
       "      <td>\"The Look fictitious e-commerce dataset - prod...</td>\n",
       "    </tr>\n",
       "    <tr>\n",
       "      <th>1</th>\n",
       "      <td>cost</td>\n",
       "      <td>FLOAT64</td>\n",
       "      <td>&lt;NA&gt;</td>\n",
       "      <td>13.549999985843897,10.750000039115548,12.05000...</td>\n",
       "      <td>products</td>\n",
       "      <td>\"The Look fictitious e-commerce dataset - prod...</td>\n",
       "    </tr>\n",
       "    <tr>\n",
       "      <th>2</th>\n",
       "      <td>category</td>\n",
       "      <td>STRING</td>\n",
       "      <td>&lt;NA&gt;</td>\n",
       "      <td>Intimates,Jeans,Tops &amp; Tees,Fashion Hoodies &amp; ...</td>\n",
       "      <td>products</td>\n",
       "      <td>\"The Look fictitious e-commerce dataset - prod...</td>\n",
       "    </tr>\n",
       "    <tr>\n",
       "      <th>3</th>\n",
       "      <td>name</td>\n",
       "      <td>STRING</td>\n",
       "      <td>&lt;NA&gt;</td>\n",
       "      <td>Wrangler Men's Premium Performance Cowboy Cut ...</td>\n",
       "      <td>products</td>\n",
       "      <td>\"The Look fictitious e-commerce dataset - prod...</td>\n",
       "    </tr>\n",
       "    <tr>\n",
       "      <th>4</th>\n",
       "      <td>brand</td>\n",
       "      <td>STRING</td>\n",
       "      <td>&lt;NA&gt;</td>\n",
       "      <td>Allegra K,Calvin Klein,Carhartt,Hanes,Volcom,N...</td>\n",
       "      <td>products</td>\n",
       "      <td>\"The Look fictitious e-commerce dataset - prod...</td>\n",
       "    </tr>\n",
       "    <tr>\n",
       "      <th>5</th>\n",
       "      <td>retail_price</td>\n",
       "      <td>FLOAT64</td>\n",
       "      <td>&lt;NA&gt;</td>\n",
       "      <td>25,29.989999771118164,19.989999771118164,39.99...</td>\n",
       "      <td>products</td>\n",
       "      <td>\"The Look fictitious e-commerce dataset - prod...</td>\n",
       "    </tr>\n",
       "    <tr>\n",
       "      <th>6</th>\n",
       "      <td>department</td>\n",
       "      <td>STRING</td>\n",
       "      <td>&lt;NA&gt;</td>\n",
       "      <td>Women,Men</td>\n",
       "      <td>products</td>\n",
       "      <td>\"The Look fictitious e-commerce dataset - prod...</td>\n",
       "    </tr>\n",
       "    <tr>\n",
       "      <th>7</th>\n",
       "      <td>sku</td>\n",
       "      <td>STRING</td>\n",
       "      <td>&lt;NA&gt;</td>\n",
       "      <td>FFFCC1A3964B4AD665FA2F07D7BFD086,FFFB8EF15DE06...</td>\n",
       "      <td>products</td>\n",
       "      <td>\"The Look fictitious e-commerce dataset - prod...</td>\n",
       "    </tr>\n",
       "    <tr>\n",
       "      <th>8</th>\n",
       "      <td>distribution_center_id</td>\n",
       "      <td>INT64</td>\n",
       "      <td>&lt;NA&gt;</td>\n",
       "      <td>2,1,3,8,4,9,7,6,5,10</td>\n",
       "      <td>products</td>\n",
       "      <td>\"The Look fictitious e-commerce dataset - prod...</td>\n",
       "    </tr>\n",
       "  </tbody>\n",
       "</table>\n",
       "<p>9 rows × 6 columns</p>\n",
       "</div>[9 rows x 6 columns in total]"
      ],
      "text/plain": [
       "              column_name data_type description  \\\n",
       "0                      id     INT64        <NA>   \n",
       "1                    cost   FLOAT64        <NA>   \n",
       "2                category    STRING        <NA>   \n",
       "3                    name    STRING        <NA>   \n",
       "4                   brand    STRING        <NA>   \n",
       "5            retail_price   FLOAT64        <NA>   \n",
       "6              department    STRING        <NA>   \n",
       "7                     sku    STRING        <NA>   \n",
       "8  distribution_center_id     INT64        <NA>   \n",
       "\n",
       "                                       column_sample table_name  \\\n",
       "0  29120,29119,29118,29117,29116,29115,29114,2911...   products   \n",
       "1  13.549999985843897,10.750000039115548,12.05000...   products   \n",
       "2  Intimates,Jeans,Tops & Tees,Fashion Hoodies & ...   products   \n",
       "3  Wrangler Men's Premium Performance Cowboy Cut ...   products   \n",
       "4  Allegra K,Calvin Klein,Carhartt,Hanes,Volcom,N...   products   \n",
       "5  25,29.989999771118164,19.989999771118164,39.99...   products   \n",
       "6                                          Women,Men   products   \n",
       "7  FFFCC1A3964B4AD665FA2F07D7BFD086,FFFB8EF15DE06...   products   \n",
       "8                               2,1,3,8,4,9,7,6,5,10   products   \n",
       "\n",
       "                                   table_description  \n",
       "0  \"The Look fictitious e-commerce dataset - prod...  \n",
       "1  \"The Look fictitious e-commerce dataset - prod...  \n",
       "2  \"The Look fictitious e-commerce dataset - prod...  \n",
       "3  \"The Look fictitious e-commerce dataset - prod...  \n",
       "4  \"The Look fictitious e-commerce dataset - prod...  \n",
       "5  \"The Look fictitious e-commerce dataset - prod...  \n",
       "6  \"The Look fictitious e-commerce dataset - prod...  \n",
       "7  \"The Look fictitious e-commerce dataset - prod...  \n",
       "8  \"The Look fictitious e-commerce dataset - prod...  \n",
       "\n",
       "[9 rows x 6 columns]"
      ]
     },
     "execution_count": 25,
     "metadata": {},
     "output_type": "execute_result"
    }
   ],
   "source": [
    "products_columns"
   ]
  },
  {
   "cell_type": "markdown",
   "id": "1036bea9-a3d8-4e94-bca3-ac650f6d4dfe",
   "metadata": {},
   "source": [
    "### Create Column Naming Prompt"
   ]
  },
  {
   "cell_type": "code",
   "execution_count": 26,
   "id": "a389bb39-cc29-4740-8c45-cf7b3357bfd7",
   "metadata": {},
   "outputs": [],
   "source": [
    "products_columns['name_prompt'] = (\n",
    "    'Generate a new column name for a BigQuery column with the following information. '\n",
    "    + 'The current column name is ' + products_columns['column_name'] + '. '\n",
    "    + 'The table has the name ' + products_columns['table_name'] + '. '\n",
    "    + 'The column has a datatype of ' + products_columns['data_type'] + ' with common values like: ' + products_columns['column_sample'] + '.'\n",
    ")"
   ]
  },
  {
   "cell_type": "code",
   "execution_count": 27,
   "id": "d63fdbb8-d1cc-4842-9192-321bcb36eab4",
   "metadata": {},
   "outputs": [
    {
     "data": {
      "application/vnd.jupyter.widget-view+json": {
       "model_id": "34caa31969b04cd5837fd1efec64385e",
       "version_major": 2,
       "version_minor": 0
      },
      "text/plain": [
       "HTML(value='Query job dd19c5a0-5f41-4ad3-a849-132694831f66 is DONE. 176 Bytes processed. <a target=\"_blank\" hr…"
      ]
     },
     "metadata": {},
     "output_type": "display_data"
    },
    {
     "data": {
      "application/vnd.jupyter.widget-view+json": {
       "model_id": "0227348dbc674b549baead94ca793295",
       "version_major": 2,
       "version_minor": 0
      },
      "text/plain": [
       "HTML(value='Query job b9af6cd0-45d8-4b67-a382-09beba6ac447 is DONE. 1.7 kB processed. <a target=\"_blank\" href=…"
      ]
     },
     "metadata": {},
     "output_type": "display_data"
    },
    {
     "data": {
      "application/vnd.jupyter.widget-view+json": {
       "model_id": "f79e6809d0514a729ab773f28881b723",
       "version_major": 2,
       "version_minor": 0
      },
      "text/plain": [
       "HTML(value='Query job 4cdbc5e5-ce48-4415-81d6-bfe7d386f0d7 is DONE. 0 Bytes processed. <a target=\"_blank\" href…"
      ]
     },
     "metadata": {},
     "output_type": "display_data"
    },
    {
     "data": {
      "text/html": [
       "<div>\n",
       "<style scoped>\n",
       "    .dataframe tbody tr th:only-of-type {\n",
       "        vertical-align: middle;\n",
       "    }\n",
       "\n",
       "    .dataframe tbody tr th {\n",
       "        vertical-align: top;\n",
       "    }\n",
       "\n",
       "    .dataframe thead th {\n",
       "        text-align: right;\n",
       "    }\n",
       "</style>\n",
       "<table border=\"1\" class=\"dataframe\">\n",
       "  <thead>\n",
       "    <tr style=\"text-align: right;\">\n",
       "      <th></th>\n",
       "      <th>column_name</th>\n",
       "      <th>data_type</th>\n",
       "      <th>description</th>\n",
       "      <th>column_sample</th>\n",
       "      <th>table_name</th>\n",
       "      <th>table_description</th>\n",
       "      <th>name_prompt</th>\n",
       "    </tr>\n",
       "  </thead>\n",
       "  <tbody>\n",
       "    <tr>\n",
       "      <th>0</th>\n",
       "      <td>id</td>\n",
       "      <td>INT64</td>\n",
       "      <td>&lt;NA&gt;</td>\n",
       "      <td>29120,29119,29118,29117,29116,29115,29114,2911...</td>\n",
       "      <td>products</td>\n",
       "      <td>\"The Look fictitious e-commerce dataset - prod...</td>\n",
       "      <td>Generate a new column name for a BigQuery colu...</td>\n",
       "    </tr>\n",
       "    <tr>\n",
       "      <th>1</th>\n",
       "      <td>cost</td>\n",
       "      <td>FLOAT64</td>\n",
       "      <td>&lt;NA&gt;</td>\n",
       "      <td>13.549999985843897,10.750000039115548,12.05000...</td>\n",
       "      <td>products</td>\n",
       "      <td>\"The Look fictitious e-commerce dataset - prod...</td>\n",
       "      <td>Generate a new column name for a BigQuery colu...</td>\n",
       "    </tr>\n",
       "    <tr>\n",
       "      <th>2</th>\n",
       "      <td>category</td>\n",
       "      <td>STRING</td>\n",
       "      <td>&lt;NA&gt;</td>\n",
       "      <td>Intimates,Jeans,Tops &amp; Tees,Fashion Hoodies &amp; ...</td>\n",
       "      <td>products</td>\n",
       "      <td>\"The Look fictitious e-commerce dataset - prod...</td>\n",
       "      <td>Generate a new column name for a BigQuery colu...</td>\n",
       "    </tr>\n",
       "    <tr>\n",
       "      <th>3</th>\n",
       "      <td>name</td>\n",
       "      <td>STRING</td>\n",
       "      <td>&lt;NA&gt;</td>\n",
       "      <td>Wrangler Men's Premium Performance Cowboy Cut ...</td>\n",
       "      <td>products</td>\n",
       "      <td>\"The Look fictitious e-commerce dataset - prod...</td>\n",
       "      <td>Generate a new column name for a BigQuery colu...</td>\n",
       "    </tr>\n",
       "    <tr>\n",
       "      <th>4</th>\n",
       "      <td>brand</td>\n",
       "      <td>STRING</td>\n",
       "      <td>&lt;NA&gt;</td>\n",
       "      <td>Allegra K,Calvin Klein,Carhartt,Hanes,Volcom,N...</td>\n",
       "      <td>products</td>\n",
       "      <td>\"The Look fictitious e-commerce dataset - prod...</td>\n",
       "      <td>Generate a new column name for a BigQuery colu...</td>\n",
       "    </tr>\n",
       "    <tr>\n",
       "      <th>5</th>\n",
       "      <td>retail_price</td>\n",
       "      <td>FLOAT64</td>\n",
       "      <td>&lt;NA&gt;</td>\n",
       "      <td>25,29.989999771118164,19.989999771118164,39.99...</td>\n",
       "      <td>products</td>\n",
       "      <td>\"The Look fictitious e-commerce dataset - prod...</td>\n",
       "      <td>Generate a new column name for a BigQuery colu...</td>\n",
       "    </tr>\n",
       "    <tr>\n",
       "      <th>6</th>\n",
       "      <td>department</td>\n",
       "      <td>STRING</td>\n",
       "      <td>&lt;NA&gt;</td>\n",
       "      <td>Women,Men</td>\n",
       "      <td>products</td>\n",
       "      <td>\"The Look fictitious e-commerce dataset - prod...</td>\n",
       "      <td>Generate a new column name for a BigQuery colu...</td>\n",
       "    </tr>\n",
       "    <tr>\n",
       "      <th>7</th>\n",
       "      <td>sku</td>\n",
       "      <td>STRING</td>\n",
       "      <td>&lt;NA&gt;</td>\n",
       "      <td>FFFCC1A3964B4AD665FA2F07D7BFD086,FFFB8EF15DE06...</td>\n",
       "      <td>products</td>\n",
       "      <td>\"The Look fictitious e-commerce dataset - prod...</td>\n",
       "      <td>Generate a new column name for a BigQuery colu...</td>\n",
       "    </tr>\n",
       "    <tr>\n",
       "      <th>8</th>\n",
       "      <td>distribution_center_id</td>\n",
       "      <td>INT64</td>\n",
       "      <td>&lt;NA&gt;</td>\n",
       "      <td>2,1,3,8,4,9,7,6,5,10</td>\n",
       "      <td>products</td>\n",
       "      <td>\"The Look fictitious e-commerce dataset - prod...</td>\n",
       "      <td>Generate a new column name for a BigQuery colu...</td>\n",
       "    </tr>\n",
       "  </tbody>\n",
       "</table>\n",
       "<p>9 rows × 7 columns</p>\n",
       "</div>[9 rows x 7 columns in total]"
      ],
      "text/plain": [
       "              column_name data_type description  \\\n",
       "0                      id     INT64        <NA>   \n",
       "1                    cost   FLOAT64        <NA>   \n",
       "2                category    STRING        <NA>   \n",
       "3                    name    STRING        <NA>   \n",
       "4                   brand    STRING        <NA>   \n",
       "5            retail_price   FLOAT64        <NA>   \n",
       "6              department    STRING        <NA>   \n",
       "7                     sku    STRING        <NA>   \n",
       "8  distribution_center_id     INT64        <NA>   \n",
       "\n",
       "                                       column_sample table_name  \\\n",
       "0  29120,29119,29118,29117,29116,29115,29114,2911...   products   \n",
       "1  13.549999985843897,10.750000039115548,12.05000...   products   \n",
       "2  Intimates,Jeans,Tops & Tees,Fashion Hoodies & ...   products   \n",
       "3  Wrangler Men's Premium Performance Cowboy Cut ...   products   \n",
       "4  Allegra K,Calvin Klein,Carhartt,Hanes,Volcom,N...   products   \n",
       "5  25,29.989999771118164,19.989999771118164,39.99...   products   \n",
       "6                                          Women,Men   products   \n",
       "7  FFFCC1A3964B4AD665FA2F07D7BFD086,FFFB8EF15DE06...   products   \n",
       "8                               2,1,3,8,4,9,7,6,5,10   products   \n",
       "\n",
       "                                   table_description  \\\n",
       "0  \"The Look fictitious e-commerce dataset - prod...   \n",
       "1  \"The Look fictitious e-commerce dataset - prod...   \n",
       "2  \"The Look fictitious e-commerce dataset - prod...   \n",
       "3  \"The Look fictitious e-commerce dataset - prod...   \n",
       "4  \"The Look fictitious e-commerce dataset - prod...   \n",
       "5  \"The Look fictitious e-commerce dataset - prod...   \n",
       "6  \"The Look fictitious e-commerce dataset - prod...   \n",
       "7  \"The Look fictitious e-commerce dataset - prod...   \n",
       "8  \"The Look fictitious e-commerce dataset - prod...   \n",
       "\n",
       "                                         name_prompt  \n",
       "0  Generate a new column name for a BigQuery colu...  \n",
       "1  Generate a new column name for a BigQuery colu...  \n",
       "2  Generate a new column name for a BigQuery colu...  \n",
       "3  Generate a new column name for a BigQuery colu...  \n",
       "4  Generate a new column name for a BigQuery colu...  \n",
       "5  Generate a new column name for a BigQuery colu...  \n",
       "6  Generate a new column name for a BigQuery colu...  \n",
       "7  Generate a new column name for a BigQuery colu...  \n",
       "8  Generate a new column name for a BigQuery colu...  \n",
       "\n",
       "[9 rows x 7 columns]"
      ]
     },
     "execution_count": 27,
     "metadata": {},
     "output_type": "execute_result"
    }
   ],
   "source": [
    "products_columns"
   ]
  },
  {
   "cell_type": "code",
   "execution_count": 28,
   "id": "4991ffc7-a1eb-4d98-896e-e59d37f80932",
   "metadata": {},
   "outputs": [
    {
     "data": {
      "application/vnd.jupyter.widget-view+json": {
       "model_id": "90cb9808449a42678c7ff67aaa128a0a",
       "version_major": 2,
       "version_minor": 0
      },
      "text/plain": [
       "HTML(value='Query job 35a74be3-8c91-4d6c-a639-7ab648178cc9 is DONE. 1.7 kB processed. <a target=\"_blank\" href=…"
      ]
     },
     "metadata": {},
     "output_type": "display_data"
    },
    {
     "data": {
      "text/plain": [
       "'Generate a new column name for a BigQuery column with the following information. The current column name is category. The table has the name products. The column has a datatype of STRING with common values like: Intimates,Jeans,Tops & Tees,Fashion Hoodies & Sweatshirts,Swim,Sleep & Lounge,Shorts,Sweaters,Accessories,Active.'"
      ]
     },
     "execution_count": 28,
     "metadata": {},
     "output_type": "execute_result"
    }
   ],
   "source": [
    "products_columns['name_prompt'].iloc[2]"
   ]
  },
  {
   "cell_type": "markdown",
   "id": "59d8ff05-13d8-42cd-89a8-377133cf45a7",
   "metadata": {},
   "source": [
    "### Generate New Column Names"
   ]
  },
  {
   "cell_type": "code",
   "execution_count": 29,
   "id": "8f52afe9-5316-41e4-b2e2-35e000673fdf",
   "metadata": {},
   "outputs": [
    {
     "data": {
      "application/vnd.jupyter.widget-view+json": {
       "model_id": "2c7e1c0c4af1432cb14c971487cbee1e",
       "version_major": 2,
       "version_minor": 0
      },
      "text/plain": [
       "HTML(value='Query job 4d06026c-3978-4318-ba46-92239bc6381f is RUNNING. <a target=\"_blank\" href=\"https://consol…"
      ]
     },
     "metadata": {},
     "output_type": "display_data"
    },
    {
     "data": {
      "application/vnd.jupyter.widget-view+json": {
       "model_id": "8aee72e402e6429f80472d70febd0b95",
       "version_major": 2,
       "version_minor": 0
      },
      "text/plain": [
       "HTML(value='Query job e0cf6524-1e4d-4f7a-ba90-dc363e27a8f0 is DONE. 72 Bytes processed. <a target=\"_blank\" hre…"
      ]
     },
     "metadata": {},
     "output_type": "display_data"
    }
   ],
   "source": [
    "products_columns = products_columns.join(textgen_model.predict(products_columns['name_prompt']).rename(columns={'ml_generate_text_llm_result':'new_column_name'}))"
   ]
  },
  {
   "cell_type": "code",
   "execution_count": 30,
   "id": "5312d5de-f5f9-4ad5-829a-36b3a4968d96",
   "metadata": {},
   "outputs": [
    {
     "data": {
      "application/vnd.jupyter.widget-view+json": {
       "model_id": "4eec64d1988a4df9a4bca85e005f8389",
       "version_major": 2,
       "version_minor": 0
      },
      "text/plain": [
       "HTML(value='Query job 76366042-4154-42a7-8d5c-065039fa35dd is DONE. 392 Bytes processed. <a target=\"_blank\" hr…"
      ]
     },
     "metadata": {},
     "output_type": "display_data"
    },
    {
     "data": {
      "application/vnd.jupyter.widget-view+json": {
       "model_id": "070b334e5dc841d087b176e567ce7835",
       "version_major": 2,
       "version_minor": 0
      },
      "text/plain": [
       "HTML(value='Query job a5715370-7bd3-4c69-abeb-6ebbd15e65a9 is DONE. 2.0 kB processed. <a target=\"_blank\" href=…"
      ]
     },
     "metadata": {},
     "output_type": "display_data"
    },
    {
     "data": {
      "application/vnd.jupyter.widget-view+json": {
       "model_id": "45af62b38de240e98ae66be82ff4898e",
       "version_major": 2,
       "version_minor": 0
      },
      "text/plain": [
       "HTML(value='Query job 50b772c0-c027-4331-805b-a841d2bfb597 is DONE. 0 Bytes processed. <a target=\"_blank\" href…"
      ]
     },
     "metadata": {},
     "output_type": "display_data"
    },
    {
     "data": {
      "text/html": [
       "<div>\n",
       "<style scoped>\n",
       "    .dataframe tbody tr th:only-of-type {\n",
       "        vertical-align: middle;\n",
       "    }\n",
       "\n",
       "    .dataframe tbody tr th {\n",
       "        vertical-align: top;\n",
       "    }\n",
       "\n",
       "    .dataframe thead th {\n",
       "        text-align: right;\n",
       "    }\n",
       "</style>\n",
       "<table border=\"1\" class=\"dataframe\">\n",
       "  <thead>\n",
       "    <tr style=\"text-align: right;\">\n",
       "      <th></th>\n",
       "      <th>column_name</th>\n",
       "      <th>data_type</th>\n",
       "      <th>description</th>\n",
       "      <th>column_sample</th>\n",
       "      <th>table_name</th>\n",
       "      <th>table_description</th>\n",
       "      <th>name_prompt</th>\n",
       "      <th>new_column_name</th>\n",
       "    </tr>\n",
       "  </thead>\n",
       "  <tbody>\n",
       "    <tr>\n",
       "      <th>0</th>\n",
       "      <td>id</td>\n",
       "      <td>INT64</td>\n",
       "      <td>&lt;NA&gt;</td>\n",
       "      <td>29120,29119,29118,29117,29116,29115,29114,2911...</td>\n",
       "      <td>products</td>\n",
       "      <td>\"The Look fictitious e-commerce dataset - prod...</td>\n",
       "      <td>Generate a new column name for a BigQuery colu...</td>\n",
       "      <td>product_id</td>\n",
       "    </tr>\n",
       "    <tr>\n",
       "      <th>1</th>\n",
       "      <td>cost</td>\n",
       "      <td>FLOAT64</td>\n",
       "      <td>&lt;NA&gt;</td>\n",
       "      <td>13.549999985843897,10.750000039115548,12.05000...</td>\n",
       "      <td>products</td>\n",
       "      <td>\"The Look fictitious e-commerce dataset - prod...</td>\n",
       "      <td>Generate a new column name for a BigQuery colu...</td>\n",
       "      <td>product_cost</td>\n",
       "    </tr>\n",
       "    <tr>\n",
       "      <th>2</th>\n",
       "      <td>category</td>\n",
       "      <td>STRING</td>\n",
       "      <td>&lt;NA&gt;</td>\n",
       "      <td>Intimates,Jeans,Tops &amp; Tees,Fashion Hoodies &amp; ...</td>\n",
       "      <td>products</td>\n",
       "      <td>\"The Look fictitious e-commerce dataset - prod...</td>\n",
       "      <td>Generate a new column name for a BigQuery colu...</td>\n",
       "      <td>products_category_v2</td>\n",
       "    </tr>\n",
       "    <tr>\n",
       "      <th>3</th>\n",
       "      <td>name</td>\n",
       "      <td>STRING</td>\n",
       "      <td>&lt;NA&gt;</td>\n",
       "      <td>Wrangler Men's Premium Performance Cowboy Cut ...</td>\n",
       "      <td>products</td>\n",
       "      <td>\"The Look fictitious e-commerce dataset - prod...</td>\n",
       "      <td>Generate a new column name for a BigQuery colu...</td>\n",
       "      <td>product_name</td>\n",
       "    </tr>\n",
       "    <tr>\n",
       "      <th>4</th>\n",
       "      <td>brand</td>\n",
       "      <td>STRING</td>\n",
       "      <td>&lt;NA&gt;</td>\n",
       "      <td>Allegra K,Calvin Klein,Carhartt,Hanes,Volcom,N...</td>\n",
       "      <td>products</td>\n",
       "      <td>\"The Look fictitious e-commerce dataset - prod...</td>\n",
       "      <td>Generate a new column name for a BigQuery colu...</td>\n",
       "      <td>product_brand</td>\n",
       "    </tr>\n",
       "    <tr>\n",
       "      <th>5</th>\n",
       "      <td>retail_price</td>\n",
       "      <td>FLOAT64</td>\n",
       "      <td>&lt;NA&gt;</td>\n",
       "      <td>25,29.989999771118164,19.989999771118164,39.99...</td>\n",
       "      <td>products</td>\n",
       "      <td>\"The Look fictitious e-commerce dataset - prod...</td>\n",
       "      <td>Generate a new column name for a BigQuery colu...</td>\n",
       "      <td>products_retail_price_float64</td>\n",
       "    </tr>\n",
       "    <tr>\n",
       "      <th>6</th>\n",
       "      <td>department</td>\n",
       "      <td>STRING</td>\n",
       "      <td>&lt;NA&gt;</td>\n",
       "      <td>Women,Men</td>\n",
       "      <td>products</td>\n",
       "      <td>\"The Look fictitious e-commerce dataset - prod...</td>\n",
       "      <td>Generate a new column name for a BigQuery colu...</td>\n",
       "      <td>products_department_gender</td>\n",
       "    </tr>\n",
       "    <tr>\n",
       "      <th>7</th>\n",
       "      <td>sku</td>\n",
       "      <td>STRING</td>\n",
       "      <td>&lt;NA&gt;</td>\n",
       "      <td>FFFCC1A3964B4AD665FA2F07D7BFD086,FFFB8EF15DE06...</td>\n",
       "      <td>products</td>\n",
       "      <td>\"The Look fictitious e-commerce dataset - prod...</td>\n",
       "      <td>Generate a new column name for a BigQuery colu...</td>\n",
       "      <td>product_sku</td>\n",
       "    </tr>\n",
       "    <tr>\n",
       "      <th>8</th>\n",
       "      <td>distribution_center_id</td>\n",
       "      <td>INT64</td>\n",
       "      <td>&lt;NA&gt;</td>\n",
       "      <td>2,1,3,8,4,9,7,6,5,10</td>\n",
       "      <td>products</td>\n",
       "      <td>\"The Look fictitious e-commerce dataset - prod...</td>\n",
       "      <td>Generate a new column name for a BigQuery colu...</td>\n",
       "      <td>products_distribution_center_id</td>\n",
       "    </tr>\n",
       "  </tbody>\n",
       "</table>\n",
       "<p>9 rows × 8 columns</p>\n",
       "</div>[9 rows x 8 columns in total]"
      ],
      "text/plain": [
       "              column_name data_type description  \\\n",
       "0                      id     INT64        <NA>   \n",
       "1                    cost   FLOAT64        <NA>   \n",
       "2                category    STRING        <NA>   \n",
       "3                    name    STRING        <NA>   \n",
       "4                   brand    STRING        <NA>   \n",
       "5            retail_price   FLOAT64        <NA>   \n",
       "6              department    STRING        <NA>   \n",
       "7                     sku    STRING        <NA>   \n",
       "8  distribution_center_id     INT64        <NA>   \n",
       "\n",
       "                                       column_sample table_name  \\\n",
       "0  29120,29119,29118,29117,29116,29115,29114,2911...   products   \n",
       "1  13.549999985843897,10.750000039115548,12.05000...   products   \n",
       "2  Intimates,Jeans,Tops & Tees,Fashion Hoodies & ...   products   \n",
       "3  Wrangler Men's Premium Performance Cowboy Cut ...   products   \n",
       "4  Allegra K,Calvin Klein,Carhartt,Hanes,Volcom,N...   products   \n",
       "5  25,29.989999771118164,19.989999771118164,39.99...   products   \n",
       "6                                          Women,Men   products   \n",
       "7  FFFCC1A3964B4AD665FA2F07D7BFD086,FFFB8EF15DE06...   products   \n",
       "8                               2,1,3,8,4,9,7,6,5,10   products   \n",
       "\n",
       "                                   table_description  \\\n",
       "0  \"The Look fictitious e-commerce dataset - prod...   \n",
       "1  \"The Look fictitious e-commerce dataset - prod...   \n",
       "2  \"The Look fictitious e-commerce dataset - prod...   \n",
       "3  \"The Look fictitious e-commerce dataset - prod...   \n",
       "4  \"The Look fictitious e-commerce dataset - prod...   \n",
       "5  \"The Look fictitious e-commerce dataset - prod...   \n",
       "6  \"The Look fictitious e-commerce dataset - prod...   \n",
       "7  \"The Look fictitious e-commerce dataset - prod...   \n",
       "8  \"The Look fictitious e-commerce dataset - prod...   \n",
       "\n",
       "                                         name_prompt  \\\n",
       "0  Generate a new column name for a BigQuery colu...   \n",
       "1  Generate a new column name for a BigQuery colu...   \n",
       "2  Generate a new column name for a BigQuery colu...   \n",
       "3  Generate a new column name for a BigQuery colu...   \n",
       "4  Generate a new column name for a BigQuery colu...   \n",
       "5  Generate a new column name for a BigQuery colu...   \n",
       "6  Generate a new column name for a BigQuery colu...   \n",
       "7  Generate a new column name for a BigQuery colu...   \n",
       "8  Generate a new column name for a BigQuery colu...   \n",
       "\n",
       "                    new_column_name  \n",
       "0                        product_id  \n",
       "1                      product_cost  \n",
       "2              products_category_v2  \n",
       "3                      product_name  \n",
       "4                     product_brand  \n",
       "5     products_retail_price_float64  \n",
       "6        products_department_gender  \n",
       "7                       product_sku  \n",
       "8   products_distribution_center_id  \n",
       "\n",
       "[9 rows x 8 columns]"
      ]
     },
     "execution_count": 30,
     "metadata": {},
     "output_type": "execute_result"
    }
   ],
   "source": [
    "products_columns"
   ]
  },
  {
   "cell_type": "markdown",
   "id": "1a702e5e-b3c7-49c5-b0c5-cc2d6f1a495f",
   "metadata": {},
   "source": [
    "### Generate New Column Description"
   ]
  },
  {
   "cell_type": "code",
   "execution_count": 32,
   "id": "8c18a2e1-c3c7-4dc1-beef-1aa5ba43da47",
   "metadata": {},
   "outputs": [],
   "source": [
    "#products_columns = products_columns.drop(columns = 'new_column_description')"
   ]
  },
  {
   "cell_type": "code",
   "execution_count": 33,
   "id": "d73a7c7e-0765-4c7a-a523-c0fb4436a7bf",
   "metadata": {},
   "outputs": [
    {
     "data": {
      "application/vnd.jupyter.widget-view+json": {
       "model_id": "b6a216793cc44cb7816e4eac379e7729",
       "version_major": 2,
       "version_minor": 0
      },
      "text/plain": [
       "HTML(value='Query job 1954bc42-5a73-4674-8ef4-43a29bf3bfd9 is RUNNING. <a target=\"_blank\" href=\"https://consol…"
      ]
     },
     "metadata": {},
     "output_type": "display_data"
    },
    {
     "data": {
      "application/vnd.jupyter.widget-view+json": {
       "model_id": "471467fb40ed47d6b9b794cb732f9427",
       "version_major": 2,
       "version_minor": 0
      },
      "text/plain": [
       "HTML(value='Query job 317a4828-9afa-46e7-8c10-290cc12acc65 is DONE. 72 Bytes processed. <a target=\"_blank\" hre…"
      ]
     },
     "metadata": {},
     "output_type": "display_data"
    }
   ],
   "source": [
    "products_columns = products_columns.join(textgen_model.predict(\n",
    "    'The context for a BigQuery table column follows. '\n",
    "    + 'The column name is ' + products_columns['new_column_name'] + '. '\n",
    "    + 'The table has the name ' + products_columns['table_name'] + '. '\n",
    "    + 'The column has a datatype of ' + products_columns['data_type'] + ' with common values like: ' + products_columns['column_sample'] + '. '\n",
    "    + 'Generate a description the column.'\n",
    ").rename(columns={'ml_generate_text_llm_result':'new_column_description'}))"
   ]
  },
  {
   "cell_type": "code",
   "execution_count": 34,
   "id": "810336ae-8841-4a06-8e90-96b446ad722f",
   "metadata": {},
   "outputs": [
    {
     "data": {
      "application/vnd.jupyter.widget-view+json": {
       "model_id": "7afd4405b135435d8bc366d3c322d6ff",
       "version_major": 2,
       "version_minor": 0
      },
      "text/plain": [
       "HTML(value='Query job c2a148ad-98e1-44ad-81a8-57916c79a6d8 is DONE. 464 Bytes processed. <a target=\"_blank\" hr…"
      ]
     },
     "metadata": {},
     "output_type": "display_data"
    },
    {
     "data": {
      "application/vnd.jupyter.widget-view+json": {
       "model_id": "a98be6d12dc74ac2a23160a05799ac12",
       "version_major": 2,
       "version_minor": 0
      },
      "text/plain": [
       "HTML(value='Query job db99071a-4263-4c6b-9332-83b61cdfe4e3 is DONE. 4.4 kB processed. <a target=\"_blank\" href=…"
      ]
     },
     "metadata": {},
     "output_type": "display_data"
    },
    {
     "data": {
      "application/vnd.jupyter.widget-view+json": {
       "model_id": "6103fb33c61c4128bfb32788a98bd388",
       "version_major": 2,
       "version_minor": 0
      },
      "text/plain": [
       "HTML(value='Query job 3430f43b-dbca-4cac-8501-5af0b0ed357b is DONE. 0 Bytes processed. <a target=\"_blank\" href…"
      ]
     },
     "metadata": {},
     "output_type": "display_data"
    },
    {
     "data": {
      "text/html": [
       "<div>\n",
       "<style scoped>\n",
       "    .dataframe tbody tr th:only-of-type {\n",
       "        vertical-align: middle;\n",
       "    }\n",
       "\n",
       "    .dataframe tbody tr th {\n",
       "        vertical-align: top;\n",
       "    }\n",
       "\n",
       "    .dataframe thead th {\n",
       "        text-align: right;\n",
       "    }\n",
       "</style>\n",
       "<table border=\"1\" class=\"dataframe\">\n",
       "  <thead>\n",
       "    <tr style=\"text-align: right;\">\n",
       "      <th></th>\n",
       "      <th>column_name</th>\n",
       "      <th>data_type</th>\n",
       "      <th>description</th>\n",
       "      <th>column_sample</th>\n",
       "      <th>table_name</th>\n",
       "      <th>table_description</th>\n",
       "      <th>name_prompt</th>\n",
       "      <th>new_column_name</th>\n",
       "      <th>new_column_description</th>\n",
       "    </tr>\n",
       "  </thead>\n",
       "  <tbody>\n",
       "    <tr>\n",
       "      <th>0</th>\n",
       "      <td>id</td>\n",
       "      <td>INT64</td>\n",
       "      <td>&lt;NA&gt;</td>\n",
       "      <td>29120,29119,29118,29117,29116,29115,29114,2911...</td>\n",
       "      <td>products</td>\n",
       "      <td>\"The Look fictitious e-commerce dataset - prod...</td>\n",
       "      <td>Generate a new column name for a BigQuery colu...</td>\n",
       "      <td>product_id</td>\n",
       "      <td>product_id is a column in the products table....</td>\n",
       "    </tr>\n",
       "    <tr>\n",
       "      <th>1</th>\n",
       "      <td>cost</td>\n",
       "      <td>FLOAT64</td>\n",
       "      <td>&lt;NA&gt;</td>\n",
       "      <td>13.549999985843897,10.750000039115548,12.05000...</td>\n",
       "      <td>products</td>\n",
       "      <td>\"The Look fictitious e-commerce dataset - prod...</td>\n",
       "      <td>Generate a new column name for a BigQuery colu...</td>\n",
       "      <td>product_cost</td>\n",
       "      <td>product_cost is a column in the products tabl...</td>\n",
       "    </tr>\n",
       "    <tr>\n",
       "      <th>2</th>\n",
       "      <td>category</td>\n",
       "      <td>STRING</td>\n",
       "      <td>&lt;NA&gt;</td>\n",
       "      <td>Intimates,Jeans,Tops &amp; Tees,Fashion Hoodies &amp; ...</td>\n",
       "      <td>products</td>\n",
       "      <td>\"The Look fictitious e-commerce dataset - prod...</td>\n",
       "      <td>Generate a new column name for a BigQuery colu...</td>\n",
       "      <td>products_category_v2</td>\n",
       "      <td>products_category_v2 column in the products t...</td>\n",
       "    </tr>\n",
       "    <tr>\n",
       "      <th>3</th>\n",
       "      <td>name</td>\n",
       "      <td>STRING</td>\n",
       "      <td>&lt;NA&gt;</td>\n",
       "      <td>Wrangler Men's Premium Performance Cowboy Cut ...</td>\n",
       "      <td>products</td>\n",
       "      <td>\"The Look fictitious e-commerce dataset - prod...</td>\n",
       "      <td>Generate a new column name for a BigQuery colu...</td>\n",
       "      <td>product_name</td>\n",
       "      <td>product_name: The name of the product. Exampl...</td>\n",
       "    </tr>\n",
       "    <tr>\n",
       "      <th>4</th>\n",
       "      <td>brand</td>\n",
       "      <td>STRING</td>\n",
       "      <td>&lt;NA&gt;</td>\n",
       "      <td>Allegra K,Calvin Klein,Carhartt,Hanes,Volcom,N...</td>\n",
       "      <td>products</td>\n",
       "      <td>\"The Look fictitious e-commerce dataset - prod...</td>\n",
       "      <td>Generate a new column name for a BigQuery colu...</td>\n",
       "      <td>product_brand</td>\n",
       "      <td>product_brand column in the products table co...</td>\n",
       "    </tr>\n",
       "    <tr>\n",
       "      <th>5</th>\n",
       "      <td>retail_price</td>\n",
       "      <td>FLOAT64</td>\n",
       "      <td>&lt;NA&gt;</td>\n",
       "      <td>25,29.989999771118164,19.989999771118164,39.99...</td>\n",
       "      <td>products</td>\n",
       "      <td>\"The Look fictitious e-commerce dataset - prod...</td>\n",
       "      <td>Generate a new column name for a BigQuery colu...</td>\n",
       "      <td>products_retail_price_float64</td>\n",
       "      <td>The products_retail_price_float64 column in t...</td>\n",
       "    </tr>\n",
       "    <tr>\n",
       "      <th>6</th>\n",
       "      <td>department</td>\n",
       "      <td>STRING</td>\n",
       "      <td>&lt;NA&gt;</td>\n",
       "      <td>Women,Men</td>\n",
       "      <td>products</td>\n",
       "      <td>\"The Look fictitious e-commerce dataset - prod...</td>\n",
       "      <td>Generate a new column name for a BigQuery colu...</td>\n",
       "      <td>products_department_gender</td>\n",
       "      <td>The products_department_gender column in the ...</td>\n",
       "    </tr>\n",
       "    <tr>\n",
       "      <th>7</th>\n",
       "      <td>sku</td>\n",
       "      <td>STRING</td>\n",
       "      <td>&lt;NA&gt;</td>\n",
       "      <td>FFFCC1A3964B4AD665FA2F07D7BFD086,FFFB8EF15DE06...</td>\n",
       "      <td>products</td>\n",
       "      <td>\"The Look fictitious e-commerce dataset - prod...</td>\n",
       "      <td>Generate a new column name for a BigQuery colu...</td>\n",
       "      <td>product_sku</td>\n",
       "      <td>product_sku is a column in the products table...</td>\n",
       "    </tr>\n",
       "    <tr>\n",
       "      <th>8</th>\n",
       "      <td>distribution_center_id</td>\n",
       "      <td>INT64</td>\n",
       "      <td>&lt;NA&gt;</td>\n",
       "      <td>2,1,3,8,4,9,7,6,5,10</td>\n",
       "      <td>products</td>\n",
       "      <td>\"The Look fictitious e-commerce dataset - prod...</td>\n",
       "      <td>Generate a new column name for a BigQuery colu...</td>\n",
       "      <td>products_distribution_center_id</td>\n",
       "      <td>The products_distribution_center_id column in...</td>\n",
       "    </tr>\n",
       "  </tbody>\n",
       "</table>\n",
       "<p>9 rows × 9 columns</p>\n",
       "</div>[9 rows x 9 columns in total]"
      ],
      "text/plain": [
       "              column_name data_type description  \\\n",
       "0                      id     INT64        <NA>   \n",
       "1                    cost   FLOAT64        <NA>   \n",
       "2                category    STRING        <NA>   \n",
       "3                    name    STRING        <NA>   \n",
       "4                   brand    STRING        <NA>   \n",
       "5            retail_price   FLOAT64        <NA>   \n",
       "6              department    STRING        <NA>   \n",
       "7                     sku    STRING        <NA>   \n",
       "8  distribution_center_id     INT64        <NA>   \n",
       "\n",
       "                                       column_sample table_name  \\\n",
       "0  29120,29119,29118,29117,29116,29115,29114,2911...   products   \n",
       "1  13.549999985843897,10.750000039115548,12.05000...   products   \n",
       "2  Intimates,Jeans,Tops & Tees,Fashion Hoodies & ...   products   \n",
       "3  Wrangler Men's Premium Performance Cowboy Cut ...   products   \n",
       "4  Allegra K,Calvin Klein,Carhartt,Hanes,Volcom,N...   products   \n",
       "5  25,29.989999771118164,19.989999771118164,39.99...   products   \n",
       "6                                          Women,Men   products   \n",
       "7  FFFCC1A3964B4AD665FA2F07D7BFD086,FFFB8EF15DE06...   products   \n",
       "8                               2,1,3,8,4,9,7,6,5,10   products   \n",
       "\n",
       "                                   table_description  \\\n",
       "0  \"The Look fictitious e-commerce dataset - prod...   \n",
       "1  \"The Look fictitious e-commerce dataset - prod...   \n",
       "2  \"The Look fictitious e-commerce dataset - prod...   \n",
       "3  \"The Look fictitious e-commerce dataset - prod...   \n",
       "4  \"The Look fictitious e-commerce dataset - prod...   \n",
       "5  \"The Look fictitious e-commerce dataset - prod...   \n",
       "6  \"The Look fictitious e-commerce dataset - prod...   \n",
       "7  \"The Look fictitious e-commerce dataset - prod...   \n",
       "8  \"The Look fictitious e-commerce dataset - prod...   \n",
       "\n",
       "                                         name_prompt  \\\n",
       "0  Generate a new column name for a BigQuery colu...   \n",
       "1  Generate a new column name for a BigQuery colu...   \n",
       "2  Generate a new column name for a BigQuery colu...   \n",
       "3  Generate a new column name for a BigQuery colu...   \n",
       "4  Generate a new column name for a BigQuery colu...   \n",
       "5  Generate a new column name for a BigQuery colu...   \n",
       "6  Generate a new column name for a BigQuery colu...   \n",
       "7  Generate a new column name for a BigQuery colu...   \n",
       "8  Generate a new column name for a BigQuery colu...   \n",
       "\n",
       "                    new_column_name  \\\n",
       "0                        product_id   \n",
       "1                      product_cost   \n",
       "2              products_category_v2   \n",
       "3                      product_name   \n",
       "4                     product_brand   \n",
       "5     products_retail_price_float64   \n",
       "6        products_department_gender   \n",
       "7                       product_sku   \n",
       "8   products_distribution_center_id   \n",
       "\n",
       "                              new_column_description  \n",
       "0   product_id is a column in the products table....  \n",
       "1   product_cost is a column in the products tabl...  \n",
       "2   products_category_v2 column in the products t...  \n",
       "3   product_name: The name of the product. Exampl...  \n",
       "4   product_brand column in the products table co...  \n",
       "5   The products_retail_price_float64 column in t...  \n",
       "6   The products_department_gender column in the ...  \n",
       "7   product_sku is a column in the products table...  \n",
       "8   The products_distribution_center_id column in...  \n",
       "\n",
       "[9 rows x 9 columns]"
      ]
     },
     "execution_count": 34,
     "metadata": {},
     "output_type": "execute_result"
    }
   ],
   "source": [
    "products_columns"
   ]
  },
  {
   "cell_type": "markdown",
   "id": "629cac18-fc30-420f-8ebc-095e313b62b1",
   "metadata": {},
   "source": [
    "### Generate New Table Description"
   ]
  },
  {
   "cell_type": "markdown",
   "id": "d6ad2ae7-ed1f-4bbc-a892-deaadd1fd726",
   "metadata": {},
   "source": [
    "Convert selected column for schema into a markdown table for including in the prompt:"
   ]
  },
  {
   "cell_type": "code",
   "execution_count": 37,
   "id": "c3c9d2c1-1eb0-4c40-9dde-3e88ab2753c1",
   "metadata": {},
   "outputs": [
    {
     "data": {
      "application/vnd.jupyter.widget-view+json": {
       "model_id": "1ca38ead2fca471890b39722fdf657e7",
       "version_major": 2,
       "version_minor": 0
      },
      "text/plain": [
       "HTML(value='Query job 8502404c-ff26-47b8-91d6-91fbf6665d1d is DONE. 0 Bytes processed. <a target=\"_blank\" href…"
      ]
     },
     "metadata": {},
     "output_type": "display_data"
    }
   ],
   "source": [
    "markdown_products_columns = products_columns[['new_column_name', 'new_column_description', 'data_type']].rename(columns = {'new_column_name':'column_name', 'new_column_description':'description'}).to_pandas().to_markdown(index = False)"
   ]
  },
  {
   "cell_type": "markdown",
   "id": "cf9f3e7b-055c-4aca-a89d-4ad806a9dae7",
   "metadata": {},
   "source": [
    "Review the markdown table:"
   ]
  },
  {
   "cell_type": "code",
   "execution_count": 38,
   "id": "18d44c57-db8b-4b03-8b7c-8afb47e68917",
   "metadata": {},
   "outputs": [
    {
     "data": {
      "text/markdown": [
       "| column_name                     | description                                                                                                                                                                                                                                                                                                                                                                                                                                                              | data_type   |\n",
       "|:--------------------------------|:-------------------------------------------------------------------------------------------------------------------------------------------------------------------------------------------------------------------------------------------------------------------------------------------------------------------------------------------------------------------------------------------------------------------------------------------------------------------------|:------------|\n",
       "| product_id                      | product_id is a column in the products table. The column is of type INT64 and has values like 29120,29119,29118,29117,29116,29115,29114,29113,29112,29111. The column likely represents the unique identifier for each product in the table.                                                                                                                                                                                                                             | INT64       |\n",
       "| product_cost                    | product_cost is a column in the products table. The column contains FLOAT64 values representing the cost of each product. Example values include 13.549999985843897, 10.750000039115548, and 12.05000001937151.                                                                                                                                                                                                                                                          | FLOAT64     |\n",
       "| products_category_v2            | products_category_v2 column in the products table contains product category information. The column is of type STRING and contains values such as Intimates, Jeans, Tops & Tees, Fashion Hoodies & Sweatshirts, Swim, Sleep & Lounge, Shorts, Sweaters, Accessories, and Active.                                                                                                                                                                                         | STRING      |\n",
       "| product_name                    | product_name: The name of the product. Examples: Wrangler Men's Premium Performance Cowboy Cut Jean,Wrangler Men's Rugged Wear Classic Fit Jean,True Religion Men's Ricky Straight Jean,Thorlo Unisex Experia Running Sock,Puma Men's Socks,Pearl iZUMi Attack Sock 3-Pack,Fruit of the Loom Women's 6-Pack Crew Socks,7 For All Mankind Men's Standard Classic Straight Leg Jean,Wrangler Men's Wrancher Dress Jean,Wrangler Men's Original Cowboy Cut Relaxed Fit Jean | STRING      |\n",
       "| product_brand                   | product_brand column in the products table contains STRING data and captures the brand name of the product. Example values include: Allegra K, Calvin Klein, Carhartt, Hanes, Volcom, Nautica, Levi's, Quiksilver, Tommy Hilfiger, Columbia.                                                                                                                                                                                                                             | STRING      |\n",
       "| products_retail_price_float64   | The products_retail_price_float64 column in the products table contains the retail price of each product in US dollars. The column has a datatype of FLOAT64 and contains values like 25, 29.99, 19.99, 39.99, 49.99, 24.99, 34.99, 49.5, 50, and 55.                                                                                                                                                                                                                    | FLOAT64     |\n",
       "| products_department_gender      | The products_department_gender column in the products table stores the department and gender that a product belongs to. The column has a datatype of STRING and common values include \"Women\" and \"Men\". This column can be used to filter products by department or gender, or to create reports on product sales by department or gender.                                                                                                                              | STRING      |\n",
       "| product_sku                     | product_sku is a column in the products table. It is a string column with values that are product SKUs.                                                                                                                                                                                                                                                                                                                                                                  | STRING      |\n",
       "| products_distribution_center_id | The products_distribution_center_id column in the products table is an INT64 data type. The column contains the ID of the distribution center where the product is stored. The most common values for this column are 2, 1, 3, 8, 4, 9, 7, 6, 5, and 10.                                                                                                                                                                                                                 | INT64       |"
      ],
      "text/plain": [
       "<IPython.core.display.Markdown object>"
      ]
     },
     "execution_count": 38,
     "metadata": {},
     "output_type": "execute_result"
    }
   ],
   "source": [
    "Markdown(markdown_products_columns)"
   ]
  },
  {
   "cell_type": "markdown",
   "id": "5bee2e0c-b2a6-48bf-9e69-9ac963080ba6",
   "metadata": {},
   "source": [
    "Generate the table description:"
   ]
  },
  {
   "cell_type": "code",
   "execution_count": 39,
   "id": "64b73260-bb68-4ddd-b938-4a25a8fe9760",
   "metadata": {},
   "outputs": [
    {
     "data": {
      "application/vnd.jupyter.widget-view+json": {
       "model_id": "90622898f7644a9185f260b977cb4f7d",
       "version_major": 2,
       "version_minor": 0
      },
      "text/plain": [
       "HTML(value='Load job 938cc49d-175c-41ee-a922-064f420f128c is RUNNING. <a target=\"_blank\" href=\"https://console…"
      ]
     },
     "metadata": {},
     "output_type": "display_data"
    },
    {
     "data": {
      "application/vnd.jupyter.widget-view+json": {
       "model_id": "367047baf97140eeb03b16389ad2fc70",
       "version_major": 2,
       "version_minor": 0
      },
      "text/plain": [
       "HTML(value='Query job 6579a3c4-6816-45c4-8fe3-19762cc8e68b is RUNNING. <a target=\"_blank\" href=\"https://consol…"
      ]
     },
     "metadata": {},
     "output_type": "display_data"
    },
    {
     "data": {
      "application/vnd.jupyter.widget-view+json": {
       "model_id": "62a0a7ddeadd4c34a3f4cc74f431e2ef",
       "version_major": 2,
       "version_minor": 0
      },
      "text/plain": [
       "HTML(value='Query job 9875befd-9b58-4f84-9851-d6e9a3c1f7d6 is DONE. 8 Bytes processed. <a target=\"_blank\" href…"
      ]
     },
     "metadata": {},
     "output_type": "display_data"
    },
    {
     "data": {
      "application/vnd.jupyter.widget-view+json": {
       "model_id": "0f1e3c2b1e7e420b86e0537d18b015df",
       "version_major": 2,
       "version_minor": 0
      },
      "text/plain": [
       "HTML(value='Query job b6316d92-431a-44d1-abd8-f0ffbf603cd5 is DONE. 285 Bytes processed. <a target=\"_blank\" hr…"
      ]
     },
     "metadata": {},
     "output_type": "display_data"
    },
    {
     "data": {
      "text/markdown": [
       " The products table contains information about products, including product id, cost, category, name, brand, retail price, department and gender, SKU, and distribution center ID. The table can be used to analyze product sales, track inventory, and manage product distribution."
      ],
      "text/plain": [
       "<IPython.core.display.Markdown object>"
      ]
     },
     "execution_count": 39,
     "metadata": {},
     "output_type": "execute_result"
    }
   ],
   "source": [
    "table_description = textgen_model.predict(bf.DataFrame({ \"prompt\": [\n",
    "f\"\"\"Generate a description for the BigQuery table with schema:\n",
    "{markdown_products_columns}\n",
    "\"\"\"\n",
    "],})).ml_generate_text_llm_result.iloc[0]\n",
    "\n",
    "Markdown(table_description)"
   ]
  },
  {
   "cell_type": "markdown",
   "id": "e4686305-0ba7-473c-96df-ce6bbe1474a7",
   "metadata": {},
   "source": [
    "---\n",
    "## Update Metadata For A Table\n",
    "\n",
    "To show how to do an inplace update of column names and descriptions for tables and columns, the source table will be copied to a new dataset first.\n",
    "\n",
    "\n",
    "**NOTE: SWITCHING TO BIGQUERY API**\n",
    "\n",
    "Some of the tasks in this section require using feature of BigQuery DDL to alter tables that are not yet available in the BigFrames API."
   ]
  },
  {
   "cell_type": "markdown",
   "id": "894a107a-796e-413a-9e16-1a14a01408dc",
   "metadata": {},
   "source": [
    "### Setup BigQuery Client"
   ]
  },
  {
   "cell_type": "code",
   "execution_count": 40,
   "id": "f054bab3-6a07-4417-b270-29ce78eec3fa",
   "metadata": {},
   "outputs": [],
   "source": [
    "from google.cloud import bigquery\n",
    "# bigquery client\n",
    "bq = bigquery.Client(project = PROJECT_ID)"
   ]
  },
  {
   "cell_type": "markdown",
   "id": "47a0a06d-abfb-47a9-99b6-7a83228b02b0",
   "metadata": {},
   "source": [
    "### Create BigQuery Dataset"
   ]
  },
  {
   "cell_type": "code",
   "execution_count": 41,
   "id": "0d67a673-2bcc-4b22-84a2-749e0d137022",
   "metadata": {},
   "outputs": [],
   "source": [
    "# create/link to dataset\n",
    "ds = bigquery.DatasetReference(BQ_PROJECT, BQ_DATASET)\n",
    "ds.location = BQ_REGION\n",
    "ds.labels = {'series': f'{SERIES}'}\n",
    "ds = bq.create_dataset(dataset = ds, exists_ok = True) "
   ]
  },
  {
   "cell_type": "markdown",
   "id": "1f15edf1-7c8d-4f19-8fe4-1cad71177d70",
   "metadata": {},
   "source": [
    "### Copy Source Table To User Dataset"
   ]
  },
  {
   "cell_type": "code",
   "execution_count": 42,
   "id": "f585b749-672f-4e27-ab5d-c2a6f0b3e809",
   "metadata": {},
   "outputs": [
    {
     "name": "stdout",
     "output_type": "stream",
     "text": [
      "\n",
      "CREATE OR REPLACE TABLE `statmike-mlops-349915.applied_genai.bq-metadata` AS\n",
      "SELECT *\n",
      "FROM `bigquery-public-data.thelook_ecommerce.products`\n",
      "\n"
     ]
    }
   ],
   "source": [
    "query = f\"\"\"\n",
    "CREATE OR REPLACE TABLE `{BQ_PROJECT}.{BQ_DATASET}.{BQ_TABLE}` AS\n",
    "SELECT *\n",
    "FROM `{BQ_SOURCE}`\n",
    "\"\"\"\n",
    "print(query)"
   ]
  },
  {
   "cell_type": "code",
   "execution_count": 43,
   "id": "70024989-0f0e-444f-81da-f534fb67a0d1",
   "metadata": {},
   "outputs": [
    {
     "data": {
      "text/plain": [
       "'DONE'"
      ]
     },
     "execution_count": 43,
     "metadata": {},
     "output_type": "execute_result"
    }
   ],
   "source": [
    "job = bq.query(query = query)\n",
    "job.result()\n",
    "job.state"
   ]
  },
  {
   "cell_type": "markdown",
   "id": "25841457-5ee6-46f3-8034-3fe8143b787c",
   "metadata": {},
   "source": [
    "### Review Schema Before Update"
   ]
  },
  {
   "cell_type": "code",
   "execution_count": 44,
   "id": "3ce123f8-853e-4f6e-b834-c4805db5a508",
   "metadata": {},
   "outputs": [
    {
     "data": {
      "text/html": [
       "<div>\n",
       "<style scoped>\n",
       "    .dataframe tbody tr th:only-of-type {\n",
       "        vertical-align: middle;\n",
       "    }\n",
       "\n",
       "    .dataframe tbody tr th {\n",
       "        vertical-align: top;\n",
       "    }\n",
       "\n",
       "    .dataframe thead th {\n",
       "        text-align: right;\n",
       "    }\n",
       "</style>\n",
       "<table border=\"1\" class=\"dataframe\">\n",
       "  <thead>\n",
       "    <tr style=\"text-align: right;\">\n",
       "      <th></th>\n",
       "      <th>table_catalog</th>\n",
       "      <th>table_schema</th>\n",
       "      <th>table_name</th>\n",
       "      <th>column_name</th>\n",
       "      <th>field_path</th>\n",
       "      <th>data_type</th>\n",
       "      <th>description</th>\n",
       "      <th>collation_name</th>\n",
       "      <th>rounding_mode</th>\n",
       "    </tr>\n",
       "  </thead>\n",
       "  <tbody>\n",
       "    <tr>\n",
       "      <th>0</th>\n",
       "      <td>statmike-mlops-349915</td>\n",
       "      <td>applied_genai</td>\n",
       "      <td>bq-metadata</td>\n",
       "      <td>id</td>\n",
       "      <td>id</td>\n",
       "      <td>INT64</td>\n",
       "      <td>None</td>\n",
       "      <td>NULL</td>\n",
       "      <td>None</td>\n",
       "    </tr>\n",
       "    <tr>\n",
       "      <th>1</th>\n",
       "      <td>statmike-mlops-349915</td>\n",
       "      <td>applied_genai</td>\n",
       "      <td>bq-metadata</td>\n",
       "      <td>cost</td>\n",
       "      <td>cost</td>\n",
       "      <td>FLOAT64</td>\n",
       "      <td>None</td>\n",
       "      <td>NULL</td>\n",
       "      <td>None</td>\n",
       "    </tr>\n",
       "    <tr>\n",
       "      <th>2</th>\n",
       "      <td>statmike-mlops-349915</td>\n",
       "      <td>applied_genai</td>\n",
       "      <td>bq-metadata</td>\n",
       "      <td>category</td>\n",
       "      <td>category</td>\n",
       "      <td>STRING</td>\n",
       "      <td>None</td>\n",
       "      <td>NULL</td>\n",
       "      <td>None</td>\n",
       "    </tr>\n",
       "    <tr>\n",
       "      <th>3</th>\n",
       "      <td>statmike-mlops-349915</td>\n",
       "      <td>applied_genai</td>\n",
       "      <td>bq-metadata</td>\n",
       "      <td>name</td>\n",
       "      <td>name</td>\n",
       "      <td>STRING</td>\n",
       "      <td>None</td>\n",
       "      <td>NULL</td>\n",
       "      <td>None</td>\n",
       "    </tr>\n",
       "    <tr>\n",
       "      <th>4</th>\n",
       "      <td>statmike-mlops-349915</td>\n",
       "      <td>applied_genai</td>\n",
       "      <td>bq-metadata</td>\n",
       "      <td>brand</td>\n",
       "      <td>brand</td>\n",
       "      <td>STRING</td>\n",
       "      <td>None</td>\n",
       "      <td>NULL</td>\n",
       "      <td>None</td>\n",
       "    </tr>\n",
       "    <tr>\n",
       "      <th>5</th>\n",
       "      <td>statmike-mlops-349915</td>\n",
       "      <td>applied_genai</td>\n",
       "      <td>bq-metadata</td>\n",
       "      <td>retail_price</td>\n",
       "      <td>retail_price</td>\n",
       "      <td>FLOAT64</td>\n",
       "      <td>None</td>\n",
       "      <td>NULL</td>\n",
       "      <td>None</td>\n",
       "    </tr>\n",
       "    <tr>\n",
       "      <th>6</th>\n",
       "      <td>statmike-mlops-349915</td>\n",
       "      <td>applied_genai</td>\n",
       "      <td>bq-metadata</td>\n",
       "      <td>department</td>\n",
       "      <td>department</td>\n",
       "      <td>STRING</td>\n",
       "      <td>None</td>\n",
       "      <td>NULL</td>\n",
       "      <td>None</td>\n",
       "    </tr>\n",
       "    <tr>\n",
       "      <th>7</th>\n",
       "      <td>statmike-mlops-349915</td>\n",
       "      <td>applied_genai</td>\n",
       "      <td>bq-metadata</td>\n",
       "      <td>sku</td>\n",
       "      <td>sku</td>\n",
       "      <td>STRING</td>\n",
       "      <td>None</td>\n",
       "      <td>NULL</td>\n",
       "      <td>None</td>\n",
       "    </tr>\n",
       "    <tr>\n",
       "      <th>8</th>\n",
       "      <td>statmike-mlops-349915</td>\n",
       "      <td>applied_genai</td>\n",
       "      <td>bq-metadata</td>\n",
       "      <td>distribution_center_id</td>\n",
       "      <td>distribution_center_id</td>\n",
       "      <td>INT64</td>\n",
       "      <td>None</td>\n",
       "      <td>NULL</td>\n",
       "      <td>None</td>\n",
       "    </tr>\n",
       "  </tbody>\n",
       "</table>\n",
       "</div>"
      ],
      "text/plain": [
       "           table_catalog   table_schema   table_name             column_name  \\\n",
       "0  statmike-mlops-349915  applied_genai  bq-metadata                      id   \n",
       "1  statmike-mlops-349915  applied_genai  bq-metadata                    cost   \n",
       "2  statmike-mlops-349915  applied_genai  bq-metadata                category   \n",
       "3  statmike-mlops-349915  applied_genai  bq-metadata                    name   \n",
       "4  statmike-mlops-349915  applied_genai  bq-metadata                   brand   \n",
       "5  statmike-mlops-349915  applied_genai  bq-metadata            retail_price   \n",
       "6  statmike-mlops-349915  applied_genai  bq-metadata              department   \n",
       "7  statmike-mlops-349915  applied_genai  bq-metadata                     sku   \n",
       "8  statmike-mlops-349915  applied_genai  bq-metadata  distribution_center_id   \n",
       "\n",
       "               field_path data_type description collation_name rounding_mode  \n",
       "0                      id     INT64        None           NULL          None  \n",
       "1                    cost   FLOAT64        None           NULL          None  \n",
       "2                category    STRING        None           NULL          None  \n",
       "3                    name    STRING        None           NULL          None  \n",
       "4                   brand    STRING        None           NULL          None  \n",
       "5            retail_price   FLOAT64        None           NULL          None  \n",
       "6              department    STRING        None           NULL          None  \n",
       "7                     sku    STRING        None           NULL          None  \n",
       "8  distribution_center_id     INT64        None           NULL          None  "
      ]
     },
     "execution_count": 44,
     "metadata": {},
     "output_type": "execute_result"
    }
   ],
   "source": [
    "query = f\"\"\"\n",
    "    SELECT *\n",
    "    FROM `{BQ_PROJECT}.{BQ_DATASET}.INFORMATION_SCHEMA.COLUMN_FIELD_PATHS`\n",
    "    WHERE TABLE_NAME = '{BQ_TABLE}'\n",
    "        AND column_name = field_path\n",
    "\"\"\"\n",
    "bq.query(query = query).to_dataframe()"
   ]
  },
  {
   "cell_type": "code",
   "execution_count": 45,
   "id": "1879fb6c-5c4b-42c1-8e25-02ae5eb5c8bc",
   "metadata": {},
   "outputs": [
    {
     "data": {
      "text/html": [
       "<div>\n",
       "<style scoped>\n",
       "    .dataframe tbody tr th:only-of-type {\n",
       "        vertical-align: middle;\n",
       "    }\n",
       "\n",
       "    .dataframe tbody tr th {\n",
       "        vertical-align: top;\n",
       "    }\n",
       "\n",
       "    .dataframe thead th {\n",
       "        text-align: right;\n",
       "    }\n",
       "</style>\n",
       "<table border=\"1\" class=\"dataframe\">\n",
       "  <thead>\n",
       "    <tr style=\"text-align: right;\">\n",
       "      <th></th>\n",
       "      <th>table_catalog</th>\n",
       "      <th>table_schema</th>\n",
       "      <th>table_name</th>\n",
       "      <th>option_name</th>\n",
       "      <th>option_type</th>\n",
       "      <th>option_value</th>\n",
       "    </tr>\n",
       "  </thead>\n",
       "  <tbody>\n",
       "  </tbody>\n",
       "</table>\n",
       "</div>"
      ],
      "text/plain": [
       "Empty DataFrame\n",
       "Columns: [table_catalog, table_schema, table_name, option_name, option_type, option_value]\n",
       "Index: []"
      ]
     },
     "execution_count": 45,
     "metadata": {},
     "output_type": "execute_result"
    }
   ],
   "source": [
    "query = f\"\"\"\n",
    "    SELECT *\n",
    "    FROM `{BQ_PROJECT}.{BQ_DATASET}.INFORMATION_SCHEMA.TABLE_OPTIONS`\n",
    "    WHERE TABLE_NAME = '{BQ_TABLE}'\n",
    "        AND OPTION_NAME = 'description'\n",
    "\"\"\"\n",
    "bq.query(query = query).to_dataframe()"
   ]
  },
  {
   "cell_type": "markdown",
   "id": "9806ff84-ca4d-43ab-8567-c520cdcb9bce",
   "metadata": {},
   "source": [
    "### Change Column Names"
   ]
  },
  {
   "cell_type": "markdown",
   "id": "f497255e-480f-434c-a9da-3338a94b9de3",
   "metadata": {},
   "source": [
    "Construct DDL to Alter Table:"
   ]
  },
  {
   "cell_type": "code",
   "execution_count": 59,
   "id": "be2f18cf-d78f-420a-becf-8deed6a171f7",
   "metadata": {},
   "outputs": [
    {
     "data": {
      "application/vnd.jupyter.widget-view+json": {
       "model_id": "393fa03aa60f4ec99b06e63a344725eb",
       "version_major": 2,
       "version_minor": 0
      },
      "text/plain": [
       "HTML(value='Query job 5c6eaaa3-097d-4e96-97f0-c0f9ffcee87a is DONE. 0 Bytes processed. <a target=\"_blank\" href…"
      ]
     },
     "metadata": {},
     "output_type": "display_data"
    },
    {
     "name": "stdout",
     "output_type": "stream",
     "text": [
      "ALTER TABLE `statmike-mlops-349915.applied_genai.bq-metadata`\n",
      "\tRENAME COLUMN id TO  product_id,\n",
      "\tRENAME COLUMN cost TO  product_cost,\n",
      "\tRENAME COLUMN category TO  products_category_v2,\n",
      "\tRENAME COLUMN name TO  product_name,\n",
      "\tRENAME COLUMN brand TO  product_brand,\n",
      "\tRENAME COLUMN retail_price TO  products_retail_price_float64,\n",
      "\tRENAME COLUMN department TO  products_department_gender,\n",
      "\tRENAME COLUMN sku TO  product_sku,\n",
      "\tRENAME COLUMN distribution_center_id TO  products_distribution_center_id\n"
     ]
    }
   ],
   "source": [
    "for r, row in enumerate(products_columns[['column_name', 'new_column_name', 'new_column_description']].values.tolist()):\n",
    "    if r == 0:\n",
    "        query = f\"ALTER TABLE `{BQ_PROJECT}.{BQ_DATASET}.{BQ_TABLE}`\"\n",
    "        query += f\"\"\"\\n\\tRENAME COLUMN {row[0]} TO {row[1]}\"\"\"\n",
    "    else:\n",
    "        query += f\"\"\",\\n\\tRENAME COLUMN {row[0]} TO {row[1]}\"\"\"\n",
    "print(query)"
   ]
  },
  {
   "cell_type": "code",
   "execution_count": 60,
   "id": "5b53f729-4087-42e4-b15d-82344415e55e",
   "metadata": {},
   "outputs": [
    {
     "data": {
      "text/plain": [
       "'DONE'"
      ]
     },
     "execution_count": 60,
     "metadata": {},
     "output_type": "execute_result"
    }
   ],
   "source": [
    "job = bq.query(query = query)\n",
    "job.result()\n",
    "job.state"
   ]
  },
  {
   "cell_type": "markdown",
   "id": "f9a560c2-9041-45a1-a6be-aaa7cfba0d00",
   "metadata": {},
   "source": [
    "### Change Column Descriptions"
   ]
  },
  {
   "cell_type": "markdown",
   "id": "14438d47-32b7-4e7b-9c69-46fabc570532",
   "metadata": {},
   "source": [
    "Construct DDL to Alter Table:"
   ]
  },
  {
   "cell_type": "code",
   "execution_count": 61,
   "id": "1d379f54-06bf-425e-8868-c92a567d1821",
   "metadata": {},
   "outputs": [
    {
     "data": {
      "application/vnd.jupyter.widget-view+json": {
       "model_id": "8c2371ca3d864330817c62fd08377977",
       "version_major": 2,
       "version_minor": 0
      },
      "text/plain": [
       "HTML(value='Query job 603e15d9-18ce-4db1-8469-78b794713f69 is DONE. 0 Bytes processed. <a target=\"_blank\" href…"
      ]
     },
     "metadata": {},
     "output_type": "display_data"
    },
    {
     "name": "stdout",
     "output_type": "stream",
     "text": [
      "ALTER TABLE `statmike-mlops-349915.applied_genai.bq-metadata`\n",
      "\tALTER COLUMN  product_id SET OPTIONS (description = \" product_id is a column in the products table. The column is of type INT64 and has values like 29120,29119,29118,29117,29116,29115,29114,29113,29112,29111. The column likely represents the unique identifier for each product in the table.\"),\n",
      "\tALTER COLUMN  product_cost SET OPTIONS (description = \" product_cost is a column in the products table. The column contains FLOAT64 values representing the cost of each product. Example values include 13.549999985843897, 10.750000039115548, and 12.05000001937151.\"),\n",
      "\tALTER COLUMN  products_category_v2 SET OPTIONS (description = \" products_category_v2 column in the products table contains product category information. The column is of type STRING and contains values such as Intimates, Jeans, Tops & Tees, Fashion Hoodies & Sweatshirts, Swim, Sleep & Lounge, Shorts, Sweaters, Accessories, and Active.\"),\n",
      "\tALTER COLUMN  product_name SET OPTIONS (description = \" product_name: The name of the product. Examples: Wrangler Men's Premium Performance Cowboy Cut Jean,Wrangler Men's Rugged Wear Classic Fit Jean,True Religion Men's Ricky Straight Jean,Thorlo Unisex Experia Running Sock,Puma Men's Socks,Pearl iZUMi Attack Sock 3-Pack,Fruit of the Loom Women's 6-Pack Crew Socks,7 For All Mankind Men's Standard Classic Straight Leg Jean,Wrangler Men's Wrancher Dress Jean,Wrangler Men's Original Cowboy Cut Relaxed Fit Jean\"),\n",
      "\tALTER COLUMN  product_brand SET OPTIONS (description = \" product_brand column in the products table contains STRING data and captures the brand name of the product. Example values include: Allegra K, Calvin Klein, Carhartt, Hanes, Volcom, Nautica, Levi's, Quiksilver, Tommy Hilfiger, Columbia.\"),\n",
      "\tALTER COLUMN  products_retail_price_float64 SET OPTIONS (description = \" The products_retail_price_float64 column in the products table contains the retail price of each product in US dollars. The column has a datatype of FLOAT64 and contains values like 25, 29.99, 19.99, 39.99, 49.99, 24.99, 34.99, 49.5, 50, and 55.\"),\n",
      "\tALTER COLUMN  products_department_gender SET OPTIONS (description = \" The products_department_gender column in the products table stores the department and gender that a product belongs to. The column has a datatype of STRING and common values include 'Women' and 'Men'. This column can be used to filter products by department or gender, or to create reports on product sales by department or gender.\"),\n",
      "\tALTER COLUMN  product_sku SET OPTIONS (description = \" product_sku is a column in the products table. It is a string column with values that are product SKUs.\"),\n",
      "\tALTER COLUMN  products_distribution_center_id SET OPTIONS (description = \" The products_distribution_center_id column in the products table is an INT64 data type. The column contains the ID of the distribution center where the product is stored. The most common values for this column are 2, 1, 3, 8, 4, 9, 7, 6, 5, and 10.\")\n"
     ]
    }
   ],
   "source": [
    "for r, row in enumerate(products_columns[['column_name', 'new_column_name', 'new_column_description']].values.tolist()):\n",
    "    if r == 0:\n",
    "        query = f\"ALTER TABLE `{BQ_PROJECT}.{BQ_DATASET}.{BQ_TABLE}`\"\n",
    "        query += f\"\"\"\\n\\tALTER COLUMN {row[1]} SET OPTIONS (description = \"{row[2].replace('\"', \"'\")}\")\"\"\"\n",
    "    else:\n",
    "        query += f\"\"\",\\n\\tALTER COLUMN {row[1]} SET OPTIONS (description = \"{row[2].replace('\"', \"'\")}\")\"\"\"\n",
    "print(query)"
   ]
  },
  {
   "cell_type": "code",
   "execution_count": 62,
   "id": "3a73ae30-875b-45f3-bb1c-12ca48dd33b3",
   "metadata": {},
   "outputs": [
    {
     "data": {
      "text/plain": [
       "'DONE'"
      ]
     },
     "execution_count": 62,
     "metadata": {},
     "output_type": "execute_result"
    }
   ],
   "source": [
    "job = bq.query(query = query)\n",
    "job.result()\n",
    "job.state"
   ]
  },
  {
   "cell_type": "markdown",
   "id": "39cddc15-71f4-4e3c-8bdd-eabeb8d518c9",
   "metadata": {},
   "source": [
    "### Change Table Description"
   ]
  },
  {
   "cell_type": "code",
   "execution_count": 65,
   "id": "1d3cfb80-8ba8-4b3f-8100-94f55a68d2c6",
   "metadata": {},
   "outputs": [
    {
     "name": "stdout",
     "output_type": "stream",
     "text": [
      "ALTER TABLE `statmike-mlops-349915.applied_genai.bq-metadata`\n",
      "\tSET OPTIONS(description = \" The products table contains information about products, including product id, cost, category, name, brand, retail price, department and gender, SKU, and distribution center ID. The table can be used to analyze product sales, track inventory, and manage product distribution.\")\n"
     ]
    }
   ],
   "source": [
    "query = f\"\"\"ALTER TABLE `{BQ_PROJECT}.{BQ_DATASET}.{BQ_TABLE}`\n",
    "\\tSET OPTIONS(description = \"{table_description.replace('\"', \"'\")}\")\"\"\"\n",
    "print(query)"
   ]
  },
  {
   "cell_type": "code",
   "execution_count": 66,
   "id": "a06c4b9e-41b5-4433-9d14-f847f257df35",
   "metadata": {},
   "outputs": [
    {
     "data": {
      "text/plain": [
       "'DONE'"
      ]
     },
     "execution_count": 66,
     "metadata": {},
     "output_type": "execute_result"
    }
   ],
   "source": [
    "job = bq.query(query = query)\n",
    "job.result()\n",
    "job.state"
   ]
  },
  {
   "cell_type": "markdown",
   "id": "d8556aa6-ff23-47b7-a0f5-ca6567303d22",
   "metadata": {},
   "source": [
    "### Review Schema After Update"
   ]
  },
  {
   "cell_type": "code",
   "execution_count": 67,
   "id": "0427051a-f7c6-42ea-a50a-4081e22a1f1a",
   "metadata": {},
   "outputs": [
    {
     "data": {
      "text/html": [
       "<div>\n",
       "<style scoped>\n",
       "    .dataframe tbody tr th:only-of-type {\n",
       "        vertical-align: middle;\n",
       "    }\n",
       "\n",
       "    .dataframe tbody tr th {\n",
       "        vertical-align: top;\n",
       "    }\n",
       "\n",
       "    .dataframe thead th {\n",
       "        text-align: right;\n",
       "    }\n",
       "</style>\n",
       "<table border=\"1\" class=\"dataframe\">\n",
       "  <thead>\n",
       "    <tr style=\"text-align: right;\">\n",
       "      <th></th>\n",
       "      <th>table_catalog</th>\n",
       "      <th>table_schema</th>\n",
       "      <th>table_name</th>\n",
       "      <th>column_name</th>\n",
       "      <th>field_path</th>\n",
       "      <th>data_type</th>\n",
       "      <th>description</th>\n",
       "      <th>collation_name</th>\n",
       "      <th>rounding_mode</th>\n",
       "    </tr>\n",
       "  </thead>\n",
       "  <tbody>\n",
       "    <tr>\n",
       "      <th>0</th>\n",
       "      <td>statmike-mlops-349915</td>\n",
       "      <td>applied_genai</td>\n",
       "      <td>bq-metadata</td>\n",
       "      <td>product_id</td>\n",
       "      <td>product_id</td>\n",
       "      <td>INT64</td>\n",
       "      <td>product_id is a column in the products table....</td>\n",
       "      <td>NULL</td>\n",
       "      <td>None</td>\n",
       "    </tr>\n",
       "    <tr>\n",
       "      <th>1</th>\n",
       "      <td>statmike-mlops-349915</td>\n",
       "      <td>applied_genai</td>\n",
       "      <td>bq-metadata</td>\n",
       "      <td>product_cost</td>\n",
       "      <td>product_cost</td>\n",
       "      <td>FLOAT64</td>\n",
       "      <td>product_cost is a column in the products tabl...</td>\n",
       "      <td>NULL</td>\n",
       "      <td>None</td>\n",
       "    </tr>\n",
       "    <tr>\n",
       "      <th>2</th>\n",
       "      <td>statmike-mlops-349915</td>\n",
       "      <td>applied_genai</td>\n",
       "      <td>bq-metadata</td>\n",
       "      <td>products_category_v2</td>\n",
       "      <td>products_category_v2</td>\n",
       "      <td>STRING</td>\n",
       "      <td>products_category_v2 column in the products t...</td>\n",
       "      <td>NULL</td>\n",
       "      <td>None</td>\n",
       "    </tr>\n",
       "    <tr>\n",
       "      <th>3</th>\n",
       "      <td>statmike-mlops-349915</td>\n",
       "      <td>applied_genai</td>\n",
       "      <td>bq-metadata</td>\n",
       "      <td>product_name</td>\n",
       "      <td>product_name</td>\n",
       "      <td>STRING</td>\n",
       "      <td>product_name: The name of the product. Exampl...</td>\n",
       "      <td>NULL</td>\n",
       "      <td>None</td>\n",
       "    </tr>\n",
       "    <tr>\n",
       "      <th>4</th>\n",
       "      <td>statmike-mlops-349915</td>\n",
       "      <td>applied_genai</td>\n",
       "      <td>bq-metadata</td>\n",
       "      <td>product_brand</td>\n",
       "      <td>product_brand</td>\n",
       "      <td>STRING</td>\n",
       "      <td>product_brand column in the products table co...</td>\n",
       "      <td>NULL</td>\n",
       "      <td>None</td>\n",
       "    </tr>\n",
       "    <tr>\n",
       "      <th>5</th>\n",
       "      <td>statmike-mlops-349915</td>\n",
       "      <td>applied_genai</td>\n",
       "      <td>bq-metadata</td>\n",
       "      <td>products_retail_price_float64</td>\n",
       "      <td>products_retail_price_float64</td>\n",
       "      <td>FLOAT64</td>\n",
       "      <td>The products_retail_price_float64 column in t...</td>\n",
       "      <td>NULL</td>\n",
       "      <td>None</td>\n",
       "    </tr>\n",
       "    <tr>\n",
       "      <th>6</th>\n",
       "      <td>statmike-mlops-349915</td>\n",
       "      <td>applied_genai</td>\n",
       "      <td>bq-metadata</td>\n",
       "      <td>products_department_gender</td>\n",
       "      <td>products_department_gender</td>\n",
       "      <td>STRING</td>\n",
       "      <td>The products_department_gender column in the ...</td>\n",
       "      <td>NULL</td>\n",
       "      <td>None</td>\n",
       "    </tr>\n",
       "    <tr>\n",
       "      <th>7</th>\n",
       "      <td>statmike-mlops-349915</td>\n",
       "      <td>applied_genai</td>\n",
       "      <td>bq-metadata</td>\n",
       "      <td>product_sku</td>\n",
       "      <td>product_sku</td>\n",
       "      <td>STRING</td>\n",
       "      <td>product_sku is a column in the products table...</td>\n",
       "      <td>NULL</td>\n",
       "      <td>None</td>\n",
       "    </tr>\n",
       "    <tr>\n",
       "      <th>8</th>\n",
       "      <td>statmike-mlops-349915</td>\n",
       "      <td>applied_genai</td>\n",
       "      <td>bq-metadata</td>\n",
       "      <td>products_distribution_center_id</td>\n",
       "      <td>products_distribution_center_id</td>\n",
       "      <td>INT64</td>\n",
       "      <td>The products_distribution_center_id column in...</td>\n",
       "      <td>NULL</td>\n",
       "      <td>None</td>\n",
       "    </tr>\n",
       "  </tbody>\n",
       "</table>\n",
       "</div>"
      ],
      "text/plain": [
       "           table_catalog   table_schema   table_name  \\\n",
       "0  statmike-mlops-349915  applied_genai  bq-metadata   \n",
       "1  statmike-mlops-349915  applied_genai  bq-metadata   \n",
       "2  statmike-mlops-349915  applied_genai  bq-metadata   \n",
       "3  statmike-mlops-349915  applied_genai  bq-metadata   \n",
       "4  statmike-mlops-349915  applied_genai  bq-metadata   \n",
       "5  statmike-mlops-349915  applied_genai  bq-metadata   \n",
       "6  statmike-mlops-349915  applied_genai  bq-metadata   \n",
       "7  statmike-mlops-349915  applied_genai  bq-metadata   \n",
       "8  statmike-mlops-349915  applied_genai  bq-metadata   \n",
       "\n",
       "                       column_name                       field_path data_type  \\\n",
       "0                       product_id                       product_id     INT64   \n",
       "1                     product_cost                     product_cost   FLOAT64   \n",
       "2             products_category_v2             products_category_v2    STRING   \n",
       "3                     product_name                     product_name    STRING   \n",
       "4                    product_brand                    product_brand    STRING   \n",
       "5    products_retail_price_float64    products_retail_price_float64   FLOAT64   \n",
       "6       products_department_gender       products_department_gender    STRING   \n",
       "7                      product_sku                      product_sku    STRING   \n",
       "8  products_distribution_center_id  products_distribution_center_id     INT64   \n",
       "\n",
       "                                         description collation_name  \\\n",
       "0   product_id is a column in the products table....           NULL   \n",
       "1   product_cost is a column in the products tabl...           NULL   \n",
       "2   products_category_v2 column in the products t...           NULL   \n",
       "3   product_name: The name of the product. Exampl...           NULL   \n",
       "4   product_brand column in the products table co...           NULL   \n",
       "5   The products_retail_price_float64 column in t...           NULL   \n",
       "6   The products_department_gender column in the ...           NULL   \n",
       "7   product_sku is a column in the products table...           NULL   \n",
       "8   The products_distribution_center_id column in...           NULL   \n",
       "\n",
       "  rounding_mode  \n",
       "0          None  \n",
       "1          None  \n",
       "2          None  \n",
       "3          None  \n",
       "4          None  \n",
       "5          None  \n",
       "6          None  \n",
       "7          None  \n",
       "8          None  "
      ]
     },
     "execution_count": 67,
     "metadata": {},
     "output_type": "execute_result"
    }
   ],
   "source": [
    "query = f\"\"\"\n",
    "    SELECT *\n",
    "    FROM `{BQ_PROJECT}.{BQ_DATASET}.INFORMATION_SCHEMA.COLUMN_FIELD_PATHS`\n",
    "    WHERE TABLE_NAME = '{BQ_TABLE}'\n",
    "        AND column_name = field_path\n",
    "\"\"\"\n",
    "bq.query(query = query).to_dataframe()"
   ]
  },
  {
   "cell_type": "code",
   "execution_count": 69,
   "id": "777eab37-ae84-4916-a564-2923d29b6403",
   "metadata": {},
   "outputs": [
    {
     "data": {
      "text/plain": [
       "'\" The products table contains information about products, including product id, cost, category, name, brand, retail price, department and gender, SKU, and distribution center ID. The table can be used to analyze product sales, track inventory, and manage product distribution.\"'"
      ]
     },
     "execution_count": 69,
     "metadata": {},
     "output_type": "execute_result"
    }
   ],
   "source": [
    "query = f\"\"\"\n",
    "    SELECT *\n",
    "    FROM `{BQ_PROJECT}.{BQ_DATASET}.INFORMATION_SCHEMA.TABLE_OPTIONS`\n",
    "    WHERE TABLE_NAME = '{BQ_TABLE}'\n",
    "        AND OPTION_NAME = 'description'\n",
    "\"\"\"\n",
    "bq.query(query = query).to_dataframe()['option_value'].iloc[0]"
   ]
  }
 ],
 "metadata": {
  "environment": {
   "kernel": "python3",
   "name": "tf2-gpu.2-12.m110",
   "type": "gcloud",
   "uri": "gcr.io/deeplearning-platform-release/tf2-gpu.2-12:m110"
  },
  "kernelspec": {
   "display_name": "Python 3",
   "language": "python",
   "name": "python3"
  },
  "language_info": {
   "codemirror_mode": {
    "name": "ipython",
    "version": 3
   },
   "file_extension": ".py",
   "mimetype": "text/x-python",
   "name": "python",
   "nbconvert_exporter": "python",
   "pygments_lexer": "ipython3",
   "version": "3.10.12"
  }
 },
 "nbformat": 4,
 "nbformat_minor": 5
}
