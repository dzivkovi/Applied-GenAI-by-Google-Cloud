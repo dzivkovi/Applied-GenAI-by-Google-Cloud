{
 "cells": [
  {
   "cell_type": "markdown",
   "id": "2f3b4702",
   "metadata": {},
   "source": [
    "![tracker](https://us-central1-vertex-ai-mlops-369716.cloudfunctions.net/pixel-tracking?path=statmike%2Fvertex-ai-mlops%2FApplied+GenAI%2Flegacy&file=Vertex+AI+Matching+Engine+For+Document+Q%26A.ipynb)\n",
    "<!--- header table --->\n",
    "<table align=\"left\">\n",
    "  <td style=\"text-align: center\">\n",
    "    <a href=\"https://colab.research.google.com/github/statmike/vertex-ai-mlops/blob/main/Applied%20GenAI/legacy/Vertex%20AI%20Matching%20Engine%20For%20Document%20Q%26A.ipynb\">\n",
    "      <img src=\"https://cloud.google.com/ml-engine/images/colab-logo-32px.png\" alt=\"Google Colaboratory logo\">\n",
    "      <br>Run in<br>Colab\n",
    "    </a>\n",
    "  </td>\n",
    "  <td style=\"text-align: center\">\n",
    "    <a href=\"https://console.cloud.google.com/vertex-ai/colab/import/https%3A%2F%2Fraw.githubusercontent.com%2Fstatmike%2Fvertex-ai-mlops%2Fmain%2FApplied%2520GenAI%2Flegacy%2FVertex%2520AI%2520Matching%2520Engine%2520For%2520Document%2520Q%2526A.ipynb\">\n",
    "      <img width=\"32px\" src=\"https://lh3.googleusercontent.com/JmcxdQi-qOpctIvWKgPtrzZdJJK-J3sWE1RsfjZNwshCFgE_9fULcNpuXYTilIR2hjwN\" alt=\"Google Cloud Colab Enterprise logo\">\n",
    "      <br>Run in<br>Colab Enterprise\n",
    "    </a>\n",
    "  </td>      \n",
    "  <td style=\"text-align: center\">\n",
    "    <a href=\"https://github.com/statmike/vertex-ai-mlops/blob/main/Applied%20GenAI/legacy/Vertex%20AI%20Matching%20Engine%20For%20Document%20Q%26A.ipynb\">\n",
    "      <img src=\"https://cloud.google.com/ml-engine/images/github-logo-32px.png\" alt=\"GitHub logo\">\n",
    "      <br>View on<br>GitHub\n",
    "    </a>\n",
    "  </td>\n",
    "  <td style=\"text-align: center\">\n",
    "    <a href=\"https://console.cloud.google.com/vertex-ai/workbench/deploy-notebook?download_url=https://raw.githubusercontent.com/statmike/vertex-ai-mlops/main/Applied%20GenAI/legacy/Vertex%20AI%20Matching%20Engine%20For%20Document%20Q%26A.ipynb\">\n",
    "      <img src=\"https://lh3.googleusercontent.com/UiNooY4LUgW_oTvpsNhPpQzsstV5W8F7rYgxgGBD85cWJoLmrOzhVs_ksK_vgx40SHs7jCqkTkCk=e14-rj-sc0xffffff-h130-w32\" alt=\"Vertex AI logo\">\n",
    "      <br>Open in<br>Vertex AI Workbench\n",
    "    </a>\n",
    "  </td>\n",
    "</table>"
   ]
  },
  {
   "cell_type": "markdown",
   "id": "b561c62a-b46d-4150-a5ca-03dd9a3f18bf",
   "metadata": {},
   "source": [
    "---\n",
    "\n",
    "**File Move Notices**\n",
    "\n",
    "This file moved locations:\n",
    "- On 09/07/2024 (mm/dd/yyyy)\n",
    "\t- From: `Applied GenAI/Vertex AI Matching Engine For Document Q&A.ipynb`\n",
    "\t- To: `Applied GenAI/legacy/Vertex AI Matching Engine For Document Q&A.ipynb`\n",
    "---\n",
    "<!---end of move notices--->\n",
    "\n",
    "../.#../. ../.V../.e../.r../.t../.e../.x../. ../.A../.I../. ../.M../.a../.t../.c../.h../.i../.n../.g../. ../.E../.n../.g../.i../.n../.e../. ../.F../.o../.r../. ../.D../.o../.c../.u../.m../.e../.n../.t../. ../.Q../.&../.A../.\n",
    "../.\n",
    "../.[../.V../.e../.r../.t../.e../.x../. ../.A../.I../. ../.M../.a../.t../.c../.h../.i../.n../.g../. ../.E../.n../.g../.i../.n../.e../.]../.(../.)../. ../.p../.r../.o../.v../.i../.d../.e../.s../. ../.a../. ../.s../.t../.a../.t../.e../.f../.u../.l../.,../. ../.l../.o../.w../.-../.l../.a../.t../.e../.n../.c../.y../.,../. ../.v../.e../.c../.t../.o../.r../. ../.d../.a../.t../.a../.b../.a../.s../.e../..../. ../. ../.T../.h../.i../.s../. ../.p../.r../.o../.v../.i../.d../.e../.s../. ../.v../.e../.c../.t../.o../.r../. ../.s../.i../.m../.i../.l../.a../.r../.i../.t../.y../.-../.m../.a../.t../.c../.h../.i../.n../.g../. ../.a../.s../. ../.a../. ../.s../.e../.r../.v../.i../.c../.e../..../. ../. ../.\n",
    "../.\n",
    "../.T../.h../.e../. ../.d../.o../.c../.u../.m../.e../.n../.t../. ../.Q../.&../.A../. ../.n../.o../.t../.e../.b../.o../.o../.k../.s../. ../.i../.n../. ../.t../.h../.i../.s../. ../.s../.e../.r../.i../.e../.s../. ../.e../.a../.c../.h../. ../.s../.a../.v../.e../. ../.e../.m../.b../.e../.d../.d../.i../.n../.g../.s../. ../.f../.i../.l../.e../.s../. ../.t../.o../. ../.G../.C../.S../. ../.t../.h../.a../.t../. ../.c../.a../.n../. ../.b../.e../. ../.u../.s../.e../.d../. ../.a../.s../. ../.i../.n../.p../.u../.t../. ../.f../.o../.r../. ../.c../.r../.e../.a../.t../.i../.n../.g../. ../.a../.n../. ../.i../.n../.d../.e../.x../. ../.i../.n../. ../.V../.e../.r../.t../.e../.x../. ../.A../.I../. ../.M../.a../.t../.c../.h../.i../.n../.g../. ../.E../.n../.g../.i../.n../.e../..../.\n",
    "../.\n",
    "../.*../.*../.P../.r../.e../.r../.e../.q../.u../.i../.s../.i../.t../.e../.s../.:../.*../.*../.\n",
    "../.-../. ../.O../.n../.e../. ../.o../.f../. ../.t../.h../.e../. ../.d../.o../.c../.u../.m../.e../.n../.t../. ../.Q../.&../.A../. ../.n../.o../.t../.e../.b../.o../.o../.k../.s../. ../.i../.n../. ../.[../.t../.h../.i../.s../. ../.s../.e../.r../.i../.e../.s../.]../.(../...././../.r../.e../.a../.d../.m../.e../..../.m../.d../.)../.\n",
    "../.\n",
    "../.*../.*../.R../.e../.s../.o../.u../.r../.c../.e../.s../.:../.*../.*../.\n",
    "../.-../. ../.[../.V../.e../.r../.t../.e../.x../. ../.A../.I../. ../.M../.a../.t../.c../.h../.i../.n../.g../. ../.E../.n../.g../.i../.n../.e../.]../.(../.h../.t../.t../.p../.s../.:.././.././../.c../.l../.o../.u../.d../..../.g../.o../.o../.g../.l../.e../..../.c../.o../.m.././../.v../.e../.r../.t../.e../.x../.-../.a../.i.././../.d../.o../.c../.s.././../.m../.a../.t../.c../.h../.i../.n../.g../.-../.e../.n../.g../.i../.n../.e.././../.o../.v../.e../.r../.v../.i../.e../.w../.)../.\n",
    "../. ../. ../. ../. ../.-../. ../.V../.e../.r../.t../.e../.x../. ../.A../.I../. ../.[../.P../.y../.t../.h../.o../.n../. ../.C../.l../.i../.e../.n../.t../.]../.(../.h../.t../.t../.p../.s../.:.././.././../.c../.l../.o../.u../.d../..../.g../.o../.o../.g../.l../.e../..../.c../.o../.m.././../.p../.y../.t../.h../.o../.n.././../.d../.o../.c../.s.././../.r../.e../.f../.e../.r../.e../.n../.c../.e.././../.a../.i../.p../.l../.a../.t../.f../.o../.r../.m.././../.l../.a../.t../.e../.s../.t../.)../.-../. ../.V../.e../.r../.t../.e../.x../. ../.A../.I../. ../.[../.P../.y../.t../.h../.o../.n../. ../.C../.l../.i../.e../.n../.t../.]../.(../.h../.t../.t../.p../.s../.:.././.././../.c../.l../.o../.u../.d../..../.g../.o../.o../.g../.l../.e../..../.c../.o../.m.././../.p../.y../.t../.h../.o../.n.././../.d../.o../.c../.s.././../.r../.e../.f../.e../.r../.e../.n../.c../.e.././../.a../.i../.p../.l../.a../.t../.f../.o../.r../.m.././../.l../.a../.t../.e../.s../.t../.)../."
   ]
  },
  {
   "cell_type": "markdown",
   "id": "4ecb8010-38cf-4437-98ed-4591bec4601f",
   "metadata": {
    "id": "od_UkDpvRmgD"
   },
   "source": [
    "---\n",
    "## Colab Setup\n",
    "\n",
    "To run this notebook in Colab click [![Open In Colab](https://colab.research.google.com/assets/colab-badge.svg)](https://colab.research.google.com/github/statmike/vertex-ai-mlops/blob/main/Applied%20GenAI/Vertex%20AI%20Matching%20Engine%20For%20Document%20Q&A.ipynb) and run the cells in this section.  Otherwise, skip this section.\n",
    "\n",
    "This cell will authenticate to GCP (follow prompts in the popup)."
   ]
  },
  {
   "cell_type": "code",
   "execution_count": 1,
   "id": "4e5158e3-ac16-42a1-b10f-b9932d97cd68",
   "metadata": {
    "executionInfo": {
     "elapsed": 195,
     "status": "ok",
     "timestamp": 1683726184843,
     "user": {
      "displayName": "Mike Henderson",
      "userId": "07691629187611687318"
     },
     "user_tz": 240
    },
    "id": "8UO9FnqyKBlF"
   },
   "outputs": [],
   "source": [
    "PROJECT_ID = 'statmike-mlops-349915' # replace with project ID"
   ]
  },
  {
   "cell_type": "code",
   "execution_count": 2,
   "id": "e8446ff9-d844-4a62-b16a-719e7bd42753",
   "metadata": {
    "colab": {
     "base_uri": "https://localhost:8080/"
    },
    "executionInfo": {
     "elapsed": 68869,
     "status": "ok",
     "timestamp": 1683726253709,
     "user": {
      "displayName": "Mike Henderson",
      "userId": "07691629187611687318"
     },
     "user_tz": 240
    },
    "id": "N98-KK7LRkjm",
    "outputId": "09ec5008-0def-4e1a-c349-c598ee752f78"
   },
   "outputs": [],
   "source": [
    "try:\n",
    "    import google.colab\n",
    "    from google.colab import auth\n",
    "    auth.authenticate_user()\n",
    "    !gcloud config set project {PROJECT_ID}\n",
    "except Exception:\n",
    "    pass"
   ]
  },
  {
   "cell_type": "markdown",
   "id": "d4a5a252-7962-49c1-aee5-6b5777ffba62",
   "metadata": {
    "id": "appt8-yVRtJ1"
   },
   "source": [
    "---\n",
    "## Setup"
   ]
  },
  {
   "cell_type": "markdown",
   "id": "2f31e8d9-39ce-49c6-ae92-44fc844c5201",
   "metadata": {
    "id": "63mx2EozRxFP"
   },
   "source": [
    "Inputs"
   ]
  },
  {
   "cell_type": "code",
   "execution_count": 1,
   "id": "1152b484-ff06-4dac-ad96-c7058ac8eb46",
   "metadata": {
    "colab": {
     "base_uri": "https://localhost:8080/",
     "height": 35
    },
    "executionInfo": {
     "elapsed": 2124,
     "status": "ok",
     "timestamp": 1683726390544,
     "user": {
      "displayName": "Mike Henderson",
      "userId": "07691629187611687318"
     },
     "user_tz": 240
    },
    "id": "xzcoXjM5Rky5",
    "outputId": "b3bdcbc1-70d5-472e-aea2-42c74a42efde"
   },
   "outputs": [
    {
     "data": {
      "text/plain": [
       "'statmike-mlops-349915'"
      ]
     },
     "execution_count": 1,
     "metadata": {},
     "output_type": "execute_result"
    }
   ],
   "source": [
    "project = !gcloud config get-value project\n",
    "PROJECT_ID = project[0]\n",
    "PROJECT_ID"
   ]
  },
  {
   "cell_type": "code",
   "execution_count": 2,
   "id": "c9fe2e52-0f67-4c6f-ad59-802df2f4c5c9",
   "metadata": {
    "executionInfo": {
     "elapsed": 2,
     "status": "ok",
     "timestamp": 1683726390712,
     "user": {
      "displayName": "Mike Henderson",
      "userId": "07691629187611687318"
     },
     "user_tz": 240
    },
    "id": "IxWrFtqYMfku"
   },
   "outputs": [],
   "source": [
    "REGION = 'us-central1'\n",
    "EXPERIMENT = 'mlb-rules' # list the EXPERIMENT from the choosen prerequisite notebook\n",
    "SERIES = 'applied-genai'\n",
    "\n",
    "# retrieve results from: GCS, BQ - saved by the choosen prerequisite notebook\n",
    "RETRIEVE_FROM = 'GCS'\n",
    "\n",
    "# make this the gcs bucket for storing files\n",
    "GCS_BUCKET = PROJECT_ID \n",
    "\n",
    "# first question to ask\n",
    "question = \"What are the rules for baseball?\""
   ]
  },
  {
   "cell_type": "markdown",
   "id": "e77b0163-b027-4a4c-8582-9dc905d75404",
   "metadata": {
    "id": "LuajVwCiO6Yg"
   },
   "source": [
    "Packages"
   ]
  },
  {
   "cell_type": "code",
   "execution_count": 3,
   "id": "dd51605c-de87-4155-9b03-a5dc12a283eb",
   "metadata": {
    "executionInfo": {
     "elapsed": 17761,
     "status": "ok",
     "timestamp": 1683726409304,
     "user": {
      "displayName": "Mike Henderson",
      "userId": "07691629187611687318"
     },
     "user_tz": 240
    },
    "id": "LVC7zzSLRk2C"
   },
   "outputs": [],
   "source": [
    "import io\n",
    "import json\n",
    "import base64\n",
    "import time\n",
    "\n",
    "import IPython\n",
    "import PIL\n",
    "import PIL.ImageFont, PIL.Image, PIL.ImageDraw\n",
    "\n",
    "import vertexai.preview.language_models\n",
    "from google.cloud import aiplatform\n",
    "from google.cloud import storage\n",
    "from google.cloud import bigquery"
   ]
  },
  {
   "cell_type": "markdown",
   "id": "558e752f-8457-4a8e-9f50-8f03ecfce843",
   "metadata": {
    "id": "EyAVFG9TO9H-"
   },
   "source": [
    "Clients"
   ]
  },
  {
   "cell_type": "code",
   "execution_count": 4,
   "id": "b41809a0-0f02-468c-8124-22de48debbe6",
   "metadata": {
    "executionInfo": {
     "elapsed": 19,
     "status": "ok",
     "timestamp": 1683726409306,
     "user": {
      "displayName": "Mike Henderson",
      "userId": "07691629187611687318"
     },
     "user_tz": 240
    },
    "id": "L0RPE13LOZce"
   },
   "outputs": [],
   "source": [
    "# vertex ai clients\n",
    "vertexai.init(project = PROJECT_ID, location = REGION)\n",
    "aiplatform.init(project = PROJECT_ID, location = REGION)\n",
    "\n",
    "# bigquery client\n",
    "bq = bigquery.Client(project = PROJECT_ID)\n",
    "\n",
    "# gcs client: assumes bucket already exists\n",
    "gcs = storage.Client(project = PROJECT_ID)\n",
    "bucket = gcs.bucket(GCS_BUCKET)"
   ]
  },
  {
   "cell_type": "markdown",
   "id": "acce1c39-4ae2-4844-bb3e-9029a673c806",
   "metadata": {},
   "source": [
    "---\n",
    "## Load And Review Data"
   ]
  },
  {
   "cell_type": "code",
   "execution_count": 5,
   "id": "4920856a-39cb-4a39-a152-856210bd85ca",
   "metadata": {},
   "outputs": [],
   "source": [
    "blob = bucket.blob(f'{SERIES}/{EXPERIMENT}/vertex_matching/embeddings.json')\n",
    "embeddings = [json.loads(line) for line in blob.download_as_text().splitlines()]"
   ]
  },
  {
   "cell_type": "code",
   "execution_count": 6,
   "id": "c0f5821f-a668-4430-a66f-b2e0eb0fc61f",
   "metadata": {},
   "outputs": [
    {
     "data": {
      "text/plain": [
       "dict_keys(['id', 'embedding', 'restricts'])"
      ]
     },
     "execution_count": 6,
     "metadata": {},
     "output_type": "execute_result"
    }
   ],
   "source": [
    "embeddings[0].keys()"
   ]
  },
  {
   "cell_type": "code",
   "execution_count": 7,
   "id": "98bfdbec-2af9-4335-9715-c4f114980901",
   "metadata": {},
   "outputs": [
    {
     "data": {
      "text/plain": [
       "1431"
      ]
     },
     "execution_count": 7,
     "metadata": {},
     "output_type": "execute_result"
    }
   ],
   "source": [
    "len(embeddings)"
   ]
  },
  {
   "cell_type": "code",
   "execution_count": 8,
   "id": "143e669c-91c2-48ba-825d-439fb827994f",
   "metadata": {},
   "outputs": [
    {
     "data": {
      "text/plain": [
       "768"
      ]
     },
     "execution_count": 8,
     "metadata": {},
     "output_type": "execute_result"
    }
   ],
   "source": [
    "len(embeddings[0]['embedding'])"
   ]
  },
  {
   "cell_type": "code",
   "execution_count": 9,
   "id": "872757bb-28c4-49c4-8223-d385dce45535",
   "metadata": {},
   "outputs": [
    {
     "data": {
      "text/plain": [
       "[0.02013327367603779,\n",
       " -0.005589835811406374,\n",
       " 0.00713382987305522,\n",
       " 0.03711789473891258,\n",
       " 0.018236950039863586]"
      ]
     },
     "execution_count": 9,
     "metadata": {},
     "output_type": "execute_result"
    }
   ],
   "source": [
    "embeddings[0]['embedding'][0:5]"
   ]
  },
  {
   "cell_type": "markdown",
   "id": "70ee4b4a-67b0-4099-8d4d-864b34c20359",
   "metadata": {},
   "source": [
    "---\n",
    "## Vertex LLM Setup\n",
    "\n",
    "- TextEmbeddingModel [Guide](https://cloud.google.com/vertex-ai/docs/generative-ai/embeddings/get-text-embeddings)\n",
    "    - TextEmbeddingModel [API](https://cloud.google.com/python/docs/reference/aiplatform/latest/vertexai.preview.language_models.TextEmbeddingModel)\n",
    "- TextGenerationModel [Guide](https://cloud.google.com/vertex-ai/docs/generative-ai/text/test-text-prompts)\n",
    "    - TextGenerationModel [API](https://cloud.google.com/python/docs/reference/aiplatform/latest/vertexai.preview.language_models.TextGenerationModel)"
   ]
  },
  {
   "cell_type": "code",
   "execution_count": 10,
   "id": "5239ca76-ab1f-4564-bfe1-2ad84a63fa35",
   "metadata": {},
   "outputs": [],
   "source": [
    "# create links to model: embedding api and text generation\n",
    "embedding_model = vertexai.preview.language_models.TextEmbeddingModel.from_pretrained('textembedding-gecko@001')\n",
    "textgen_model = vertexai.preview.language_models.TextGenerationModel.from_pretrained('text-bison@001')"
   ]
  },
  {
   "cell_type": "markdown",
   "id": "c88ab5e4-fd7b-449f-abe5-d033c48e63cd",
   "metadata": {
    "id": "UvqBtnRbQH0v"
   },
   "source": [
    "Test embedding model:"
   ]
  },
  {
   "cell_type": "code",
   "execution_count": 11,
   "id": "d94b34b5-8937-4db5-824f-7ab3cbb20634",
   "metadata": {},
   "outputs": [
    {
     "data": {
      "text/plain": [
       "[0.044936999678611755,\n",
       " 0.012650316581130028,\n",
       " 0.01574002020061016,\n",
       " 0.05652769282460213,\n",
       " 0.012828737497329712]"
      ]
     },
     "execution_count": 11,
     "metadata": {},
     "output_type": "execute_result"
    }
   ],
   "source": [
    "embedding_model.get_embeddings([question])[0].values[0:5]"
   ]
  },
  {
   "cell_type": "markdown",
   "id": "079d4318-9b76-4820-ad7a-d42c05743ca5",
   "metadata": {
    "id": "qEITqYF1QNkP"
   },
   "source": [
    "Test test generation (llm) model:"
   ]
  },
  {
   "cell_type": "code",
   "execution_count": 12,
   "id": "406fa9ea-2bc1-4937-93f3-aa5fdb2600c9",
   "metadata": {
    "colab": {
     "base_uri": "https://localhost:8080/"
    },
    "executionInfo": {
     "elapsed": 1758,
     "status": "ok",
     "timestamp": 1683726411751,
     "user": {
      "displayName": "Mike Henderson",
      "userId": "07691629187611687318"
     },
     "user_tz": 240
    },
    "id": "ippLc2_eYeQH",
    "outputId": "c09300ed-9e44-40a7-f3d0-f4a95515021c"
   },
   "outputs": [
    {
     "data": {
      "text/plain": [
       "Baseball is a bat-and-ball game played between two teams of nine players on a field in the shape of a diamond. The game is played with a hard, round ball and a bat. The object of the game is for a team to score more runs than the opposing team.\n",
       "\n",
       "A run is scored when a player advances around all four bases in the correct order. The bases are located at first, second, third, and home plate. A player can advance to the next base by hitting the ball and running to the next base before the ball is thrown to the fielder covering that base.\n",
       "\n",
       "The game is"
      ]
     },
     "execution_count": 12,
     "metadata": {},
     "output_type": "execute_result"
    }
   ],
   "source": [
    "textgen_model.predict(question)"
   ]
  },
  {
   "cell_type": "markdown",
   "id": "c3765732-d0e6-49a0-af09-0a327761862d",
   "metadata": {},
   "source": [
    "---\n",
    "## Configure & Create The Index\n",
    "\n",
    "There are several ways to configure and index for Vertex AI Matching Engine.  The choice made will depend on the size of the index in most cases.  In this case the number of embedding is rather small as it represents the elements of single document.  The brute force, or standard linear search, is implemented.\n",
    "\n",
    "Also, to enable filtering when doing vector searches you can include [namespaces and tokens](https://cloud.google.com/vertex-ai/docs/matching-engine/filtering#specify-namespaces-tokens) when creating the input data.\n",
    "\n",
    "**Resources**\n",
    "- [Managed Indexes](https://cloud.google.com/vertex-ai/docs/matching-engine/create-manage-index)\n",
    "    - [Configure Indexes](https://cloud.google.com/vertex-ai/docs/matching-engine/create-manage-index)\n",
    "        - [aiplatform API](https://cloud.google.com/python/docs/reference/aiplatform/latest/google.cloud.aiplatform.MatchingEngineIndex#google_cloud_aiplatform_MatchingEngineIndex_create_brute_force_index)\n",
    "        - [aiplatform V1 API](https://cloud.google.com/python/docs/reference/aiplatform/latest/google.cloud.aiplatform_v1.services.index_service.IndexServiceClient#google_cloud_aiplatform_v1_services_index_service_IndexServiceClient_create_index)\n",
    "        - [aiplatform V1beta1 API](https://cloud.google.com/python/docs/reference/aiplatform/latest/google.cloud.aiplatform_v1beta1.services.index_service)"
   ]
  },
  {
   "cell_type": "code",
   "execution_count": 13,
   "id": "4a50d053-2f4d-41a7-aca7-f21a0cdae6a4",
   "metadata": {},
   "outputs": [
    {
     "name": "stdout",
     "output_type": "stream",
     "text": [
      "Creating new index after first checking that none existed from previous run.\n",
      "Creating MatchingEngineIndex\n",
      "Create MatchingEngineIndex backing LRO: projects/1026793852137/locations/us-central1/indexes/8683881263523692544/operations/7557240492002377728\n"
     ]
    }
   ],
   "source": [
    "list_indexes = aiplatform.MatchingEngineIndex.list(filter = f'display_name={EXPERIMENT} AND labels.series={SERIES} AND labels.experiment={EXPERIMENT}')\n",
    "if list_indexes:\n",
    "    print('Found Index from previous run')\n",
    "    index = list_indexes[0]\n",
    "else:\n",
    "    print('Creating new index after first checking that none existed from previous run.')\n",
    "    index = aiplatform.MatchingEngineIndex.create_brute_force_index(\n",
    "        display_name = EXPERIMENT,\n",
    "        contents_delta_uri = f'gs://{bucket.name}/{SERIES}/{EXPERIMENT}/vertex_matching',\n",
    "        dimensions = len(embeddings[0]['embedding']),\n",
    "        distance_measure_type = \"DOT_PRODUCT_DISTANCE\",\n",
    "        description = EXPERIMENT,\n",
    "        labels = dict(series = SERIES, experiment = EXPERIMENT),\n",
    "        sync = False\n",
    "    )"
   ]
  },
  {
   "cell_type": "code",
   "execution_count": 14,
   "id": "1f969b0f-daa2-42ff-8998-86d30f259220",
   "metadata": {},
   "outputs": [
    {
     "name": "stdout",
     "output_type": "stream",
     "text": [
      "MatchingEngineIndex created. Resource name: projects/1026793852137/locations/us-central1/indexes/8683881263523692544\n",
      "To use this MatchingEngineIndex in another session:\n",
      "index = aiplatform.MatchingEngineIndex('projects/1026793852137/locations/us-central1/indexes/8683881263523692544')\n"
     ]
    }
   ],
   "source": [
    "index.wait()"
   ]
  },
  {
   "cell_type": "code",
   "execution_count": 15,
   "id": "cca68184-4786-40b8-bbdd-dfc7e98ccf0d",
   "metadata": {},
   "outputs": [
    {
     "data": {
      "text/plain": [
       "'8683881263523692544'"
      ]
     },
     "execution_count": 15,
     "metadata": {},
     "output_type": "execute_result"
    }
   ],
   "source": [
    "index.name"
   ]
  },
  {
   "cell_type": "code",
   "execution_count": 16,
   "id": "d3018633-d8b1-46a0-9a33-675be4c07c80",
   "metadata": {},
   "outputs": [
    {
     "data": {
      "text/plain": [
       "'projects/1026793852137/locations/us-central1/indexes/8683881263523692544'"
      ]
     },
     "execution_count": 16,
     "metadata": {},
     "output_type": "execute_result"
    }
   ],
   "source": [
    "index.resource_name"
   ]
  },
  {
   "cell_type": "code",
   "execution_count": 17,
   "id": "5fcafd15-9cd5-441e-83b7-482999cbbd57",
   "metadata": {},
   "outputs": [
    {
     "name": "stdout",
     "output_type": "stream",
     "text": [
      "View the Matching Engine Indexes In the Console:\n",
      "https://console.cloud.google.com/vertex-ai/matching-engine/indexes?project=statmike-mlops-349915\n"
     ]
    }
   ],
   "source": [
    "print(f'View the Matching Engine Indexes In the Console:\\nhttps://console.cloud.google.com/vertex-ai/matching-engine/indexes?project={PROJECT_ID}')"
   ]
  },
  {
   "cell_type": "markdown",
   "id": "f6bfb100-c1da-4623-9b8f-13c09096a21f",
   "metadata": {},
   "source": [
    "---\n",
    "## Networking Considerations\n",
    "\n",
    "In the example here, a public endpoint is used for demonstration as it requires no further setup.  For lower latency it is best to use a VPC with direct VPC Peering.\n",
    "- [Overview of Matching Engine networking](https://cloud.google.com/vertex-ai/docs/matching-engine/match-eng-setup/match-eng-setup)\n",
    "- [More on VPC Network Peering for Vertex AI](https://cloud.google.com/vertex-ai/docs/general/vpc-peering)\n",
    "\n"
   ]
  },
  {
   "cell_type": "markdown",
   "id": "ad0e0650-42b1-41d7-9d9c-69a7f059e734",
   "metadata": {},
   "source": [
    "---\n",
    "## Create The Index Endpoint\n",
    "\n",
    "Create an index endpoint that the index will be deployed to.\n",
    "\n",
    "**Resources**\n",
    "- [Index Endpoints](https://cloud.google.com/vertex-ai/docs/matching-engine/deploy-index-public#create-index-endpoint)\n",
    "    - [aiplatform API](https://cloud.google.com/python/docs/reference/aiplatform/latest/google.cloud.aiplatform.MatchingEngineIndexEndpoint#google_cloud_aiplatform_MatchingEngineIndexEndpoint_create)\n",
    "    - [aiplatform V1 API](https://cloud.google.com/python/docs/reference/aiplatform/latest/google.cloud.aiplatform_v1.services.index_endpoint_service.IndexEndpointServiceClient#google_cloud_aiplatform_v1_services_index_endpoint_service_IndexEndpointServiceClient_create_index_endpoint)\n",
    "    - [aiplatform V1beta1 API](https://cloud.google.com/python/docs/reference/aiplatform/latest/google.cloud.aiplatform_v1beta1.services.index_endpoint_service.IndexEndpointServiceClient#google_cloud_aiplatform_v1beta1_services_index_endpoint_service_IndexEndpointServiceClient_create_index_endpoint)\n",
    "    \n",
    "    \n",
    "**Networking Considerations**\n",
    "\n",
    ">In the example here, a public endpoint is used for demonstration as it requires no further setup.  For lower latency it is best to use a VPC with direct VPC Peering.\n",
    ">- [Overview of Matching Engine networking](https://cloud.google.com/vertex-ai/docs/matching-engine/match-eng-setup/match-eng-setup)\n",
    ">- [More on VPC Network Peering for Vertex AI](https://cloud.google.com/vertex-ai/docs/general/vpc-peering)"
   ]
  },
  {
   "cell_type": "code",
   "execution_count": 18,
   "id": "dfa0f363-d91c-416d-8914-996d6e520172",
   "metadata": {},
   "outputs": [],
   "source": [
    "list_endpoints = aiplatform.MatchingEngineIndexEndpoint.list(filter = f'display_name={SERIES} AND labels.series={SERIES}')\n",
    "if list_endpoints:\n",
    "    print('Found Endpoint from previous run')\n",
    "    endpoint = list_endpoints[0]"
   ]
  },
  {
   "cell_type": "code",
   "execution_count": 19,
   "id": "c2a5410d-1d95-49de-9012-f8eba03aa111",
   "metadata": {},
   "outputs": [
    {
     "name": "stdout",
     "output_type": "stream",
     "text": [
      "Creating new endpoint after first checking that none existed from previous run.\n"
     ]
    }
   ],
   "source": [
    "list_endpoints = aiplatform.MatchingEngineIndexEndpoint.list(filter = f'display_name={SERIES} AND labels.series={SERIES}')\n",
    "if list_endpoints:\n",
    "    print('Found Endpoint from previous run')\n",
    "    endpoint = list_endpoints[0]\n",
    "else:\n",
    "    print('Creating new endpoint after first checking that none existed from previous run.')\n",
    "    endpoint = aiplatform.MatchingEngineIndexEndpoint.create(\n",
    "        display_name = SERIES,\n",
    "        description = SERIES,\n",
    "        public_endpoint_enabled = True,\n",
    "        labels = dict(series = SERIES),\n",
    "        sync = False\n",
    "    )"
   ]
  },
  {
   "cell_type": "code",
   "execution_count": 20,
   "id": "795fd358-5d5b-4d56-bd5f-03dc7c0489d2",
   "metadata": {},
   "outputs": [
    {
     "name": "stdout",
     "output_type": "stream",
     "text": [
      "Creating MatchingEngineIndexEndpoint\n",
      "Create MatchingEngineIndexEndpoint backing LRO: projects/1026793852137/locations/us-central1/indexEndpoints/4956026671967764480/operations/3804616102495911936\n",
      "MatchingEngineIndexEndpoint created. Resource name: projects/1026793852137/locations/us-central1/indexEndpoints/4956026671967764480\n",
      "To use this MatchingEngineIndexEndpoint in another session:\n",
      "index_endpoint = aiplatform.MatchingEngineIndexEndpoint('projects/1026793852137/locations/us-central1/indexEndpoints/4956026671967764480')\n"
     ]
    }
   ],
   "source": [
    "endpoint.wait()"
   ]
  },
  {
   "cell_type": "code",
   "execution_count": 21,
   "id": "eee35a0c-0739-4267-a931-17f5013a491a",
   "metadata": {},
   "outputs": [
    {
     "data": {
      "text/plain": [
       "'4956026671967764480'"
      ]
     },
     "execution_count": 21,
     "metadata": {},
     "output_type": "execute_result"
    }
   ],
   "source": [
    "endpoint.name"
   ]
  },
  {
   "cell_type": "code",
   "execution_count": 22,
   "id": "97a7ff9f-901b-48cd-b5c2-ae1870624db9",
   "metadata": {},
   "outputs": [
    {
     "data": {
      "text/plain": [
       "'projects/1026793852137/locations/us-central1/indexEndpoints/4956026671967764480'"
      ]
     },
     "execution_count": 22,
     "metadata": {},
     "output_type": "execute_result"
    }
   ],
   "source": [
    "endpoint.resource_name"
   ]
  },
  {
   "cell_type": "code",
   "execution_count": 23,
   "id": "c4f80eb2-5d77-45a3-bb24-da1f4a219472",
   "metadata": {},
   "outputs": [
    {
     "name": "stdout",
     "output_type": "stream",
     "text": [
      "View the Matching Engine Index Endpoints In the Console:\n",
      "https://console.cloud.google.com/vertex-ai/matching-engine/index-endpoints?project=statmike-mlops-349915\n"
     ]
    }
   ],
   "source": [
    "print(f'View the Matching Engine Index Endpoints In the Console:\\nhttps://console.cloud.google.com/vertex-ai/matching-engine/index-endpoints?project={PROJECT_ID}')"
   ]
  },
  {
   "cell_type": "markdown",
   "id": "2caef172-a288-40ce-8a73-403be2ba1cc5",
   "metadata": {},
   "source": [
    "---\n",
    "## Deploy The Index To The Index Endpoint\n",
    "\n",
    "Deploy the index to the endpoint.  In this example the default resources are used but these can be configured, including [enabling autoscaling](https://cloud.google.com/vertex-ai/docs/matching-engine/deploy-index-public#autoscaling). More on [default machine types](https://cloud.google.com/vertex-ai/docs/matching-engine/create-manage-index#create-index).\n",
    "\n",
    "**Resources**\n",
    "- [Index Endpoints](https://cloud.google.com/vertex-ai/docs/matching-engine/deploy-index-public#deploy-index)\n",
    "    - [aiplatform API](https://cloud.google.com/python/docs/reference/aiplatform/latest/google.cloud.aiplatform.MatchingEngineIndexEndpoint#google_cloud_aiplatform_MatchingEngineIndexEndpoint_deploy_index)\n",
    "    - [aiplatform V1 API](https://cloud.google.com/python/docs/reference/aiplatform/latest/google.cloud.aiplatform_v1.services.index_endpoint_service.IndexEndpointServiceClient#google_cloud_aiplatform_v1_services_index_endpoint_service_IndexEndpointServiceClient_deploy_index)\n",
    "    - [aiplatform V1beta1 API](https://cloud.google.com/python/docs/reference/aiplatform/latest/google.cloud.aiplatform_v1beta1.services.index_endpoint_service.IndexEndpointServiceClient#google_cloud_aiplatform_v1beta1_services_index_endpoint_service_IndexEndpointServiceClient_deploy_index)"
   ]
  },
  {
   "cell_type": "code",
   "execution_count": 24,
   "id": "fdecf769-b1fe-401f-8c62-daecf668cdce",
   "metadata": {},
   "outputs": [
    {
     "name": "stdout",
     "output_type": "stream",
     "text": [
      "Starting operation to deploy the Index mlb_rules on the endpoint.\n"
     ]
    }
   ],
   "source": [
    "deployed_indexes = endpoint.deployed_indexes\n",
    "if EXPERIMENT.replace('-', '_') in [d.id for d in deployed_indexes]:\n",
    "    print(f\"The Index {EXPERIMENT.replace('-', '_')} is deployed on this endpoint.\")\n",
    "else:\n",
    "    print(f\"Starting operation to deploy the Index {EXPERIMENT.replace('-', '_')} on the endpoint.\")\n",
    "    client = aiplatform.gapic.IndexEndpointServiceClient(client_options = {\"api_endpoint\": f\"{REGION}-aiplatform.googleapis.com\"})\n",
    "    operation = client.deploy_index(\n",
    "        index_endpoint = endpoint.resource_name,\n",
    "        deployed_index = dict(\n",
    "            id = EXPERIMENT.replace('-', '_'),\n",
    "            index = index.resource_name,\n",
    "            display_name = EXPERIMENT\n",
    "        ),\n",
    "        timeout = None\n",
    "    )"
   ]
  },
  {
   "cell_type": "code",
   "execution_count": 25,
   "id": "2bc3546e-22d2-44b6-b181-b6027c3ed041",
   "metadata": {},
   "outputs": [
    {
     "name": "stdout",
     "output_type": "stream",
     "text": [
      "Waiting on deployment of index to complete...\n",
      "Waiting on deployment of index to complete...\n",
      "Waiting on deployment of index to complete...\n",
      "Waiting on deployment of index to complete...\n",
      "Waiting on deployment of index to complete...\n",
      "Waiting on deployment of index to complete...\n",
      "Waiting on deployment of index to complete...\n",
      "Waiting on deployment of index to complete...\n",
      "Waiting on deployment of index to complete...\n",
      "Waiting on deployment of index to complete...\n",
      "Waiting on deployment of index to complete...\n",
      "Waiting on deployment of index to complete...\n",
      "Waiting on deployment of index to complete...\n",
      "Waiting on deployment of index to complete...\n",
      "Waiting on deployment of index to complete...\n",
      "Waiting on deployment of index to complete...\n",
      "Waiting on deployment of index to complete...\n",
      "Waiting on deployment of index to complete...\n",
      "Waiting on deployment of index to complete...\n",
      "Waiting on deployment of index to complete...\n",
      "Waiting on deployment of index to complete...\n",
      "Waiting on deployment of index to complete...\n",
      "Waiting on deployment of index to complete...\n",
      "Waiting on deployment of index to complete...\n",
      "Waiting on deployment of index to complete...\n",
      "Waiting on deployment of index to complete...\n",
      "Waiting on deployment of index to complete...\n",
      "Waiting on deployment of index to complete...\n",
      "Waiting on deployment of index to complete...\n",
      "Waiting on deployment of index to complete...\n",
      "Waiting on deployment of index to complete...\n",
      "Waiting on deployment of index to complete...\n",
      "Waiting on deployment of index to complete...\n",
      "Waiting on deployment of index to complete...\n",
      "Waiting on deployment of index to complete...\n",
      "The index is deployed.\n"
     ]
    }
   ],
   "source": [
    "if 'operation' in locals():\n",
    "    while True:\n",
    "        if operation.done():\n",
    "            print('The index is deployed.')\n",
    "            break\n",
    "        print('Waiting on deployment of index to complete...')\n",
    "        time.sleep(60)"
   ]
  },
  {
   "cell_type": "code",
   "execution_count": 26,
   "id": "f191f3ed-553a-4828-b5be-2a7834ed3c5b",
   "metadata": {},
   "outputs": [],
   "source": [
    "endpoint = aiplatform.MatchingEngineIndexEndpoint(\n",
    "    index_endpoint_name = endpoint.resource_name\n",
    ")"
   ]
  },
  {
   "cell_type": "code",
   "execution_count": 27,
   "id": "c5e87ac6-78f1-4456-abb7-eda874e1fd96",
   "metadata": {},
   "outputs": [
    {
     "name": "stdout",
     "output_type": "stream",
     "text": [
      "View the deployed indexes for the the Index Endpoint in the console:\n",
      "https://console.cloud.google.com/vertex-ai/locations/us-central1/index-endpoints/4956026671967764480?project=statmike-mlops-349915\n"
     ]
    }
   ],
   "source": [
    "print(f'View the deployed indexes for the the Index Endpoint in the console:\\nhttps://console.cloud.google.com/vertex-ai/locations/{REGION}/index-endpoints/{endpoint.name}?project={PROJECT_ID}')"
   ]
  },
  {
   "cell_type": "code",
   "execution_count": 28,
   "id": "b92a19a9-b732-4cb4-8939-160226b6ad4a",
   "metadata": {},
   "outputs": [
    {
     "data": {
      "text/plain": [
       "[id: \"mlb_rules\"\n",
       "index: \"projects/1026793852137/locations/us-central1/indexes/8683881263523692544\"\n",
       "display_name: \"mlb-rules\"\n",
       "create_time {\n",
       "  seconds: 1686001152\n",
       "  nanos: 154821000\n",
       "}\n",
       "index_sync_time {\n",
       "  seconds: 1686003235\n",
       "  nanos: 451479000\n",
       "}\n",
       "automatic_resources {\n",
       "  min_replica_count: 2\n",
       "  max_replica_count: 2\n",
       "}\n",
       "deployment_group: \"default\"\n",
       "]"
      ]
     },
     "execution_count": 28,
     "metadata": {},
     "output_type": "execute_result"
    }
   ],
   "source": [
    "endpoint.deployed_indexes"
   ]
  },
  {
   "cell_type": "markdown",
   "id": "8e2cbb64-c96a-4160-99d5-a4984b2cbab6",
   "metadata": {},
   "source": [
    "---\n",
    "## Online Query\n",
    "\n",
    "**Resources**\n",
    "- [Query Endpoint](https://cloud.google.com/vertex-ai/docs/matching-engine/query-index-public-endpoint)"
   ]
  },
  {
   "cell_type": "markdown",
   "id": "3fccfb13-4c18-4d7e-a4b0-10a4f367790f",
   "metadata": {},
   "source": [
    "### Retrieve an embedding based on id:\n",
    "\n",
    "[aiplatform.MatchingEngineIndexEndpoint.read_index_datapoint()](https://cloud.google.com/python/docs/reference/aiplatform/latest/google.cloud.aiplatform.MatchingEngineIndexEndpoint#google_cloud_aiplatform_MatchingEngineIndexEndpoint_read_index_datapoints)"
   ]
  },
  {
   "cell_type": "code",
   "execution_count": 29,
   "id": "e1b29979-b926-468b-8848-a37efcdc25cf",
   "metadata": {},
   "outputs": [
    {
     "data": {
      "text/plain": [
       "[0.02013327367603779,\n",
       " -0.005589835811406374,\n",
       " 0.00713382987305522,\n",
       " 0.03711789473891258,\n",
       " 0.018236950039863586]"
      ]
     },
     "execution_count": 29,
     "metadata": {},
     "output_type": "execute_result"
    }
   ],
   "source": [
    "endpoint.read_index_datapoints(\n",
    "    deployed_index_id = EXPERIMENT.replace('-', '_'),\n",
    "    ids = ['0']\n",
    ")[0].feature_vector[0:5]"
   ]
  },
  {
   "cell_type": "markdown",
   "id": "6fabd6ed-cb58-4f39-ac47-1193a4734261",
   "metadata": {},
   "source": [
    "### Get ids for neighbors of questions embedding:\n",
    "\n",
    "[aiplatform.MatchingEngineIndexEndpoint.find_neighbors()](https://cloud.google.com/python/docs/reference/aiplatform/latest/google.cloud.aiplatform.MatchingEngineIndexEndpoint#google_cloud_aiplatform_MatchingEngineIndexEndpoint_find_neighbors)\n",
    "\n",
    "If the input data included [namespaces and tokens](https://cloud.google.com/vertex-ai/docs/matching-engine/filtering#specify-namespaces-tokens) then those can be used to restrict vector searches to a subset by using the `filter` parameter - [details](https://cloud.google.com/vertex-ai/docs/matching-engine/filtering)."
   ]
  },
  {
   "cell_type": "code",
   "execution_count": 30,
   "id": "9789fede-142f-4207-9988-3a026b4085a5",
   "metadata": {},
   "outputs": [],
   "source": [
    "matches = endpoint.find_neighbors(\n",
    "    deployed_index_id = EXPERIMENT.replace('-', '_'),\n",
    "    queries = [embedding_model.get_embeddings([question])[0].values],\n",
    "    num_neighbors = 4\n",
    ")"
   ]
  },
  {
   "cell_type": "code",
   "execution_count": 31,
   "id": "af9f546c-c49a-4673-85da-9bc82203b73d",
   "metadata": {},
   "outputs": [
    {
     "data": {
      "text/plain": [
       "[[MatchNeighbor(id='64', distance=0.7556163668632507),\n",
       "  MatchNeighbor(id='1226', distance=0.7369092106819153),\n",
       "  MatchNeighbor(id='1247', distance=0.7324936985969543),\n",
       "  MatchNeighbor(id='37', distance=0.7273297309875488)]]"
      ]
     },
     "execution_count": 31,
     "metadata": {},
     "output_type": "execute_result"
    }
   ],
   "source": [
    "matches"
   ]
  },
  {
   "cell_type": "code",
   "execution_count": 51,
   "id": "e9da141a-66cc-4dae-b878-3c11233aadba",
   "metadata": {},
   "outputs": [],
   "source": [
    "matches = endpoint.find_neighbors(\n",
    "    deployed_index_id = EXPERIMENT.replace('-', '_'),\n",
    "    queries = [embedding_model.get_embeddings([question])[0].values],\n",
    "    num_neighbors = 4,\n",
    "    filter = [aiplatform.matching_engine.matching_engine_index_endpoint.Namespace(SERIES, [f'{EXPERIMENT}'], [])]\n",
    ")"
   ]
  },
  {
   "cell_type": "code",
   "execution_count": 52,
   "id": "0ac4115e-61c9-48d3-9fea-bcd863ade258",
   "metadata": {},
   "outputs": [
    {
     "data": {
      "text/plain": [
       "[[MatchNeighbor(id='64', distance=0.7556163668632507),\n",
       "  MatchNeighbor(id='1226', distance=0.7369092106819153),\n",
       "  MatchNeighbor(id='1247', distance=0.7324936985969543),\n",
       "  MatchNeighbor(id='37', distance=0.7273297309875488)]]"
      ]
     },
     "execution_count": 52,
     "metadata": {},
     "output_type": "execute_result"
    }
   ],
   "source": [
    "matches"
   ]
  },
  {
   "cell_type": "code",
   "execution_count": 53,
   "id": "a3769e18-fc89-4aaa-9911-989e8379f287",
   "metadata": {},
   "outputs": [],
   "source": [
    "matches = [(int(match.id), match.distance) for match in matches[0]]"
   ]
  },
  {
   "cell_type": "code",
   "execution_count": 54,
   "id": "f9ee773f-fb40-48b1-b3c4-7d5417070432",
   "metadata": {},
   "outputs": [
    {
     "data": {
      "text/plain": [
       "[(64, 0.7556163668632507),\n",
       " (1226, 0.7369092106819153),\n",
       " (1247, 0.7324936985969543),\n",
       " (37, 0.7273297309875488)]"
      ]
     },
     "execution_count": 54,
     "metadata": {},
     "output_type": "execute_result"
    }
   ],
   "source": [
    "matches"
   ]
  },
  {
   "cell_type": "markdown",
   "id": "c8cd13d9-d246-4f00-82a5-84f00ecc9c2f",
   "metadata": {},
   "source": [
    "---\n",
    "## DocumentBot Setup With Matching Engine\n",
    "\n",
    "To use DocumentBOt with Vertex AI Matching Engine we need to retrieve the documents (as before) and configure the DocumentBot to use the endpoint for the matching engine index:"
   ]
  },
  {
   "cell_type": "code",
   "execution_count": 34,
   "id": "cf7b33f3-c177-46ab-ade8-cc48de43b1f4",
   "metadata": {},
   "outputs": [
    {
     "name": "stdout",
     "output_type": "stream",
     "text": [
      "Copying previous run from GCS\n"
     ]
    }
   ],
   "source": [
    "if RETRIEVE_FROM == 'GCS' and len(list(bucket.list_blobs(prefix = f'{SERIES}/{EXPERIMENT}/results.json'))) > 0:\n",
    "    print('Copying previous run from GCS')\n",
    "    \n",
    "    # load results: the raw data from docai parsing\n",
    "    blob = bucket.blob(f'{SERIES}/{EXPERIMENT}/results.json')\n",
    "    results = [json.loads(line) for line in blob.download_as_text().splitlines()]\n",
    "    \n",
    "    # load documents: the prepared results from the docai parsing results\n",
    "    blob = bucket.blob(f'{SERIES}/{EXPERIMENT}/documents.json')\n",
    "    documents = [json.loads(line) for line in blob.download_as_text().splitlines()]\n",
    "    \n",
    "    # load page images for presentation: stored in the results\n",
    "    page_images = []\n",
    "    for r, result in enumerate(results):\n",
    "        document_image = PIL.Image.open(\n",
    "            io.BytesIO(\n",
    "                 # stored as string, use .encode() to convert to bytes, use base64.decodebytes to decode\n",
    "                base64.decodebytes(result['pages'][0]['image']['content'].encode('utf-8'))\n",
    "            )\n",
    "        )\n",
    "        page_images.append(document_image)    \n",
    "elif RETRIEVE_FROM == 'BQ' and bq_table_check(f'{BQ_DATASET}.{BQ_TABLE}_documents'):\n",
    "    print('Copying previous run from BigQuery')\n",
    "    \n",
    "    # load results: the raw data from docai parsing\n",
    "    results = bq.query(f'SELECT * FROM `{BQ_PROJECT}.{BQ_DATASET}.{BQ_TABLE}_results` ORDER BY metadata.row').to_dataframe().to_dict('records')\n",
    "    \n",
    "    # load documents: the perpared results from the docai parsing results\n",
    "    documents = bq.query(f'SELECT * FROM `{BQ_PROJECT}.{BQ_DATASET}.{BQ_TABLE}_documents` ORDER BY metadata.row').to_dataframe().to_dict('records')\n",
    "    \n",
    "    # load page images for presentation: stored in the results\n",
    "    page_images = []\n",
    "    for r, result in enumerate(results):\n",
    "        document_image = PIL.Image.open(\n",
    "            io.BytesIO(\n",
    "                 # stored as base64 encoded bytes in BQ and retrieved in that format\n",
    "                result['pages'][0]['image']['content']\n",
    "            )\n",
    "        )\n",
    "        page_images.append(document_image) \n",
    "else:\n",
    "    print('No previous run available to copy over')"
   ]
  },
  {
   "cell_type": "code",
   "execution_count": 35,
   "id": "0a44b059-615b-42ce-9c24-10fbe39b84ae",
   "metadata": {},
   "outputs": [],
   "source": [
    "def search_index(query, k):\n",
    "    matches = endpoint.find_neighbors(\n",
    "                deployed_index_id = EXPERIMENT.replace('-', '_'),\n",
    "                queries = [embedding_model.get_embeddings([query])[0].values],\n",
    "                num_neighbors = k\n",
    "            )\n",
    "    return [(int(match.id), match.distance) for match in matches[0]]"
   ]
  },
  {
   "cell_type": "code",
   "execution_count": 36,
   "id": "ec403599-2e37-4413-806e-3fb18fcc5591",
   "metadata": {},
   "outputs": [
    {
     "data": {
      "text/plain": [
       "[(64, 0.7556163668632507),\n",
       " (1226, 0.7369092106819153),\n",
       " (1247, 0.7324936985969543),\n",
       " (37, 0.7273297309875488)]"
      ]
     },
     "execution_count": 36,
     "metadata": {},
     "output_type": "execute_result"
    }
   ],
   "source": [
    "search_index(question, 4)"
   ]
  },
  {
   "cell_type": "code",
   "execution_count": 37,
   "id": "ded709c5-a85e-40a1-939d-ddd9f3c8e3ef",
   "metadata": {},
   "outputs": [],
   "source": [
    "def document_bot(question):\n",
    "\n",
    "    # Get the score for the closest match\n",
    "    score = search_index(question, k = 1)[0][1]\n",
    "    \n",
    "    # retrieve related documents - the nubmer is based on the distance score from the closest match\n",
    "    relevant_documentation = search_index(question, k = 1 + 2*int(10*(1-score)))\n",
    "\n",
    "    # prepare context for prompt\n",
    "    context = \"\\n\".join([f'Context {c+1}:\\n' + documents[doc[0]]['page_content'] for c, doc in enumerate(relevant_documentation)])\n",
    "    \n",
    "    # construct the prompt\n",
    "    prompt = f\"\"\"\n",
    "        Give a detailed answer to the question using information from the provided contexts.\n",
    "\n",
    "        {context}\n",
    "\n",
    "        Question:\n",
    "        {question}\n",
    "\n",
    "        Answer and Explanation:\n",
    "    \"\"\"\n",
    "\n",
    "    #print(prompt)\n",
    "\n",
    "    # retrieve response\n",
    "    response = textgen_model.predict(prompt)\n",
    "    \n",
    "    # get closest document to the response:\n",
    "    likely_source = search_index(response, k=1)[0]\n",
    "    \n",
    "    # declare likely source: if closest document to response was in context pick it, otherwise pick first context match\n",
    "    if likely_source[0] in [rd[0] for rd in relevant_documentation]:\n",
    "        likely = True\n",
    "        likely_document = documents[likely_source[0]]\n",
    "    else:\n",
    "        likely = False\n",
    "        likely_document = documents[relevant_documentation[0][0]]\n",
    "\n",
    "\n",
    "    sources = \"\\n\".join(f\"* {documents[doc[0]]['metadata']['source_document']}#page={documents[doc[0]]['metadata']['page']}\\n\\t* Document: {documents[doc[0]]['metadata']['filename']}, page: {documents[doc[0]]['metadata']['page']}, relevance to question: {doc[1]:.2f}\" for doc in relevant_documentation)\n",
    "    answer = f\"\"\"## Response\n",
    "### Question\n",
    "{question}\n",
    "### Answer\n",
    "{response}\n",
    "### Why?\n",
    "{likely_document['page_content']}\n",
    "* page: {likely_document['metadata']['page']}, relevance to answer: {likely_source[1]:.2f}\n",
    "* {likely_document['metadata']['source_document']}#page={likely_document['metadata']['page']}\n",
    "### Sources\n",
    "{sources}        \n",
    "    \"\"\"\n",
    "    IPython.display.display(IPython.display.Markdown(answer))\n",
    "        \n",
    "    #font = PIL.ImageFont.truetype(\"/usr/share/fonts/truetype/liberation/LiberationSans-Regular.ttf\", 20)\n",
    "    document_image = page_images[likely_document['metadata']['page']-1]\n",
    "    vertices = documents[int(likely_document['metadata']['vme_id'])]['extras']['vertices']\n",
    "    draw = PIL.ImageDraw.Draw(document_image).polygon([\n",
    "        vertices[0]['x'], vertices[0]['y'],\n",
    "        vertices[1]['x'], vertices[1]['y'],\n",
    "        vertices[2]['x'], vertices[2]['y'],\n",
    "        vertices[3]['x'], vertices[3]['y']\n",
    "    ], outline = 'green', width = 5)\n",
    "    IPython.display.display(document_image.resize((800, 1000)))\n",
    "\n",
    "    return"
   ]
  },
  {
   "cell_type": "code",
   "execution_count": 38,
   "id": "04d0c5e8-75ca-4ad3-ab0a-6cab16976ec4",
   "metadata": {},
   "outputs": [
    {
     "data": {
      "text/plain": [
       "'What are the rules for baseball?'"
      ]
     },
     "execution_count": 38,
     "metadata": {},
     "output_type": "execute_result"
    }
   ],
   "source": [
    "question"
   ]
  },
  {
   "cell_type": "code",
   "execution_count": 39,
   "id": "e0a8c53d-9078-42f6-9a7a-b65de145e062",
   "metadata": {},
   "outputs": [
    {
     "data": {
      "text/markdown": [
       "## Response\n",
       "### Question\n",
       "What are the rules for baseball?\n",
       "### Answer\n",
       "The rules for baseball are defined in the 2023 Official Baseball Rules.\n",
       "The rules are divided into 7 sections:\n",
       "1. Objectives of the Game\n",
       "2. The Playing Field\n",
       "3. Equipment and Uniforms\n",
       "4. Game Preliminaries\n",
       "5. Playing the Game\n",
       "6. Improper Play, Illegal Action, and Misconduct\n",
       "7. Ending the Game\n",
       "The rules define the game of baseball, including the equipment used, the playing field, the players, and the game play.\n",
       "### Why?\n",
       "Table of Contents\n",
       "2023 Official Baseball Rules\n",
       "1.00 OBJECTIVES OF THE GAME\n",
       "1\n",
       "2.00 THE PLAYING FIELD\n",
       "2\n",
       "2.01 Layout of the Field\n",
       "2.02 Home Base\n",
       "2.03 The Bases\n",
       "3\n",
       "3\n",
       "4\n",
       "2.04 The Pitcher's Plate\n",
       "2.05 Benches\n",
       "4\n",
       "3.00 EQUIPMENT AND UNIFORMS\n",
       "3.01 The Ball\n",
       "5\n",
       "3.02 The Bat\n",
       "5\n",
       "6\n",
       "7\n",
       "7\n",
       "8\n",
       "3.03 Player Uniforms\n",
       "3.04 Catcher's Mitt\n",
       "3.05 First Baseman's Glove\n",
       "3.06 Fielding Gloves\n",
       "3.07 Pitcher's Glove\n",
       "3.08 Helmets\n",
       "3.09 Undue Commercialization.\n",
       "3.10 Equipment on the Field\n",
       "9\n",
       "9\n",
       "10\n",
       "10\n",
       "4.00 GAME PRELIMINARIES\n",
       "11\n",
       "12\n",
       "12\n",
       "15\n",
       "4.01 Umpire Duties\n",
       "11\n",
       "4.02 Field Manager\n",
       "12\n",
       "4.03 Exchange of Lineup Cards\n",
       "12\n",
       "4.04 Weather and Field Conditions\n",
       "15\n",
       "4.05 Special Ground Rules\n",
       "15\n",
       "4.06 No Fraternization\n",
       "16\n",
       "4.07 Security.\n",
       "16\n",
       "4.08 Doubleheaders\n",
       "16\n",
       "\n",
       "* page: 7, relevance to answer: 0.88\n",
       "* https://img.mlbstatic.com/mlb-images/image/upload/mlb/wqn5ah4c3qtivwx3jatm.pdf#page=7\n",
       "### Sources\n",
       "* https://img.mlbstatic.com/mlb-images/image/upload/mlb/wqn5ah4c3qtivwx3jatm.pdf#page=13\n",
       "\t* Document: wqn5ah4c3qtivwx3jatm.pdf, page: 13, relevance to question: 0.76\n",
       "* https://img.mlbstatic.com/mlb-images/image/upload/mlb/wqn5ah4c3qtivwx3jatm.pdf#page=165\n",
       "\t* Document: wqn5ah4c3qtivwx3jatm.pdf, page: 165, relevance to question: 0.74\n",
       "* https://img.mlbstatic.com/mlb-images/image/upload/mlb/wqn5ah4c3qtivwx3jatm.pdf#page=167\n",
       "\t* Document: wqn5ah4c3qtivwx3jatm.pdf, page: 167, relevance to question: 0.73\n",
       "* https://img.mlbstatic.com/mlb-images/image/upload/mlb/wqn5ah4c3qtivwx3jatm.pdf#page=7\n",
       "\t* Document: wqn5ah4c3qtivwx3jatm.pdf, page: 7, relevance to question: 0.73\n",
       "* https://img.mlbstatic.com/mlb-images/image/upload/mlb/wqn5ah4c3qtivwx3jatm.pdf#page=9\n",
       "\t* Document: wqn5ah4c3qtivwx3jatm.pdf, page: 9, relevance to question: 0.73        \n",
       "    "
      ],
      "text/plain": [
       "<IPython.core.display.Markdown object>"
      ]
     },
     "metadata": {},
     "output_type": "display_data"
    },
    {
     "data": {
      "image/png": "[encoded data removed]",
      "text/plain": [
       "<PIL.Image.Image image mode=RGB size=800x1000>"
      ]
     },
     "metadata": {},
     "output_type": "display_data"
    }
   ],
   "source": [
    "document_bot(question)"
   ]
  },
  {
   "cell_type": "markdown",
   "id": "15f1a397-97aa-420a-9ef2-a7a7a77800dd",
   "metadata": {},
   "source": [
    "---\n",
    "## Remove Resources\n",
    "\n",
    "Vertex Matching Engine endpoints have hourly running costs and it is recommended to shut it down if only being used for learning/development purposes like this notebook."
   ]
  },
  {
   "cell_type": "code",
   "execution_count": 47,
   "id": "6bae1d31-d285-4828-b33a-e826dd4ee13f",
   "metadata": {},
   "outputs": [],
   "source": [
    "remove_all = False"
   ]
  },
  {
   "cell_type": "code",
   "execution_count": 48,
   "id": "fe6f02bd-529f-4454-9fba-dd5fcaf5dcbd",
   "metadata": {},
   "outputs": [
    {
     "name": "stdout",
     "output_type": "stream",
     "text": [
      "Undeploying MatchingEngineIndexEndpoint index_endpoint: projects/1026793852137/locations/us-central1/indexEndpoints/6340953926128369664\n",
      "Undeploy MatchingEngineIndexEndpoint index_endpoint backing LRO: projects/1026793852137/locations/us-central1/indexEndpoints/6340953926128369664/operations/5073083085042483200\n",
      "MatchingEngineIndexEndpoint index_endpoint undeployed. Resource name: projects/1026793852137/locations/us-central1/indexEndpoints/6340953926128369664\n",
      "Undeploying MatchingEngineIndexEndpoint index_endpoint: projects/1026793852137/locations/us-central1/indexEndpoints/6340953926128369664\n",
      "Undeploy MatchingEngineIndexEndpoint index_endpoint backing LRO: projects/1026793852137/locations/us-central1/indexEndpoints/6340953926128369664/operations/7450983688294105088\n",
      "MatchingEngineIndexEndpoint index_endpoint undeployed. Resource name: projects/1026793852137/locations/us-central1/indexEndpoints/6340953926128369664\n",
      "Deleting MatchingEngineIndexEndpoint : projects/1026793852137/locations/us-central1/indexEndpoints/6340953926128369664\n",
      "Delete MatchingEngineIndexEndpoint  backing LRO: projects/1026793852137/locations/us-central1/operations/5579738043121664000\n",
      "MatchingEngineIndexEndpoint deleted. . Resource name: projects/1026793852137/locations/us-central1/indexEndpoints/6340953926128369664\n",
      "Deleting MatchingEngineIndex : projects/1026793852137/locations/us-central1/indexes/2994779402992091136\n",
      "Delete MatchingEngineIndex  backing LRO: projects/1026793852137/locations/us-central1/indexes/2994779402992091136/operations/8858358571847385088\n",
      "MatchingEngineIndex deleted. . Resource name: projects/1026793852137/locations/us-central1/indexes/2994779402992091136\n"
     ]
    }
   ],
   "source": [
    "if remove_all:\n",
    "    #endpoint.undeploy_all()\n",
    "    endpoint.delete(force = True) # force = True also delete deployed indexes first\n",
    "    #index.delete()"
   ]
  },
  {
   "cell_type": "code",
   "execution_count": null,
   "id": "22f36bd5-a964-476f-bd6c-334c0054e8c9",
   "metadata": {},
   "outputs": [],
   "source": []
  }
 ],
 "metadata": {
  "environment": {
   "kernel": "python3",
   "name": "tf2-gpu.2-11.m104",
   "type": "gcloud",
   "uri": "gcr.io/deeplearning-platform-release/tf2-gpu.2-11:m104"
  },
  "kernelspec": {
   "display_name": "Python 3 (ipykernel)",
   "language": "python",
   "name": "python3"
  },
  "language_info": {
   "codemirror_mode": {
    "name": "ipython",
    "version": 3
   },
   "file_extension": ".py",
   "mimetype": "text/x-python",
   "name": "python",
   "nbconvert_exporter": "python",
   "pygments_lexer": "ipython3",
   "version": "3.7.12"
  }
 },
 "nbformat": 4,
 "nbformat_minor": 5
}
